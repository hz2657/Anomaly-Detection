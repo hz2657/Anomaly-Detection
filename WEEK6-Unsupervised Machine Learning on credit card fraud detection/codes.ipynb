{
 "cells": [
  {
   "cell_type": "markdown",
   "metadata": {},
   "source": [
    "### Anomaly detection in Oklahoma purchase credit card transactions by unsupervised learning\n",
    "\n",
    "### Author: Huizhe (Sunny) Zhu- hz2657\n",
    "\n",
    "The Office of Management and Enterprise Services in the State of Oklahoma has made its [purchase credit card transactions](https://catalog.data.gov/dataset/purchase-card-pcard-fiscal-year-2014) available. This dataset contains information on purchases made through the purchase card programs administered by the state and higher education institutions. \n",
    "\n",
    "\n",
    "Tasks:\n",
    "\n",
    "1. construct features\n",
    "\n",
    "2. implement unsupervised learning models, to find isolated observations - anomalies\n",
    "\n",
    "3. identify a small cluster to be labeled as suspicious, explain why the particular cluster(s) are anomalous"
   ]
  },
  {
   "cell_type": "markdown",
   "metadata": {},
   "source": [
    "# 1. import data, EDA"
   ]
  },
  {
   "cell_type": "code",
   "execution_count": 159,
   "metadata": {},
   "outputs": [
    {
     "data": {
      "text/html": [
       "<div>\n",
       "<style scoped>\n",
       "    .dataframe tbody tr th:only-of-type {\n",
       "        vertical-align: middle;\n",
       "    }\n",
       "\n",
       "    .dataframe tbody tr th {\n",
       "        vertical-align: top;\n",
       "    }\n",
       "\n",
       "    .dataframe thead th {\n",
       "        text-align: right;\n",
       "    }\n",
       "</style>\n",
       "<table border=\"1\" class=\"dataframe\">\n",
       "  <thead>\n",
       "    <tr style=\"text-align: right;\">\n",
       "      <th></th>\n",
       "      <th>Year-Month</th>\n",
       "      <th>Agency Number</th>\n",
       "      <th>Agency Name</th>\n",
       "      <th>Cardholder Last Name</th>\n",
       "      <th>Cardholder First Initial</th>\n",
       "      <th>Description</th>\n",
       "      <th>Amount</th>\n",
       "      <th>Vendor</th>\n",
       "      <th>Transaction Date</th>\n",
       "      <th>Posted Date</th>\n",
       "      <th>Merchant Category Code (MCC)</th>\n",
       "    </tr>\n",
       "  </thead>\n",
       "  <tbody>\n",
       "    <tr>\n",
       "      <td>0</td>\n",
       "      <td>201307</td>\n",
       "      <td>1000</td>\n",
       "      <td>OKLAHOMA STATE UNIVERSITY</td>\n",
       "      <td>Mason</td>\n",
       "      <td>C</td>\n",
       "      <td>GENERAL PURCHASE</td>\n",
       "      <td>890.00</td>\n",
       "      <td>NACAS</td>\n",
       "      <td>7/30/2013 0:00</td>\n",
       "      <td>7/31/2013 0:00</td>\n",
       "      <td>CHARITABLE AND SOCIAL SERVICE ORGANIZATIONS</td>\n",
       "    </tr>\n",
       "    <tr>\n",
       "      <td>1</td>\n",
       "      <td>201307</td>\n",
       "      <td>1000</td>\n",
       "      <td>OKLAHOMA STATE UNIVERSITY</td>\n",
       "      <td>Mason</td>\n",
       "      <td>C</td>\n",
       "      <td>ROOM CHARGES</td>\n",
       "      <td>368.96</td>\n",
       "      <td>SHERATON HOTEL</td>\n",
       "      <td>7/30/2013 0:00</td>\n",
       "      <td>7/31/2013 0:00</td>\n",
       "      <td>SHERATON</td>\n",
       "    </tr>\n",
       "  </tbody>\n",
       "</table>\n",
       "</div>"
      ],
      "text/plain": [
       "   Year-Month  Agency Number                Agency Name Cardholder Last Name  \\\n",
       "0      201307           1000  OKLAHOMA STATE UNIVERSITY                Mason   \n",
       "1      201307           1000  OKLAHOMA STATE UNIVERSITY                Mason   \n",
       "\n",
       "  Cardholder First Initial       Description  Amount          Vendor  \\\n",
       "0                        C  GENERAL PURCHASE  890.00           NACAS   \n",
       "1                        C      ROOM CHARGES  368.96  SHERATON HOTEL   \n",
       "\n",
       "  Transaction Date     Posted Date  \\\n",
       "0   7/30/2013 0:00  7/31/2013 0:00   \n",
       "1   7/30/2013 0:00  7/31/2013 0:00   \n",
       "\n",
       "                  Merchant Category Code (MCC)  \n",
       "0  CHARITABLE AND SOCIAL SERVICE ORGANIZATIONS  \n",
       "1                                     SHERATON  "
      ]
     },
     "execution_count": 159,
     "metadata": {},
     "output_type": "execute_result"
    }
   ],
   "source": [
    "import pandas as pd\n",
    "df = pd.read_csv(r'purchase_credit_card.csv', encoding = \"ISO-8859-1\")    \n",
    "df.head(2)  "
   ]
  },
  {
   "cell_type": "code",
   "execution_count": 160,
   "metadata": {
    "scrolled": true
   },
   "outputs": [
    {
     "name": "stdout",
     "output_type": "stream",
     "text": [
      "(442458, 11)\n",
      "Index(['Year-Month', 'Agency Number', 'Agency Name', 'Cardholder Last Name',\n",
      "       'Cardholder First Initial', 'Description', 'Amount', 'Vendor',\n",
      "       'Transaction Date', 'Posted Date', 'Merchant Category Code (MCC)'],\n",
      "      dtype='object')\n"
     ]
    }
   ],
   "source": [
    "# the dataset has 442,458 rows and 11 columns \n",
    "print(df.shape)\n",
    "# check column names\n",
    "print(df.columns)"
   ]
  },
  {
   "cell_type": "code",
   "execution_count": 161,
   "metadata": {},
   "outputs": [
    {
     "data": {
      "text/html": [
       "<div>\n",
       "<style scoped>\n",
       "    .dataframe tbody tr th:only-of-type {\n",
       "        vertical-align: middle;\n",
       "    }\n",
       "\n",
       "    .dataframe tbody tr th {\n",
       "        vertical-align: top;\n",
       "    }\n",
       "\n",
       "    .dataframe thead th {\n",
       "        text-align: right;\n",
       "    }\n",
       "</style>\n",
       "<table border=\"1\" class=\"dataframe\">\n",
       "  <thead>\n",
       "    <tr style=\"text-align: right;\">\n",
       "      <th></th>\n",
       "      <th>Year_Month</th>\n",
       "      <th>Agency_Number</th>\n",
       "      <th>Agency_Name</th>\n",
       "      <th>Cardholder_Last_Name</th>\n",
       "      <th>Cardholder_First_Initial</th>\n",
       "      <th>Description</th>\n",
       "      <th>Amount</th>\n",
       "      <th>Vendor</th>\n",
       "      <th>Transaction_Date</th>\n",
       "      <th>Posted_Date</th>\n",
       "      <th>Merchant_Category</th>\n",
       "    </tr>\n",
       "  </thead>\n",
       "  <tbody>\n",
       "    <tr>\n",
       "      <td>0</td>\n",
       "      <td>201307</td>\n",
       "      <td>1000</td>\n",
       "      <td>OKLAHOMA STATE UNIVERSITY</td>\n",
       "      <td>Mason</td>\n",
       "      <td>C</td>\n",
       "      <td>GENERAL PURCHASE</td>\n",
       "      <td>890.00</td>\n",
       "      <td>NACAS</td>\n",
       "      <td>7/30/2013 0:00</td>\n",
       "      <td>7/31/2013 0:00</td>\n",
       "      <td>CHARITABLE AND SOCIAL SERVICE ORGANIZATIONS</td>\n",
       "    </tr>\n",
       "    <tr>\n",
       "      <td>1</td>\n",
       "      <td>201307</td>\n",
       "      <td>1000</td>\n",
       "      <td>OKLAHOMA STATE UNIVERSITY</td>\n",
       "      <td>Mason</td>\n",
       "      <td>C</td>\n",
       "      <td>ROOM CHARGES</td>\n",
       "      <td>368.96</td>\n",
       "      <td>SHERATON HOTEL</td>\n",
       "      <td>7/30/2013 0:00</td>\n",
       "      <td>7/31/2013 0:00</td>\n",
       "      <td>SHERATON</td>\n",
       "    </tr>\n",
       "  </tbody>\n",
       "</table>\n",
       "</div>"
      ],
      "text/plain": [
       "   Year_Month  Agency_Number                Agency_Name Cardholder_Last_Name  \\\n",
       "0      201307           1000  OKLAHOMA STATE UNIVERSITY                Mason   \n",
       "1      201307           1000  OKLAHOMA STATE UNIVERSITY                Mason   \n",
       "\n",
       "  Cardholder_First_Initial       Description  Amount          Vendor  \\\n",
       "0                        C  GENERAL PURCHASE  890.00           NACAS   \n",
       "1                        C      ROOM CHARGES  368.96  SHERATON HOTEL   \n",
       "\n",
       "  Transaction_Date     Posted_Date  \\\n",
       "0   7/30/2013 0:00  7/31/2013 0:00   \n",
       "1   7/30/2013 0:00  7/31/2013 0:00   \n",
       "\n",
       "                             Merchant_Category  \n",
       "0  CHARITABLE AND SOCIAL SERVICE ORGANIZATIONS  \n",
       "1                                     SHERATON  "
      ]
     },
     "execution_count": 161,
     "metadata": {},
     "output_type": "execute_result"
    }
   ],
   "source": [
    "# change column names \n",
    "df.columns = ['Year_Month', 'Agency_Number', 'Agency_Name', 'Cardholder_Last_Name',\n",
    "      'Cardholder_First_Initial', 'Description', 'Amount', 'Vendor', 'Transaction_Date',\n",
    "      'Posted_Date', 'Merchant_Category']\n",
    "df.head(2)"
   ]
  },
  {
   "cell_type": "code",
   "execution_count": 220,
   "metadata": {},
   "outputs": [
    {
     "data": {
      "application/vnd.plotly.v1+json": {
       "config": {
        "plotlyServerURL": "https://plot.ly"
       },
       "data": [
        {
         "alignmentgroup": "True",
         "hovertemplate": "Agency_Name=%{x}<br>Count=%{y}<extra></extra>",
         "legendgroup": "OKLAHOMA STATE UNIVERSITY",
         "marker": {
          "color": "#636efa"
         },
         "name": "OKLAHOMA STATE UNIVERSITY",
         "offsetgroup": "OKLAHOMA STATE UNIVERSITY",
         "orientation": "v",
         "showlegend": true,
         "textposition": "auto",
         "type": "bar",
         "x": [
          "OKLAHOMA STATE UNIVERSITY"
         ],
         "xaxis": "x",
         "y": [
          115995
         ],
         "yaxis": "y"
        },
        {
         "alignmentgroup": "True",
         "hovertemplate": "Agency_Name=%{x}<br>Count=%{y}<extra></extra>",
         "legendgroup": "UNIVERSITY OF OKLAHOMA",
         "marker": {
          "color": "#EF553B"
         },
         "name": "UNIVERSITY OF OKLAHOMA",
         "offsetgroup": "UNIVERSITY OF OKLAHOMA",
         "orientation": "v",
         "showlegend": true,
         "textposition": "auto",
         "type": "bar",
         "x": [
          "UNIVERSITY OF OKLAHOMA"
         ],
         "xaxis": "x",
         "y": [
          76143
         ],
         "yaxis": "y"
        },
        {
         "alignmentgroup": "True",
         "hovertemplate": "Agency_Name=%{x}<br>Count=%{y}<extra></extra>",
         "legendgroup": "UNIV. OF OKLA. HEALTH SCIENCES CENTER",
         "marker": {
          "color": "#00cc96"
         },
         "name": "UNIV. OF OKLA. HEALTH SCIENCES CENTER",
         "offsetgroup": "UNIV. OF OKLA. HEALTH SCIENCES CENTER",
         "orientation": "v",
         "showlegend": true,
         "textposition": "auto",
         "type": "bar",
         "x": [
          "UNIV. OF OKLA. HEALTH SCIENCES CENTER"
         ],
         "xaxis": "x",
         "y": [
          58247
         ],
         "yaxis": "y"
        },
        {
         "alignmentgroup": "True",
         "hovertemplate": "Agency_Name=%{x}<br>Count=%{y}<extra></extra>",
         "legendgroup": "DEPARTMENT OF CORRECTIONS",
         "marker": {
          "color": "#ab63fa"
         },
         "name": "DEPARTMENT OF CORRECTIONS",
         "offsetgroup": "DEPARTMENT OF CORRECTIONS",
         "orientation": "v",
         "showlegend": true,
         "textposition": "auto",
         "type": "bar",
         "x": [
          "DEPARTMENT OF CORRECTIONS"
         ],
         "xaxis": "x",
         "y": [
          22322
         ],
         "yaxis": "y"
        },
        {
         "alignmentgroup": "True",
         "hovertemplate": "Agency_Name=%{x}<br>Count=%{y}<extra></extra>",
         "legendgroup": "DEPARTMENT OF TOURISM AND RECREATION",
         "marker": {
          "color": "#FFA15A"
         },
         "name": "DEPARTMENT OF TOURISM AND RECREATION",
         "offsetgroup": "DEPARTMENT OF TOURISM AND RECREATION",
         "orientation": "v",
         "showlegend": true,
         "textposition": "auto",
         "type": "bar",
         "x": [
          "DEPARTMENT OF TOURISM AND RECREATION"
         ],
         "xaxis": "x",
         "y": [
          17232
         ],
         "yaxis": "y"
        },
        {
         "alignmentgroup": "True",
         "hovertemplate": "Agency_Name=%{x}<br>Count=%{y}<extra></extra>",
         "legendgroup": "DEPARTMENT OF TRANSPORTATION",
         "marker": {
          "color": "#19d3f3"
         },
         "name": "DEPARTMENT OF TRANSPORTATION",
         "offsetgroup": "DEPARTMENT OF TRANSPORTATION",
         "orientation": "v",
         "showlegend": true,
         "textposition": "auto",
         "type": "bar",
         "x": [
          "DEPARTMENT OF TRANSPORTATION"
         ],
         "xaxis": "x",
         "y": [
          15689
         ],
         "yaxis": "y"
        },
        {
         "alignmentgroup": "True",
         "hovertemplate": "Agency_Name=%{x}<br>Count=%{y}<extra></extra>",
         "legendgroup": "GRAND RIVER DAM AUTH.",
         "marker": {
          "color": "#FF6692"
         },
         "name": "GRAND RIVER DAM AUTH.",
         "offsetgroup": "GRAND RIVER DAM AUTH.",
         "orientation": "v",
         "showlegend": true,
         "textposition": "auto",
         "type": "bar",
         "x": [
          "GRAND RIVER DAM AUTH."
         ],
         "xaxis": "x",
         "y": [
          10427
         ],
         "yaxis": "y"
        },
        {
         "alignmentgroup": "True",
         "hovertemplate": "Agency_Name=%{x}<br>Count=%{y}<extra></extra>",
         "legendgroup": "DEPARTMENT OF REHABILITATION SERVICES",
         "marker": {
          "color": "#B6E880"
         },
         "name": "DEPARTMENT OF REHABILITATION SERVICES",
         "offsetgroup": "DEPARTMENT OF REHABILITATION SERVICES",
         "orientation": "v",
         "showlegend": true,
         "textposition": "auto",
         "type": "bar",
         "x": [
          "DEPARTMENT OF REHABILITATION SERVICES"
         ],
         "xaxis": "x",
         "y": [
          9162
         ],
         "yaxis": "y"
        },
        {
         "alignmentgroup": "True",
         "hovertemplate": "Agency_Name=%{x}<br>Count=%{y}<extra></extra>",
         "legendgroup": "DEPARTMENT OF VETERANS AFFAIRS",
         "marker": {
          "color": "#FF97FF"
         },
         "name": "DEPARTMENT OF VETERANS AFFAIRS",
         "offsetgroup": "DEPARTMENT OF VETERANS AFFAIRS",
         "orientation": "v",
         "showlegend": true,
         "textposition": "auto",
         "type": "bar",
         "x": [
          "DEPARTMENT OF VETERANS AFFAIRS"
         ],
         "xaxis": "x",
         "y": [
          7708
         ],
         "yaxis": "y"
        },
        {
         "alignmentgroup": "True",
         "hovertemplate": "Agency_Name=%{x}<br>Count=%{y}<extra></extra>",
         "legendgroup": "S. W. OKLA. ST. UNIV.",
         "marker": {
          "color": "#FECB52"
         },
         "name": "S. W. OKLA. ST. UNIV.",
         "offsetgroup": "S. W. OKLA. ST. UNIV.",
         "orientation": "v",
         "showlegend": true,
         "textposition": "auto",
         "type": "bar",
         "x": [
          "S. W. OKLA. ST. UNIV."
         ],
         "xaxis": "x",
         "y": [
          7488
         ],
         "yaxis": "y"
        },
        {
         "alignmentgroup": "True",
         "hovertemplate": "Agency_Name=%{x}<br>Count=%{y}<extra></extra>",
         "legendgroup": "OFFICE OF MANAGEMENT AND ENTERPRISE SERV",
         "marker": {
          "color": "#636efa"
         },
         "name": "OFFICE OF MANAGEMENT AND ENTERPRISE SERV",
         "offsetgroup": "OFFICE OF MANAGEMENT AND ENTERPRISE SERV",
         "orientation": "v",
         "showlegend": true,
         "textposition": "auto",
         "type": "bar",
         "x": [
          "OFFICE OF MANAGEMENT AND ENTERPRISE SERV"
         ],
         "xaxis": "x",
         "y": [
          7066
         ],
         "yaxis": "y"
        },
        {
         "alignmentgroup": "True",
         "hovertemplate": "Agency_Name=%{x}<br>Count=%{y}<extra></extra>",
         "legendgroup": "MENTAL HEALTH AND SUBSTANCE ABUSE SERV.",
         "marker": {
          "color": "#EF553B"
         },
         "name": "MENTAL HEALTH AND SUBSTANCE ABUSE SERV.",
         "offsetgroup": "MENTAL HEALTH AND SUBSTANCE ABUSE SERV.",
         "orientation": "v",
         "showlegend": true,
         "textposition": "auto",
         "type": "bar",
         "x": [
          "MENTAL HEALTH AND SUBSTANCE ABUSE SERV."
         ],
         "xaxis": "x",
         "y": [
          6243
         ],
         "yaxis": "y"
        },
        {
         "alignmentgroup": "True",
         "hovertemplate": "Agency_Name=%{x}<br>Count=%{y}<extra></extra>",
         "legendgroup": "OKLAHOMA MILITARY DEPARTMENT",
         "marker": {
          "color": "#00cc96"
         },
         "name": "OKLAHOMA MILITARY DEPARTMENT",
         "offsetgroup": "OKLAHOMA MILITARY DEPARTMENT",
         "orientation": "v",
         "showlegend": true,
         "textposition": "auto",
         "type": "bar",
         "x": [
          "OKLAHOMA MILITARY DEPARTMENT"
         ],
         "xaxis": "x",
         "y": [
          5679
         ],
         "yaxis": "y"
        },
        {
         "alignmentgroup": "True",
         "hovertemplate": "Agency_Name=%{x}<br>Count=%{y}<extra></extra>",
         "legendgroup": "DEPARTMENT OF WILDLIFE CONSERVATION",
         "marker": {
          "color": "#ab63fa"
         },
         "name": "DEPARTMENT OF WILDLIFE CONSERVATION",
         "offsetgroup": "DEPARTMENT OF WILDLIFE CONSERVATION",
         "orientation": "v",
         "showlegend": true,
         "textposition": "auto",
         "type": "bar",
         "x": [
          "DEPARTMENT OF WILDLIFE CONSERVATION"
         ],
         "xaxis": "x",
         "y": [
          5655
         ],
         "yaxis": "y"
        },
        {
         "alignmentgroup": "True",
         "hovertemplate": "Agency_Name=%{x}<br>Count=%{y}<extra></extra>",
         "legendgroup": "DEPARTMENT OF PUBLIC SAFETY",
         "marker": {
          "color": "#FFA15A"
         },
         "name": "DEPARTMENT OF PUBLIC SAFETY",
         "offsetgroup": "DEPARTMENT OF PUBLIC SAFETY",
         "orientation": "v",
         "showlegend": true,
         "textposition": "auto",
         "type": "bar",
         "x": [
          "DEPARTMENT OF PUBLIC SAFETY"
         ],
         "xaxis": "x",
         "y": [
          5506
         ],
         "yaxis": "y"
        },
        {
         "alignmentgroup": "True",
         "hovertemplate": "Agency_Name=%{x}<br>Count=%{y}<extra></extra>",
         "legendgroup": "OKLA. PANHANDLE STATE UNIV.",
         "marker": {
          "color": "#19d3f3"
         },
         "name": "OKLA. PANHANDLE STATE UNIV.",
         "offsetgroup": "OKLA. PANHANDLE STATE UNIV.",
         "orientation": "v",
         "showlegend": true,
         "textposition": "auto",
         "type": "bar",
         "x": [
          "OKLA. PANHANDLE STATE UNIV."
         ],
         "xaxis": "x",
         "y": [
          4252
         ],
         "yaxis": "y"
        },
        {
         "alignmentgroup": "True",
         "hovertemplate": "Agency_Name=%{x}<br>Count=%{y}<extra></extra>",
         "legendgroup": "TULSA COMMUNITY COLLEGE",
         "marker": {
          "color": "#FF6692"
         },
         "name": "TULSA COMMUNITY COLLEGE",
         "offsetgroup": "TULSA COMMUNITY COLLEGE",
         "orientation": "v",
         "showlegend": true,
         "textposition": "auto",
         "type": "bar",
         "x": [
          "TULSA COMMUNITY COLLEGE"
         ],
         "xaxis": "x",
         "y": [
          4093
         ],
         "yaxis": "y"
        },
        {
         "alignmentgroup": "True",
         "hovertemplate": "Agency_Name=%{x}<br>Count=%{y}<extra></extra>",
         "legendgroup": "OKLA. CAREER AND TECHNOLOGY EDUCATION",
         "marker": {
          "color": "#B6E880"
         },
         "name": "OKLA. CAREER AND TECHNOLOGY EDUCATION",
         "offsetgroup": "OKLA. CAREER AND TECHNOLOGY EDUCATION",
         "orientation": "v",
         "showlegend": true,
         "textposition": "auto",
         "type": "bar",
         "x": [
          "OKLA. CAREER AND TECHNOLOGY EDUCATION"
         ],
         "xaxis": "x",
         "y": [
          3867
         ],
         "yaxis": "y"
        },
        {
         "alignmentgroup": "True",
         "hovertemplate": "Agency_Name=%{x}<br>Count=%{y}<extra></extra>",
         "legendgroup": "DEPARTMENT OF AGRICULTURE",
         "marker": {
          "color": "#FF97FF"
         },
         "name": "DEPARTMENT OF AGRICULTURE",
         "offsetgroup": "DEPARTMENT OF AGRICULTURE",
         "orientation": "v",
         "showlegend": true,
         "textposition": "auto",
         "type": "bar",
         "x": [
          "DEPARTMENT OF AGRICULTURE"
         ],
         "xaxis": "x",
         "y": [
          3085
         ],
         "yaxis": "y"
        },
        {
         "alignmentgroup": "True",
         "hovertemplate": "Agency_Name=%{x}<br>Count=%{y}<extra></extra>",
         "legendgroup": "HISTORICAL SOCIETY",
         "marker": {
          "color": "#FECB52"
         },
         "name": "HISTORICAL SOCIETY",
         "offsetgroup": "HISTORICAL SOCIETY",
         "orientation": "v",
         "showlegend": true,
         "textposition": "auto",
         "type": "bar",
         "x": [
          "HISTORICAL SOCIETY"
         ],
         "xaxis": "x",
         "y": [
          2884
         ],
         "yaxis": "y"
        },
        {
         "alignmentgroup": "True",
         "hovertemplate": "Agency_Name=%{x}<br>Count=%{y}<extra></extra>",
         "legendgroup": "STATE DEPARTMENT OF HEALTH",
         "marker": {
          "color": "#636efa"
         },
         "name": "STATE DEPARTMENT OF HEALTH",
         "offsetgroup": "STATE DEPARTMENT OF HEALTH",
         "orientation": "v",
         "showlegend": true,
         "textposition": "auto",
         "type": "bar",
         "x": [
          "STATE DEPARTMENT OF HEALTH"
         ],
         "xaxis": "x",
         "y": [
          2846
         ],
         "yaxis": "y"
        },
        {
         "alignmentgroup": "True",
         "hovertemplate": "Agency_Name=%{x}<br>Count=%{y}<extra></extra>",
         "legendgroup": "OFFICE OF JUVENILE AFFAIRS",
         "marker": {
          "color": "#EF553B"
         },
         "name": "OFFICE OF JUVENILE AFFAIRS",
         "offsetgroup": "OFFICE OF JUVENILE AFFAIRS",
         "orientation": "v",
         "showlegend": true,
         "textposition": "auto",
         "type": "bar",
         "x": [
          "OFFICE OF JUVENILE AFFAIRS"
         ],
         "xaxis": "x",
         "y": [
          2498
         ],
         "yaxis": "y"
        },
        {
         "alignmentgroup": "True",
         "hovertemplate": "Agency_Name=%{x}<br>Count=%{y}<extra></extra>",
         "legendgroup": "DEPARTMENT OF AGRICULTURE, FOOD, ANF FOR",
         "marker": {
          "color": "#00cc96"
         },
         "name": "DEPARTMENT OF AGRICULTURE, FOOD, ANF FOR",
         "offsetgroup": "DEPARTMENT OF AGRICULTURE, FOOD, ANF FOR",
         "orientation": "v",
         "showlegend": true,
         "textposition": "auto",
         "type": "bar",
         "x": [
          "DEPARTMENT OF AGRICULTURE, FOOD, ANF FOR"
         ],
         "xaxis": "x",
         "y": [
          2385
         ],
         "yaxis": "y"
        },
        {
         "alignmentgroup": "True",
         "hovertemplate": "Agency_Name=%{x}<br>Count=%{y}<extra></extra>",
         "legendgroup": "LANGSTON UNIVERSITY",
         "marker": {
          "color": "#ab63fa"
         },
         "name": "LANGSTON UNIVERSITY",
         "offsetgroup": "LANGSTON UNIVERSITY",
         "orientation": "v",
         "showlegend": true,
         "textposition": "auto",
         "type": "bar",
         "x": [
          "LANGSTON UNIVERSITY"
         ],
         "xaxis": "x",
         "y": [
          2311
         ],
         "yaxis": "y"
        },
        {
         "alignmentgroup": "True",
         "hovertemplate": "Agency_Name=%{x}<br>Count=%{y}<extra></extra>",
         "legendgroup": "STATE BUREAU OF INVESTIGATION",
         "marker": {
          "color": "#FFA15A"
         },
         "name": "STATE BUREAU OF INVESTIGATION",
         "offsetgroup": "STATE BUREAU OF INVESTIGATION",
         "orientation": "v",
         "showlegend": true,
         "textposition": "auto",
         "type": "bar",
         "x": [
          "STATE BUREAU OF INVESTIGATION"
         ],
         "xaxis": "x",
         "y": [
          1945
         ],
         "yaxis": "y"
        },
        {
         "alignmentgroup": "True",
         "hovertemplate": "Agency_Name=%{x}<br>Count=%{y}<extra></extra>",
         "legendgroup": "J.D. MCCARTY CENTER",
         "marker": {
          "color": "#19d3f3"
         },
         "name": "J.D. MCCARTY CENTER",
         "offsetgroup": "J.D. MCCARTY CENTER",
         "orientation": "v",
         "showlegend": true,
         "textposition": "auto",
         "type": "bar",
         "x": [
          "J.D. MCCARTY CENTER"
         ],
         "xaxis": "x",
         "y": [
          1699
         ],
         "yaxis": "y"
        },
        {
         "alignmentgroup": "True",
         "hovertemplate": "Agency_Name=%{x}<br>Count=%{y}<extra></extra>",
         "legendgroup": "OKLA. BUREAU OF NARCOTICS AND DANGEROUS",
         "marker": {
          "color": "#FF6692"
         },
         "name": "OKLA. BUREAU OF NARCOTICS AND DANGEROUS",
         "offsetgroup": "OKLA. BUREAU OF NARCOTICS AND DANGEROUS",
         "orientation": "v",
         "showlegend": true,
         "textposition": "auto",
         "type": "bar",
         "x": [
          "OKLA. BUREAU OF NARCOTICS AND DANGEROUS"
         ],
         "xaxis": "x",
         "y": [
          1661
         ],
         "yaxis": "y"
        },
        {
         "alignmentgroup": "True",
         "hovertemplate": "Agency_Name=%{x}<br>Count=%{y}<extra></extra>",
         "legendgroup": "COMPSOURCE OKLAHOMA",
         "marker": {
          "color": "#B6E880"
         },
         "name": "COMPSOURCE OKLAHOMA",
         "offsetgroup": "COMPSOURCE OKLAHOMA",
         "orientation": "v",
         "showlegend": true,
         "textposition": "auto",
         "type": "bar",
         "x": [
          "COMPSOURCE OKLAHOMA"
         ],
         "xaxis": "x",
         "y": [
          1566
         ],
         "yaxis": "y"
        },
        {
         "alignmentgroup": "True",
         "hovertemplate": "Agency_Name=%{x}<br>Count=%{y}<extra></extra>",
         "legendgroup": "ATTORNEY GENERAL",
         "marker": {
          "color": "#FF97FF"
         },
         "name": "ATTORNEY GENERAL",
         "offsetgroup": "ATTORNEY GENERAL",
         "orientation": "v",
         "showlegend": true,
         "textposition": "auto",
         "type": "bar",
         "x": [
          "ATTORNEY GENERAL"
         ],
         "xaxis": "x",
         "y": [
          1495
         ],
         "yaxis": "y"
        },
        {
         "alignmentgroup": "True",
         "hovertemplate": "Agency_Name=%{x}<br>Count=%{y}<extra></extra>",
         "legendgroup": "DEPARTMENT OF COMMERCE",
         "marker": {
          "color": "#FECB52"
         },
         "name": "DEPARTMENT OF COMMERCE",
         "offsetgroup": "DEPARTMENT OF COMMERCE",
         "orientation": "v",
         "showlegend": true,
         "textposition": "auto",
         "type": "bar",
         "x": [
          "DEPARTMENT OF COMMERCE"
         ],
         "xaxis": "x",
         "y": [
          1402
         ],
         "yaxis": "y"
        },
        {
         "alignmentgroup": "True",
         "hovertemplate": "Agency_Name=%{x}<br>Count=%{y}<extra></extra>",
         "legendgroup": "WATER RESOURCES BOARD",
         "marker": {
          "color": "#636efa"
         },
         "name": "WATER RESOURCES BOARD",
         "offsetgroup": "WATER RESOURCES BOARD",
         "orientation": "v",
         "showlegend": true,
         "textposition": "auto",
         "type": "bar",
         "x": [
          "WATER RESOURCES BOARD"
         ],
         "xaxis": "x",
         "y": [
          1388
         ],
         "yaxis": "y"
        },
        {
         "alignmentgroup": "True",
         "hovertemplate": "Agency_Name=%{x}<br>Count=%{y}<extra></extra>",
         "legendgroup": "EASTERN OKLA. STATE COLLEGE",
         "marker": {
          "color": "#EF553B"
         },
         "name": "EASTERN OKLA. STATE COLLEGE",
         "offsetgroup": "EASTERN OKLA. STATE COLLEGE",
         "orientation": "v",
         "showlegend": true,
         "textposition": "auto",
         "type": "bar",
         "x": [
          "EASTERN OKLA. STATE COLLEGE"
         ],
         "xaxis": "x",
         "y": [
          1351
         ],
         "yaxis": "y"
        },
        {
         "alignmentgroup": "True",
         "hovertemplate": "Agency_Name=%{x}<br>Count=%{y}<extra></extra>",
         "legendgroup": "OKLAHOMA INSURANCE DEPARTMENT",
         "marker": {
          "color": "#00cc96"
         },
         "name": "OKLAHOMA INSURANCE DEPARTMENT",
         "offsetgroup": "OKLAHOMA INSURANCE DEPARTMENT",
         "orientation": "v",
         "showlegend": true,
         "textposition": "auto",
         "type": "bar",
         "x": [
          "OKLAHOMA INSURANCE DEPARTMENT"
         ],
         "xaxis": "x",
         "y": [
          1224
         ],
         "yaxis": "y"
        },
        {
         "alignmentgroup": "True",
         "hovertemplate": "Agency_Name=%{x}<br>Count=%{y}<extra></extra>",
         "legendgroup": "EMPLOYMENT SECURITY COMMISSION",
         "marker": {
          "color": "#ab63fa"
         },
         "name": "EMPLOYMENT SECURITY COMMISSION",
         "offsetgroup": "EMPLOYMENT SECURITY COMMISSION",
         "orientation": "v",
         "showlegend": true,
         "textposition": "auto",
         "type": "bar",
         "x": [
          "EMPLOYMENT SECURITY COMMISSION"
         ],
         "xaxis": "x",
         "y": [
          1172
         ],
         "yaxis": "y"
        },
        {
         "alignmentgroup": "True",
         "hovertemplate": "Agency_Name=%{x}<br>Count=%{y}<extra></extra>",
         "legendgroup": "DEPARTMENT OF HUMAN SERVICES",
         "marker": {
          "color": "#FFA15A"
         },
         "name": "DEPARTMENT OF HUMAN SERVICES",
         "offsetgroup": "DEPARTMENT OF HUMAN SERVICES",
         "orientation": "v",
         "showlegend": true,
         "textposition": "auto",
         "type": "bar",
         "x": [
          "DEPARTMENT OF HUMAN SERVICES"
         ],
         "xaxis": "x",
         "y": [
          1121
         ],
         "yaxis": "y"
        },
        {
         "alignmentgroup": "True",
         "hovertemplate": "Agency_Name=%{x}<br>Count=%{y}<extra></extra>",
         "legendgroup": "OKLAHOMA HOUSING FINANCE AGENCY",
         "marker": {
          "color": "#19d3f3"
         },
         "name": "OKLAHOMA HOUSING FINANCE AGENCY",
         "offsetgroup": "OKLAHOMA HOUSING FINANCE AGENCY",
         "orientation": "v",
         "showlegend": true,
         "textposition": "auto",
         "type": "bar",
         "x": [
          "OKLAHOMA HOUSING FINANCE AGENCY"
         ],
         "xaxis": "x",
         "y": [
          1075
         ],
         "yaxis": "y"
        },
        {
         "alignmentgroup": "True",
         "hovertemplate": "Agency_Name=%{x}<br>Count=%{y}<extra></extra>",
         "legendgroup": "OKLA. CITY COMMUNITY COLLEGE",
         "marker": {
          "color": "#FF6692"
         },
         "name": "OKLA. CITY COMMUNITY COLLEGE",
         "offsetgroup": "OKLA. CITY COMMUNITY COLLEGE",
         "orientation": "v",
         "showlegend": true,
         "textposition": "auto",
         "type": "bar",
         "x": [
          "OKLA. CITY COMMUNITY COLLEGE"
         ],
         "xaxis": "x",
         "y": [
          1001
         ],
         "yaxis": "y"
        },
        {
         "alignmentgroup": "True",
         "hovertemplate": "Agency_Name=%{x}<br>Count=%{y}<extra></extra>",
         "legendgroup": "COMM. ON CONSUMER CREDIT",
         "marker": {
          "color": "#B6E880"
         },
         "name": "COMM. ON CONSUMER CREDIT",
         "offsetgroup": "COMM. ON CONSUMER CREDIT",
         "orientation": "v",
         "showlegend": true,
         "textposition": "auto",
         "type": "bar",
         "x": [
          "COMM. ON CONSUMER CREDIT"
         ],
         "xaxis": "x",
         "y": [
          979
         ],
         "yaxis": "y"
        },
        {
         "alignmentgroup": "True",
         "hovertemplate": "Agency_Name=%{x}<br>Count=%{y}<extra></extra>",
         "legendgroup": "DEPT. OF ENVIRONMENTAL QUALITY",
         "marker": {
          "color": "#FF97FF"
         },
         "name": "DEPT. OF ENVIRONMENTAL QUALITY",
         "offsetgroup": "DEPT. OF ENVIRONMENTAL QUALITY",
         "orientation": "v",
         "showlegend": true,
         "textposition": "auto",
         "type": "bar",
         "x": [
          "DEPT. OF ENVIRONMENTAL QUALITY"
         ],
         "xaxis": "x",
         "y": [
          940
         ],
         "yaxis": "y"
        },
        {
         "alignmentgroup": "True",
         "hovertemplate": "Agency_Name=%{x}<br>Count=%{y}<extra></extra>",
         "legendgroup": "`DEPARTMENT OF EDUCATION",
         "marker": {
          "color": "#FECB52"
         },
         "name": "`DEPARTMENT OF EDUCATION",
         "offsetgroup": "`DEPARTMENT OF EDUCATION",
         "orientation": "v",
         "showlegend": true,
         "textposition": "auto",
         "type": "bar",
         "x": [
          "`DEPARTMENT OF EDUCATION"
         ],
         "xaxis": "x",
         "y": [
          924
         ],
         "yaxis": "y"
        },
        {
         "alignmentgroup": "True",
         "hovertemplate": "Agency_Name=%{x}<br>Count=%{y}<extra></extra>",
         "legendgroup": "CORPORATION COMMISSION",
         "marker": {
          "color": "#636efa"
         },
         "name": "CORPORATION COMMISSION",
         "offsetgroup": "CORPORATION COMMISSION",
         "orientation": "v",
         "showlegend": true,
         "textposition": "auto",
         "type": "bar",
         "x": [
          "CORPORATION COMMISSION"
         ],
         "xaxis": "x",
         "y": [
          908
         ],
         "yaxis": "y"
        },
        {
         "alignmentgroup": "True",
         "hovertemplate": "Agency_Name=%{x}<br>Count=%{y}<extra></extra>",
         "legendgroup": "DEPARTMENT OF LIBRARIES",
         "marker": {
          "color": "#EF553B"
         },
         "name": "DEPARTMENT OF LIBRARIES",
         "offsetgroup": "DEPARTMENT OF LIBRARIES",
         "orientation": "v",
         "showlegend": true,
         "textposition": "auto",
         "type": "bar",
         "x": [
          "DEPARTMENT OF LIBRARIES"
         ],
         "xaxis": "x",
         "y": [
          892
         ],
         "yaxis": "y"
        },
        {
         "alignmentgroup": "True",
         "hovertemplate": "Agency_Name=%{x}<br>Count=%{y}<extra></extra>",
         "legendgroup": "UNIV.OF SCIENCE & ARTS OF OK",
         "marker": {
          "color": "#00cc96"
         },
         "name": "UNIV.OF SCIENCE & ARTS OF OK",
         "offsetgroup": "UNIV.OF SCIENCE & ARTS OF OK",
         "orientation": "v",
         "showlegend": true,
         "textposition": "auto",
         "type": "bar",
         "x": [
          "UNIV.OF SCIENCE & ARTS OF OK"
         ],
         "xaxis": "x",
         "y": [
          883
         ],
         "yaxis": "y"
        },
        {
         "alignmentgroup": "True",
         "hovertemplate": "Agency_Name=%{x}<br>Count=%{y}<extra></extra>",
         "legendgroup": "BD. OF MED. LICENSURE & SUPV.",
         "marker": {
          "color": "#ab63fa"
         },
         "name": "BD. OF MED. LICENSURE & SUPV.",
         "offsetgroup": "BD. OF MED. LICENSURE & SUPV.",
         "orientation": "v",
         "showlegend": true,
         "textposition": "auto",
         "type": "bar",
         "x": [
          "BD. OF MED. LICENSURE & SUPV."
         ],
         "xaxis": "x",
         "y": [
          880
         ],
         "yaxis": "y"
        },
        {
         "alignmentgroup": "True",
         "hovertemplate": "Agency_Name=%{x}<br>Count=%{y}<extra></extra>",
         "legendgroup": "STATE AUDITOR AND INSPECTOR",
         "marker": {
          "color": "#FFA15A"
         },
         "name": "STATE AUDITOR AND INSPECTOR",
         "offsetgroup": "STATE AUDITOR AND INSPECTOR",
         "orientation": "v",
         "showlegend": true,
         "textposition": "auto",
         "type": "bar",
         "x": [
          "STATE AUDITOR AND INSPECTOR"
         ],
         "xaxis": "x",
         "y": [
          831
         ],
         "yaxis": "y"
        },
        {
         "alignmentgroup": "True",
         "hovertemplate": "Agency_Name=%{x}<br>Count=%{y}<extra></extra>",
         "legendgroup": "ROSE STATE COLEGE",
         "marker": {
          "color": "#19d3f3"
         },
         "name": "ROSE STATE COLEGE",
         "offsetgroup": "ROSE STATE COLEGE",
         "orientation": "v",
         "showlegend": true,
         "textposition": "auto",
         "type": "bar",
         "x": [
          "ROSE STATE COLEGE"
         ],
         "xaxis": "x",
         "y": [
          819
         ],
         "yaxis": "y"
        },
        {
         "alignmentgroup": "True",
         "hovertemplate": "Agency_Name=%{x}<br>Count=%{y}<extra></extra>",
         "legendgroup": "OKLAHOMA TAX COMMISSION",
         "marker": {
          "color": "#FF6692"
         },
         "name": "OKLAHOMA TAX COMMISSION",
         "offsetgroup": "OKLAHOMA TAX COMMISSION",
         "orientation": "v",
         "showlegend": true,
         "textposition": "auto",
         "type": "bar",
         "x": [
          "OKLAHOMA TAX COMMISSION"
         ],
         "xaxis": "x",
         "y": [
          799
         ],
         "yaxis": "y"
        },
        {
         "alignmentgroup": "True",
         "hovertemplate": "Agency_Name=%{x}<br>Count=%{y}<extra></extra>",
         "legendgroup": "N. E. OKLA. A & M COLLEGE",
         "marker": {
          "color": "#B6E880"
         },
         "name": "N. E. OKLA. A & M COLLEGE",
         "offsetgroup": "N. E. OKLA. A & M COLLEGE",
         "orientation": "v",
         "showlegend": true,
         "textposition": "auto",
         "type": "bar",
         "x": [
          "N. E. OKLA. A & M COLLEGE"
         ],
         "xaxis": "x",
         "y": [
          788
         ],
         "yaxis": "y"
        },
        {
         "alignmentgroup": "True",
         "hovertemplate": "Agency_Name=%{x}<br>Count=%{y}<extra></extra>",
         "legendgroup": "INDIGENT DEFENSE SYSTEM",
         "marker": {
          "color": "#FF97FF"
         },
         "name": "INDIGENT DEFENSE SYSTEM",
         "offsetgroup": "INDIGENT DEFENSE SYSTEM",
         "orientation": "v",
         "showlegend": true,
         "textposition": "auto",
         "type": "bar",
         "x": [
          "INDIGENT DEFENSE SYSTEM"
         ],
         "xaxis": "x",
         "y": [
          757
         ],
         "yaxis": "y"
        },
        {
         "alignmentgroup": "True",
         "hovertemplate": "Agency_Name=%{x}<br>Count=%{y}<extra></extra>",
         "legendgroup": "BD. OF MEDICOLEGAL INVESTIGATIONS",
         "marker": {
          "color": "#FECB52"
         },
         "name": "BD. OF MEDICOLEGAL INVESTIGATIONS",
         "offsetgroup": "BD. OF MEDICOLEGAL INVESTIGATIONS",
         "orientation": "v",
         "showlegend": true,
         "textposition": "auto",
         "type": "bar",
         "x": [
          "BD. OF MEDICOLEGAL INVESTIGATIONS"
         ],
         "xaxis": "x",
         "y": [
          717
         ],
         "yaxis": "y"
        },
        {
         "alignmentgroup": "True",
         "hovertemplate": "Agency_Name=%{x}<br>Count=%{y}<extra></extra>",
         "legendgroup": "DEPARTMENT OF LABOR",
         "marker": {
          "color": "#636efa"
         },
         "name": "DEPARTMENT OF LABOR",
         "offsetgroup": "DEPARTMENT OF LABOR",
         "orientation": "v",
         "showlegend": true,
         "textposition": "auto",
         "type": "bar",
         "x": [
          "DEPARTMENT OF LABOR"
         ],
         "xaxis": "x",
         "y": [
          673
         ],
         "yaxis": "y"
        },
        {
         "alignmentgroup": "True",
         "hovertemplate": "Agency_Name=%{x}<br>Count=%{y}<extra></extra>",
         "legendgroup": "REGENTS FOR HIGHER EDUCATION",
         "marker": {
          "color": "#EF553B"
         },
         "name": "REGENTS FOR HIGHER EDUCATION",
         "offsetgroup": "REGENTS FOR HIGHER EDUCATION",
         "orientation": "v",
         "showlegend": true,
         "textposition": "auto",
         "type": "bar",
         "x": [
          "REGENTS FOR HIGHER EDUCATION"
         ],
         "xaxis": "x",
         "y": [
          665
         ],
         "yaxis": "y"
        },
        {
         "alignmentgroup": "True",
         "hovertemplate": "Agency_Name=%{x}<br>Count=%{y}<extra></extra>",
         "legendgroup": "HEALTH CARE AUTHORITY",
         "marker": {
          "color": "#00cc96"
         },
         "name": "HEALTH CARE AUTHORITY",
         "offsetgroup": "HEALTH CARE AUTHORITY",
         "orientation": "v",
         "showlegend": true,
         "textposition": "auto",
         "type": "bar",
         "x": [
          "HEALTH CARE AUTHORITY"
         ],
         "xaxis": "x",
         "y": [
          662
         ],
         "yaxis": "y"
        },
        {
         "alignmentgroup": "True",
         "hovertemplate": "Agency_Name=%{x}<br>Count=%{y}<extra></extra>",
         "legendgroup": "DISTRICT ATTORNEYS COUNCIL",
         "marker": {
          "color": "#ab63fa"
         },
         "name": "DISTRICT ATTORNEYS COUNCIL",
         "offsetgroup": "DISTRICT ATTORNEYS COUNCIL",
         "orientation": "v",
         "showlegend": true,
         "textposition": "auto",
         "type": "bar",
         "x": [
          "DISTRICT ATTORNEYS COUNCIL"
         ],
         "xaxis": "x",
         "y": [
          649
         ],
         "yaxis": "y"
        },
        {
         "alignmentgroup": "True",
         "hovertemplate": "Agency_Name=%{x}<br>Count=%{y}<extra></extra>",
         "legendgroup": "CONSERVATION COMMISSION",
         "marker": {
          "color": "#FFA15A"
         },
         "name": "CONSERVATION COMMISSION",
         "offsetgroup": "CONSERVATION COMMISSION",
         "orientation": "v",
         "showlegend": true,
         "textposition": "auto",
         "type": "bar",
         "x": [
          "CONSERVATION COMMISSION"
         ],
         "xaxis": "x",
         "y": [
          632
         ],
         "yaxis": "y"
        },
        {
         "alignmentgroup": "True",
         "hovertemplate": "Agency_Name=%{x}<br>Count=%{y}<extra></extra>",
         "legendgroup": "COUNCIL ON LAW ENFC. ED. & TRNG.",
         "marker": {
          "color": "#19d3f3"
         },
         "name": "COUNCIL ON LAW ENFC. ED. & TRNG.",
         "offsetgroup": "COUNCIL ON LAW ENFC. ED. & TRNG.",
         "orientation": "v",
         "showlegend": true,
         "textposition": "auto",
         "type": "bar",
         "x": [
          "COUNCIL ON LAW ENFC. ED. & TRNG."
         ],
         "xaxis": "x",
         "y": [
          538
         ],
         "yaxis": "y"
        },
        {
         "alignmentgroup": "True",
         "hovertemplate": "Agency_Name=%{x}<br>Count=%{y}<extra></extra>",
         "legendgroup": "SUPREME COURT",
         "marker": {
          "color": "#FF6692"
         },
         "name": "SUPREME COURT",
         "offsetgroup": "SUPREME COURT",
         "orientation": "v",
         "showlegend": true,
         "textposition": "auto",
         "type": "bar",
         "x": [
          "SUPREME COURT"
         ],
         "xaxis": "x",
         "y": [
          509
         ],
         "yaxis": "y"
        },
        {
         "alignmentgroup": "True",
         "hovertemplate": "Agency_Name=%{x}<br>Count=%{y}<extra></extra>",
         "legendgroup": "OFFICE OF THE CHIEF MEDICAL EXAMINER",
         "marker": {
          "color": "#B6E880"
         },
         "name": "OFFICE OF THE CHIEF MEDICAL EXAMINER",
         "offsetgroup": "OFFICE OF THE CHIEF MEDICAL EXAMINER",
         "orientation": "v",
         "showlegend": true,
         "textposition": "auto",
         "type": "bar",
         "x": [
          "OFFICE OF THE CHIEF MEDICAL EXAMINER"
         ],
         "xaxis": "x",
         "y": [
          500
         ],
         "yaxis": "y"
        },
        {
         "alignmentgroup": "True",
         "hovertemplate": "Agency_Name=%{x}<br>Count=%{y}<extra></extra>",
         "legendgroup": "DEPARTMENT OF EDUCATION",
         "marker": {
          "color": "#FF97FF"
         },
         "name": "DEPARTMENT OF EDUCATION",
         "offsetgroup": "DEPARTMENT OF EDUCATION",
         "orientation": "v",
         "showlegend": true,
         "textposition": "auto",
         "type": "bar",
         "x": [
          "DEPARTMENT OF EDUCATION"
         ],
         "xaxis": "x",
         "y": [
          461
         ],
         "yaxis": "y"
        },
        {
         "alignmentgroup": "True",
         "hovertemplate": "Agency_Name=%{x}<br>Count=%{y}<extra></extra>",
         "legendgroup": "STATE BANKING DEPARTMENT",
         "marker": {
          "color": "#FECB52"
         },
         "name": "STATE BANKING DEPARTMENT",
         "offsetgroup": "STATE BANKING DEPARTMENT",
         "orientation": "v",
         "showlegend": true,
         "textposition": "auto",
         "type": "bar",
         "x": [
          "STATE BANKING DEPARTMENT"
         ],
         "xaxis": "x",
         "y": [
          416
         ],
         "yaxis": "y"
        },
        {
         "alignmentgroup": "True",
         "hovertemplate": "Agency_Name=%{x}<br>Count=%{y}<extra></extra>",
         "legendgroup": "REDLANDS COMMUNITY COLLEGE",
         "marker": {
          "color": "#636efa"
         },
         "name": "REDLANDS COMMUNITY COLLEGE",
         "offsetgroup": "REDLANDS COMMUNITY COLLEGE",
         "orientation": "v",
         "showlegend": true,
         "textposition": "auto",
         "type": "bar",
         "x": [
          "REDLANDS COMMUNITY COLLEGE"
         ],
         "xaxis": "x",
         "y": [
          407
         ],
         "yaxis": "y"
        },
        {
         "alignmentgroup": "True",
         "hovertemplate": "Agency_Name=%{x}<br>Count=%{y}<extra></extra>",
         "legendgroup": "STATE PHARMACY BOARD",
         "marker": {
          "color": "#EF553B"
         },
         "name": "STATE PHARMACY BOARD",
         "offsetgroup": "STATE PHARMACY BOARD",
         "orientation": "v",
         "showlegend": true,
         "textposition": "auto",
         "type": "bar",
         "x": [
          "STATE PHARMACY BOARD"
         ],
         "xaxis": "x",
         "y": [
          383
         ],
         "yaxis": "y"
        },
        {
         "alignmentgroup": "True",
         "hovertemplate": "Agency_Name=%{x}<br>Count=%{y}<extra></extra>",
         "legendgroup": "TEACHERS RETIREMENT SYSTEM",
         "marker": {
          "color": "#00cc96"
         },
         "name": "TEACHERS RETIREMENT SYSTEM",
         "offsetgroup": "TEACHERS RETIREMENT SYSTEM",
         "orientation": "v",
         "showlegend": true,
         "textposition": "auto",
         "type": "bar",
         "x": [
          "TEACHERS RETIREMENT SYSTEM"
         ],
         "xaxis": "x",
         "y": [
          383
         ],
         "yaxis": "y"
        },
        {
         "alignmentgroup": "True",
         "hovertemplate": "Agency_Name=%{x}<br>Count=%{y}<extra></extra>",
         "legendgroup": "OK. COMM. FOR TEACHER PREP.",
         "marker": {
          "color": "#ab63fa"
         },
         "name": "OK. COMM. FOR TEACHER PREP.",
         "offsetgroup": "OK. COMM. FOR TEACHER PREP.",
         "orientation": "v",
         "showlegend": true,
         "textposition": "auto",
         "type": "bar",
         "x": [
          "OK. COMM. FOR TEACHER PREP."
         ],
         "xaxis": "x",
         "y": [
          369
         ],
         "yaxis": "y"
        },
        {
         "alignmentgroup": "True",
         "hovertemplate": "Agency_Name=%{x}<br>Count=%{y}<extra></extra>",
         "legendgroup": "FIREFIGHTERS PENS. & RET. SYST.",
         "marker": {
          "color": "#FFA15A"
         },
         "name": "FIREFIGHTERS PENS. & RET. SYST.",
         "offsetgroup": "FIREFIGHTERS PENS. & RET. SYST.",
         "orientation": "v",
         "showlegend": true,
         "textposition": "auto",
         "type": "bar",
         "x": [
          "FIREFIGHTERS PENS. & RET. SYST."
         ],
         "xaxis": "x",
         "y": [
          324
         ],
         "yaxis": "y"
        },
        {
         "alignmentgroup": "True",
         "hovertemplate": "Agency_Name=%{x}<br>Count=%{y}<extra></extra>",
         "legendgroup": "COMM. OF THE LAND OFFICE",
         "marker": {
          "color": "#19d3f3"
         },
         "name": "COMM. OF THE LAND OFFICE",
         "offsetgroup": "COMM. OF THE LAND OFFICE",
         "orientation": "v",
         "showlegend": true,
         "textposition": "auto",
         "type": "bar",
         "x": [
          "COMM. OF THE LAND OFFICE"
         ],
         "xaxis": "x",
         "y": [
          323
         ],
         "yaxis": "y"
        },
        {
         "alignmentgroup": "True",
         "hovertemplate": "Agency_Name=%{x}<br>Count=%{y}<extra></extra>",
         "legendgroup": "GOVERNOR",
         "marker": {
          "color": "#FF6692"
         },
         "name": "GOVERNOR",
         "offsetgroup": "GOVERNOR",
         "orientation": "v",
         "showlegend": true,
         "textposition": "auto",
         "type": "bar",
         "x": [
          "GOVERNOR"
         ],
         "xaxis": "x",
         "y": [
          320
         ],
         "yaxis": "y"
        },
        {
         "alignmentgroup": "True",
         "hovertemplate": "Agency_Name=%{x}<br>Count=%{y}<extra></extra>",
         "legendgroup": "SECRETARY OF STATE",
         "marker": {
          "color": "#B6E880"
         },
         "name": "SECRETARY OF STATE",
         "offsetgroup": "SECRETARY OF STATE",
         "orientation": "v",
         "showlegend": true,
         "textposition": "auto",
         "type": "bar",
         "x": [
          "SECRETARY OF STATE"
         ],
         "xaxis": "x",
         "y": [
          311
         ],
         "yaxis": "y"
        },
        {
         "alignmentgroup": "True",
         "hovertemplate": "Agency_Name=%{x}<br>Count=%{y}<extra></extra>",
         "legendgroup": "REGIONAL UNIVERSITY SYSTEM OF OKLAHOMA",
         "marker": {
          "color": "#FF97FF"
         },
         "name": "REGIONAL UNIVERSITY SYSTEM OF OKLAHOMA",
         "offsetgroup": "REGIONAL UNIVERSITY SYSTEM OF OKLAHOMA",
         "orientation": "v",
         "showlegend": true,
         "textposition": "auto",
         "type": "bar",
         "x": [
          "REGIONAL UNIVERSITY SYSTEM OF OKLAHOMA"
         ],
         "xaxis": "x",
         "y": [
          279
         ],
         "yaxis": "y"
        },
        {
         "alignmentgroup": "True",
         "hovertemplate": "Agency_Name=%{x}<br>Count=%{y}<extra></extra>",
         "legendgroup": "OKLA. REAL ESTATE COMM.",
         "marker": {
          "color": "#FECB52"
         },
         "name": "OKLA. REAL ESTATE COMM.",
         "offsetgroup": "OKLA. REAL ESTATE COMM.",
         "orientation": "v",
         "showlegend": true,
         "textposition": "auto",
         "type": "bar",
         "x": [
          "OKLA. REAL ESTATE COMM."
         ],
         "xaxis": "x",
         "y": [
          261
         ],
         "yaxis": "y"
        },
        {
         "alignmentgroup": "True",
         "hovertemplate": "Agency_Name=%{x}<br>Count=%{y}<extra></extra>",
         "legendgroup": "STATE ARTS COUNCIL",
         "marker": {
          "color": "#636efa"
         },
         "name": "STATE ARTS COUNCIL",
         "offsetgroup": "STATE ARTS COUNCIL",
         "orientation": "v",
         "showlegend": true,
         "textposition": "auto",
         "type": "bar",
         "x": [
          "STATE ARTS COUNCIL"
         ],
         "xaxis": "x",
         "y": [
          251
         ],
         "yaxis": "y"
        },
        {
         "alignmentgroup": "True",
         "hovertemplate": "Agency_Name=%{x}<br>Count=%{y}<extra></extra>",
         "legendgroup": "DEPARTMENT OF EMERGENCY MANAGEMEN",
         "marker": {
          "color": "#EF553B"
         },
         "name": "DEPARTMENT OF EMERGENCY MANAGEMEN",
         "offsetgroup": "DEPARTMENT OF EMERGENCY MANAGEMEN",
         "orientation": "v",
         "showlegend": true,
         "textposition": "auto",
         "type": "bar",
         "x": [
          "DEPARTMENT OF EMERGENCY MANAGEMEN"
         ],
         "xaxis": "x",
         "y": [
          239
         ],
         "yaxis": "y"
        },
        {
         "alignmentgroup": "True",
         "hovertemplate": "Agency_Name=%{x}<br>Count=%{y}<extra></extra>",
         "legendgroup": "OK. SCHOOL OF SCIENCE & MATH.",
         "marker": {
          "color": "#00cc96"
         },
         "name": "OK. SCHOOL OF SCIENCE & MATH.",
         "offsetgroup": "OK. SCHOOL OF SCIENCE & MATH.",
         "orientation": "v",
         "showlegend": true,
         "textposition": "auto",
         "type": "bar",
         "x": [
          "OK. SCHOOL OF SCIENCE & MATH."
         ],
         "xaxis": "x",
         "y": [
          239
         ],
         "yaxis": "y"
        },
        {
         "alignmentgroup": "True",
         "hovertemplate": "Agency_Name=%{x}<br>Count=%{y}<extra></extra>",
         "legendgroup": "STATE FIRE MARSHAL",
         "marker": {
          "color": "#ab63fa"
         },
         "name": "STATE FIRE MARSHAL",
         "offsetgroup": "STATE FIRE MARSHAL",
         "orientation": "v",
         "showlegend": true,
         "textposition": "auto",
         "type": "bar",
         "x": [
          "STATE FIRE MARSHAL"
         ],
         "xaxis": "x",
         "y": [
          231
         ],
         "yaxis": "y"
        },
        {
         "alignmentgroup": "True",
         "hovertemplate": "Agency_Name=%{x}<br>Count=%{y}<extra></extra>",
         "legendgroup": "STATE TREASURER",
         "marker": {
          "color": "#FFA15A"
         },
         "name": "STATE TREASURER",
         "offsetgroup": "STATE TREASURER",
         "orientation": "v",
         "showlegend": true,
         "textposition": "auto",
         "type": "bar",
         "x": [
          "STATE TREASURER"
         ],
         "xaxis": "x",
         "y": [
          231
         ],
         "yaxis": "y"
        },
        {
         "alignmentgroup": "True",
         "hovertemplate": "Agency_Name=%{x}<br>Count=%{y}<extra></extra>",
         "legendgroup": "STATE ELECTION BOARD",
         "marker": {
          "color": "#19d3f3"
         },
         "name": "STATE ELECTION BOARD",
         "offsetgroup": "STATE ELECTION BOARD",
         "orientation": "v",
         "showlegend": true,
         "textposition": "auto",
         "type": "bar",
         "x": [
          "STATE ELECTION BOARD"
         ],
         "xaxis": "x",
         "y": [
          227
         ],
         "yaxis": "y"
        },
        {
         "alignmentgroup": "True",
         "hovertemplate": "Agency_Name=%{x}<br>Count=%{y}<extra></extra>",
         "legendgroup": "OKLAHOMA AERONAUTICS COMMISSION",
         "marker": {
          "color": "#FF6692"
         },
         "name": "OKLAHOMA AERONAUTICS COMMISSION",
         "offsetgroup": "OKLAHOMA AERONAUTICS COMMISSION",
         "orientation": "v",
         "showlegend": true,
         "textposition": "auto",
         "type": "bar",
         "x": [
          "OKLAHOMA AERONAUTICS COMMISSION"
         ],
         "xaxis": "x",
         "y": [
          218
         ],
         "yaxis": "y"
        },
        {
         "alignmentgroup": "True",
         "hovertemplate": "Agency_Name=%{x}<br>Count=%{y}<extra></extra>",
         "legendgroup": "OKLA. SPACE INDUSTRY DEV. AUTH.",
         "marker": {
          "color": "#B6E880"
         },
         "name": "OKLA. SPACE INDUSTRY DEV. AUTH.",
         "offsetgroup": "OKLA. SPACE INDUSTRY DEV. AUTH.",
         "orientation": "v",
         "showlegend": true,
         "textposition": "auto",
         "type": "bar",
         "x": [
          "OKLA. SPACE INDUSTRY DEV. AUTH."
         ],
         "xaxis": "x",
         "y": [
          209
         ],
         "yaxis": "y"
        },
        {
         "alignmentgroup": "True",
         "hovertemplate": "Agency_Name=%{x}<br>Count=%{y}<extra></extra>",
         "legendgroup": "TOBACCO SETTLEMENT ENDMT TRUST",
         "marker": {
          "color": "#FF97FF"
         },
         "name": "TOBACCO SETTLEMENT ENDMT TRUST",
         "offsetgroup": "TOBACCO SETTLEMENT ENDMT TRUST",
         "orientation": "v",
         "showlegend": true,
         "textposition": "auto",
         "type": "bar",
         "x": [
          "TOBACCO SETTLEMENT ENDMT TRUST"
         ],
         "xaxis": "x",
         "y": [
          206
         ],
         "yaxis": "y"
        },
        {
         "alignmentgroup": "True",
         "hovertemplate": "Agency_Name=%{x}<br>Count=%{y}<extra></extra>",
         "legendgroup": "COSMETOLOGY BOARD",
         "marker": {
          "color": "#FECB52"
         },
         "name": "COSMETOLOGY BOARD",
         "offsetgroup": "COSMETOLOGY BOARD",
         "orientation": "v",
         "showlegend": true,
         "textposition": "auto",
         "type": "bar",
         "x": [
          "COSMETOLOGY BOARD"
         ],
         "xaxis": "x",
         "y": [
          200
         ],
         "yaxis": "y"
        },
        {
         "alignmentgroup": "True",
         "hovertemplate": "Agency_Name=%{x}<br>Count=%{y}<extra></extra>",
         "legendgroup": "OKLAHOMA LOTTERY COMMISSION",
         "marker": {
          "color": "#636efa"
         },
         "name": "OKLAHOMA LOTTERY COMMISSION",
         "offsetgroup": "OKLAHOMA LOTTERY COMMISSION",
         "orientation": "v",
         "showlegend": true,
         "textposition": "auto",
         "type": "bar",
         "x": [
          "OKLAHOMA LOTTERY COMMISSION"
         ],
         "xaxis": "x",
         "y": [
          185
         ],
         "yaxis": "y"
        },
        {
         "alignmentgroup": "True",
         "hovertemplate": "Agency_Name=%{x}<br>Count=%{y}<extra></extra>",
         "legendgroup": "OKLA. HORSE RACING COMM.",
         "marker": {
          "color": "#EF553B"
         },
         "name": "OKLA. HORSE RACING COMM.",
         "offsetgroup": "OKLA. HORSE RACING COMM.",
         "orientation": "v",
         "showlegend": true,
         "textposition": "auto",
         "type": "bar",
         "x": [
          "OKLA. HORSE RACING COMM."
         ],
         "xaxis": "x",
         "y": [
          181
         ],
         "yaxis": "y"
        },
        {
         "alignmentgroup": "True",
         "hovertemplate": "Agency_Name=%{x}<br>Count=%{y}<extra></extra>",
         "legendgroup": "PROF. ENGI. & LAND SURVEYORS",
         "marker": {
          "color": "#00cc96"
         },
         "name": "PROF. ENGI. & LAND SURVEYORS",
         "offsetgroup": "PROF. ENGI. & LAND SURVEYORS",
         "orientation": "v",
         "showlegend": true,
         "textposition": "auto",
         "type": "bar",
         "x": [
          "PROF. ENGI. & LAND SURVEYORS"
         ],
         "xaxis": "x",
         "y": [
          172
         ],
         "yaxis": "y"
        },
        {
         "alignmentgroup": "True",
         "hovertemplate": "Agency_Name=%{x}<br>Count=%{y}<extra></extra>",
         "legendgroup": "BOLL WEEVIL ERADICATION ORG.",
         "marker": {
          "color": "#ab63fa"
         },
         "name": "BOLL WEEVIL ERADICATION ORG.",
         "offsetgroup": "BOLL WEEVIL ERADICATION ORG.",
         "orientation": "v",
         "showlegend": true,
         "textposition": "auto",
         "type": "bar",
         "x": [
          "BOLL WEEVIL ERADICATION ORG."
         ],
         "xaxis": "x",
         "y": [
          170
         ],
         "yaxis": "y"
        },
        {
         "alignmentgroup": "True",
         "hovertemplate": "Agency_Name=%{x}<br>Count=%{y}<extra></extra>",
         "legendgroup": "POLICE PENSION & RET. SYSTEM",
         "marker": {
          "color": "#FFA15A"
         },
         "name": "POLICE PENSION & RET. SYSTEM",
         "offsetgroup": "POLICE PENSION & RET. SYSTEM",
         "orientation": "v",
         "showlegend": true,
         "textposition": "auto",
         "type": "bar",
         "x": [
          "POLICE PENSION & RET. SYSTEM"
         ],
         "xaxis": "x",
         "y": [
          161
         ],
         "yaxis": "y"
        },
        {
         "alignmentgroup": "True",
         "hovertemplate": "Agency_Name=%{x}<br>Count=%{y}<extra></extra>",
         "legendgroup": "DEPARTMENT OF EMERGENCY MANAGEMENT",
         "marker": {
          "color": "#19d3f3"
         },
         "name": "DEPARTMENT OF EMERGENCY MANAGEMENT",
         "offsetgroup": "DEPARTMENT OF EMERGENCY MANAGEMENT",
         "orientation": "v",
         "showlegend": true,
         "textposition": "auto",
         "type": "bar",
         "x": [
          "DEPARTMENT OF EMERGENCY MANAGEMENT"
         ],
         "xaxis": "x",
         "y": [
          154
         ],
         "yaxis": "y"
        },
        {
         "alignmentgroup": "True",
         "hovertemplate": "Agency_Name=%{x}<br>Count=%{y}<extra></extra>",
         "legendgroup": "SCENIC RIVERS COMMISSION",
         "marker": {
          "color": "#FF6692"
         },
         "name": "SCENIC RIVERS COMMISSION",
         "offsetgroup": "SCENIC RIVERS COMMISSION",
         "orientation": "v",
         "showlegend": true,
         "textposition": "auto",
         "type": "bar",
         "x": [
          "SCENIC RIVERS COMMISSION"
         ],
         "xaxis": "x",
         "y": [
          154
         ],
         "yaxis": "y"
        },
        {
         "alignmentgroup": "True",
         "hovertemplate": "Agency_Name=%{x}<br>Count=%{y}<extra></extra>",
         "legendgroup": "OKLAHOMA ACCOUNTANCY BOARD",
         "marker": {
          "color": "#B6E880"
         },
         "name": "OKLAHOMA ACCOUNTANCY BOARD",
         "offsetgroup": "OKLAHOMA ACCOUNTANCY BOARD",
         "orientation": "v",
         "showlegend": true,
         "textposition": "auto",
         "type": "bar",
         "x": [
          "OKLAHOMA ACCOUNTANCY BOARD"
         ],
         "xaxis": "x",
         "y": [
          143
         ],
         "yaxis": "y"
        },
        {
         "alignmentgroup": "True",
         "hovertemplate": "Agency_Name=%{x}<br>Count=%{y}<extra></extra>",
         "legendgroup": "ST. BD. OF CHIROPRACTIC EXAM.",
         "marker": {
          "color": "#FF97FF"
         },
         "name": "ST. BD. OF CHIROPRACTIC EXAM.",
         "offsetgroup": "ST. BD. OF CHIROPRACTIC EXAM.",
         "orientation": "v",
         "showlegend": true,
         "textposition": "auto",
         "type": "bar",
         "x": [
          "ST. BD. OF CHIROPRACTIC EXAM."
         ],
         "xaxis": "x",
         "y": [
          136
         ],
         "yaxis": "y"
        },
        {
         "alignmentgroup": "True",
         "hovertemplate": "Agency_Name=%{x}<br>Count=%{y}<extra></extra>",
         "legendgroup": "ETHICS COMMISSION",
         "marker": {
          "color": "#FECB52"
         },
         "name": "ETHICS COMMISSION",
         "offsetgroup": "ETHICS COMMISSION",
         "orientation": "v",
         "showlegend": true,
         "textposition": "auto",
         "type": "bar",
         "x": [
          "ETHICS COMMISSION"
         ],
         "xaxis": "x",
         "y": [
          136
         ],
         "yaxis": "y"
        },
        {
         "alignmentgroup": "True",
         "hovertemplate": "Agency_Name=%{x}<br>Count=%{y}<extra></extra>",
         "legendgroup": "SPEECH-LANGUAGE PATHOLOGY & AUDIOLOGY",
         "marker": {
          "color": "#636efa"
         },
         "name": "SPEECH-LANGUAGE PATHOLOGY & AUDIOLOGY",
         "offsetgroup": "SPEECH-LANGUAGE PATHOLOGY & AUDIOLOGY",
         "orientation": "v",
         "showlegend": true,
         "textposition": "auto",
         "type": "bar",
         "x": [
          "SPEECH-LANGUAGE PATHOLOGY & AUDIOLOGY"
         ],
         "xaxis": "x",
         "y": [
          135
         ],
         "yaxis": "y"
        },
        {
         "alignmentgroup": "True",
         "hovertemplate": "Agency_Name=%{x}<br>Count=%{y}<extra></extra>",
         "legendgroup": "OKLA. BOARD OF NURSING",
         "marker": {
          "color": "#EF553B"
         },
         "name": "OKLA. BOARD OF NURSING",
         "offsetgroup": "OKLA. BOARD OF NURSING",
         "orientation": "v",
         "showlegend": true,
         "textposition": "auto",
         "type": "bar",
         "x": [
          "OKLA. BOARD OF NURSING"
         ],
         "xaxis": "x",
         "y": [
          134
         ],
         "yaxis": "y"
        },
        {
         "alignmentgroup": "True",
         "hovertemplate": "Agency_Name=%{x}<br>Count=%{y}<extra></extra>",
         "legendgroup": "DEPARTMENT OF MINES",
         "marker": {
          "color": "#00cc96"
         },
         "name": "DEPARTMENT OF MINES",
         "offsetgroup": "DEPARTMENT OF MINES",
         "orientation": "v",
         "showlegend": true,
         "textposition": "auto",
         "type": "bar",
         "x": [
          "DEPARTMENT OF MINES"
         ],
         "xaxis": "x",
         "y": [
          134
         ],
         "yaxis": "y"
        },
        {
         "alignmentgroup": "True",
         "hovertemplate": "Agency_Name=%{x}<br>Count=%{y}<extra></extra>",
         "legendgroup": "OK. PUBLIC EMPLOYEES RET. SYS.",
         "marker": {
          "color": "#ab63fa"
         },
         "name": "OK. PUBLIC EMPLOYEES RET. SYS.",
         "offsetgroup": "OK. PUBLIC EMPLOYEES RET. SYS.",
         "orientation": "v",
         "showlegend": true,
         "textposition": "auto",
         "type": "bar",
         "x": [
          "OK. PUBLIC EMPLOYEES RET. SYS."
         ],
         "xaxis": "x",
         "y": [
          120
         ],
         "yaxis": "y"
        },
        {
         "alignmentgroup": "True",
         "hovertemplate": "Agency_Name=%{x}<br>Count=%{y}<extra></extra>",
         "legendgroup": "OKLAHOMA WHEAT COMMISSION",
         "marker": {
          "color": "#FFA15A"
         },
         "name": "OKLAHOMA WHEAT COMMISSION",
         "offsetgroup": "OKLAHOMA WHEAT COMMISSION",
         "orientation": "v",
         "showlegend": true,
         "textposition": "auto",
         "type": "bar",
         "x": [
          "OKLAHOMA WHEAT COMMISSION"
         ],
         "xaxis": "x",
         "y": [
          107
         ],
         "yaxis": "y"
        },
        {
         "alignmentgroup": "True",
         "hovertemplate": "Agency_Name=%{x}<br>Count=%{y}<extra></extra>",
         "legendgroup": "OK. LAW ENFORCE. RET. SYSTEM",
         "marker": {
          "color": "#19d3f3"
         },
         "name": "OK. LAW ENFORCE. RET. SYSTEM",
         "offsetgroup": "OK. LAW ENFORCE. RET. SYSTEM",
         "orientation": "v",
         "showlegend": true,
         "textposition": "auto",
         "type": "bar",
         "x": [
          "OK. LAW ENFORCE. RET. SYSTEM"
         ],
         "xaxis": "x",
         "y": [
          95
         ],
         "yaxis": "y"
        },
        {
         "alignmentgroup": "True",
         "hovertemplate": "Agency_Name=%{x}<br>Count=%{y}<extra></extra>",
         "legendgroup": "BD. OF CHEM. TEST ALCOHOL/DRUG",
         "marker": {
          "color": "#FF6692"
         },
         "name": "BD. OF CHEM. TEST ALCOHOL/DRUG",
         "offsetgroup": "BD. OF CHEM. TEST ALCOHOL/DRUG",
         "orientation": "v",
         "showlegend": true,
         "textposition": "auto",
         "type": "bar",
         "x": [
          "BD. OF CHEM. TEST ALCOHOL/DRUG"
         ],
         "xaxis": "x",
         "y": [
          82
         ],
         "yaxis": "y"
        },
        {
         "alignmentgroup": "True",
         "hovertemplate": "Agency_Name=%{x}<br>Count=%{y}<extra></extra>",
         "legendgroup": "BOARD OF DENTISTRY",
         "marker": {
          "color": "#B6E880"
         },
         "name": "BOARD OF DENTISTRY",
         "offsetgroup": "BOARD OF DENTISTRY",
         "orientation": "v",
         "showlegend": true,
         "textposition": "auto",
         "type": "bar",
         "x": [
          "BOARD OF DENTISTRY"
         ],
         "xaxis": "x",
         "y": [
          68
         ],
         "yaxis": "y"
        },
        {
         "alignmentgroup": "True",
         "hovertemplate": "Agency_Name=%{x}<br>Count=%{y}<extra></extra>",
         "legendgroup": "PHYSICIAN MANPOWER TRNG. COMM.",
         "marker": {
          "color": "#FF97FF"
         },
         "name": "PHYSICIAN MANPOWER TRNG. COMM.",
         "offsetgroup": "PHYSICIAN MANPOWER TRNG. COMM.",
         "orientation": "v",
         "showlegend": true,
         "textposition": "auto",
         "type": "bar",
         "x": [
          "PHYSICIAN MANPOWER TRNG. COMM."
         ],
         "xaxis": "x",
         "y": [
          66
         ],
         "yaxis": "y"
        },
        {
         "alignmentgroup": "True",
         "hovertemplate": "Agency_Name=%{x}<br>Count=%{y}<extra></extra>",
         "legendgroup": "OFFICE OF DISABILITY CONCERNS",
         "marker": {
          "color": "#FECB52"
         },
         "name": "OFFICE OF DISABILITY CONCERNS",
         "offsetgroup": "OFFICE OF DISABILITY CONCERNS",
         "orientation": "v",
         "showlegend": true,
         "textposition": "auto",
         "type": "bar",
         "x": [
          "OFFICE OF DISABILITY CONCERNS"
         ],
         "xaxis": "x",
         "y": [
          60
         ],
         "yaxis": "y"
        },
        {
         "alignmentgroup": "True",
         "hovertemplate": "Agency_Name=%{x}<br>Count=%{y}<extra></extra>",
         "legendgroup": "BD. OF VETERINARY MED. EXAM.",
         "marker": {
          "color": "#636efa"
         },
         "name": "BD. OF VETERINARY MED. EXAM.",
         "offsetgroup": "BD. OF VETERINARY MED. EXAM.",
         "orientation": "v",
         "showlegend": true,
         "textposition": "auto",
         "type": "bar",
         "x": [
          "BD. OF VETERINARY MED. EXAM."
         ],
         "xaxis": "x",
         "y": [
          60
         ],
         "yaxis": "y"
        },
        {
         "alignmentgroup": "True",
         "hovertemplate": "Agency_Name=%{x}<br>Count=%{y}<extra></extra>",
         "legendgroup": "ARDMORE HIGHER EDUCATION CENTER",
         "marker": {
          "color": "#EF553B"
         },
         "name": "ARDMORE HIGHER EDUCATION CENTER",
         "offsetgroup": "ARDMORE HIGHER EDUCATION CENTER",
         "orientation": "v",
         "showlegend": true,
         "textposition": "auto",
         "type": "bar",
         "x": [
          "ARDMORE HIGHER EDUCATION CENTER"
         ],
         "xaxis": "x",
         "y": [
          59
         ],
         "yaxis": "y"
        },
        {
         "alignmentgroup": "True",
         "hovertemplate": "Agency_Name=%{x}<br>Count=%{y}<extra></extra>",
         "legendgroup": "J. M. DAVIS ARMS & HIST. MUSEUM",
         "marker": {
          "color": "#00cc96"
         },
         "name": "J. M. DAVIS ARMS & HIST. MUSEUM",
         "offsetgroup": "J. M. DAVIS ARMS & HIST. MUSEUM",
         "orientation": "v",
         "showlegend": true,
         "textposition": "auto",
         "type": "bar",
         "x": [
          "J. M. DAVIS ARMS & HIST. MUSEUM"
         ],
         "xaxis": "x",
         "y": [
          51
         ],
         "yaxis": "y"
        },
        {
         "alignmentgroup": "True",
         "hovertemplate": "Agency_Name=%{x}<br>Count=%{y}<extra></extra>",
         "legendgroup": "WILL ROGERS MEMORIAL COMMISSION",
         "marker": {
          "color": "#ab63fa"
         },
         "name": "WILL ROGERS MEMORIAL COMMISSION",
         "offsetgroup": "WILL ROGERS MEMORIAL COMMISSION",
         "orientation": "v",
         "showlegend": true,
         "textposition": "auto",
         "type": "bar",
         "x": [
          "WILL ROGERS MEMORIAL COMMISSION"
         ],
         "xaxis": "x",
         "y": [
          48
         ],
         "yaxis": "y"
        },
        {
         "alignmentgroup": "True",
         "hovertemplate": "Agency_Name=%{x}<br>Count=%{y}<extra></extra>",
         "legendgroup": "OKLAHOMA ST.BOARD OF DENTISTRY",
         "marker": {
          "color": "#FFA15A"
         },
         "name": "OKLAHOMA ST.BOARD OF DENTISTRY",
         "offsetgroup": "OKLAHOMA ST.BOARD OF DENTISTRY",
         "orientation": "v",
         "showlegend": true,
         "textposition": "auto",
         "type": "bar",
         "x": [
          "OKLAHOMA ST.BOARD OF DENTISTRY"
         ],
         "xaxis": "x",
         "y": [
          39
         ],
         "yaxis": "y"
        },
        {
         "alignmentgroup": "True",
         "hovertemplate": "Agency_Name=%{x}<br>Count=%{y}<extra></extra>",
         "legendgroup": "OKLA. BD. OF ARCHITECTS",
         "marker": {
          "color": "#19d3f3"
         },
         "name": "OKLA. BD. OF ARCHITECTS",
         "offsetgroup": "OKLA. BD. OF ARCHITECTS",
         "orientation": "v",
         "showlegend": true,
         "textposition": "auto",
         "type": "bar",
         "x": [
          "OKLA. BD. OF ARCHITECTS"
         ],
         "xaxis": "x",
         "y": [
          39
         ],
         "yaxis": "y"
        },
        {
         "alignmentgroup": "True",
         "hovertemplate": "Agency_Name=%{x}<br>Count=%{y}<extra></extra>",
         "legendgroup": "COMMISSION ON CHILDREN AND YOUTH",
         "marker": {
          "color": "#FF6692"
         },
         "name": "COMMISSION ON CHILDREN AND YOUTH",
         "offsetgroup": "COMMISSION ON CHILDREN AND YOUTH",
         "orientation": "v",
         "showlegend": true,
         "textposition": "auto",
         "type": "bar",
         "x": [
          "COMMISSION ON CHILDREN AND YOUTH"
         ],
         "xaxis": "x",
         "y": [
          37
         ],
         "yaxis": "y"
        },
        {
         "alignmentgroup": "True",
         "hovertemplate": "Agency_Name=%{x}<br>Count=%{y}<extra></extra>",
         "legendgroup": "CAPITOL IMPROVEMENT AUTHORITY",
         "marker": {
          "color": "#B6E880"
         },
         "name": "CAPITOL IMPROVEMENT AUTHORITY",
         "offsetgroup": "CAPITOL IMPROVEMENT AUTHORITY",
         "orientation": "v",
         "showlegend": true,
         "textposition": "auto",
         "type": "bar",
         "x": [
          "CAPITOL IMPROVEMENT AUTHORITY"
         ],
         "xaxis": "x",
         "y": [
          27
         ],
         "yaxis": "y"
        },
        {
         "alignmentgroup": "True",
         "hovertemplate": "Agency_Name=%{x}<br>Count=%{y}<extra></extra>",
         "legendgroup": "ST BD OF COSMETOLOGY AND BARBERING",
         "marker": {
          "color": "#FF97FF"
         },
         "name": "ST BD OF COSMETOLOGY AND BARBERING",
         "offsetgroup": "ST BD OF COSMETOLOGY AND BARBERING",
         "orientation": "v",
         "showlegend": true,
         "textposition": "auto",
         "type": "bar",
         "x": [
          "ST BD OF COSMETOLOGY AND BARBERING"
         ],
         "xaxis": "x",
         "y": [
          27
         ],
         "yaxis": "y"
        },
        {
         "alignmentgroup": "True",
         "hovertemplate": "Agency_Name=%{x}<br>Count=%{y}<extra></extra>",
         "legendgroup": "UNIVERSITY CENTER OF SOUTHERN OKLAHOMA",
         "marker": {
          "color": "#FECB52"
         },
         "name": "UNIVERSITY CENTER OF SOUTHERN OKLAHOMA",
         "offsetgroup": "UNIVERSITY CENTER OF SOUTHERN OKLAHOMA",
         "orientation": "v",
         "showlegend": true,
         "textposition": "auto",
         "type": "bar",
         "x": [
          "UNIVERSITY CENTER OF SOUTHERN OKLAHOMA"
         ],
         "xaxis": "x",
         "y": [
          21
         ],
         "yaxis": "y"
        },
        {
         "alignmentgroup": "True",
         "hovertemplate": "Agency_Name=%{x}<br>Count=%{y}<extra></extra>",
         "legendgroup": "STATE BOND ADVISOR",
         "marker": {
          "color": "#636efa"
         },
         "name": "STATE BOND ADVISOR",
         "offsetgroup": "STATE BOND ADVISOR",
         "orientation": "v",
         "showlegend": true,
         "textposition": "auto",
         "type": "bar",
         "x": [
          "STATE BOND ADVISOR"
         ],
         "xaxis": "x",
         "y": [
          21
         ],
         "yaxis": "y"
        },
        {
         "alignmentgroup": "True",
         "hovertemplate": "Agency_Name=%{x}<br>Count=%{y}<extra></extra>",
         "legendgroup": "PARDON AND PAROLE BOARD",
         "marker": {
          "color": "#EF553B"
         },
         "name": "PARDON AND PAROLE BOARD",
         "offsetgroup": "PARDON AND PAROLE BOARD",
         "orientation": "v",
         "showlegend": true,
         "textposition": "auto",
         "type": "bar",
         "x": [
          "PARDON AND PAROLE BOARD"
         ],
         "xaxis": "x",
         "y": [
          20
         ],
         "yaxis": "y"
        },
        {
         "alignmentgroup": "True",
         "hovertemplate": "Agency_Name=%{x}<br>Count=%{y}<extra></extra>",
         "legendgroup": "BD. OF EXAM. FOR LT CARE ADMIN",
         "marker": {
          "color": "#00cc96"
         },
         "name": "BD. OF EXAM. FOR LT CARE ADMIN",
         "offsetgroup": "BD. OF EXAM. FOR LT CARE ADMIN",
         "orientation": "v",
         "showlegend": true,
         "textposition": "auto",
         "type": "bar",
         "x": [
          "BD. OF EXAM. FOR LT CARE ADMIN"
         ],
         "xaxis": "x",
         "y": [
          17
         ],
         "yaxis": "y"
        },
        {
         "alignmentgroup": "True",
         "hovertemplate": "Agency_Name=%{x}<br>Count=%{y}<extra></extra>",
         "legendgroup": "MERIT PROTECTION COMMISSION",
         "marker": {
          "color": "#ab63fa"
         },
         "name": "MERIT PROTECTION COMMISSION",
         "offsetgroup": "MERIT PROTECTION COMMISSION",
         "orientation": "v",
         "showlegend": true,
         "textposition": "auto",
         "type": "bar",
         "x": [
          "MERIT PROTECTION COMMISSION"
         ],
         "xaxis": "x",
         "y": [
          17
         ],
         "yaxis": "y"
        },
        {
         "alignmentgroup": "True",
         "hovertemplate": "Agency_Name=%{x}<br>Count=%{y}<extra></extra>",
         "legendgroup": "OK. HOUSE OF REPRESENTATIVES",
         "marker": {
          "color": "#FFA15A"
         },
         "name": "OK. HOUSE OF REPRESENTATIVES",
         "offsetgroup": "OK. HOUSE OF REPRESENTATIVES",
         "orientation": "v",
         "showlegend": true,
         "textposition": "auto",
         "type": "bar",
         "x": [
          "OK. HOUSE OF REPRESENTATIVES"
         ],
         "xaxis": "x",
         "y": [
          16
         ],
         "yaxis": "y"
        },
        {
         "alignmentgroup": "True",
         "hovertemplate": "Agency_Name=%{x}<br>Count=%{y}<extra></extra>",
         "legendgroup": "BD. OF EXAM. FOR LT CARE ADMIN.",
         "marker": {
          "color": "#19d3f3"
         },
         "name": "BD. OF EXAM. FOR LT CARE ADMIN.",
         "offsetgroup": "BD. OF EXAM. FOR LT CARE ADMIN.",
         "orientation": "v",
         "showlegend": true,
         "textposition": "auto",
         "type": "bar",
         "x": [
          "BD. OF EXAM. FOR LT CARE ADMIN."
         ],
         "xaxis": "x",
         "y": [
          15
         ],
         "yaxis": "y"
        },
        {
         "alignmentgroup": "True",
         "hovertemplate": "Agency_Name=%{x}<br>Count=%{y}<extra></extra>",
         "legendgroup": "WORKERS COMPENSATION COURT",
         "marker": {
          "color": "#FF6692"
         },
         "name": "WORKERS COMPENSATION COURT",
         "offsetgroup": "WORKERS COMPENSATION COURT",
         "orientation": "v",
         "showlegend": true,
         "textposition": "auto",
         "type": "bar",
         "x": [
          "WORKERS COMPENSATION COURT"
         ],
         "xaxis": "x",
         "y": [
          11
         ],
         "yaxis": "y"
        },
        {
         "alignmentgroup": "True",
         "hovertemplate": "Agency_Name=%{x}<br>Count=%{y}<extra></extra>",
         "legendgroup": "OKLAHOMA ABSTRACTORS BOARD",
         "marker": {
          "color": "#B6E880"
         },
         "name": "OKLAHOMA ABSTRACTORS BOARD",
         "offsetgroup": "OKLAHOMA ABSTRACTORS BOARD",
         "orientation": "v",
         "showlegend": true,
         "textposition": "auto",
         "type": "bar",
         "x": [
          "OKLAHOMA ABSTRACTORS BOARD"
         ],
         "xaxis": "x",
         "y": [
          10
         ],
         "yaxis": "y"
        },
        {
         "alignmentgroup": "True",
         "hovertemplate": "Agency_Name=%{x}<br>Count=%{y}<extra></extra>",
         "legendgroup": "MULTIPLE INJURY TRUST FUND",
         "marker": {
          "color": "#FF97FF"
         },
         "name": "MULTIPLE INJURY TRUST FUND",
         "offsetgroup": "MULTIPLE INJURY TRUST FUND",
         "orientation": "v",
         "showlegend": true,
         "textposition": "auto",
         "type": "bar",
         "x": [
          "MULTIPLE INJURY TRUST FUND"
         ],
         "xaxis": "x",
         "y": [
          8
         ],
         "yaxis": "y"
        },
        {
         "alignmentgroup": "True",
         "hovertemplate": "Agency_Name=%{x}<br>Count=%{y}<extra></extra>",
         "legendgroup": "EMPLOYEES BENEFITS DEPARTMENT",
         "marker": {
          "color": "#FECB52"
         },
         "name": "EMPLOYEES BENEFITS DEPARTMENT",
         "offsetgroup": "EMPLOYEES BENEFITS DEPARTMENT",
         "orientation": "v",
         "showlegend": true,
         "textposition": "auto",
         "type": "bar",
         "x": [
          "EMPLOYEES BENEFITS DEPARTMENT"
         ],
         "xaxis": "x",
         "y": [
          2
         ],
         "yaxis": "y"
        },
        {
         "alignmentgroup": "True",
         "hovertemplate": "Agency_Name=%{x}<br>Count=%{y}<extra></extra>",
         "legendgroup": "BD. OF PRIV. VOCATIONAL SCHOOLS",
         "marker": {
          "color": "#636efa"
         },
         "name": "BD. OF PRIV. VOCATIONAL SCHOOLS",
         "offsetgroup": "BD. OF PRIV. VOCATIONAL SCHOOLS",
         "orientation": "v",
         "showlegend": true,
         "textposition": "auto",
         "type": "bar",
         "x": [
          "BD. OF PRIV. VOCATIONAL SCHOOLS"
         ],
         "xaxis": "x",
         "y": [
          1
         ],
         "yaxis": "y"
        },
        {
         "alignmentgroup": "True",
         "hovertemplate": "Agency_Name=%{x}<br>Count=%{y}<extra></extra>",
         "legendgroup": "MARGINALLY PROD. OIL & GAS WELLS",
         "marker": {
          "color": "#EF553B"
         },
         "name": "MARGINALLY PROD. OIL & GAS WELLS",
         "offsetgroup": "MARGINALLY PROD. OIL & GAS WELLS",
         "orientation": "v",
         "showlegend": true,
         "textposition": "auto",
         "type": "bar",
         "x": [
          "MARGINALLY PROD. OIL & GAS WELLS"
         ],
         "xaxis": "x",
         "y": [
          1
         ],
         "yaxis": "y"
        },
        {
         "alignmentgroup": "True",
         "hovertemplate": "Agency_Name=%{x}<br>Count=%{y}<extra></extra>",
         "legendgroup": "OFFICE OF EDUC. QUALITY & ACCOUNTABILITY",
         "marker": {
          "color": "#00cc96"
         },
         "name": "OFFICE OF EDUC. QUALITY & ACCOUNTABILITY",
         "offsetgroup": "OFFICE OF EDUC. QUALITY & ACCOUNTABILITY",
         "orientation": "v",
         "showlegend": true,
         "textposition": "auto",
         "type": "bar",
         "x": [
          "OFFICE OF EDUC. QUALITY & ACCOUNTABILITY"
         ],
         "xaxis": "x",
         "y": [
          1
         ],
         "yaxis": "y"
        },
        {
         "alignmentgroup": "True",
         "hovertemplate": "Agency_Name=%{x}<br>Count=%{y}<extra></extra>",
         "legendgroup": "WORKER'S COMP. COMMISSION",
         "marker": {
          "color": "#ab63fa"
         },
         "name": "WORKER'S COMP. COMMISSION",
         "offsetgroup": "WORKER'S COMP. COMMISSION",
         "orientation": "v",
         "showlegend": true,
         "textposition": "auto",
         "type": "bar",
         "x": [
          "WORKER'S COMP. COMMISSION"
         ],
         "xaxis": "x",
         "y": [
          1
         ],
         "yaxis": "y"
        }
       ],
       "layout": {
        "barmode": "relative",
        "height": 400,
        "legend": {
         "title": {
          "text": "Agency_Name"
         },
         "tracegroupgap": 0
        },
        "margin": {
         "t": 60
        },
        "template": {
         "data": {
          "bar": [
           {
            "error_x": {
             "color": "#2a3f5f"
            },
            "error_y": {
             "color": "#2a3f5f"
            },
            "marker": {
             "line": {
              "color": "#E5ECF6",
              "width": 0.5
             }
            },
            "type": "bar"
           }
          ],
          "barpolar": [
           {
            "marker": {
             "line": {
              "color": "#E5ECF6",
              "width": 0.5
             }
            },
            "type": "barpolar"
           }
          ],
          "carpet": [
           {
            "aaxis": {
             "endlinecolor": "#2a3f5f",
             "gridcolor": "white",
             "linecolor": "white",
             "minorgridcolor": "white",
             "startlinecolor": "#2a3f5f"
            },
            "baxis": {
             "endlinecolor": "#2a3f5f",
             "gridcolor": "white",
             "linecolor": "white",
             "minorgridcolor": "white",
             "startlinecolor": "#2a3f5f"
            },
            "type": "carpet"
           }
          ],
          "choropleth": [
           {
            "colorbar": {
             "outlinewidth": 0,
             "ticks": ""
            },
            "type": "choropleth"
           }
          ],
          "contour": [
           {
            "colorbar": {
             "outlinewidth": 0,
             "ticks": ""
            },
            "colorscale": [
             [
              0,
              "#0d0887"
             ],
             [
              0.1111111111111111,
              "#46039f"
             ],
             [
              0.2222222222222222,
              "#7201a8"
             ],
             [
              0.3333333333333333,
              "#9c179e"
             ],
             [
              0.4444444444444444,
              "#bd3786"
             ],
             [
              0.5555555555555556,
              "#d8576b"
             ],
             [
              0.6666666666666666,
              "#ed7953"
             ],
             [
              0.7777777777777778,
              "#fb9f3a"
             ],
             [
              0.8888888888888888,
              "#fdca26"
             ],
             [
              1,
              "#f0f921"
             ]
            ],
            "type": "contour"
           }
          ],
          "contourcarpet": [
           {
            "colorbar": {
             "outlinewidth": 0,
             "ticks": ""
            },
            "type": "contourcarpet"
           }
          ],
          "heatmap": [
           {
            "colorbar": {
             "outlinewidth": 0,
             "ticks": ""
            },
            "colorscale": [
             [
              0,
              "#0d0887"
             ],
             [
              0.1111111111111111,
              "#46039f"
             ],
             [
              0.2222222222222222,
              "#7201a8"
             ],
             [
              0.3333333333333333,
              "#9c179e"
             ],
             [
              0.4444444444444444,
              "#bd3786"
             ],
             [
              0.5555555555555556,
              "#d8576b"
             ],
             [
              0.6666666666666666,
              "#ed7953"
             ],
             [
              0.7777777777777778,
              "#fb9f3a"
             ],
             [
              0.8888888888888888,
              "#fdca26"
             ],
             [
              1,
              "#f0f921"
             ]
            ],
            "type": "heatmap"
           }
          ],
          "heatmapgl": [
           {
            "colorbar": {
             "outlinewidth": 0,
             "ticks": ""
            },
            "colorscale": [
             [
              0,
              "#0d0887"
             ],
             [
              0.1111111111111111,
              "#46039f"
             ],
             [
              0.2222222222222222,
              "#7201a8"
             ],
             [
              0.3333333333333333,
              "#9c179e"
             ],
             [
              0.4444444444444444,
              "#bd3786"
             ],
             [
              0.5555555555555556,
              "#d8576b"
             ],
             [
              0.6666666666666666,
              "#ed7953"
             ],
             [
              0.7777777777777778,
              "#fb9f3a"
             ],
             [
              0.8888888888888888,
              "#fdca26"
             ],
             [
              1,
              "#f0f921"
             ]
            ],
            "type": "heatmapgl"
           }
          ],
          "histogram": [
           {
            "marker": {
             "colorbar": {
              "outlinewidth": 0,
              "ticks": ""
             }
            },
            "type": "histogram"
           }
          ],
          "histogram2d": [
           {
            "colorbar": {
             "outlinewidth": 0,
             "ticks": ""
            },
            "colorscale": [
             [
              0,
              "#0d0887"
             ],
             [
              0.1111111111111111,
              "#46039f"
             ],
             [
              0.2222222222222222,
              "#7201a8"
             ],
             [
              0.3333333333333333,
              "#9c179e"
             ],
             [
              0.4444444444444444,
              "#bd3786"
             ],
             [
              0.5555555555555556,
              "#d8576b"
             ],
             [
              0.6666666666666666,
              "#ed7953"
             ],
             [
              0.7777777777777778,
              "#fb9f3a"
             ],
             [
              0.8888888888888888,
              "#fdca26"
             ],
             [
              1,
              "#f0f921"
             ]
            ],
            "type": "histogram2d"
           }
          ],
          "histogram2dcontour": [
           {
            "colorbar": {
             "outlinewidth": 0,
             "ticks": ""
            },
            "colorscale": [
             [
              0,
              "#0d0887"
             ],
             [
              0.1111111111111111,
              "#46039f"
             ],
             [
              0.2222222222222222,
              "#7201a8"
             ],
             [
              0.3333333333333333,
              "#9c179e"
             ],
             [
              0.4444444444444444,
              "#bd3786"
             ],
             [
              0.5555555555555556,
              "#d8576b"
             ],
             [
              0.6666666666666666,
              "#ed7953"
             ],
             [
              0.7777777777777778,
              "#fb9f3a"
             ],
             [
              0.8888888888888888,
              "#fdca26"
             ],
             [
              1,
              "#f0f921"
             ]
            ],
            "type": "histogram2dcontour"
           }
          ],
          "mesh3d": [
           {
            "colorbar": {
             "outlinewidth": 0,
             "ticks": ""
            },
            "type": "mesh3d"
           }
          ],
          "parcoords": [
           {
            "line": {
             "colorbar": {
              "outlinewidth": 0,
              "ticks": ""
             }
            },
            "type": "parcoords"
           }
          ],
          "pie": [
           {
            "automargin": true,
            "type": "pie"
           }
          ],
          "scatter": [
           {
            "marker": {
             "colorbar": {
              "outlinewidth": 0,
              "ticks": ""
             }
            },
            "type": "scatter"
           }
          ],
          "scatter3d": [
           {
            "line": {
             "colorbar": {
              "outlinewidth": 0,
              "ticks": ""
             }
            },
            "marker": {
             "colorbar": {
              "outlinewidth": 0,
              "ticks": ""
             }
            },
            "type": "scatter3d"
           }
          ],
          "scattercarpet": [
           {
            "marker": {
             "colorbar": {
              "outlinewidth": 0,
              "ticks": ""
             }
            },
            "type": "scattercarpet"
           }
          ],
          "scattergeo": [
           {
            "marker": {
             "colorbar": {
              "outlinewidth": 0,
              "ticks": ""
             }
            },
            "type": "scattergeo"
           }
          ],
          "scattergl": [
           {
            "marker": {
             "colorbar": {
              "outlinewidth": 0,
              "ticks": ""
             }
            },
            "type": "scattergl"
           }
          ],
          "scattermapbox": [
           {
            "marker": {
             "colorbar": {
              "outlinewidth": 0,
              "ticks": ""
             }
            },
            "type": "scattermapbox"
           }
          ],
          "scatterpolar": [
           {
            "marker": {
             "colorbar": {
              "outlinewidth": 0,
              "ticks": ""
             }
            },
            "type": "scatterpolar"
           }
          ],
          "scatterpolargl": [
           {
            "marker": {
             "colorbar": {
              "outlinewidth": 0,
              "ticks": ""
             }
            },
            "type": "scatterpolargl"
           }
          ],
          "scatterternary": [
           {
            "marker": {
             "colorbar": {
              "outlinewidth": 0,
              "ticks": ""
             }
            },
            "type": "scatterternary"
           }
          ],
          "surface": [
           {
            "colorbar": {
             "outlinewidth": 0,
             "ticks": ""
            },
            "colorscale": [
             [
              0,
              "#0d0887"
             ],
             [
              0.1111111111111111,
              "#46039f"
             ],
             [
              0.2222222222222222,
              "#7201a8"
             ],
             [
              0.3333333333333333,
              "#9c179e"
             ],
             [
              0.4444444444444444,
              "#bd3786"
             ],
             [
              0.5555555555555556,
              "#d8576b"
             ],
             [
              0.6666666666666666,
              "#ed7953"
             ],
             [
              0.7777777777777778,
              "#fb9f3a"
             ],
             [
              0.8888888888888888,
              "#fdca26"
             ],
             [
              1,
              "#f0f921"
             ]
            ],
            "type": "surface"
           }
          ],
          "table": [
           {
            "cells": {
             "fill": {
              "color": "#EBF0F8"
             },
             "line": {
              "color": "white"
             }
            },
            "header": {
             "fill": {
              "color": "#C8D4E3"
             },
             "line": {
              "color": "white"
             }
            },
            "type": "table"
           }
          ]
         },
         "layout": {
          "annotationdefaults": {
           "arrowcolor": "#2a3f5f",
           "arrowhead": 0,
           "arrowwidth": 1
          },
          "coloraxis": {
           "colorbar": {
            "outlinewidth": 0,
            "ticks": ""
           }
          },
          "colorscale": {
           "diverging": [
            [
             0,
             "#8e0152"
            ],
            [
             0.1,
             "#c51b7d"
            ],
            [
             0.2,
             "#de77ae"
            ],
            [
             0.3,
             "#f1b6da"
            ],
            [
             0.4,
             "#fde0ef"
            ],
            [
             0.5,
             "#f7f7f7"
            ],
            [
             0.6,
             "#e6f5d0"
            ],
            [
             0.7,
             "#b8e186"
            ],
            [
             0.8,
             "#7fbc41"
            ],
            [
             0.9,
             "#4d9221"
            ],
            [
             1,
             "#276419"
            ]
           ],
           "sequential": [
            [
             0,
             "#0d0887"
            ],
            [
             0.1111111111111111,
             "#46039f"
            ],
            [
             0.2222222222222222,
             "#7201a8"
            ],
            [
             0.3333333333333333,
             "#9c179e"
            ],
            [
             0.4444444444444444,
             "#bd3786"
            ],
            [
             0.5555555555555556,
             "#d8576b"
            ],
            [
             0.6666666666666666,
             "#ed7953"
            ],
            [
             0.7777777777777778,
             "#fb9f3a"
            ],
            [
             0.8888888888888888,
             "#fdca26"
            ],
            [
             1,
             "#f0f921"
            ]
           ],
           "sequentialminus": [
            [
             0,
             "#0d0887"
            ],
            [
             0.1111111111111111,
             "#46039f"
            ],
            [
             0.2222222222222222,
             "#7201a8"
            ],
            [
             0.3333333333333333,
             "#9c179e"
            ],
            [
             0.4444444444444444,
             "#bd3786"
            ],
            [
             0.5555555555555556,
             "#d8576b"
            ],
            [
             0.6666666666666666,
             "#ed7953"
            ],
            [
             0.7777777777777778,
             "#fb9f3a"
            ],
            [
             0.8888888888888888,
             "#fdca26"
            ],
            [
             1,
             "#f0f921"
            ]
           ]
          },
          "colorway": [
           "#636efa",
           "#EF553B",
           "#00cc96",
           "#ab63fa",
           "#FFA15A",
           "#19d3f3",
           "#FF6692",
           "#B6E880",
           "#FF97FF",
           "#FECB52"
          ],
          "font": {
           "color": "#2a3f5f"
          },
          "geo": {
           "bgcolor": "white",
           "lakecolor": "white",
           "landcolor": "#E5ECF6",
           "showlakes": true,
           "showland": true,
           "subunitcolor": "white"
          },
          "hoverlabel": {
           "align": "left"
          },
          "hovermode": "closest",
          "mapbox": {
           "style": "light"
          },
          "paper_bgcolor": "white",
          "plot_bgcolor": "#E5ECF6",
          "polar": {
           "angularaxis": {
            "gridcolor": "white",
            "linecolor": "white",
            "ticks": ""
           },
           "bgcolor": "#E5ECF6",
           "radialaxis": {
            "gridcolor": "white",
            "linecolor": "white",
            "ticks": ""
           }
          },
          "scene": {
           "xaxis": {
            "backgroundcolor": "#E5ECF6",
            "gridcolor": "white",
            "gridwidth": 2,
            "linecolor": "white",
            "showbackground": true,
            "ticks": "",
            "zerolinecolor": "white"
           },
           "yaxis": {
            "backgroundcolor": "#E5ECF6",
            "gridcolor": "white",
            "gridwidth": 2,
            "linecolor": "white",
            "showbackground": true,
            "ticks": "",
            "zerolinecolor": "white"
           },
           "zaxis": {
            "backgroundcolor": "#E5ECF6",
            "gridcolor": "white",
            "gridwidth": 2,
            "linecolor": "white",
            "showbackground": true,
            "ticks": "",
            "zerolinecolor": "white"
           }
          },
          "shapedefaults": {
           "line": {
            "color": "#2a3f5f"
           }
          },
          "ternary": {
           "aaxis": {
            "gridcolor": "white",
            "linecolor": "white",
            "ticks": ""
           },
           "baxis": {
            "gridcolor": "white",
            "linecolor": "white",
            "ticks": ""
           },
           "bgcolor": "#E5ECF6",
           "caxis": {
            "gridcolor": "white",
            "linecolor": "white",
            "ticks": ""
           }
          },
          "title": {
           "x": 0.05
          },
          "xaxis": {
           "automargin": true,
           "gridcolor": "white",
           "linecolor": "white",
           "ticks": "",
           "title": {
            "standoff": 15
           },
           "zerolinecolor": "white",
           "zerolinewidth": 2
          },
          "yaxis": {
           "automargin": true,
           "gridcolor": "white",
           "linecolor": "white",
           "ticks": "",
           "title": {
            "standoff": 15
           },
           "zerolinecolor": "white",
           "zerolinewidth": 2
          }
         }
        },
        "width": 1000,
        "xaxis": {
         "anchor": "y",
         "categoryarray": [
          "OKLAHOMA STATE UNIVERSITY",
          "UNIVERSITY OF OKLAHOMA",
          "UNIV. OF OKLA. HEALTH SCIENCES CENTER",
          "DEPARTMENT OF CORRECTIONS",
          "DEPARTMENT OF TOURISM AND RECREATION",
          "DEPARTMENT OF TRANSPORTATION",
          "GRAND RIVER DAM AUTH.",
          "DEPARTMENT OF REHABILITATION SERVICES",
          "DEPARTMENT OF VETERANS AFFAIRS",
          "S. W. OKLA. ST. UNIV.",
          "OFFICE OF MANAGEMENT AND ENTERPRISE SERV",
          "MENTAL HEALTH AND SUBSTANCE ABUSE SERV.",
          "OKLAHOMA MILITARY DEPARTMENT",
          "DEPARTMENT OF WILDLIFE CONSERVATION",
          "DEPARTMENT OF PUBLIC SAFETY",
          "OKLA. PANHANDLE STATE UNIV.",
          "TULSA COMMUNITY COLLEGE",
          "OKLA. CAREER AND TECHNOLOGY EDUCATION",
          "DEPARTMENT OF AGRICULTURE",
          "HISTORICAL SOCIETY",
          "STATE DEPARTMENT OF HEALTH",
          "OFFICE OF JUVENILE AFFAIRS",
          "DEPARTMENT OF AGRICULTURE, FOOD, ANF FOR",
          "LANGSTON UNIVERSITY",
          "STATE BUREAU OF INVESTIGATION",
          "J.D. MCCARTY CENTER",
          "OKLA. BUREAU OF NARCOTICS AND DANGEROUS",
          "COMPSOURCE OKLAHOMA",
          "ATTORNEY GENERAL",
          "DEPARTMENT OF COMMERCE",
          "WATER RESOURCES BOARD",
          "EASTERN OKLA. STATE COLLEGE",
          "OKLAHOMA INSURANCE DEPARTMENT",
          "EMPLOYMENT SECURITY COMMISSION",
          "DEPARTMENT OF HUMAN SERVICES",
          "OKLAHOMA HOUSING FINANCE AGENCY",
          "OKLA. CITY COMMUNITY COLLEGE",
          "COMM. ON CONSUMER CREDIT",
          "DEPT. OF ENVIRONMENTAL QUALITY",
          "`DEPARTMENT OF EDUCATION",
          "CORPORATION COMMISSION",
          "DEPARTMENT OF LIBRARIES",
          "UNIV.OF SCIENCE & ARTS OF OK",
          "BD. OF MED. LICENSURE & SUPV.",
          "STATE AUDITOR AND INSPECTOR",
          "ROSE STATE COLEGE",
          "OKLAHOMA TAX COMMISSION",
          "N. E. OKLA. A & M COLLEGE",
          "INDIGENT DEFENSE SYSTEM",
          "BD. OF MEDICOLEGAL INVESTIGATIONS",
          "DEPARTMENT OF LABOR",
          "REGENTS FOR HIGHER EDUCATION",
          "HEALTH CARE AUTHORITY",
          "DISTRICT ATTORNEYS COUNCIL",
          "CONSERVATION COMMISSION",
          "COUNCIL ON LAW ENFC. ED. & TRNG.",
          "SUPREME COURT",
          "OFFICE OF THE CHIEF MEDICAL EXAMINER",
          "DEPARTMENT OF EDUCATION",
          "STATE BANKING DEPARTMENT",
          "REDLANDS COMMUNITY COLLEGE",
          "STATE PHARMACY BOARD",
          "TEACHERS RETIREMENT SYSTEM",
          "OK. COMM. FOR TEACHER PREP.",
          "FIREFIGHTERS PENS. & RET. SYST.",
          "COMM. OF THE LAND OFFICE",
          "GOVERNOR",
          "SECRETARY OF STATE",
          "REGIONAL UNIVERSITY SYSTEM OF OKLAHOMA",
          "OKLA. REAL ESTATE COMM.",
          "STATE ARTS COUNCIL",
          "DEPARTMENT OF EMERGENCY MANAGEMEN",
          "OK. SCHOOL OF SCIENCE & MATH.",
          "STATE FIRE MARSHAL",
          "STATE TREASURER",
          "STATE ELECTION BOARD",
          "OKLAHOMA AERONAUTICS COMMISSION",
          "OKLA. SPACE INDUSTRY DEV. AUTH.",
          "TOBACCO SETTLEMENT ENDMT TRUST",
          "COSMETOLOGY BOARD",
          "OKLAHOMA LOTTERY COMMISSION",
          "OKLA. HORSE RACING COMM.",
          "PROF. ENGI. & LAND SURVEYORS",
          "BOLL WEEVIL ERADICATION ORG.",
          "POLICE PENSION & RET. SYSTEM",
          "DEPARTMENT OF EMERGENCY MANAGEMENT",
          "SCENIC RIVERS COMMISSION",
          "OKLAHOMA ACCOUNTANCY BOARD",
          "ST. BD. OF CHIROPRACTIC EXAM.",
          "ETHICS COMMISSION",
          "SPEECH-LANGUAGE PATHOLOGY & AUDIOLOGY",
          "OKLA. BOARD OF NURSING",
          "DEPARTMENT OF MINES",
          "OK. PUBLIC EMPLOYEES RET. SYS.",
          "OKLAHOMA WHEAT COMMISSION",
          "OK. LAW ENFORCE. RET. SYSTEM",
          "BD. OF CHEM. TEST ALCOHOL/DRUG",
          "BOARD OF DENTISTRY",
          "PHYSICIAN MANPOWER TRNG. COMM.",
          "OFFICE OF DISABILITY CONCERNS",
          "BD. OF VETERINARY MED. EXAM.",
          "ARDMORE HIGHER EDUCATION CENTER",
          "J. M. DAVIS ARMS & HIST. MUSEUM",
          "WILL ROGERS MEMORIAL COMMISSION",
          "OKLAHOMA ST.BOARD OF DENTISTRY",
          "OKLA. BD. OF ARCHITECTS",
          "COMMISSION ON CHILDREN AND YOUTH",
          "CAPITOL IMPROVEMENT AUTHORITY",
          "ST BD OF COSMETOLOGY AND BARBERING",
          "UNIVERSITY CENTER OF SOUTHERN OKLAHOMA",
          "STATE BOND ADVISOR",
          "PARDON AND PAROLE BOARD",
          "BD. OF EXAM. FOR LT CARE ADMIN",
          "MERIT PROTECTION COMMISSION",
          "OK. HOUSE OF REPRESENTATIVES",
          "BD. OF EXAM. FOR LT CARE ADMIN.",
          "WORKERS COMPENSATION COURT",
          "OKLAHOMA ABSTRACTORS BOARD",
          "MULTIPLE INJURY TRUST FUND",
          "EMPLOYEES BENEFITS DEPARTMENT",
          "BD. OF PRIV. VOCATIONAL SCHOOLS",
          "MARGINALLY PROD. OIL & GAS WELLS",
          "OFFICE OF EDUC. QUALITY & ACCOUNTABILITY",
          "WORKER'S COMP. COMMISSION"
         ],
         "categoryorder": "array",
         "domain": [
          0,
          1
         ],
         "title": {
          "text": "Agency_Name"
         }
        },
        "yaxis": {
         "anchor": "x",
         "domain": [
          0,
          1
         ],
         "title": {
          "text": "Count"
         }
        }
       }
      },
      "text/html": [
       "<div>                            <div id=\"933fc178-17c6-464f-b59d-e651455c8b91\" class=\"plotly-graph-div\" style=\"height:400px; width:1000px;\"></div>            <script type=\"text/javascript\">                require([\"plotly\"], function(Plotly) {                    window.PLOTLYENV=window.PLOTLYENV || {};                                    if (document.getElementById(\"933fc178-17c6-464f-b59d-e651455c8b91\")) {                    Plotly.newPlot(                        \"933fc178-17c6-464f-b59d-e651455c8b91\",                        [{\"alignmentgroup\": \"True\", \"hovertemplate\": \"Agency_Name=%{x}<br>Count=%{y}<extra></extra>\", \"legendgroup\": \"OKLAHOMA STATE UNIVERSITY\", \"marker\": {\"color\": \"#636efa\"}, \"name\": \"OKLAHOMA STATE UNIVERSITY\", \"offsetgroup\": \"OKLAHOMA STATE UNIVERSITY\", \"orientation\": \"v\", \"showlegend\": true, \"textposition\": \"auto\", \"type\": \"bar\", \"x\": [\"OKLAHOMA STATE UNIVERSITY\"], \"xaxis\": \"x\", \"y\": [115995], \"yaxis\": \"y\"}, {\"alignmentgroup\": \"True\", \"hovertemplate\": \"Agency_Name=%{x}<br>Count=%{y}<extra></extra>\", \"legendgroup\": \"UNIVERSITY OF OKLAHOMA\", \"marker\": {\"color\": \"#EF553B\"}, \"name\": \"UNIVERSITY OF OKLAHOMA\", \"offsetgroup\": \"UNIVERSITY OF OKLAHOMA\", \"orientation\": \"v\", \"showlegend\": true, \"textposition\": \"auto\", \"type\": \"bar\", \"x\": [\"UNIVERSITY OF OKLAHOMA\"], \"xaxis\": \"x\", \"y\": [76143], \"yaxis\": \"y\"}, {\"alignmentgroup\": \"True\", \"hovertemplate\": \"Agency_Name=%{x}<br>Count=%{y}<extra></extra>\", \"legendgroup\": \"UNIV. OF OKLA. HEALTH SCIENCES CENTER\", \"marker\": {\"color\": \"#00cc96\"}, \"name\": \"UNIV. OF OKLA. HEALTH SCIENCES CENTER\", \"offsetgroup\": \"UNIV. OF OKLA. HEALTH SCIENCES CENTER\", \"orientation\": \"v\", \"showlegend\": true, \"textposition\": \"auto\", \"type\": \"bar\", \"x\": [\"UNIV. OF OKLA. HEALTH SCIENCES CENTER\"], \"xaxis\": \"x\", \"y\": [58247], \"yaxis\": \"y\"}, {\"alignmentgroup\": \"True\", \"hovertemplate\": \"Agency_Name=%{x}<br>Count=%{y}<extra></extra>\", \"legendgroup\": \"DEPARTMENT OF CORRECTIONS\", \"marker\": {\"color\": \"#ab63fa\"}, \"name\": \"DEPARTMENT OF CORRECTIONS\", \"offsetgroup\": \"DEPARTMENT OF CORRECTIONS\", \"orientation\": \"v\", \"showlegend\": true, \"textposition\": \"auto\", \"type\": \"bar\", \"x\": [\"DEPARTMENT OF CORRECTIONS\"], \"xaxis\": \"x\", \"y\": [22322], \"yaxis\": \"y\"}, {\"alignmentgroup\": \"True\", \"hovertemplate\": \"Agency_Name=%{x}<br>Count=%{y}<extra></extra>\", \"legendgroup\": \"DEPARTMENT OF TOURISM AND RECREATION\", \"marker\": {\"color\": \"#FFA15A\"}, \"name\": \"DEPARTMENT OF TOURISM AND RECREATION\", \"offsetgroup\": \"DEPARTMENT OF TOURISM AND RECREATION\", \"orientation\": \"v\", \"showlegend\": true, \"textposition\": \"auto\", \"type\": \"bar\", \"x\": [\"DEPARTMENT OF TOURISM AND RECREATION\"], \"xaxis\": \"x\", \"y\": [17232], \"yaxis\": \"y\"}, {\"alignmentgroup\": \"True\", \"hovertemplate\": \"Agency_Name=%{x}<br>Count=%{y}<extra></extra>\", \"legendgroup\": \"DEPARTMENT OF TRANSPORTATION\", \"marker\": {\"color\": \"#19d3f3\"}, \"name\": \"DEPARTMENT OF TRANSPORTATION\", \"offsetgroup\": \"DEPARTMENT OF TRANSPORTATION\", \"orientation\": \"v\", \"showlegend\": true, \"textposition\": \"auto\", \"type\": \"bar\", \"x\": [\"DEPARTMENT OF TRANSPORTATION\"], \"xaxis\": \"x\", \"y\": [15689], \"yaxis\": \"y\"}, {\"alignmentgroup\": \"True\", \"hovertemplate\": \"Agency_Name=%{x}<br>Count=%{y}<extra></extra>\", \"legendgroup\": \"GRAND RIVER DAM AUTH.\", \"marker\": {\"color\": \"#FF6692\"}, \"name\": \"GRAND RIVER DAM AUTH.\", \"offsetgroup\": \"GRAND RIVER DAM AUTH.\", \"orientation\": \"v\", \"showlegend\": true, \"textposition\": \"auto\", \"type\": \"bar\", \"x\": [\"GRAND RIVER DAM AUTH.\"], \"xaxis\": \"x\", \"y\": [10427], \"yaxis\": \"y\"}, {\"alignmentgroup\": \"True\", \"hovertemplate\": \"Agency_Name=%{x}<br>Count=%{y}<extra></extra>\", \"legendgroup\": \"DEPARTMENT OF REHABILITATION SERVICES\", \"marker\": {\"color\": \"#B6E880\"}, \"name\": \"DEPARTMENT OF REHABILITATION SERVICES\", \"offsetgroup\": \"DEPARTMENT OF REHABILITATION SERVICES\", \"orientation\": \"v\", \"showlegend\": true, \"textposition\": \"auto\", \"type\": \"bar\", \"x\": [\"DEPARTMENT OF REHABILITATION SERVICES\"], \"xaxis\": \"x\", \"y\": [9162], \"yaxis\": \"y\"}, {\"alignmentgroup\": \"True\", \"hovertemplate\": \"Agency_Name=%{x}<br>Count=%{y}<extra></extra>\", \"legendgroup\": \"DEPARTMENT OF VETERANS AFFAIRS\", \"marker\": {\"color\": \"#FF97FF\"}, \"name\": \"DEPARTMENT OF VETERANS AFFAIRS\", \"offsetgroup\": \"DEPARTMENT OF VETERANS AFFAIRS\", \"orientation\": \"v\", \"showlegend\": true, \"textposition\": \"auto\", \"type\": \"bar\", \"x\": [\"DEPARTMENT OF VETERANS AFFAIRS\"], \"xaxis\": \"x\", \"y\": [7708], \"yaxis\": \"y\"}, {\"alignmentgroup\": \"True\", \"hovertemplate\": \"Agency_Name=%{x}<br>Count=%{y}<extra></extra>\", \"legendgroup\": \"S. W. OKLA. ST. UNIV.\", \"marker\": {\"color\": \"#FECB52\"}, \"name\": \"S. W. OKLA. ST. UNIV.\", \"offsetgroup\": \"S. W. OKLA. ST. UNIV.\", \"orientation\": \"v\", \"showlegend\": true, \"textposition\": \"auto\", \"type\": \"bar\", \"x\": [\"S. W. OKLA. ST. UNIV.\"], \"xaxis\": \"x\", \"y\": [7488], \"yaxis\": \"y\"}, {\"alignmentgroup\": \"True\", \"hovertemplate\": \"Agency_Name=%{x}<br>Count=%{y}<extra></extra>\", \"legendgroup\": \"OFFICE OF MANAGEMENT AND ENTERPRISE SERV\", \"marker\": {\"color\": \"#636efa\"}, \"name\": \"OFFICE OF MANAGEMENT AND ENTERPRISE SERV\", \"offsetgroup\": \"OFFICE OF MANAGEMENT AND ENTERPRISE SERV\", \"orientation\": \"v\", \"showlegend\": true, \"textposition\": \"auto\", \"type\": \"bar\", \"x\": [\"OFFICE OF MANAGEMENT AND ENTERPRISE SERV\"], \"xaxis\": \"x\", \"y\": [7066], \"yaxis\": \"y\"}, {\"alignmentgroup\": \"True\", \"hovertemplate\": \"Agency_Name=%{x}<br>Count=%{y}<extra></extra>\", \"legendgroup\": \"MENTAL HEALTH AND SUBSTANCE ABUSE SERV.\", \"marker\": {\"color\": \"#EF553B\"}, \"name\": \"MENTAL HEALTH AND SUBSTANCE ABUSE SERV.\", \"offsetgroup\": \"MENTAL HEALTH AND SUBSTANCE ABUSE SERV.\", \"orientation\": \"v\", \"showlegend\": true, \"textposition\": \"auto\", \"type\": \"bar\", \"x\": [\"MENTAL HEALTH AND SUBSTANCE ABUSE SERV.\"], \"xaxis\": \"x\", \"y\": [6243], \"yaxis\": \"y\"}, {\"alignmentgroup\": \"True\", \"hovertemplate\": \"Agency_Name=%{x}<br>Count=%{y}<extra></extra>\", \"legendgroup\": \"OKLAHOMA MILITARY DEPARTMENT\", \"marker\": {\"color\": \"#00cc96\"}, \"name\": \"OKLAHOMA MILITARY DEPARTMENT\", \"offsetgroup\": \"OKLAHOMA MILITARY DEPARTMENT\", \"orientation\": \"v\", \"showlegend\": true, \"textposition\": \"auto\", \"type\": \"bar\", \"x\": [\"OKLAHOMA MILITARY DEPARTMENT\"], \"xaxis\": \"x\", \"y\": [5679], \"yaxis\": \"y\"}, {\"alignmentgroup\": \"True\", \"hovertemplate\": \"Agency_Name=%{x}<br>Count=%{y}<extra></extra>\", \"legendgroup\": \"DEPARTMENT OF WILDLIFE CONSERVATION\", \"marker\": {\"color\": \"#ab63fa\"}, \"name\": \"DEPARTMENT OF WILDLIFE CONSERVATION\", \"offsetgroup\": \"DEPARTMENT OF WILDLIFE CONSERVATION\", \"orientation\": \"v\", \"showlegend\": true, \"textposition\": \"auto\", \"type\": \"bar\", \"x\": [\"DEPARTMENT OF WILDLIFE CONSERVATION\"], \"xaxis\": \"x\", \"y\": [5655], \"yaxis\": \"y\"}, {\"alignmentgroup\": \"True\", \"hovertemplate\": \"Agency_Name=%{x}<br>Count=%{y}<extra></extra>\", \"legendgroup\": \"DEPARTMENT OF PUBLIC SAFETY\", \"marker\": {\"color\": \"#FFA15A\"}, \"name\": \"DEPARTMENT OF PUBLIC SAFETY\", \"offsetgroup\": \"DEPARTMENT OF PUBLIC SAFETY\", \"orientation\": \"v\", \"showlegend\": true, \"textposition\": \"auto\", \"type\": \"bar\", \"x\": [\"DEPARTMENT OF PUBLIC SAFETY\"], \"xaxis\": \"x\", \"y\": [5506], \"yaxis\": \"y\"}, {\"alignmentgroup\": \"True\", \"hovertemplate\": \"Agency_Name=%{x}<br>Count=%{y}<extra></extra>\", \"legendgroup\": \"OKLA. PANHANDLE STATE UNIV.\", \"marker\": {\"color\": \"#19d3f3\"}, \"name\": \"OKLA. PANHANDLE STATE UNIV.\", \"offsetgroup\": \"OKLA. PANHANDLE STATE UNIV.\", \"orientation\": \"v\", \"showlegend\": true, \"textposition\": \"auto\", \"type\": \"bar\", \"x\": [\"OKLA. PANHANDLE STATE UNIV.\"], \"xaxis\": \"x\", \"y\": [4252], \"yaxis\": \"y\"}, {\"alignmentgroup\": \"True\", \"hovertemplate\": \"Agency_Name=%{x}<br>Count=%{y}<extra></extra>\", \"legendgroup\": \"TULSA COMMUNITY COLLEGE\", \"marker\": {\"color\": \"#FF6692\"}, \"name\": \"TULSA COMMUNITY COLLEGE\", \"offsetgroup\": \"TULSA COMMUNITY COLLEGE\", \"orientation\": \"v\", \"showlegend\": true, \"textposition\": \"auto\", \"type\": \"bar\", \"x\": [\"TULSA COMMUNITY COLLEGE\"], \"xaxis\": \"x\", \"y\": [4093], \"yaxis\": \"y\"}, {\"alignmentgroup\": \"True\", \"hovertemplate\": \"Agency_Name=%{x}<br>Count=%{y}<extra></extra>\", \"legendgroup\": \"OKLA. CAREER AND TECHNOLOGY EDUCATION\", \"marker\": {\"color\": \"#B6E880\"}, \"name\": \"OKLA. CAREER AND TECHNOLOGY EDUCATION\", \"offsetgroup\": \"OKLA. CAREER AND TECHNOLOGY EDUCATION\", \"orientation\": \"v\", \"showlegend\": true, \"textposition\": \"auto\", \"type\": \"bar\", \"x\": [\"OKLA. CAREER AND TECHNOLOGY EDUCATION\"], \"xaxis\": \"x\", \"y\": [3867], \"yaxis\": \"y\"}, {\"alignmentgroup\": \"True\", \"hovertemplate\": \"Agency_Name=%{x}<br>Count=%{y}<extra></extra>\", \"legendgroup\": \"DEPARTMENT OF AGRICULTURE\", \"marker\": {\"color\": \"#FF97FF\"}, \"name\": \"DEPARTMENT OF AGRICULTURE\", \"offsetgroup\": \"DEPARTMENT OF AGRICULTURE\", \"orientation\": \"v\", \"showlegend\": true, \"textposition\": \"auto\", \"type\": \"bar\", \"x\": [\"DEPARTMENT OF AGRICULTURE\"], \"xaxis\": \"x\", \"y\": [3085], \"yaxis\": \"y\"}, {\"alignmentgroup\": \"True\", \"hovertemplate\": \"Agency_Name=%{x}<br>Count=%{y}<extra></extra>\", \"legendgroup\": \"HISTORICAL SOCIETY\", \"marker\": {\"color\": \"#FECB52\"}, \"name\": \"HISTORICAL SOCIETY\", \"offsetgroup\": \"HISTORICAL SOCIETY\", \"orientation\": \"v\", \"showlegend\": true, \"textposition\": \"auto\", \"type\": \"bar\", \"x\": [\"HISTORICAL SOCIETY\"], \"xaxis\": \"x\", \"y\": [2884], \"yaxis\": \"y\"}, {\"alignmentgroup\": \"True\", \"hovertemplate\": \"Agency_Name=%{x}<br>Count=%{y}<extra></extra>\", \"legendgroup\": \"STATE DEPARTMENT OF HEALTH\", \"marker\": {\"color\": \"#636efa\"}, \"name\": \"STATE DEPARTMENT OF HEALTH\", \"offsetgroup\": \"STATE DEPARTMENT OF HEALTH\", \"orientation\": \"v\", \"showlegend\": true, \"textposition\": \"auto\", \"type\": \"bar\", \"x\": [\"STATE DEPARTMENT OF HEALTH\"], \"xaxis\": \"x\", \"y\": [2846], \"yaxis\": \"y\"}, {\"alignmentgroup\": \"True\", \"hovertemplate\": \"Agency_Name=%{x}<br>Count=%{y}<extra></extra>\", \"legendgroup\": \"OFFICE OF JUVENILE AFFAIRS\", \"marker\": {\"color\": \"#EF553B\"}, \"name\": \"OFFICE OF JUVENILE AFFAIRS\", \"offsetgroup\": \"OFFICE OF JUVENILE AFFAIRS\", \"orientation\": \"v\", \"showlegend\": true, \"textposition\": \"auto\", \"type\": \"bar\", \"x\": [\"OFFICE OF JUVENILE AFFAIRS\"], \"xaxis\": \"x\", \"y\": [2498], \"yaxis\": \"y\"}, {\"alignmentgroup\": \"True\", \"hovertemplate\": \"Agency_Name=%{x}<br>Count=%{y}<extra></extra>\", \"legendgroup\": \"DEPARTMENT OF AGRICULTURE, FOOD, ANF FOR\", \"marker\": {\"color\": \"#00cc96\"}, \"name\": \"DEPARTMENT OF AGRICULTURE, FOOD, ANF FOR\", \"offsetgroup\": \"DEPARTMENT OF AGRICULTURE, FOOD, ANF FOR\", \"orientation\": \"v\", \"showlegend\": true, \"textposition\": \"auto\", \"type\": \"bar\", \"x\": [\"DEPARTMENT OF AGRICULTURE, FOOD, ANF FOR\"], \"xaxis\": \"x\", \"y\": [2385], \"yaxis\": \"y\"}, {\"alignmentgroup\": \"True\", \"hovertemplate\": \"Agency_Name=%{x}<br>Count=%{y}<extra></extra>\", \"legendgroup\": \"LANGSTON UNIVERSITY\", \"marker\": {\"color\": \"#ab63fa\"}, \"name\": \"LANGSTON UNIVERSITY\", \"offsetgroup\": \"LANGSTON UNIVERSITY\", \"orientation\": \"v\", \"showlegend\": true, \"textposition\": \"auto\", \"type\": \"bar\", \"x\": [\"LANGSTON UNIVERSITY\"], \"xaxis\": \"x\", \"y\": [2311], \"yaxis\": \"y\"}, {\"alignmentgroup\": \"True\", \"hovertemplate\": \"Agency_Name=%{x}<br>Count=%{y}<extra></extra>\", \"legendgroup\": \"STATE BUREAU OF INVESTIGATION\", \"marker\": {\"color\": \"#FFA15A\"}, \"name\": \"STATE BUREAU OF INVESTIGATION\", \"offsetgroup\": \"STATE BUREAU OF INVESTIGATION\", \"orientation\": \"v\", \"showlegend\": true, \"textposition\": \"auto\", \"type\": \"bar\", \"x\": [\"STATE BUREAU OF INVESTIGATION\"], \"xaxis\": \"x\", \"y\": [1945], \"yaxis\": \"y\"}, {\"alignmentgroup\": \"True\", \"hovertemplate\": \"Agency_Name=%{x}<br>Count=%{y}<extra></extra>\", \"legendgroup\": \"J.D. MCCARTY CENTER\", \"marker\": {\"color\": \"#19d3f3\"}, \"name\": \"J.D. MCCARTY CENTER\", \"offsetgroup\": \"J.D. MCCARTY CENTER\", \"orientation\": \"v\", \"showlegend\": true, \"textposition\": \"auto\", \"type\": \"bar\", \"x\": [\"J.D. MCCARTY CENTER\"], \"xaxis\": \"x\", \"y\": [1699], \"yaxis\": \"y\"}, {\"alignmentgroup\": \"True\", \"hovertemplate\": \"Agency_Name=%{x}<br>Count=%{y}<extra></extra>\", \"legendgroup\": \"OKLA. BUREAU OF NARCOTICS AND DANGEROUS\", \"marker\": {\"color\": \"#FF6692\"}, \"name\": \"OKLA. BUREAU OF NARCOTICS AND DANGEROUS\", \"offsetgroup\": \"OKLA. BUREAU OF NARCOTICS AND DANGEROUS\", \"orientation\": \"v\", \"showlegend\": true, \"textposition\": \"auto\", \"type\": \"bar\", \"x\": [\"OKLA. BUREAU OF NARCOTICS AND DANGEROUS\"], \"xaxis\": \"x\", \"y\": [1661], \"yaxis\": \"y\"}, {\"alignmentgroup\": \"True\", \"hovertemplate\": \"Agency_Name=%{x}<br>Count=%{y}<extra></extra>\", \"legendgroup\": \"COMPSOURCE OKLAHOMA\", \"marker\": {\"color\": \"#B6E880\"}, \"name\": \"COMPSOURCE OKLAHOMA\", \"offsetgroup\": \"COMPSOURCE OKLAHOMA\", \"orientation\": \"v\", \"showlegend\": true, \"textposition\": \"auto\", \"type\": \"bar\", \"x\": [\"COMPSOURCE OKLAHOMA\"], \"xaxis\": \"x\", \"y\": [1566], \"yaxis\": \"y\"}, {\"alignmentgroup\": \"True\", \"hovertemplate\": \"Agency_Name=%{x}<br>Count=%{y}<extra></extra>\", \"legendgroup\": \"ATTORNEY GENERAL\", \"marker\": {\"color\": \"#FF97FF\"}, \"name\": \"ATTORNEY GENERAL\", \"offsetgroup\": \"ATTORNEY GENERAL\", \"orientation\": \"v\", \"showlegend\": true, \"textposition\": \"auto\", \"type\": \"bar\", \"x\": [\"ATTORNEY GENERAL\"], \"xaxis\": \"x\", \"y\": [1495], \"yaxis\": \"y\"}, {\"alignmentgroup\": \"True\", \"hovertemplate\": \"Agency_Name=%{x}<br>Count=%{y}<extra></extra>\", \"legendgroup\": \"DEPARTMENT OF COMMERCE\", \"marker\": {\"color\": \"#FECB52\"}, \"name\": \"DEPARTMENT OF COMMERCE\", \"offsetgroup\": \"DEPARTMENT OF COMMERCE\", \"orientation\": \"v\", \"showlegend\": true, \"textposition\": \"auto\", \"type\": \"bar\", \"x\": [\"DEPARTMENT OF COMMERCE\"], \"xaxis\": \"x\", \"y\": [1402], \"yaxis\": \"y\"}, {\"alignmentgroup\": \"True\", \"hovertemplate\": \"Agency_Name=%{x}<br>Count=%{y}<extra></extra>\", \"legendgroup\": \"WATER RESOURCES BOARD\", \"marker\": {\"color\": \"#636efa\"}, \"name\": \"WATER RESOURCES BOARD\", \"offsetgroup\": \"WATER RESOURCES BOARD\", \"orientation\": \"v\", \"showlegend\": true, \"textposition\": \"auto\", \"type\": \"bar\", \"x\": [\"WATER RESOURCES BOARD\"], \"xaxis\": \"x\", \"y\": [1388], \"yaxis\": \"y\"}, {\"alignmentgroup\": \"True\", \"hovertemplate\": \"Agency_Name=%{x}<br>Count=%{y}<extra></extra>\", \"legendgroup\": \"EASTERN OKLA. STATE COLLEGE\", \"marker\": {\"color\": \"#EF553B\"}, \"name\": \"EASTERN OKLA. STATE COLLEGE\", \"offsetgroup\": \"EASTERN OKLA. STATE COLLEGE\", \"orientation\": \"v\", \"showlegend\": true, \"textposition\": \"auto\", \"type\": \"bar\", \"x\": [\"EASTERN OKLA. STATE COLLEGE\"], \"xaxis\": \"x\", \"y\": [1351], \"yaxis\": \"y\"}, {\"alignmentgroup\": \"True\", \"hovertemplate\": \"Agency_Name=%{x}<br>Count=%{y}<extra></extra>\", \"legendgroup\": \"OKLAHOMA INSURANCE DEPARTMENT\", \"marker\": {\"color\": \"#00cc96\"}, \"name\": \"OKLAHOMA INSURANCE DEPARTMENT\", \"offsetgroup\": \"OKLAHOMA INSURANCE DEPARTMENT\", \"orientation\": \"v\", \"showlegend\": true, \"textposition\": \"auto\", \"type\": \"bar\", \"x\": [\"OKLAHOMA INSURANCE DEPARTMENT\"], \"xaxis\": \"x\", \"y\": [1224], \"yaxis\": \"y\"}, {\"alignmentgroup\": \"True\", \"hovertemplate\": \"Agency_Name=%{x}<br>Count=%{y}<extra></extra>\", \"legendgroup\": \"EMPLOYMENT SECURITY COMMISSION\", \"marker\": {\"color\": \"#ab63fa\"}, \"name\": \"EMPLOYMENT SECURITY COMMISSION\", \"offsetgroup\": \"EMPLOYMENT SECURITY COMMISSION\", \"orientation\": \"v\", \"showlegend\": true, \"textposition\": \"auto\", \"type\": \"bar\", \"x\": [\"EMPLOYMENT SECURITY COMMISSION\"], \"xaxis\": \"x\", \"y\": [1172], \"yaxis\": \"y\"}, {\"alignmentgroup\": \"True\", \"hovertemplate\": \"Agency_Name=%{x}<br>Count=%{y}<extra></extra>\", \"legendgroup\": \"DEPARTMENT OF HUMAN SERVICES\", \"marker\": {\"color\": \"#FFA15A\"}, \"name\": \"DEPARTMENT OF HUMAN SERVICES\", \"offsetgroup\": \"DEPARTMENT OF HUMAN SERVICES\", \"orientation\": \"v\", \"showlegend\": true, \"textposition\": \"auto\", \"type\": \"bar\", \"x\": [\"DEPARTMENT OF HUMAN SERVICES\"], \"xaxis\": \"x\", \"y\": [1121], \"yaxis\": \"y\"}, {\"alignmentgroup\": \"True\", \"hovertemplate\": \"Agency_Name=%{x}<br>Count=%{y}<extra></extra>\", \"legendgroup\": \"OKLAHOMA HOUSING FINANCE AGENCY\", \"marker\": {\"color\": \"#19d3f3\"}, \"name\": \"OKLAHOMA HOUSING FINANCE AGENCY\", \"offsetgroup\": \"OKLAHOMA HOUSING FINANCE AGENCY\", \"orientation\": \"v\", \"showlegend\": true, \"textposition\": \"auto\", \"type\": \"bar\", \"x\": [\"OKLAHOMA HOUSING FINANCE AGENCY\"], \"xaxis\": \"x\", \"y\": [1075], \"yaxis\": \"y\"}, {\"alignmentgroup\": \"True\", \"hovertemplate\": \"Agency_Name=%{x}<br>Count=%{y}<extra></extra>\", \"legendgroup\": \"OKLA. CITY COMMUNITY COLLEGE\", \"marker\": {\"color\": \"#FF6692\"}, \"name\": \"OKLA. CITY COMMUNITY COLLEGE\", \"offsetgroup\": \"OKLA. CITY COMMUNITY COLLEGE\", \"orientation\": \"v\", \"showlegend\": true, \"textposition\": \"auto\", \"type\": \"bar\", \"x\": [\"OKLA. CITY COMMUNITY COLLEGE\"], \"xaxis\": \"x\", \"y\": [1001], \"yaxis\": \"y\"}, {\"alignmentgroup\": \"True\", \"hovertemplate\": \"Agency_Name=%{x}<br>Count=%{y}<extra></extra>\", \"legendgroup\": \"COMM. ON CONSUMER CREDIT\", \"marker\": {\"color\": \"#B6E880\"}, \"name\": \"COMM. ON CONSUMER CREDIT\", \"offsetgroup\": \"COMM. ON CONSUMER CREDIT\", \"orientation\": \"v\", \"showlegend\": true, \"textposition\": \"auto\", \"type\": \"bar\", \"x\": [\"COMM. ON CONSUMER CREDIT\"], \"xaxis\": \"x\", \"y\": [979], \"yaxis\": \"y\"}, {\"alignmentgroup\": \"True\", \"hovertemplate\": \"Agency_Name=%{x}<br>Count=%{y}<extra></extra>\", \"legendgroup\": \"DEPT. OF ENVIRONMENTAL QUALITY\", \"marker\": {\"color\": \"#FF97FF\"}, \"name\": \"DEPT. OF ENVIRONMENTAL QUALITY\", \"offsetgroup\": \"DEPT. OF ENVIRONMENTAL QUALITY\", \"orientation\": \"v\", \"showlegend\": true, \"textposition\": \"auto\", \"type\": \"bar\", \"x\": [\"DEPT. OF ENVIRONMENTAL QUALITY\"], \"xaxis\": \"x\", \"y\": [940], \"yaxis\": \"y\"}, {\"alignmentgroup\": \"True\", \"hovertemplate\": \"Agency_Name=%{x}<br>Count=%{y}<extra></extra>\", \"legendgroup\": \"`DEPARTMENT OF EDUCATION\", \"marker\": {\"color\": \"#FECB52\"}, \"name\": \"`DEPARTMENT OF EDUCATION\", \"offsetgroup\": \"`DEPARTMENT OF EDUCATION\", \"orientation\": \"v\", \"showlegend\": true, \"textposition\": \"auto\", \"type\": \"bar\", \"x\": [\"`DEPARTMENT OF EDUCATION\"], \"xaxis\": \"x\", \"y\": [924], \"yaxis\": \"y\"}, {\"alignmentgroup\": \"True\", \"hovertemplate\": \"Agency_Name=%{x}<br>Count=%{y}<extra></extra>\", \"legendgroup\": \"CORPORATION COMMISSION\", \"marker\": {\"color\": \"#636efa\"}, \"name\": \"CORPORATION COMMISSION\", \"offsetgroup\": \"CORPORATION COMMISSION\", \"orientation\": \"v\", \"showlegend\": true, \"textposition\": \"auto\", \"type\": \"bar\", \"x\": [\"CORPORATION COMMISSION\"], \"xaxis\": \"x\", \"y\": [908], \"yaxis\": \"y\"}, {\"alignmentgroup\": \"True\", \"hovertemplate\": \"Agency_Name=%{x}<br>Count=%{y}<extra></extra>\", \"legendgroup\": \"DEPARTMENT OF LIBRARIES\", \"marker\": {\"color\": \"#EF553B\"}, \"name\": \"DEPARTMENT OF LIBRARIES\", \"offsetgroup\": \"DEPARTMENT OF LIBRARIES\", \"orientation\": \"v\", \"showlegend\": true, \"textposition\": \"auto\", \"type\": \"bar\", \"x\": [\"DEPARTMENT OF LIBRARIES\"], \"xaxis\": \"x\", \"y\": [892], \"yaxis\": \"y\"}, {\"alignmentgroup\": \"True\", \"hovertemplate\": \"Agency_Name=%{x}<br>Count=%{y}<extra></extra>\", \"legendgroup\": \"UNIV.OF SCIENCE & ARTS OF OK\", \"marker\": {\"color\": \"#00cc96\"}, \"name\": \"UNIV.OF SCIENCE & ARTS OF OK\", \"offsetgroup\": \"UNIV.OF SCIENCE & ARTS OF OK\", \"orientation\": \"v\", \"showlegend\": true, \"textposition\": \"auto\", \"type\": \"bar\", \"x\": [\"UNIV.OF SCIENCE & ARTS OF OK\"], \"xaxis\": \"x\", \"y\": [883], \"yaxis\": \"y\"}, {\"alignmentgroup\": \"True\", \"hovertemplate\": \"Agency_Name=%{x}<br>Count=%{y}<extra></extra>\", \"legendgroup\": \"BD. OF MED. LICENSURE & SUPV.\", \"marker\": {\"color\": \"#ab63fa\"}, \"name\": \"BD. OF MED. LICENSURE & SUPV.\", \"offsetgroup\": \"BD. OF MED. LICENSURE & SUPV.\", \"orientation\": \"v\", \"showlegend\": true, \"textposition\": \"auto\", \"type\": \"bar\", \"x\": [\"BD. OF MED. LICENSURE & SUPV.\"], \"xaxis\": \"x\", \"y\": [880], \"yaxis\": \"y\"}, {\"alignmentgroup\": \"True\", \"hovertemplate\": \"Agency_Name=%{x}<br>Count=%{y}<extra></extra>\", \"legendgroup\": \"STATE AUDITOR AND INSPECTOR\", \"marker\": {\"color\": \"#FFA15A\"}, \"name\": \"STATE AUDITOR AND INSPECTOR\", \"offsetgroup\": \"STATE AUDITOR AND INSPECTOR\", \"orientation\": \"v\", \"showlegend\": true, \"textposition\": \"auto\", \"type\": \"bar\", \"x\": [\"STATE AUDITOR AND INSPECTOR\"], \"xaxis\": \"x\", \"y\": [831], \"yaxis\": \"y\"}, {\"alignmentgroup\": \"True\", \"hovertemplate\": \"Agency_Name=%{x}<br>Count=%{y}<extra></extra>\", \"legendgroup\": \"ROSE STATE COLEGE\", \"marker\": {\"color\": \"#19d3f3\"}, \"name\": \"ROSE STATE COLEGE\", \"offsetgroup\": \"ROSE STATE COLEGE\", \"orientation\": \"v\", \"showlegend\": true, \"textposition\": \"auto\", \"type\": \"bar\", \"x\": [\"ROSE STATE COLEGE\"], \"xaxis\": \"x\", \"y\": [819], \"yaxis\": \"y\"}, {\"alignmentgroup\": \"True\", \"hovertemplate\": \"Agency_Name=%{x}<br>Count=%{y}<extra></extra>\", \"legendgroup\": \"OKLAHOMA TAX COMMISSION\", \"marker\": {\"color\": \"#FF6692\"}, \"name\": \"OKLAHOMA TAX COMMISSION\", \"offsetgroup\": \"OKLAHOMA TAX COMMISSION\", \"orientation\": \"v\", \"showlegend\": true, \"textposition\": \"auto\", \"type\": \"bar\", \"x\": [\"OKLAHOMA TAX COMMISSION\"], \"xaxis\": \"x\", \"y\": [799], \"yaxis\": \"y\"}, {\"alignmentgroup\": \"True\", \"hovertemplate\": \"Agency_Name=%{x}<br>Count=%{y}<extra></extra>\", \"legendgroup\": \"N. E. OKLA. A & M COLLEGE\", \"marker\": {\"color\": \"#B6E880\"}, \"name\": \"N. E. OKLA. A & M COLLEGE\", \"offsetgroup\": \"N. E. OKLA. A & M COLLEGE\", \"orientation\": \"v\", \"showlegend\": true, \"textposition\": \"auto\", \"type\": \"bar\", \"x\": [\"N. E. OKLA. A & M COLLEGE\"], \"xaxis\": \"x\", \"y\": [788], \"yaxis\": \"y\"}, {\"alignmentgroup\": \"True\", \"hovertemplate\": \"Agency_Name=%{x}<br>Count=%{y}<extra></extra>\", \"legendgroup\": \"INDIGENT DEFENSE SYSTEM\", \"marker\": {\"color\": \"#FF97FF\"}, \"name\": \"INDIGENT DEFENSE SYSTEM\", \"offsetgroup\": \"INDIGENT DEFENSE SYSTEM\", \"orientation\": \"v\", \"showlegend\": true, \"textposition\": \"auto\", \"type\": \"bar\", \"x\": [\"INDIGENT DEFENSE SYSTEM\"], \"xaxis\": \"x\", \"y\": [757], \"yaxis\": \"y\"}, {\"alignmentgroup\": \"True\", \"hovertemplate\": \"Agency_Name=%{x}<br>Count=%{y}<extra></extra>\", \"legendgroup\": \"BD. OF MEDICOLEGAL INVESTIGATIONS\", \"marker\": {\"color\": \"#FECB52\"}, \"name\": \"BD. OF MEDICOLEGAL INVESTIGATIONS\", \"offsetgroup\": \"BD. OF MEDICOLEGAL INVESTIGATIONS\", \"orientation\": \"v\", \"showlegend\": true, \"textposition\": \"auto\", \"type\": \"bar\", \"x\": [\"BD. OF MEDICOLEGAL INVESTIGATIONS\"], \"xaxis\": \"x\", \"y\": [717], \"yaxis\": \"y\"}, {\"alignmentgroup\": \"True\", \"hovertemplate\": \"Agency_Name=%{x}<br>Count=%{y}<extra></extra>\", \"legendgroup\": \"DEPARTMENT OF LABOR\", \"marker\": {\"color\": \"#636efa\"}, \"name\": \"DEPARTMENT OF LABOR\", \"offsetgroup\": \"DEPARTMENT OF LABOR\", \"orientation\": \"v\", \"showlegend\": true, \"textposition\": \"auto\", \"type\": \"bar\", \"x\": [\"DEPARTMENT OF LABOR\"], \"xaxis\": \"x\", \"y\": [673], \"yaxis\": \"y\"}, {\"alignmentgroup\": \"True\", \"hovertemplate\": \"Agency_Name=%{x}<br>Count=%{y}<extra></extra>\", \"legendgroup\": \"REGENTS FOR HIGHER EDUCATION\", \"marker\": {\"color\": \"#EF553B\"}, \"name\": \"REGENTS FOR HIGHER EDUCATION\", \"offsetgroup\": \"REGENTS FOR HIGHER EDUCATION\", \"orientation\": \"v\", \"showlegend\": true, \"textposition\": \"auto\", \"type\": \"bar\", \"x\": [\"REGENTS FOR HIGHER EDUCATION\"], \"xaxis\": \"x\", \"y\": [665], \"yaxis\": \"y\"}, {\"alignmentgroup\": \"True\", \"hovertemplate\": \"Agency_Name=%{x}<br>Count=%{y}<extra></extra>\", \"legendgroup\": \"HEALTH CARE AUTHORITY\", \"marker\": {\"color\": \"#00cc96\"}, \"name\": \"HEALTH CARE AUTHORITY\", \"offsetgroup\": \"HEALTH CARE AUTHORITY\", \"orientation\": \"v\", \"showlegend\": true, \"textposition\": \"auto\", \"type\": \"bar\", \"x\": [\"HEALTH CARE AUTHORITY\"], \"xaxis\": \"x\", \"y\": [662], \"yaxis\": \"y\"}, {\"alignmentgroup\": \"True\", \"hovertemplate\": \"Agency_Name=%{x}<br>Count=%{y}<extra></extra>\", \"legendgroup\": \"DISTRICT ATTORNEYS COUNCIL\", \"marker\": {\"color\": \"#ab63fa\"}, \"name\": \"DISTRICT ATTORNEYS COUNCIL\", \"offsetgroup\": \"DISTRICT ATTORNEYS COUNCIL\", \"orientation\": \"v\", \"showlegend\": true, \"textposition\": \"auto\", \"type\": \"bar\", \"x\": [\"DISTRICT ATTORNEYS COUNCIL\"], \"xaxis\": \"x\", \"y\": [649], \"yaxis\": \"y\"}, {\"alignmentgroup\": \"True\", \"hovertemplate\": \"Agency_Name=%{x}<br>Count=%{y}<extra></extra>\", \"legendgroup\": \"CONSERVATION COMMISSION\", \"marker\": {\"color\": \"#FFA15A\"}, \"name\": \"CONSERVATION COMMISSION\", \"offsetgroup\": \"CONSERVATION COMMISSION\", \"orientation\": \"v\", \"showlegend\": true, \"textposition\": \"auto\", \"type\": \"bar\", \"x\": [\"CONSERVATION COMMISSION\"], \"xaxis\": \"x\", \"y\": [632], \"yaxis\": \"y\"}, {\"alignmentgroup\": \"True\", \"hovertemplate\": \"Agency_Name=%{x}<br>Count=%{y}<extra></extra>\", \"legendgroup\": \"COUNCIL ON LAW ENFC. ED. & TRNG.\", \"marker\": {\"color\": \"#19d3f3\"}, \"name\": \"COUNCIL ON LAW ENFC. ED. & TRNG.\", \"offsetgroup\": \"COUNCIL ON LAW ENFC. ED. & TRNG.\", \"orientation\": \"v\", \"showlegend\": true, \"textposition\": \"auto\", \"type\": \"bar\", \"x\": [\"COUNCIL ON LAW ENFC. ED. & TRNG.\"], \"xaxis\": \"x\", \"y\": [538], \"yaxis\": \"y\"}, {\"alignmentgroup\": \"True\", \"hovertemplate\": \"Agency_Name=%{x}<br>Count=%{y}<extra></extra>\", \"legendgroup\": \"SUPREME COURT\", \"marker\": {\"color\": \"#FF6692\"}, \"name\": \"SUPREME COURT\", \"offsetgroup\": \"SUPREME COURT\", \"orientation\": \"v\", \"showlegend\": true, \"textposition\": \"auto\", \"type\": \"bar\", \"x\": [\"SUPREME COURT\"], \"xaxis\": \"x\", \"y\": [509], \"yaxis\": \"y\"}, {\"alignmentgroup\": \"True\", \"hovertemplate\": \"Agency_Name=%{x}<br>Count=%{y}<extra></extra>\", \"legendgroup\": \"OFFICE OF THE CHIEF MEDICAL EXAMINER\", \"marker\": {\"color\": \"#B6E880\"}, \"name\": \"OFFICE OF THE CHIEF MEDICAL EXAMINER\", \"offsetgroup\": \"OFFICE OF THE CHIEF MEDICAL EXAMINER\", \"orientation\": \"v\", \"showlegend\": true, \"textposition\": \"auto\", \"type\": \"bar\", \"x\": [\"OFFICE OF THE CHIEF MEDICAL EXAMINER\"], \"xaxis\": \"x\", \"y\": [500], \"yaxis\": \"y\"}, {\"alignmentgroup\": \"True\", \"hovertemplate\": \"Agency_Name=%{x}<br>Count=%{y}<extra></extra>\", \"legendgroup\": \"DEPARTMENT OF EDUCATION\", \"marker\": {\"color\": \"#FF97FF\"}, \"name\": \"DEPARTMENT OF EDUCATION\", \"offsetgroup\": \"DEPARTMENT OF EDUCATION\", \"orientation\": \"v\", \"showlegend\": true, \"textposition\": \"auto\", \"type\": \"bar\", \"x\": [\"DEPARTMENT OF EDUCATION\"], \"xaxis\": \"x\", \"y\": [461], \"yaxis\": \"y\"}, {\"alignmentgroup\": \"True\", \"hovertemplate\": \"Agency_Name=%{x}<br>Count=%{y}<extra></extra>\", \"legendgroup\": \"STATE BANKING DEPARTMENT\", \"marker\": {\"color\": \"#FECB52\"}, \"name\": \"STATE BANKING DEPARTMENT\", \"offsetgroup\": \"STATE BANKING DEPARTMENT\", \"orientation\": \"v\", \"showlegend\": true, \"textposition\": \"auto\", \"type\": \"bar\", \"x\": [\"STATE BANKING DEPARTMENT\"], \"xaxis\": \"x\", \"y\": [416], \"yaxis\": \"y\"}, {\"alignmentgroup\": \"True\", \"hovertemplate\": \"Agency_Name=%{x}<br>Count=%{y}<extra></extra>\", \"legendgroup\": \"REDLANDS COMMUNITY COLLEGE\", \"marker\": {\"color\": \"#636efa\"}, \"name\": \"REDLANDS COMMUNITY COLLEGE\", \"offsetgroup\": \"REDLANDS COMMUNITY COLLEGE\", \"orientation\": \"v\", \"showlegend\": true, \"textposition\": \"auto\", \"type\": \"bar\", \"x\": [\"REDLANDS COMMUNITY COLLEGE\"], \"xaxis\": \"x\", \"y\": [407], \"yaxis\": \"y\"}, {\"alignmentgroup\": \"True\", \"hovertemplate\": \"Agency_Name=%{x}<br>Count=%{y}<extra></extra>\", \"legendgroup\": \"STATE PHARMACY BOARD\", \"marker\": {\"color\": \"#EF553B\"}, \"name\": \"STATE PHARMACY BOARD\", \"offsetgroup\": \"STATE PHARMACY BOARD\", \"orientation\": \"v\", \"showlegend\": true, \"textposition\": \"auto\", \"type\": \"bar\", \"x\": [\"STATE PHARMACY BOARD\"], \"xaxis\": \"x\", \"y\": [383], \"yaxis\": \"y\"}, {\"alignmentgroup\": \"True\", \"hovertemplate\": \"Agency_Name=%{x}<br>Count=%{y}<extra></extra>\", \"legendgroup\": \"TEACHERS RETIREMENT SYSTEM\", \"marker\": {\"color\": \"#00cc96\"}, \"name\": \"TEACHERS RETIREMENT SYSTEM\", \"offsetgroup\": \"TEACHERS RETIREMENT SYSTEM\", \"orientation\": \"v\", \"showlegend\": true, \"textposition\": \"auto\", \"type\": \"bar\", \"x\": [\"TEACHERS RETIREMENT SYSTEM\"], \"xaxis\": \"x\", \"y\": [383], \"yaxis\": \"y\"}, {\"alignmentgroup\": \"True\", \"hovertemplate\": \"Agency_Name=%{x}<br>Count=%{y}<extra></extra>\", \"legendgroup\": \"OK. COMM. FOR TEACHER PREP.\", \"marker\": {\"color\": \"#ab63fa\"}, \"name\": \"OK. COMM. FOR TEACHER PREP.\", \"offsetgroup\": \"OK. COMM. FOR TEACHER PREP.\", \"orientation\": \"v\", \"showlegend\": true, \"textposition\": \"auto\", \"type\": \"bar\", \"x\": [\"OK. COMM. FOR TEACHER PREP.\"], \"xaxis\": \"x\", \"y\": [369], \"yaxis\": \"y\"}, {\"alignmentgroup\": \"True\", \"hovertemplate\": \"Agency_Name=%{x}<br>Count=%{y}<extra></extra>\", \"legendgroup\": \"FIREFIGHTERS PENS. & RET. SYST.\", \"marker\": {\"color\": \"#FFA15A\"}, \"name\": \"FIREFIGHTERS PENS. & RET. SYST.\", \"offsetgroup\": \"FIREFIGHTERS PENS. & RET. SYST.\", \"orientation\": \"v\", \"showlegend\": true, \"textposition\": \"auto\", \"type\": \"bar\", \"x\": [\"FIREFIGHTERS PENS. & RET. SYST.\"], \"xaxis\": \"x\", \"y\": [324], \"yaxis\": \"y\"}, {\"alignmentgroup\": \"True\", \"hovertemplate\": \"Agency_Name=%{x}<br>Count=%{y}<extra></extra>\", \"legendgroup\": \"COMM. OF THE LAND OFFICE\", \"marker\": {\"color\": \"#19d3f3\"}, \"name\": \"COMM. OF THE LAND OFFICE\", \"offsetgroup\": \"COMM. OF THE LAND OFFICE\", \"orientation\": \"v\", \"showlegend\": true, \"textposition\": \"auto\", \"type\": \"bar\", \"x\": [\"COMM. OF THE LAND OFFICE\"], \"xaxis\": \"x\", \"y\": [323], \"yaxis\": \"y\"}, {\"alignmentgroup\": \"True\", \"hovertemplate\": \"Agency_Name=%{x}<br>Count=%{y}<extra></extra>\", \"legendgroup\": \"GOVERNOR\", \"marker\": {\"color\": \"#FF6692\"}, \"name\": \"GOVERNOR\", \"offsetgroup\": \"GOVERNOR\", \"orientation\": \"v\", \"showlegend\": true, \"textposition\": \"auto\", \"type\": \"bar\", \"x\": [\"GOVERNOR\"], \"xaxis\": \"x\", \"y\": [320], \"yaxis\": \"y\"}, {\"alignmentgroup\": \"True\", \"hovertemplate\": \"Agency_Name=%{x}<br>Count=%{y}<extra></extra>\", \"legendgroup\": \"SECRETARY OF STATE\", \"marker\": {\"color\": \"#B6E880\"}, \"name\": \"SECRETARY OF STATE\", \"offsetgroup\": \"SECRETARY OF STATE\", \"orientation\": \"v\", \"showlegend\": true, \"textposition\": \"auto\", \"type\": \"bar\", \"x\": [\"SECRETARY OF STATE\"], \"xaxis\": \"x\", \"y\": [311], \"yaxis\": \"y\"}, {\"alignmentgroup\": \"True\", \"hovertemplate\": \"Agency_Name=%{x}<br>Count=%{y}<extra></extra>\", \"legendgroup\": \"REGIONAL UNIVERSITY SYSTEM OF OKLAHOMA\", \"marker\": {\"color\": \"#FF97FF\"}, \"name\": \"REGIONAL UNIVERSITY SYSTEM OF OKLAHOMA\", \"offsetgroup\": \"REGIONAL UNIVERSITY SYSTEM OF OKLAHOMA\", \"orientation\": \"v\", \"showlegend\": true, \"textposition\": \"auto\", \"type\": \"bar\", \"x\": [\"REGIONAL UNIVERSITY SYSTEM OF OKLAHOMA\"], \"xaxis\": \"x\", \"y\": [279], \"yaxis\": \"y\"}, {\"alignmentgroup\": \"True\", \"hovertemplate\": \"Agency_Name=%{x}<br>Count=%{y}<extra></extra>\", \"legendgroup\": \"OKLA. REAL ESTATE COMM.\", \"marker\": {\"color\": \"#FECB52\"}, \"name\": \"OKLA. REAL ESTATE COMM.\", \"offsetgroup\": \"OKLA. REAL ESTATE COMM.\", \"orientation\": \"v\", \"showlegend\": true, \"textposition\": \"auto\", \"type\": \"bar\", \"x\": [\"OKLA. REAL ESTATE COMM.\"], \"xaxis\": \"x\", \"y\": [261], \"yaxis\": \"y\"}, {\"alignmentgroup\": \"True\", \"hovertemplate\": \"Agency_Name=%{x}<br>Count=%{y}<extra></extra>\", \"legendgroup\": \"STATE ARTS COUNCIL\", \"marker\": {\"color\": \"#636efa\"}, \"name\": \"STATE ARTS COUNCIL\", \"offsetgroup\": \"STATE ARTS COUNCIL\", \"orientation\": \"v\", \"showlegend\": true, \"textposition\": \"auto\", \"type\": \"bar\", \"x\": [\"STATE ARTS COUNCIL\"], \"xaxis\": \"x\", \"y\": [251], \"yaxis\": \"y\"}, {\"alignmentgroup\": \"True\", \"hovertemplate\": \"Agency_Name=%{x}<br>Count=%{y}<extra></extra>\", \"legendgroup\": \"DEPARTMENT OF EMERGENCY MANAGEMEN\", \"marker\": {\"color\": \"#EF553B\"}, \"name\": \"DEPARTMENT OF EMERGENCY MANAGEMEN\", \"offsetgroup\": \"DEPARTMENT OF EMERGENCY MANAGEMEN\", \"orientation\": \"v\", \"showlegend\": true, \"textposition\": \"auto\", \"type\": \"bar\", \"x\": [\"DEPARTMENT OF EMERGENCY MANAGEMEN\"], \"xaxis\": \"x\", \"y\": [239], \"yaxis\": \"y\"}, {\"alignmentgroup\": \"True\", \"hovertemplate\": \"Agency_Name=%{x}<br>Count=%{y}<extra></extra>\", \"legendgroup\": \"OK. SCHOOL OF SCIENCE & MATH.\", \"marker\": {\"color\": \"#00cc96\"}, \"name\": \"OK. SCHOOL OF SCIENCE & MATH.\", \"offsetgroup\": \"OK. SCHOOL OF SCIENCE & MATH.\", \"orientation\": \"v\", \"showlegend\": true, \"textposition\": \"auto\", \"type\": \"bar\", \"x\": [\"OK. SCHOOL OF SCIENCE & MATH.\"], \"xaxis\": \"x\", \"y\": [239], \"yaxis\": \"y\"}, {\"alignmentgroup\": \"True\", \"hovertemplate\": \"Agency_Name=%{x}<br>Count=%{y}<extra></extra>\", \"legendgroup\": \"STATE FIRE MARSHAL\", \"marker\": {\"color\": \"#ab63fa\"}, \"name\": \"STATE FIRE MARSHAL\", \"offsetgroup\": \"STATE FIRE MARSHAL\", \"orientation\": \"v\", \"showlegend\": true, \"textposition\": \"auto\", \"type\": \"bar\", \"x\": [\"STATE FIRE MARSHAL\"], \"xaxis\": \"x\", \"y\": [231], \"yaxis\": \"y\"}, {\"alignmentgroup\": \"True\", \"hovertemplate\": \"Agency_Name=%{x}<br>Count=%{y}<extra></extra>\", \"legendgroup\": \"STATE TREASURER\", \"marker\": {\"color\": \"#FFA15A\"}, \"name\": \"STATE TREASURER\", \"offsetgroup\": \"STATE TREASURER\", \"orientation\": \"v\", \"showlegend\": true, \"textposition\": \"auto\", \"type\": \"bar\", \"x\": [\"STATE TREASURER\"], \"xaxis\": \"x\", \"y\": [231], \"yaxis\": \"y\"}, {\"alignmentgroup\": \"True\", \"hovertemplate\": \"Agency_Name=%{x}<br>Count=%{y}<extra></extra>\", \"legendgroup\": \"STATE ELECTION BOARD\", \"marker\": {\"color\": \"#19d3f3\"}, \"name\": \"STATE ELECTION BOARD\", \"offsetgroup\": \"STATE ELECTION BOARD\", \"orientation\": \"v\", \"showlegend\": true, \"textposition\": \"auto\", \"type\": \"bar\", \"x\": [\"STATE ELECTION BOARD\"], \"xaxis\": \"x\", \"y\": [227], \"yaxis\": \"y\"}, {\"alignmentgroup\": \"True\", \"hovertemplate\": \"Agency_Name=%{x}<br>Count=%{y}<extra></extra>\", \"legendgroup\": \"OKLAHOMA AERONAUTICS COMMISSION\", \"marker\": {\"color\": \"#FF6692\"}, \"name\": \"OKLAHOMA AERONAUTICS COMMISSION\", \"offsetgroup\": \"OKLAHOMA AERONAUTICS COMMISSION\", \"orientation\": \"v\", \"showlegend\": true, \"textposition\": \"auto\", \"type\": \"bar\", \"x\": [\"OKLAHOMA AERONAUTICS COMMISSION\"], \"xaxis\": \"x\", \"y\": [218], \"yaxis\": \"y\"}, {\"alignmentgroup\": \"True\", \"hovertemplate\": \"Agency_Name=%{x}<br>Count=%{y}<extra></extra>\", \"legendgroup\": \"OKLA. SPACE INDUSTRY DEV. AUTH.\", \"marker\": {\"color\": \"#B6E880\"}, \"name\": \"OKLA. SPACE INDUSTRY DEV. AUTH.\", \"offsetgroup\": \"OKLA. SPACE INDUSTRY DEV. AUTH.\", \"orientation\": \"v\", \"showlegend\": true, \"textposition\": \"auto\", \"type\": \"bar\", \"x\": [\"OKLA. SPACE INDUSTRY DEV. AUTH.\"], \"xaxis\": \"x\", \"y\": [209], \"yaxis\": \"y\"}, {\"alignmentgroup\": \"True\", \"hovertemplate\": \"Agency_Name=%{x}<br>Count=%{y}<extra></extra>\", \"legendgroup\": \"TOBACCO SETTLEMENT ENDMT TRUST\", \"marker\": {\"color\": \"#FF97FF\"}, \"name\": \"TOBACCO SETTLEMENT ENDMT TRUST\", \"offsetgroup\": \"TOBACCO SETTLEMENT ENDMT TRUST\", \"orientation\": \"v\", \"showlegend\": true, \"textposition\": \"auto\", \"type\": \"bar\", \"x\": [\"TOBACCO SETTLEMENT ENDMT TRUST\"], \"xaxis\": \"x\", \"y\": [206], \"yaxis\": \"y\"}, {\"alignmentgroup\": \"True\", \"hovertemplate\": \"Agency_Name=%{x}<br>Count=%{y}<extra></extra>\", \"legendgroup\": \"COSMETOLOGY BOARD\", \"marker\": {\"color\": \"#FECB52\"}, \"name\": \"COSMETOLOGY BOARD\", \"offsetgroup\": \"COSMETOLOGY BOARD\", \"orientation\": \"v\", \"showlegend\": true, \"textposition\": \"auto\", \"type\": \"bar\", \"x\": [\"COSMETOLOGY BOARD\"], \"xaxis\": \"x\", \"y\": [200], \"yaxis\": \"y\"}, {\"alignmentgroup\": \"True\", \"hovertemplate\": \"Agency_Name=%{x}<br>Count=%{y}<extra></extra>\", \"legendgroup\": \"OKLAHOMA LOTTERY COMMISSION\", \"marker\": {\"color\": \"#636efa\"}, \"name\": \"OKLAHOMA LOTTERY COMMISSION\", \"offsetgroup\": \"OKLAHOMA LOTTERY COMMISSION\", \"orientation\": \"v\", \"showlegend\": true, \"textposition\": \"auto\", \"type\": \"bar\", \"x\": [\"OKLAHOMA LOTTERY COMMISSION\"], \"xaxis\": \"x\", \"y\": [185], \"yaxis\": \"y\"}, {\"alignmentgroup\": \"True\", \"hovertemplate\": \"Agency_Name=%{x}<br>Count=%{y}<extra></extra>\", \"legendgroup\": \"OKLA. HORSE RACING COMM.\", \"marker\": {\"color\": \"#EF553B\"}, \"name\": \"OKLA. HORSE RACING COMM.\", \"offsetgroup\": \"OKLA. HORSE RACING COMM.\", \"orientation\": \"v\", \"showlegend\": true, \"textposition\": \"auto\", \"type\": \"bar\", \"x\": [\"OKLA. HORSE RACING COMM.\"], \"xaxis\": \"x\", \"y\": [181], \"yaxis\": \"y\"}, {\"alignmentgroup\": \"True\", \"hovertemplate\": \"Agency_Name=%{x}<br>Count=%{y}<extra></extra>\", \"legendgroup\": \"PROF. ENGI. & LAND SURVEYORS\", \"marker\": {\"color\": \"#00cc96\"}, \"name\": \"PROF. ENGI. & LAND SURVEYORS\", \"offsetgroup\": \"PROF. ENGI. & LAND SURVEYORS\", \"orientation\": \"v\", \"showlegend\": true, \"textposition\": \"auto\", \"type\": \"bar\", \"x\": [\"PROF. ENGI. & LAND SURVEYORS\"], \"xaxis\": \"x\", \"y\": [172], \"yaxis\": \"y\"}, {\"alignmentgroup\": \"True\", \"hovertemplate\": \"Agency_Name=%{x}<br>Count=%{y}<extra></extra>\", \"legendgroup\": \"BOLL WEEVIL ERADICATION ORG.\", \"marker\": {\"color\": \"#ab63fa\"}, \"name\": \"BOLL WEEVIL ERADICATION ORG.\", \"offsetgroup\": \"BOLL WEEVIL ERADICATION ORG.\", \"orientation\": \"v\", \"showlegend\": true, \"textposition\": \"auto\", \"type\": \"bar\", \"x\": [\"BOLL WEEVIL ERADICATION ORG.\"], \"xaxis\": \"x\", \"y\": [170], \"yaxis\": \"y\"}, {\"alignmentgroup\": \"True\", \"hovertemplate\": \"Agency_Name=%{x}<br>Count=%{y}<extra></extra>\", \"legendgroup\": \"POLICE PENSION & RET. SYSTEM\", \"marker\": {\"color\": \"#FFA15A\"}, \"name\": \"POLICE PENSION & RET. SYSTEM\", \"offsetgroup\": \"POLICE PENSION & RET. SYSTEM\", \"orientation\": \"v\", \"showlegend\": true, \"textposition\": \"auto\", \"type\": \"bar\", \"x\": [\"POLICE PENSION & RET. SYSTEM\"], \"xaxis\": \"x\", \"y\": [161], \"yaxis\": \"y\"}, {\"alignmentgroup\": \"True\", \"hovertemplate\": \"Agency_Name=%{x}<br>Count=%{y}<extra></extra>\", \"legendgroup\": \"DEPARTMENT OF EMERGENCY MANAGEMENT\", \"marker\": {\"color\": \"#19d3f3\"}, \"name\": \"DEPARTMENT OF EMERGENCY MANAGEMENT\", \"offsetgroup\": \"DEPARTMENT OF EMERGENCY MANAGEMENT\", \"orientation\": \"v\", \"showlegend\": true, \"textposition\": \"auto\", \"type\": \"bar\", \"x\": [\"DEPARTMENT OF EMERGENCY MANAGEMENT\"], \"xaxis\": \"x\", \"y\": [154], \"yaxis\": \"y\"}, {\"alignmentgroup\": \"True\", \"hovertemplate\": \"Agency_Name=%{x}<br>Count=%{y}<extra></extra>\", \"legendgroup\": \"SCENIC RIVERS COMMISSION\", \"marker\": {\"color\": \"#FF6692\"}, \"name\": \"SCENIC RIVERS COMMISSION\", \"offsetgroup\": \"SCENIC RIVERS COMMISSION\", \"orientation\": \"v\", \"showlegend\": true, \"textposition\": \"auto\", \"type\": \"bar\", \"x\": [\"SCENIC RIVERS COMMISSION\"], \"xaxis\": \"x\", \"y\": [154], \"yaxis\": \"y\"}, {\"alignmentgroup\": \"True\", \"hovertemplate\": \"Agency_Name=%{x}<br>Count=%{y}<extra></extra>\", \"legendgroup\": \"OKLAHOMA ACCOUNTANCY BOARD\", \"marker\": {\"color\": \"#B6E880\"}, \"name\": \"OKLAHOMA ACCOUNTANCY BOARD\", \"offsetgroup\": \"OKLAHOMA ACCOUNTANCY BOARD\", \"orientation\": \"v\", \"showlegend\": true, \"textposition\": \"auto\", \"type\": \"bar\", \"x\": [\"OKLAHOMA ACCOUNTANCY BOARD\"], \"xaxis\": \"x\", \"y\": [143], \"yaxis\": \"y\"}, {\"alignmentgroup\": \"True\", \"hovertemplate\": \"Agency_Name=%{x}<br>Count=%{y}<extra></extra>\", \"legendgroup\": \"ST. BD. OF CHIROPRACTIC EXAM.\", \"marker\": {\"color\": \"#FF97FF\"}, \"name\": \"ST. BD. OF CHIROPRACTIC EXAM.\", \"offsetgroup\": \"ST. BD. OF CHIROPRACTIC EXAM.\", \"orientation\": \"v\", \"showlegend\": true, \"textposition\": \"auto\", \"type\": \"bar\", \"x\": [\"ST. BD. OF CHIROPRACTIC EXAM.\"], \"xaxis\": \"x\", \"y\": [136], \"yaxis\": \"y\"}, {\"alignmentgroup\": \"True\", \"hovertemplate\": \"Agency_Name=%{x}<br>Count=%{y}<extra></extra>\", \"legendgroup\": \"ETHICS COMMISSION\", \"marker\": {\"color\": \"#FECB52\"}, \"name\": \"ETHICS COMMISSION\", \"offsetgroup\": \"ETHICS COMMISSION\", \"orientation\": \"v\", \"showlegend\": true, \"textposition\": \"auto\", \"type\": \"bar\", \"x\": [\"ETHICS COMMISSION\"], \"xaxis\": \"x\", \"y\": [136], \"yaxis\": \"y\"}, {\"alignmentgroup\": \"True\", \"hovertemplate\": \"Agency_Name=%{x}<br>Count=%{y}<extra></extra>\", \"legendgroup\": \"SPEECH-LANGUAGE PATHOLOGY & AUDIOLOGY\", \"marker\": {\"color\": \"#636efa\"}, \"name\": \"SPEECH-LANGUAGE PATHOLOGY & AUDIOLOGY\", \"offsetgroup\": \"SPEECH-LANGUAGE PATHOLOGY & AUDIOLOGY\", \"orientation\": \"v\", \"showlegend\": true, \"textposition\": \"auto\", \"type\": \"bar\", \"x\": [\"SPEECH-LANGUAGE PATHOLOGY & AUDIOLOGY\"], \"xaxis\": \"x\", \"y\": [135], \"yaxis\": \"y\"}, {\"alignmentgroup\": \"True\", \"hovertemplate\": \"Agency_Name=%{x}<br>Count=%{y}<extra></extra>\", \"legendgroup\": \"OKLA. BOARD OF NURSING\", \"marker\": {\"color\": \"#EF553B\"}, \"name\": \"OKLA. BOARD OF NURSING\", \"offsetgroup\": \"OKLA. BOARD OF NURSING\", \"orientation\": \"v\", \"showlegend\": true, \"textposition\": \"auto\", \"type\": \"bar\", \"x\": [\"OKLA. BOARD OF NURSING\"], \"xaxis\": \"x\", \"y\": [134], \"yaxis\": \"y\"}, {\"alignmentgroup\": \"True\", \"hovertemplate\": \"Agency_Name=%{x}<br>Count=%{y}<extra></extra>\", \"legendgroup\": \"DEPARTMENT OF MINES\", \"marker\": {\"color\": \"#00cc96\"}, \"name\": \"DEPARTMENT OF MINES\", \"offsetgroup\": \"DEPARTMENT OF MINES\", \"orientation\": \"v\", \"showlegend\": true, \"textposition\": \"auto\", \"type\": \"bar\", \"x\": [\"DEPARTMENT OF MINES\"], \"xaxis\": \"x\", \"y\": [134], \"yaxis\": \"y\"}, {\"alignmentgroup\": \"True\", \"hovertemplate\": \"Agency_Name=%{x}<br>Count=%{y}<extra></extra>\", \"legendgroup\": \"OK. PUBLIC EMPLOYEES RET. SYS.\", \"marker\": {\"color\": \"#ab63fa\"}, \"name\": \"OK. PUBLIC EMPLOYEES RET. SYS.\", \"offsetgroup\": \"OK. PUBLIC EMPLOYEES RET. SYS.\", \"orientation\": \"v\", \"showlegend\": true, \"textposition\": \"auto\", \"type\": \"bar\", \"x\": [\"OK. PUBLIC EMPLOYEES RET. SYS.\"], \"xaxis\": \"x\", \"y\": [120], \"yaxis\": \"y\"}, {\"alignmentgroup\": \"True\", \"hovertemplate\": \"Agency_Name=%{x}<br>Count=%{y}<extra></extra>\", \"legendgroup\": \"OKLAHOMA WHEAT COMMISSION\", \"marker\": {\"color\": \"#FFA15A\"}, \"name\": \"OKLAHOMA WHEAT COMMISSION\", \"offsetgroup\": \"OKLAHOMA WHEAT COMMISSION\", \"orientation\": \"v\", \"showlegend\": true, \"textposition\": \"auto\", \"type\": \"bar\", \"x\": [\"OKLAHOMA WHEAT COMMISSION\"], \"xaxis\": \"x\", \"y\": [107], \"yaxis\": \"y\"}, {\"alignmentgroup\": \"True\", \"hovertemplate\": \"Agency_Name=%{x}<br>Count=%{y}<extra></extra>\", \"legendgroup\": \"OK. LAW ENFORCE. RET. SYSTEM\", \"marker\": {\"color\": \"#19d3f3\"}, \"name\": \"OK. LAW ENFORCE. RET. SYSTEM\", \"offsetgroup\": \"OK. LAW ENFORCE. RET. SYSTEM\", \"orientation\": \"v\", \"showlegend\": true, \"textposition\": \"auto\", \"type\": \"bar\", \"x\": [\"OK. LAW ENFORCE. RET. SYSTEM\"], \"xaxis\": \"x\", \"y\": [95], \"yaxis\": \"y\"}, {\"alignmentgroup\": \"True\", \"hovertemplate\": \"Agency_Name=%{x}<br>Count=%{y}<extra></extra>\", \"legendgroup\": \"BD. OF CHEM. TEST ALCOHOL/DRUG\", \"marker\": {\"color\": \"#FF6692\"}, \"name\": \"BD. OF CHEM. TEST ALCOHOL/DRUG\", \"offsetgroup\": \"BD. OF CHEM. TEST ALCOHOL/DRUG\", \"orientation\": \"v\", \"showlegend\": true, \"textposition\": \"auto\", \"type\": \"bar\", \"x\": [\"BD. OF CHEM. TEST ALCOHOL/DRUG\"], \"xaxis\": \"x\", \"y\": [82], \"yaxis\": \"y\"}, {\"alignmentgroup\": \"True\", \"hovertemplate\": \"Agency_Name=%{x}<br>Count=%{y}<extra></extra>\", \"legendgroup\": \"BOARD OF DENTISTRY\", \"marker\": {\"color\": \"#B6E880\"}, \"name\": \"BOARD OF DENTISTRY\", \"offsetgroup\": \"BOARD OF DENTISTRY\", \"orientation\": \"v\", \"showlegend\": true, \"textposition\": \"auto\", \"type\": \"bar\", \"x\": [\"BOARD OF DENTISTRY\"], \"xaxis\": \"x\", \"y\": [68], \"yaxis\": \"y\"}, {\"alignmentgroup\": \"True\", \"hovertemplate\": \"Agency_Name=%{x}<br>Count=%{y}<extra></extra>\", \"legendgroup\": \"PHYSICIAN MANPOWER TRNG. COMM.\", \"marker\": {\"color\": \"#FF97FF\"}, \"name\": \"PHYSICIAN MANPOWER TRNG. COMM.\", \"offsetgroup\": \"PHYSICIAN MANPOWER TRNG. COMM.\", \"orientation\": \"v\", \"showlegend\": true, \"textposition\": \"auto\", \"type\": \"bar\", \"x\": [\"PHYSICIAN MANPOWER TRNG. COMM.\"], \"xaxis\": \"x\", \"y\": [66], \"yaxis\": \"y\"}, {\"alignmentgroup\": \"True\", \"hovertemplate\": \"Agency_Name=%{x}<br>Count=%{y}<extra></extra>\", \"legendgroup\": \"OFFICE OF DISABILITY CONCERNS\", \"marker\": {\"color\": \"#FECB52\"}, \"name\": \"OFFICE OF DISABILITY CONCERNS\", \"offsetgroup\": \"OFFICE OF DISABILITY CONCERNS\", \"orientation\": \"v\", \"showlegend\": true, \"textposition\": \"auto\", \"type\": \"bar\", \"x\": [\"OFFICE OF DISABILITY CONCERNS\"], \"xaxis\": \"x\", \"y\": [60], \"yaxis\": \"y\"}, {\"alignmentgroup\": \"True\", \"hovertemplate\": \"Agency_Name=%{x}<br>Count=%{y}<extra></extra>\", \"legendgroup\": \"BD. OF VETERINARY MED. EXAM.\", \"marker\": {\"color\": \"#636efa\"}, \"name\": \"BD. OF VETERINARY MED. EXAM.\", \"offsetgroup\": \"BD. OF VETERINARY MED. EXAM.\", \"orientation\": \"v\", \"showlegend\": true, \"textposition\": \"auto\", \"type\": \"bar\", \"x\": [\"BD. OF VETERINARY MED. EXAM.\"], \"xaxis\": \"x\", \"y\": [60], \"yaxis\": \"y\"}, {\"alignmentgroup\": \"True\", \"hovertemplate\": \"Agency_Name=%{x}<br>Count=%{y}<extra></extra>\", \"legendgroup\": \"ARDMORE HIGHER EDUCATION CENTER\", \"marker\": {\"color\": \"#EF553B\"}, \"name\": \"ARDMORE HIGHER EDUCATION CENTER\", \"offsetgroup\": \"ARDMORE HIGHER EDUCATION CENTER\", \"orientation\": \"v\", \"showlegend\": true, \"textposition\": \"auto\", \"type\": \"bar\", \"x\": [\"ARDMORE HIGHER EDUCATION CENTER\"], \"xaxis\": \"x\", \"y\": [59], \"yaxis\": \"y\"}, {\"alignmentgroup\": \"True\", \"hovertemplate\": \"Agency_Name=%{x}<br>Count=%{y}<extra></extra>\", \"legendgroup\": \"J. M. DAVIS ARMS & HIST. MUSEUM\", \"marker\": {\"color\": \"#00cc96\"}, \"name\": \"J. M. DAVIS ARMS & HIST. MUSEUM\", \"offsetgroup\": \"J. M. DAVIS ARMS & HIST. MUSEUM\", \"orientation\": \"v\", \"showlegend\": true, \"textposition\": \"auto\", \"type\": \"bar\", \"x\": [\"J. M. DAVIS ARMS & HIST. MUSEUM\"], \"xaxis\": \"x\", \"y\": [51], \"yaxis\": \"y\"}, {\"alignmentgroup\": \"True\", \"hovertemplate\": \"Agency_Name=%{x}<br>Count=%{y}<extra></extra>\", \"legendgroup\": \"WILL ROGERS MEMORIAL COMMISSION\", \"marker\": {\"color\": \"#ab63fa\"}, \"name\": \"WILL ROGERS MEMORIAL COMMISSION\", \"offsetgroup\": \"WILL ROGERS MEMORIAL COMMISSION\", \"orientation\": \"v\", \"showlegend\": true, \"textposition\": \"auto\", \"type\": \"bar\", \"x\": [\"WILL ROGERS MEMORIAL COMMISSION\"], \"xaxis\": \"x\", \"y\": [48], \"yaxis\": \"y\"}, {\"alignmentgroup\": \"True\", \"hovertemplate\": \"Agency_Name=%{x}<br>Count=%{y}<extra></extra>\", \"legendgroup\": \"OKLAHOMA ST.BOARD OF DENTISTRY\", \"marker\": {\"color\": \"#FFA15A\"}, \"name\": \"OKLAHOMA ST.BOARD OF DENTISTRY\", \"offsetgroup\": \"OKLAHOMA ST.BOARD OF DENTISTRY\", \"orientation\": \"v\", \"showlegend\": true, \"textposition\": \"auto\", \"type\": \"bar\", \"x\": [\"OKLAHOMA ST.BOARD OF DENTISTRY\"], \"xaxis\": \"x\", \"y\": [39], \"yaxis\": \"y\"}, {\"alignmentgroup\": \"True\", \"hovertemplate\": \"Agency_Name=%{x}<br>Count=%{y}<extra></extra>\", \"legendgroup\": \"OKLA. BD. OF ARCHITECTS\", \"marker\": {\"color\": \"#19d3f3\"}, \"name\": \"OKLA. BD. OF ARCHITECTS\", \"offsetgroup\": \"OKLA. BD. OF ARCHITECTS\", \"orientation\": \"v\", \"showlegend\": true, \"textposition\": \"auto\", \"type\": \"bar\", \"x\": [\"OKLA. BD. OF ARCHITECTS\"], \"xaxis\": \"x\", \"y\": [39], \"yaxis\": \"y\"}, {\"alignmentgroup\": \"True\", \"hovertemplate\": \"Agency_Name=%{x}<br>Count=%{y}<extra></extra>\", \"legendgroup\": \"COMMISSION ON CHILDREN AND YOUTH\", \"marker\": {\"color\": \"#FF6692\"}, \"name\": \"COMMISSION ON CHILDREN AND YOUTH\", \"offsetgroup\": \"COMMISSION ON CHILDREN AND YOUTH\", \"orientation\": \"v\", \"showlegend\": true, \"textposition\": \"auto\", \"type\": \"bar\", \"x\": [\"COMMISSION ON CHILDREN AND YOUTH\"], \"xaxis\": \"x\", \"y\": [37], \"yaxis\": \"y\"}, {\"alignmentgroup\": \"True\", \"hovertemplate\": \"Agency_Name=%{x}<br>Count=%{y}<extra></extra>\", \"legendgroup\": \"CAPITOL IMPROVEMENT AUTHORITY\", \"marker\": {\"color\": \"#B6E880\"}, \"name\": \"CAPITOL IMPROVEMENT AUTHORITY\", \"offsetgroup\": \"CAPITOL IMPROVEMENT AUTHORITY\", \"orientation\": \"v\", \"showlegend\": true, \"textposition\": \"auto\", \"type\": \"bar\", \"x\": [\"CAPITOL IMPROVEMENT AUTHORITY\"], \"xaxis\": \"x\", \"y\": [27], \"yaxis\": \"y\"}, {\"alignmentgroup\": \"True\", \"hovertemplate\": \"Agency_Name=%{x}<br>Count=%{y}<extra></extra>\", \"legendgroup\": \"ST BD OF COSMETOLOGY AND BARBERING\", \"marker\": {\"color\": \"#FF97FF\"}, \"name\": \"ST BD OF COSMETOLOGY AND BARBERING\", \"offsetgroup\": \"ST BD OF COSMETOLOGY AND BARBERING\", \"orientation\": \"v\", \"showlegend\": true, \"textposition\": \"auto\", \"type\": \"bar\", \"x\": [\"ST BD OF COSMETOLOGY AND BARBERING\"], \"xaxis\": \"x\", \"y\": [27], \"yaxis\": \"y\"}, {\"alignmentgroup\": \"True\", \"hovertemplate\": \"Agency_Name=%{x}<br>Count=%{y}<extra></extra>\", \"legendgroup\": \"UNIVERSITY CENTER OF SOUTHERN OKLAHOMA\", \"marker\": {\"color\": \"#FECB52\"}, \"name\": \"UNIVERSITY CENTER OF SOUTHERN OKLAHOMA\", \"offsetgroup\": \"UNIVERSITY CENTER OF SOUTHERN OKLAHOMA\", \"orientation\": \"v\", \"showlegend\": true, \"textposition\": \"auto\", \"type\": \"bar\", \"x\": [\"UNIVERSITY CENTER OF SOUTHERN OKLAHOMA\"], \"xaxis\": \"x\", \"y\": [21], \"yaxis\": \"y\"}, {\"alignmentgroup\": \"True\", \"hovertemplate\": \"Agency_Name=%{x}<br>Count=%{y}<extra></extra>\", \"legendgroup\": \"STATE BOND ADVISOR\", \"marker\": {\"color\": \"#636efa\"}, \"name\": \"STATE BOND ADVISOR\", \"offsetgroup\": \"STATE BOND ADVISOR\", \"orientation\": \"v\", \"showlegend\": true, \"textposition\": \"auto\", \"type\": \"bar\", \"x\": [\"STATE BOND ADVISOR\"], \"xaxis\": \"x\", \"y\": [21], \"yaxis\": \"y\"}, {\"alignmentgroup\": \"True\", \"hovertemplate\": \"Agency_Name=%{x}<br>Count=%{y}<extra></extra>\", \"legendgroup\": \"PARDON AND PAROLE BOARD\", \"marker\": {\"color\": \"#EF553B\"}, \"name\": \"PARDON AND PAROLE BOARD\", \"offsetgroup\": \"PARDON AND PAROLE BOARD\", \"orientation\": \"v\", \"showlegend\": true, \"textposition\": \"auto\", \"type\": \"bar\", \"x\": [\"PARDON AND PAROLE BOARD\"], \"xaxis\": \"x\", \"y\": [20], \"yaxis\": \"y\"}, {\"alignmentgroup\": \"True\", \"hovertemplate\": \"Agency_Name=%{x}<br>Count=%{y}<extra></extra>\", \"legendgroup\": \"BD. OF EXAM. FOR LT CARE ADMIN\", \"marker\": {\"color\": \"#00cc96\"}, \"name\": \"BD. OF EXAM. FOR LT CARE ADMIN\", \"offsetgroup\": \"BD. OF EXAM. FOR LT CARE ADMIN\", \"orientation\": \"v\", \"showlegend\": true, \"textposition\": \"auto\", \"type\": \"bar\", \"x\": [\"BD. OF EXAM. FOR LT CARE ADMIN\"], \"xaxis\": \"x\", \"y\": [17], \"yaxis\": \"y\"}, {\"alignmentgroup\": \"True\", \"hovertemplate\": \"Agency_Name=%{x}<br>Count=%{y}<extra></extra>\", \"legendgroup\": \"MERIT PROTECTION COMMISSION\", \"marker\": {\"color\": \"#ab63fa\"}, \"name\": \"MERIT PROTECTION COMMISSION\", \"offsetgroup\": \"MERIT PROTECTION COMMISSION\", \"orientation\": \"v\", \"showlegend\": true, \"textposition\": \"auto\", \"type\": \"bar\", \"x\": [\"MERIT PROTECTION COMMISSION\"], \"xaxis\": \"x\", \"y\": [17], \"yaxis\": \"y\"}, {\"alignmentgroup\": \"True\", \"hovertemplate\": \"Agency_Name=%{x}<br>Count=%{y}<extra></extra>\", \"legendgroup\": \"OK. HOUSE OF REPRESENTATIVES\", \"marker\": {\"color\": \"#FFA15A\"}, \"name\": \"OK. HOUSE OF REPRESENTATIVES\", \"offsetgroup\": \"OK. HOUSE OF REPRESENTATIVES\", \"orientation\": \"v\", \"showlegend\": true, \"textposition\": \"auto\", \"type\": \"bar\", \"x\": [\"OK. HOUSE OF REPRESENTATIVES\"], \"xaxis\": \"x\", \"y\": [16], \"yaxis\": \"y\"}, {\"alignmentgroup\": \"True\", \"hovertemplate\": \"Agency_Name=%{x}<br>Count=%{y}<extra></extra>\", \"legendgroup\": \"BD. OF EXAM. FOR LT CARE ADMIN.\", \"marker\": {\"color\": \"#19d3f3\"}, \"name\": \"BD. OF EXAM. FOR LT CARE ADMIN.\", \"offsetgroup\": \"BD. OF EXAM. FOR LT CARE ADMIN.\", \"orientation\": \"v\", \"showlegend\": true, \"textposition\": \"auto\", \"type\": \"bar\", \"x\": [\"BD. OF EXAM. FOR LT CARE ADMIN.\"], \"xaxis\": \"x\", \"y\": [15], \"yaxis\": \"y\"}, {\"alignmentgroup\": \"True\", \"hovertemplate\": \"Agency_Name=%{x}<br>Count=%{y}<extra></extra>\", \"legendgroup\": \"WORKERS COMPENSATION COURT\", \"marker\": {\"color\": \"#FF6692\"}, \"name\": \"WORKERS COMPENSATION COURT\", \"offsetgroup\": \"WORKERS COMPENSATION COURT\", \"orientation\": \"v\", \"showlegend\": true, \"textposition\": \"auto\", \"type\": \"bar\", \"x\": [\"WORKERS COMPENSATION COURT\"], \"xaxis\": \"x\", \"y\": [11], \"yaxis\": \"y\"}, {\"alignmentgroup\": \"True\", \"hovertemplate\": \"Agency_Name=%{x}<br>Count=%{y}<extra></extra>\", \"legendgroup\": \"OKLAHOMA ABSTRACTORS BOARD\", \"marker\": {\"color\": \"#B6E880\"}, \"name\": \"OKLAHOMA ABSTRACTORS BOARD\", \"offsetgroup\": \"OKLAHOMA ABSTRACTORS BOARD\", \"orientation\": \"v\", \"showlegend\": true, \"textposition\": \"auto\", \"type\": \"bar\", \"x\": [\"OKLAHOMA ABSTRACTORS BOARD\"], \"xaxis\": \"x\", \"y\": [10], \"yaxis\": \"y\"}, {\"alignmentgroup\": \"True\", \"hovertemplate\": \"Agency_Name=%{x}<br>Count=%{y}<extra></extra>\", \"legendgroup\": \"MULTIPLE INJURY TRUST FUND\", \"marker\": {\"color\": \"#FF97FF\"}, \"name\": \"MULTIPLE INJURY TRUST FUND\", \"offsetgroup\": \"MULTIPLE INJURY TRUST FUND\", \"orientation\": \"v\", \"showlegend\": true, \"textposition\": \"auto\", \"type\": \"bar\", \"x\": [\"MULTIPLE INJURY TRUST FUND\"], \"xaxis\": \"x\", \"y\": [8], \"yaxis\": \"y\"}, {\"alignmentgroup\": \"True\", \"hovertemplate\": \"Agency_Name=%{x}<br>Count=%{y}<extra></extra>\", \"legendgroup\": \"EMPLOYEES BENEFITS DEPARTMENT\", \"marker\": {\"color\": \"#FECB52\"}, \"name\": \"EMPLOYEES BENEFITS DEPARTMENT\", \"offsetgroup\": \"EMPLOYEES BENEFITS DEPARTMENT\", \"orientation\": \"v\", \"showlegend\": true, \"textposition\": \"auto\", \"type\": \"bar\", \"x\": [\"EMPLOYEES BENEFITS DEPARTMENT\"], \"xaxis\": \"x\", \"y\": [2], \"yaxis\": \"y\"}, {\"alignmentgroup\": \"True\", \"hovertemplate\": \"Agency_Name=%{x}<br>Count=%{y}<extra></extra>\", \"legendgroup\": \"BD. OF PRIV. VOCATIONAL SCHOOLS\", \"marker\": {\"color\": \"#636efa\"}, \"name\": \"BD. OF PRIV. VOCATIONAL SCHOOLS\", \"offsetgroup\": \"BD. OF PRIV. VOCATIONAL SCHOOLS\", \"orientation\": \"v\", \"showlegend\": true, \"textposition\": \"auto\", \"type\": \"bar\", \"x\": [\"BD. OF PRIV. VOCATIONAL SCHOOLS\"], \"xaxis\": \"x\", \"y\": [1], \"yaxis\": \"y\"}, {\"alignmentgroup\": \"True\", \"hovertemplate\": \"Agency_Name=%{x}<br>Count=%{y}<extra></extra>\", \"legendgroup\": \"MARGINALLY PROD. OIL & GAS WELLS\", \"marker\": {\"color\": \"#EF553B\"}, \"name\": \"MARGINALLY PROD. OIL & GAS WELLS\", \"offsetgroup\": \"MARGINALLY PROD. OIL & GAS WELLS\", \"orientation\": \"v\", \"showlegend\": true, \"textposition\": \"auto\", \"type\": \"bar\", \"x\": [\"MARGINALLY PROD. OIL & GAS WELLS\"], \"xaxis\": \"x\", \"y\": [1], \"yaxis\": \"y\"}, {\"alignmentgroup\": \"True\", \"hovertemplate\": \"Agency_Name=%{x}<br>Count=%{y}<extra></extra>\", \"legendgroup\": \"OFFICE OF EDUC. QUALITY & ACCOUNTABILITY\", \"marker\": {\"color\": \"#00cc96\"}, \"name\": \"OFFICE OF EDUC. QUALITY & ACCOUNTABILITY\", \"offsetgroup\": \"OFFICE OF EDUC. QUALITY & ACCOUNTABILITY\", \"orientation\": \"v\", \"showlegend\": true, \"textposition\": \"auto\", \"type\": \"bar\", \"x\": [\"OFFICE OF EDUC. QUALITY & ACCOUNTABILITY\"], \"xaxis\": \"x\", \"y\": [1], \"yaxis\": \"y\"}, {\"alignmentgroup\": \"True\", \"hovertemplate\": \"Agency_Name=%{x}<br>Count=%{y}<extra></extra>\", \"legendgroup\": \"WORKER'S COMP. COMMISSION\", \"marker\": {\"color\": \"#ab63fa\"}, \"name\": \"WORKER'S COMP. COMMISSION\", \"offsetgroup\": \"WORKER'S COMP. COMMISSION\", \"orientation\": \"v\", \"showlegend\": true, \"textposition\": \"auto\", \"type\": \"bar\", \"x\": [\"WORKER'S COMP. COMMISSION\"], \"xaxis\": \"x\", \"y\": [1], \"yaxis\": \"y\"}],                        {\"barmode\": \"relative\", \"height\": 400, \"legend\": {\"title\": {\"text\": \"Agency_Name\"}, \"tracegroupgap\": 0}, \"margin\": {\"t\": 60}, \"template\": {\"data\": {\"bar\": [{\"error_x\": {\"color\": \"#2a3f5f\"}, \"error_y\": {\"color\": \"#2a3f5f\"}, \"marker\": {\"line\": {\"color\": \"#E5ECF6\", \"width\": 0.5}}, \"type\": \"bar\"}], \"barpolar\": [{\"marker\": {\"line\": {\"color\": \"#E5ECF6\", \"width\": 0.5}}, \"type\": \"barpolar\"}], \"carpet\": [{\"aaxis\": {\"endlinecolor\": \"#2a3f5f\", \"gridcolor\": \"white\", \"linecolor\": \"white\", \"minorgridcolor\": \"white\", \"startlinecolor\": \"#2a3f5f\"}, \"baxis\": {\"endlinecolor\": \"#2a3f5f\", \"gridcolor\": \"white\", \"linecolor\": \"white\", \"minorgridcolor\": \"white\", \"startlinecolor\": \"#2a3f5f\"}, \"type\": \"carpet\"}], \"choropleth\": [{\"colorbar\": {\"outlinewidth\": 0, \"ticks\": \"\"}, \"type\": \"choropleth\"}], \"contour\": [{\"colorbar\": {\"outlinewidth\": 0, \"ticks\": \"\"}, \"colorscale\": [[0.0, \"#0d0887\"], [0.1111111111111111, \"#46039f\"], [0.2222222222222222, \"#7201a8\"], [0.3333333333333333, \"#9c179e\"], [0.4444444444444444, \"#bd3786\"], [0.5555555555555556, \"#d8576b\"], [0.6666666666666666, \"#ed7953\"], [0.7777777777777778, \"#fb9f3a\"], [0.8888888888888888, \"#fdca26\"], [1.0, \"#f0f921\"]], \"type\": \"contour\"}], \"contourcarpet\": [{\"colorbar\": {\"outlinewidth\": 0, \"ticks\": \"\"}, \"type\": \"contourcarpet\"}], \"heatmap\": [{\"colorbar\": {\"outlinewidth\": 0, \"ticks\": \"\"}, \"colorscale\": [[0.0, \"#0d0887\"], [0.1111111111111111, \"#46039f\"], [0.2222222222222222, \"#7201a8\"], [0.3333333333333333, \"#9c179e\"], [0.4444444444444444, \"#bd3786\"], [0.5555555555555556, \"#d8576b\"], [0.6666666666666666, \"#ed7953\"], [0.7777777777777778, \"#fb9f3a\"], [0.8888888888888888, \"#fdca26\"], [1.0, \"#f0f921\"]], \"type\": \"heatmap\"}], \"heatmapgl\": [{\"colorbar\": {\"outlinewidth\": 0, \"ticks\": \"\"}, \"colorscale\": [[0.0, \"#0d0887\"], [0.1111111111111111, \"#46039f\"], [0.2222222222222222, \"#7201a8\"], [0.3333333333333333, \"#9c179e\"], [0.4444444444444444, \"#bd3786\"], [0.5555555555555556, \"#d8576b\"], [0.6666666666666666, \"#ed7953\"], [0.7777777777777778, \"#fb9f3a\"], [0.8888888888888888, \"#fdca26\"], [1.0, \"#f0f921\"]], \"type\": \"heatmapgl\"}], \"histogram\": [{\"marker\": {\"colorbar\": {\"outlinewidth\": 0, \"ticks\": \"\"}}, \"type\": \"histogram\"}], \"histogram2d\": [{\"colorbar\": {\"outlinewidth\": 0, \"ticks\": \"\"}, \"colorscale\": [[0.0, \"#0d0887\"], [0.1111111111111111, \"#46039f\"], [0.2222222222222222, \"#7201a8\"], [0.3333333333333333, \"#9c179e\"], [0.4444444444444444, \"#bd3786\"], [0.5555555555555556, \"#d8576b\"], [0.6666666666666666, \"#ed7953\"], [0.7777777777777778, \"#fb9f3a\"], [0.8888888888888888, \"#fdca26\"], [1.0, \"#f0f921\"]], \"type\": \"histogram2d\"}], \"histogram2dcontour\": [{\"colorbar\": {\"outlinewidth\": 0, \"ticks\": \"\"}, \"colorscale\": [[0.0, \"#0d0887\"], [0.1111111111111111, \"#46039f\"], [0.2222222222222222, \"#7201a8\"], [0.3333333333333333, \"#9c179e\"], [0.4444444444444444, \"#bd3786\"], [0.5555555555555556, \"#d8576b\"], [0.6666666666666666, \"#ed7953\"], [0.7777777777777778, \"#fb9f3a\"], [0.8888888888888888, \"#fdca26\"], [1.0, \"#f0f921\"]], \"type\": \"histogram2dcontour\"}], \"mesh3d\": [{\"colorbar\": {\"outlinewidth\": 0, \"ticks\": \"\"}, \"type\": \"mesh3d\"}], \"parcoords\": [{\"line\": {\"colorbar\": {\"outlinewidth\": 0, \"ticks\": \"\"}}, \"type\": \"parcoords\"}], \"pie\": [{\"automargin\": true, \"type\": \"pie\"}], \"scatter\": [{\"marker\": {\"colorbar\": {\"outlinewidth\": 0, \"ticks\": \"\"}}, \"type\": \"scatter\"}], \"scatter3d\": [{\"line\": {\"colorbar\": {\"outlinewidth\": 0, \"ticks\": \"\"}}, \"marker\": {\"colorbar\": {\"outlinewidth\": 0, \"ticks\": \"\"}}, \"type\": \"scatter3d\"}], \"scattercarpet\": [{\"marker\": {\"colorbar\": {\"outlinewidth\": 0, \"ticks\": \"\"}}, \"type\": \"scattercarpet\"}], \"scattergeo\": [{\"marker\": {\"colorbar\": {\"outlinewidth\": 0, \"ticks\": \"\"}}, \"type\": \"scattergeo\"}], \"scattergl\": [{\"marker\": {\"colorbar\": {\"outlinewidth\": 0, \"ticks\": \"\"}}, \"type\": \"scattergl\"}], \"scattermapbox\": [{\"marker\": {\"colorbar\": {\"outlinewidth\": 0, \"ticks\": \"\"}}, \"type\": \"scattermapbox\"}], \"scatterpolar\": [{\"marker\": {\"colorbar\": {\"outlinewidth\": 0, \"ticks\": \"\"}}, \"type\": \"scatterpolar\"}], \"scatterpolargl\": [{\"marker\": {\"colorbar\": {\"outlinewidth\": 0, \"ticks\": \"\"}}, \"type\": \"scatterpolargl\"}], \"scatterternary\": [{\"marker\": {\"colorbar\": {\"outlinewidth\": 0, \"ticks\": \"\"}}, \"type\": \"scatterternary\"}], \"surface\": [{\"colorbar\": {\"outlinewidth\": 0, \"ticks\": \"\"}, \"colorscale\": [[0.0, \"#0d0887\"], [0.1111111111111111, \"#46039f\"], [0.2222222222222222, \"#7201a8\"], [0.3333333333333333, \"#9c179e\"], [0.4444444444444444, \"#bd3786\"], [0.5555555555555556, \"#d8576b\"], [0.6666666666666666, \"#ed7953\"], [0.7777777777777778, \"#fb9f3a\"], [0.8888888888888888, \"#fdca26\"], [1.0, \"#f0f921\"]], \"type\": \"surface\"}], \"table\": [{\"cells\": {\"fill\": {\"color\": \"#EBF0F8\"}, \"line\": {\"color\": \"white\"}}, \"header\": {\"fill\": {\"color\": \"#C8D4E3\"}, \"line\": {\"color\": \"white\"}}, \"type\": \"table\"}]}, \"layout\": {\"annotationdefaults\": {\"arrowcolor\": \"#2a3f5f\", \"arrowhead\": 0, \"arrowwidth\": 1}, \"coloraxis\": {\"colorbar\": {\"outlinewidth\": 0, \"ticks\": \"\"}}, \"colorscale\": {\"diverging\": [[0, \"#8e0152\"], [0.1, \"#c51b7d\"], [0.2, \"#de77ae\"], [0.3, \"#f1b6da\"], [0.4, \"#fde0ef\"], [0.5, \"#f7f7f7\"], [0.6, \"#e6f5d0\"], [0.7, \"#b8e186\"], [0.8, \"#7fbc41\"], [0.9, \"#4d9221\"], [1, \"#276419\"]], \"sequential\": [[0.0, \"#0d0887\"], [0.1111111111111111, \"#46039f\"], [0.2222222222222222, \"#7201a8\"], [0.3333333333333333, \"#9c179e\"], [0.4444444444444444, \"#bd3786\"], [0.5555555555555556, \"#d8576b\"], [0.6666666666666666, \"#ed7953\"], [0.7777777777777778, \"#fb9f3a\"], [0.8888888888888888, \"#fdca26\"], [1.0, \"#f0f921\"]], \"sequentialminus\": [[0.0, \"#0d0887\"], [0.1111111111111111, \"#46039f\"], [0.2222222222222222, \"#7201a8\"], [0.3333333333333333, \"#9c179e\"], [0.4444444444444444, \"#bd3786\"], [0.5555555555555556, \"#d8576b\"], [0.6666666666666666, \"#ed7953\"], [0.7777777777777778, \"#fb9f3a\"], [0.8888888888888888, \"#fdca26\"], [1.0, \"#f0f921\"]]}, \"colorway\": [\"#636efa\", \"#EF553B\", \"#00cc96\", \"#ab63fa\", \"#FFA15A\", \"#19d3f3\", \"#FF6692\", \"#B6E880\", \"#FF97FF\", \"#FECB52\"], \"font\": {\"color\": \"#2a3f5f\"}, \"geo\": {\"bgcolor\": \"white\", \"lakecolor\": \"white\", \"landcolor\": \"#E5ECF6\", \"showlakes\": true, \"showland\": true, \"subunitcolor\": \"white\"}, \"hoverlabel\": {\"align\": \"left\"}, \"hovermode\": \"closest\", \"mapbox\": {\"style\": \"light\"}, \"paper_bgcolor\": \"white\", \"plot_bgcolor\": \"#E5ECF6\", \"polar\": {\"angularaxis\": {\"gridcolor\": \"white\", \"linecolor\": \"white\", \"ticks\": \"\"}, \"bgcolor\": \"#E5ECF6\", \"radialaxis\": {\"gridcolor\": \"white\", \"linecolor\": \"white\", \"ticks\": \"\"}}, \"scene\": {\"xaxis\": {\"backgroundcolor\": \"#E5ECF6\", \"gridcolor\": \"white\", \"gridwidth\": 2, \"linecolor\": \"white\", \"showbackground\": true, \"ticks\": \"\", \"zerolinecolor\": \"white\"}, \"yaxis\": {\"backgroundcolor\": \"#E5ECF6\", \"gridcolor\": \"white\", \"gridwidth\": 2, \"linecolor\": \"white\", \"showbackground\": true, \"ticks\": \"\", \"zerolinecolor\": \"white\"}, \"zaxis\": {\"backgroundcolor\": \"#E5ECF6\", \"gridcolor\": \"white\", \"gridwidth\": 2, \"linecolor\": \"white\", \"showbackground\": true, \"ticks\": \"\", \"zerolinecolor\": \"white\"}}, \"shapedefaults\": {\"line\": {\"color\": \"#2a3f5f\"}}, \"ternary\": {\"aaxis\": {\"gridcolor\": \"white\", \"linecolor\": \"white\", \"ticks\": \"\"}, \"baxis\": {\"gridcolor\": \"white\", \"linecolor\": \"white\", \"ticks\": \"\"}, \"bgcolor\": \"#E5ECF6\", \"caxis\": {\"gridcolor\": \"white\", \"linecolor\": \"white\", \"ticks\": \"\"}}, \"title\": {\"x\": 0.05}, \"xaxis\": {\"automargin\": true, \"gridcolor\": \"white\", \"linecolor\": \"white\", \"ticks\": \"\", \"title\": {\"standoff\": 15}, \"zerolinecolor\": \"white\", \"zerolinewidth\": 2}, \"yaxis\": {\"automargin\": true, \"gridcolor\": \"white\", \"linecolor\": \"white\", \"ticks\": \"\", \"title\": {\"standoff\": 15}, \"zerolinecolor\": \"white\", \"zerolinewidth\": 2}}}, \"width\": 1000, \"xaxis\": {\"anchor\": \"y\", \"categoryarray\": [\"OKLAHOMA STATE UNIVERSITY\", \"UNIVERSITY OF OKLAHOMA\", \"UNIV. OF OKLA. HEALTH SCIENCES CENTER\", \"DEPARTMENT OF CORRECTIONS\", \"DEPARTMENT OF TOURISM AND RECREATION\", \"DEPARTMENT OF TRANSPORTATION\", \"GRAND RIVER DAM AUTH.\", \"DEPARTMENT OF REHABILITATION SERVICES\", \"DEPARTMENT OF VETERANS AFFAIRS\", \"S. W. OKLA. ST. UNIV.\", \"OFFICE OF MANAGEMENT AND ENTERPRISE SERV\", \"MENTAL HEALTH AND SUBSTANCE ABUSE SERV.\", \"OKLAHOMA MILITARY DEPARTMENT\", \"DEPARTMENT OF WILDLIFE CONSERVATION\", \"DEPARTMENT OF PUBLIC SAFETY\", \"OKLA. PANHANDLE STATE UNIV.\", \"TULSA COMMUNITY COLLEGE\", \"OKLA. CAREER AND TECHNOLOGY EDUCATION\", \"DEPARTMENT OF AGRICULTURE\", \"HISTORICAL SOCIETY\", \"STATE DEPARTMENT OF HEALTH\", \"OFFICE OF JUVENILE AFFAIRS\", \"DEPARTMENT OF AGRICULTURE, FOOD, ANF FOR\", \"LANGSTON UNIVERSITY\", \"STATE BUREAU OF INVESTIGATION\", \"J.D. MCCARTY CENTER\", \"OKLA. BUREAU OF NARCOTICS AND DANGEROUS\", \"COMPSOURCE OKLAHOMA\", \"ATTORNEY GENERAL\", \"DEPARTMENT OF COMMERCE\", \"WATER RESOURCES BOARD\", \"EASTERN OKLA. STATE COLLEGE\", \"OKLAHOMA INSURANCE DEPARTMENT\", \"EMPLOYMENT SECURITY COMMISSION\", \"DEPARTMENT OF HUMAN SERVICES\", \"OKLAHOMA HOUSING FINANCE AGENCY\", \"OKLA. CITY COMMUNITY COLLEGE\", \"COMM. ON CONSUMER CREDIT\", \"DEPT. OF ENVIRONMENTAL QUALITY\", \"`DEPARTMENT OF EDUCATION\", \"CORPORATION COMMISSION\", \"DEPARTMENT OF LIBRARIES\", \"UNIV.OF SCIENCE & ARTS OF OK\", \"BD. OF MED. LICENSURE & SUPV.\", \"STATE AUDITOR AND INSPECTOR\", \"ROSE STATE COLEGE\", \"OKLAHOMA TAX COMMISSION\", \"N. E. OKLA. A & M COLLEGE\", \"INDIGENT DEFENSE SYSTEM\", \"BD. OF MEDICOLEGAL INVESTIGATIONS\", \"DEPARTMENT OF LABOR\", \"REGENTS FOR HIGHER EDUCATION\", \"HEALTH CARE AUTHORITY\", \"DISTRICT ATTORNEYS COUNCIL\", \"CONSERVATION COMMISSION\", \"COUNCIL ON LAW ENFC. ED. & TRNG.\", \"SUPREME COURT\", \"OFFICE OF THE CHIEF MEDICAL EXAMINER\", \"DEPARTMENT OF EDUCATION\", \"STATE BANKING DEPARTMENT\", \"REDLANDS COMMUNITY COLLEGE\", \"STATE PHARMACY BOARD\", \"TEACHERS RETIREMENT SYSTEM\", \"OK. COMM. FOR TEACHER PREP.\", \"FIREFIGHTERS PENS. & RET. SYST.\", \"COMM. OF THE LAND OFFICE\", \"GOVERNOR\", \"SECRETARY OF STATE\", \"REGIONAL UNIVERSITY SYSTEM OF OKLAHOMA\", \"OKLA. REAL ESTATE COMM.\", \"STATE ARTS COUNCIL\", \"DEPARTMENT OF EMERGENCY MANAGEMEN\", \"OK. SCHOOL OF SCIENCE & MATH.\", \"STATE FIRE MARSHAL\", \"STATE TREASURER\", \"STATE ELECTION BOARD\", \"OKLAHOMA AERONAUTICS COMMISSION\", \"OKLA. SPACE INDUSTRY DEV. AUTH.\", \"TOBACCO SETTLEMENT ENDMT TRUST\", \"COSMETOLOGY BOARD\", \"OKLAHOMA LOTTERY COMMISSION\", \"OKLA. HORSE RACING COMM.\", \"PROF. ENGI. & LAND SURVEYORS\", \"BOLL WEEVIL ERADICATION ORG.\", \"POLICE PENSION & RET. SYSTEM\", \"DEPARTMENT OF EMERGENCY MANAGEMENT\", \"SCENIC RIVERS COMMISSION\", \"OKLAHOMA ACCOUNTANCY BOARD\", \"ST. BD. OF CHIROPRACTIC EXAM.\", \"ETHICS COMMISSION\", \"SPEECH-LANGUAGE PATHOLOGY & AUDIOLOGY\", \"OKLA. BOARD OF NURSING\", \"DEPARTMENT OF MINES\", \"OK. PUBLIC EMPLOYEES RET. SYS.\", \"OKLAHOMA WHEAT COMMISSION\", \"OK. LAW ENFORCE. RET. SYSTEM\", \"BD. OF CHEM. TEST ALCOHOL/DRUG\", \"BOARD OF DENTISTRY\", \"PHYSICIAN MANPOWER TRNG. COMM.\", \"OFFICE OF DISABILITY CONCERNS\", \"BD. OF VETERINARY MED. EXAM.\", \"ARDMORE HIGHER EDUCATION CENTER\", \"J. M. DAVIS ARMS & HIST. MUSEUM\", \"WILL ROGERS MEMORIAL COMMISSION\", \"OKLAHOMA ST.BOARD OF DENTISTRY\", \"OKLA. BD. OF ARCHITECTS\", \"COMMISSION ON CHILDREN AND YOUTH\", \"CAPITOL IMPROVEMENT AUTHORITY\", \"ST BD OF COSMETOLOGY AND BARBERING\", \"UNIVERSITY CENTER OF SOUTHERN OKLAHOMA\", \"STATE BOND ADVISOR\", \"PARDON AND PAROLE BOARD\", \"BD. OF EXAM. FOR LT CARE ADMIN\", \"MERIT PROTECTION COMMISSION\", \"OK. HOUSE OF REPRESENTATIVES\", \"BD. OF EXAM. FOR LT CARE ADMIN.\", \"WORKERS COMPENSATION COURT\", \"OKLAHOMA ABSTRACTORS BOARD\", \"MULTIPLE INJURY TRUST FUND\", \"EMPLOYEES BENEFITS DEPARTMENT\", \"BD. OF PRIV. VOCATIONAL SCHOOLS\", \"MARGINALLY PROD. OIL & GAS WELLS\", \"OFFICE OF EDUC. QUALITY & ACCOUNTABILITY\", \"WORKER'S COMP. COMMISSION\"], \"categoryorder\": \"array\", \"domain\": [0.0, 1.0], \"title\": {\"text\": \"Agency_Name\"}}, \"yaxis\": {\"anchor\": \"x\", \"domain\": [0.0, 1.0], \"title\": {\"text\": \"Count\"}}},                        {\"responsive\": true}                    ).then(function(){\n",
       "                            \n",
       "var gd = document.getElementById('933fc178-17c6-464f-b59d-e651455c8b91');\n",
       "var x = new MutationObserver(function (mutations, observer) {{\n",
       "        var display = window.getComputedStyle(gd).display;\n",
       "        if (!display || display === 'none') {{\n",
       "            console.log([gd, 'removed!']);\n",
       "            Plotly.purge(gd);\n",
       "            observer.disconnect();\n",
       "        }}\n",
       "}});\n",
       "\n",
       "// Listen for the removal of the full notebook cells\n",
       "var notebookContainer = gd.closest('#notebook-container');\n",
       "if (notebookContainer) {{\n",
       "    x.observe(notebookContainer, {childList: true});\n",
       "}}\n",
       "\n",
       "// Listen for the clearing of the current output cell\n",
       "var outputEl = gd.closest('.output');\n",
       "if (outputEl) {{\n",
       "    x.observe(outputEl, {childList: true});\n",
       "}}\n",
       "\n",
       "                        })                };                });            </script>        </div>"
      ]
     },
     "metadata": {},
     "output_type": "display_data"
    },
    {
     "data": {
      "text/plain": [
       "<Figure size 640x480 with 0 Axes>"
      ]
     },
     "metadata": {},
     "output_type": "display_data"
    }
   ],
   "source": [
    "# 1. show transaction amount by agency name\n",
    "# from the graph, we can see University of OKLAHOMA has the most transactions, with a number of 115.995K\n",
    "import numpy as np\n",
    "import plotly\n",
    "import plotly.express as px\n",
    "\n",
    "# Summarize the count statistics by agency_name in df_count\n",
    "df_count = df['Agency_Name'].value_counts()\n",
    "df_count = pd.DataFrame(df_count).reset_index()\n",
    "df_count.columns = ['Agency_Name','Count']\n",
    "\n",
    "\n",
    "fig = px.bar(df_count, x='Agency_Name', y='Count', color = 'Agency_Name', width=1000, height=400)\n",
    "from matplotlib.pyplot import figure\n",
    "figure(num=None, figsize=(8, 6), dpi=80, facecolor='w', edgecolor='k')\n",
    "fig.show()"
   ]
  },
  {
   "cell_type": "code",
   "execution_count": 162,
   "metadata": {},
   "outputs": [],
   "source": [
    "# 2. Create timestamp\n",
    "df['Transaction_Date'] = pd.to_datetime(df.Transaction_Date, format=\"%m/%d/%Y %H:%M\") "
   ]
  },
  {
   "cell_type": "code",
   "execution_count": 163,
   "metadata": {},
   "outputs": [],
   "source": [
    "# 3. create \"time\" variable: days since last purchase \n",
    "df = df.sort_values(['Agency_Name', 'Transaction_Date'], ascending=[True, True])\n",
    "df['time'] = df.Transaction_Date-df.Transaction_Date.shift(1)"
   ]
  },
  {
   "cell_type": "code",
   "execution_count": 164,
   "metadata": {},
   "outputs": [],
   "source": [
    "# 4. for 'time' in the first record in an agency, we need to assign the value to 0 \n",
    "df.groupby('Agency_Number').first()['time']=0\n"
   ]
  },
  {
   "cell_type": "code",
   "execution_count": 165,
   "metadata": {},
   "outputs": [],
   "source": [
    "#df.iloc[3914]"
   ]
  },
  {
   "cell_type": "markdown",
   "metadata": {},
   "source": [
    "# 2. Feature engineering: construct features "
   ]
  },
  {
   "cell_type": "markdown",
   "metadata": {},
   "source": [
    "A corporate card (agency_name) can be used by many cardholders and these cardholders have to follow the corporation policy (agency_names). So I aggregate to the Agency_Name level and card holder level first to build features.\n",
    "\n",
    "The features are introduced by FRM principle. "
   ]
  },
  {
   "cell_type": "markdown",
   "metadata": {},
   "source": [
    "### Monetary: based on amount of money"
   ]
  },
  {
   "cell_type": "markdown",
   "metadata": {},
   "source": [
    "###  Feature 1: Ratio of amount spend and average spending by agency and merchant category\n",
    "\n",
    "Why the feature 'ratio_amount_by_agency_by_category' can identify anomalies: \n",
    "\n",
    "- if one transaction is significantly higher than the average transaction for that agency in that merchant category, then it indicates the abnormal behaviour, it is more likely to be an anomaly"
   ]
  },
  {
   "cell_type": "code",
   "execution_count": 166,
   "metadata": {},
   "outputs": [
    {
     "data": {
      "text/html": [
       "<div>\n",
       "<style scoped>\n",
       "    .dataframe tbody tr th:only-of-type {\n",
       "        vertical-align: middle;\n",
       "    }\n",
       "\n",
       "    .dataframe tbody tr th {\n",
       "        vertical-align: top;\n",
       "    }\n",
       "\n",
       "    .dataframe thead th {\n",
       "        text-align: right;\n",
       "    }\n",
       "</style>\n",
       "<table border=\"1\" class=\"dataframe\">\n",
       "  <thead>\n",
       "    <tr style=\"text-align: right;\">\n",
       "      <th></th>\n",
       "      <th>Year_Month</th>\n",
       "      <th>Agency_Number</th>\n",
       "      <th>Agency_Name</th>\n",
       "      <th>Cardholder_Last_Name</th>\n",
       "      <th>Cardholder_First_Initial</th>\n",
       "      <th>Description</th>\n",
       "      <th>Amount</th>\n",
       "      <th>Vendor</th>\n",
       "      <th>Transaction_Date</th>\n",
       "      <th>Posted_Date</th>\n",
       "      <th>Merchant_Category</th>\n",
       "      <th>time</th>\n",
       "      <th>AVG_amount</th>\n",
       "      <th>ratio_amount_by_agency_by_category</th>\n",
       "    </tr>\n",
       "  </thead>\n",
       "  <tbody>\n",
       "    <tr>\n",
       "      <td>0</td>\n",
       "      <td>201307</td>\n",
       "      <td>60600</td>\n",
       "      <td>ARDMORE HIGHER EDUCATION CENTER</td>\n",
       "      <td>Ray</td>\n",
       "      <td>M</td>\n",
       "      <td>GENERAL PURCHASE</td>\n",
       "      <td>101.63</td>\n",
       "      <td>HOBBY-LOBBY #0113</td>\n",
       "      <td>2013-06-27</td>\n",
       "      <td>7/1/2013 0:00</td>\n",
       "      <td>HOBBY,TOY,AND GAME STORES</td>\n",
       "      <td>NaT</td>\n",
       "      <td>148.770000</td>\n",
       "      <td>0.683135</td>\n",
       "    </tr>\n",
       "    <tr>\n",
       "      <td>1</td>\n",
       "      <td>201307</td>\n",
       "      <td>60600</td>\n",
       "      <td>ARDMORE HIGHER EDUCATION CENTER</td>\n",
       "      <td>Stoker</td>\n",
       "      <td>C</td>\n",
       "      <td>24/4 CAT 5E PLENUM 1000' P EA|ON-Q CAT 6 RJ45 ...</td>\n",
       "      <td>239.70</td>\n",
       "      <td>LOWES #01749</td>\n",
       "      <td>2013-07-10</td>\n",
       "      <td>7/11/2013 0:00</td>\n",
       "      <td>HOME SUPPLY WAREHOUSE STORES</td>\n",
       "      <td>13 days</td>\n",
       "      <td>110.559231</td>\n",
       "      <td>2.168069</td>\n",
       "    </tr>\n",
       "  </tbody>\n",
       "</table>\n",
       "</div>"
      ],
      "text/plain": [
       "   Year_Month  Agency_Number                      Agency_Name  \\\n",
       "0      201307          60600  ARDMORE HIGHER EDUCATION CENTER   \n",
       "1      201307          60600  ARDMORE HIGHER EDUCATION CENTER   \n",
       "\n",
       "  Cardholder_Last_Name Cardholder_First_Initial  \\\n",
       "0                  Ray                        M   \n",
       "1               Stoker                        C   \n",
       "\n",
       "                                         Description  Amount  \\\n",
       "0                                   GENERAL PURCHASE  101.63   \n",
       "1  24/4 CAT 5E PLENUM 1000' P EA|ON-Q CAT 6 RJ45 ...  239.70   \n",
       "\n",
       "              Vendor Transaction_Date     Posted_Date  \\\n",
       "0  HOBBY-LOBBY #0113       2013-06-27   7/1/2013 0:00   \n",
       "1       LOWES #01749       2013-07-10  7/11/2013 0:00   \n",
       "\n",
       "              Merchant_Category    time  AVG_amount  \\\n",
       "0     HOBBY,TOY,AND GAME STORES     NaT  148.770000   \n",
       "1  HOME SUPPLY WAREHOUSE STORES 13 days  110.559231   \n",
       "\n",
       "   ratio_amount_by_agency_by_category  \n",
       "0                            0.683135  \n",
       "1                            2.168069  "
      ]
     },
     "execution_count": 166,
     "metadata": {},
     "output_type": "execute_result"
    }
   ],
   "source": [
    "# create average spending group by agency and merchant category \n",
    "stat_by_agency = df.groupby(['Agency_Name', 'Merchant_Category'])['Amount'].mean()\n",
    "stat_by_agency = pd.DataFrame(stat_by_agency)\n",
    "stat_by_agency.columns = ['AVG_amount']\n",
    "# add the new feature average spending to the dataset \n",
    "df2 = pd.merge(df, stat_by_agency, how='left', on=['Agency_Name', 'Merchant_Category'])\n",
    "# Feature 1: ratio of amount spending and avergae spending by merchant category \n",
    "df2['ratio_amount_by_agency_by_category'] = df2.Amount / df2.AVG_amount\n",
    "df2.head(2)"
   ]
  },
  {
   "cell_type": "code",
   "execution_count": 60,
   "metadata": {},
   "outputs": [],
   "source": [
    "import seaborn as sns\n",
    "import matplotlib.pyplot as plt\n",
    "df4 = df2.copy()\n",
    "df4.replace(np.inf, 1,inplace=True)\n",
    "df4.replace(-np.inf, 1,inplace=True)"
   ]
  },
  {
   "cell_type": "code",
   "execution_count": 221,
   "metadata": {},
   "outputs": [
    {
     "data": {
      "text/plain": [
       "Text(0.5, 1.0, 'Ratio of spending by agency and merchant category')"
      ]
     },
     "execution_count": 221,
     "metadata": {},
     "output_type": "execute_result"
    },
    {
     "data": {
      "image/png": "[encoded data removed]",
      "text/plain": [
       "<Figure size 432x288 with 1 Axes>"
      ]
     },
     "metadata": {
      "needs_background": "light"
     },
     "output_type": "display_data"
    }
   ],
   "source": [
    "# visualization: Histogram:  x: row, y: ratio_amount_by_agency_by_category\n",
    "sns.distplot(df4['ratio_amount_by_agency_by_category'][1:300]).set_title(\"Ratio of spending by agency and merchant category\")    # This is seaborn\n"
   ]
  },
  {
   "cell_type": "markdown",
   "metadata": {},
   "source": [
    "###  Feature 2: Ratio of amount spend and average spending by agency and transaction description\n",
    "\n",
    "Why the feature 'ratio_amount_by_agency_by_Description' can identify anomalies: \n",
    "\n",
    "- similar to the first feature, a transaction is suspecious if the spending for one transaction is significantly higher than the averge for similar purposes(description). "
   ]
  },
  {
   "cell_type": "code",
   "execution_count": 167,
   "metadata": {},
   "outputs": [
    {
     "data": {
      "text/html": [
       "<div>\n",
       "<style scoped>\n",
       "    .dataframe tbody tr th:only-of-type {\n",
       "        vertical-align: middle;\n",
       "    }\n",
       "\n",
       "    .dataframe tbody tr th {\n",
       "        vertical-align: top;\n",
       "    }\n",
       "\n",
       "    .dataframe thead th {\n",
       "        text-align: right;\n",
       "    }\n",
       "</style>\n",
       "<table border=\"1\" class=\"dataframe\">\n",
       "  <thead>\n",
       "    <tr style=\"text-align: right;\">\n",
       "      <th></th>\n",
       "      <th>Year_Month</th>\n",
       "      <th>Agency_Number</th>\n",
       "      <th>Agency_Name</th>\n",
       "      <th>Cardholder_Last_Name</th>\n",
       "      <th>Cardholder_First_Initial</th>\n",
       "      <th>Description</th>\n",
       "      <th>Amount</th>\n",
       "      <th>Vendor</th>\n",
       "      <th>Transaction_Date</th>\n",
       "      <th>Posted_Date</th>\n",
       "      <th>Merchant_Category</th>\n",
       "      <th>time</th>\n",
       "      <th>AVG_amount</th>\n",
       "      <th>ratio_amount_by_agency_by_category</th>\n",
       "      <th>AVG_amount_by_Description</th>\n",
       "      <th>ratio_amount_by_agency_by_Description</th>\n",
       "    </tr>\n",
       "  </thead>\n",
       "  <tbody>\n",
       "    <tr>\n",
       "      <td>0</td>\n",
       "      <td>201307</td>\n",
       "      <td>60600</td>\n",
       "      <td>ARDMORE HIGHER EDUCATION CENTER</td>\n",
       "      <td>Ray</td>\n",
       "      <td>M</td>\n",
       "      <td>GENERAL PURCHASE</td>\n",
       "      <td>101.63</td>\n",
       "      <td>HOBBY-LOBBY #0113</td>\n",
       "      <td>2013-06-27</td>\n",
       "      <td>7/1/2013 0:00</td>\n",
       "      <td>HOBBY,TOY,AND GAME STORES</td>\n",
       "      <td>NaT</td>\n",
       "      <td>148.770000</td>\n",
       "      <td>0.683135</td>\n",
       "      <td>144.054516</td>\n",
       "      <td>0.705497</td>\n",
       "    </tr>\n",
       "    <tr>\n",
       "      <td>1</td>\n",
       "      <td>201307</td>\n",
       "      <td>60600</td>\n",
       "      <td>ARDMORE HIGHER EDUCATION CENTER</td>\n",
       "      <td>Stoker</td>\n",
       "      <td>C</td>\n",
       "      <td>24/4 CAT 5E PLENUM 1000' P EA|ON-Q CAT 6 RJ45 ...</td>\n",
       "      <td>239.70</td>\n",
       "      <td>LOWES #01749</td>\n",
       "      <td>2013-07-10</td>\n",
       "      <td>7/11/2013 0:00</td>\n",
       "      <td>HOME SUPPLY WAREHOUSE STORES</td>\n",
       "      <td>13 days</td>\n",
       "      <td>110.559231</td>\n",
       "      <td>2.168069</td>\n",
       "      <td>239.700000</td>\n",
       "      <td>1.000000</td>\n",
       "    </tr>\n",
       "  </tbody>\n",
       "</table>\n",
       "</div>"
      ],
      "text/plain": [
       "   Year_Month  Agency_Number                      Agency_Name  \\\n",
       "0      201307          60600  ARDMORE HIGHER EDUCATION CENTER   \n",
       "1      201307          60600  ARDMORE HIGHER EDUCATION CENTER   \n",
       "\n",
       "  Cardholder_Last_Name Cardholder_First_Initial  \\\n",
       "0                  Ray                        M   \n",
       "1               Stoker                        C   \n",
       "\n",
       "                                         Description  Amount  \\\n",
       "0                                   GENERAL PURCHASE  101.63   \n",
       "1  24/4 CAT 5E PLENUM 1000' P EA|ON-Q CAT 6 RJ45 ...  239.70   \n",
       "\n",
       "              Vendor Transaction_Date     Posted_Date  \\\n",
       "0  HOBBY-LOBBY #0113       2013-06-27   7/1/2013 0:00   \n",
       "1       LOWES #01749       2013-07-10  7/11/2013 0:00   \n",
       "\n",
       "              Merchant_Category    time  AVG_amount  \\\n",
       "0     HOBBY,TOY,AND GAME STORES     NaT  148.770000   \n",
       "1  HOME SUPPLY WAREHOUSE STORES 13 days  110.559231   \n",
       "\n",
       "   ratio_amount_by_agency_by_category  AVG_amount_by_Description  \\\n",
       "0                            0.683135                 144.054516   \n",
       "1                            2.168069                 239.700000   \n",
       "\n",
       "   ratio_amount_by_agency_by_Description  \n",
       "0                               0.705497  \n",
       "1                               1.000000  "
      ]
     },
     "execution_count": 167,
     "metadata": {},
     "output_type": "execute_result"
    }
   ],
   "source": [
    "# create average spending group by agency and merchant category \n",
    "stat_by_Description = df.groupby(['Agency_Name', 'Description'])['Amount'].mean()\n",
    "stat_by_Description = pd.DataFrame(stat_by_Description)\n",
    "stat_by_Description.columns = ['AVG_amount_by_Description']\n",
    "\n",
    "# add the new feature average spending to the dataset \n",
    "df2 = pd.merge(df2, stat_by_Description, how='left', on=['Agency_Name', 'Description'])\n",
    "\n",
    "# Feature 2: ratio of amount spending and avergae spending by Description of transaction \n",
    "df2['ratio_amount_by_agency_by_Description'] = df2.Amount / df2.AVG_amount_by_Description\n",
    "df2.head(2)"
   ]
  },
  {
   "cell_type": "code",
   "execution_count": 222,
   "metadata": {},
   "outputs": [
    {
     "data": {
      "text/plain": [
       "Text(0.5, 1.0, 'Ratio of spending by agency and description')"
      ]
     },
     "execution_count": 222,
     "metadata": {},
     "output_type": "execute_result"
    },
    {
     "data": {
      "image/png": "[encoded data removed]",
      "text/plain": [
       "<Figure size 432x288 with 1 Axes>"
      ]
     },
     "metadata": {
      "needs_background": "light"
     },
     "output_type": "display_data"
    }
   ],
   "source": [
    "# visualization: Histogram:  x: row, y: ratio_amount_by_agency_by_category\n",
    "df4 = df2.copy()\n",
    "df4.replace(np.inf, 1,inplace=True)\n",
    "df4.replace(-np.inf, 1,inplace=True)\n",
    "\n",
    "sns.distplot(df4['ratio_amount_by_agency_by_Description'][1:300]).set_title(\"Ratio of spending by agency and description\")    # This is seaborn"
   ]
  },
  {
   "cell_type": "markdown",
   "metadata": {},
   "source": [
    "We can identify outliers from the boxplot for a selected agency, for example, is select Agency_Number as 26500, one significant outlier is within description 'COMPUTERS, COMPUTER EQUIPMENT, SOFTWARE' "
   ]
  },
  {
   "cell_type": "code",
   "execution_count": 223,
   "metadata": {},
   "outputs": [
    {
     "data": {
      "application/vnd.plotly.v1+json": {
       "config": {
        "plotlyServerURL": "https://plot.ly"
       },
       "data": [
        {
         "alignmentgroup": "True",
         "hovertemplate": "Merchant_Category=%{x}<br>ratio_amount_by_agency_by_Description=%{y}<extra></extra>",
         "legendgroup": "",
         "marker": {
          "color": "#636efa"
         },
         "name": "",
         "notched": false,
         "offsetgroup": "",
         "orientation": "v",
         "showlegend": false,
         "type": "box",
         "x": [
          "HOLIDAY INNS",
          "HOLIDAY INNS",
          "BEST WESTERN",
          "BEST WESTERN",
          "HYATT HOTELS/INT'L",
          "BEST WESTERN",
          "LODGING--HOTELS,MOTELS,AND RESORTS",
          "HAMPTON INNS",
          "ELECTRONICS STORES",
          "BOOK STORES",
          "TRAVEL AGENCIES",
          "UNITED AIRLINES",
          "AMERICAN AIRLINES",
          "COMFORT HOTEL INTERNATIONAL",
          "COMFORT HOTEL INTERNATIONAL",
          "TRAVEL AGENCIES",
          "AMERICAN AIRLINES",
          "TRAVEL AGENCIES",
          "AMERICAN AIRLINES",
          "TRAVEL AGENCIES",
          "MARRIOTT",
          "MARRIOTT",
          "MARRIOTT",
          "SHERATON",
          "GOVERNMENT SERVICES--NOT ELSEWHERE CLASSIFIED",
          "TRADE AND VOCATIONAL SCHOOLS",
          "FAST FOOD RESTAURANTS",
          "PROFESSIONAL SERVICES NOT ELSEWHERE CLASSIFIED",
          "DELTA",
          "AMERICAN AIRLINES",
          "AMERICAN AIRLINES",
          "AMERICAN AIRLINES",
          "TRAVEL AGENCIES",
          "TRAVEL AGENCIES",
          "TRAVEL AGENCIES",
          "CIVIC,SOCIAL AND FRATERNAL ASSOCIATIONS",
          "ADVERTISING SERVICES",
          "CIVIC,SOCIAL AND FRATERNAL ASSOCIATIONS",
          "BUSINESS SERVICES NOT ELSEWHERE CLASSIFIED",
          "DELTA",
          "DELTA",
          "TRAVEL AGENCIES",
          "AMERICAN AIRLINES",
          "MARRIOTT",
          "AMERICAN AIRLINES",
          "TRAVEL AGENCIES",
          "AMERICAN AIRLINES",
          "AMERICAN AIRLINES",
          "BOOK STORES",
          "FAST FOOD RESTAURANTS",
          "BOOK STORES",
          "AMERICAN AIRLINES",
          "TRAVEL AGENCIES",
          "MARRIOTT",
          "MARRIOTT",
          "HYATT HOTELS/INT'L",
          "HYATT HOTELS/INT'L",
          "BOOK STORES",
          "BUSINESS SERVICES NOT ELSEWHERE CLASSIFIED",
          "BOOK STORES",
          "MEMBERSHIP ORGANIZATIONS--NOT ELSEWHERE CLASSIFIED",
          "COMPUTER NETWORK/INFORMATION SERVICES",
          "BOOK STORES",
          "BOOK STORES",
          "TRAVEL AGENCIES",
          "MISCELLANEOUS GENERAL MERCHANDISE",
          "AMERICAN AIRLINES",
          "UNITED AIRLINES",
          "AMERICAN AIRLINES",
          "TRAVEL AGENCIES",
          "FAST FOOD RESTAURANTS",
          "UNITED AIRLINES",
          "AMERICAN AIRLINES",
          "TRAVEL AGENCIES",
          "TRAVEL AGENCIES",
          "AMERICAN AIRLINES",
          "TRAVEL AGENCIES",
          "AMERICAN AIRLINES",
          "HILTON HOTELS",
          "BOOK STORES",
          "CHARITABLE AND SOCIAL SERVICE ORGANIZATIONS",
          "BUSINESS SERVICES NOT ELSEWHERE CLASSIFIED",
          "RAMADA INNS",
          "STAYBRIDGE SUITES",
          "LA QUINTA MOTOR INNS",
          "BOOK STORES",
          "CHARITABLE AND SOCIAL SERVICE ORGANIZATIONS",
          "UNITED AIRLINES",
          "TRAVEL AGENCIES",
          "HILTON HOTELS",
          "HILTON HOTELS",
          "AMERICAN AIRLINES",
          "HILTON HOTELS",
          "MISCELLANEOUS AND SPECIALTY RETAIL STORES",
          "TRAVEL AGENCIES",
          "TRAVEL AGENCIES",
          "AMERICAN AIRLINES",
          "AMERICAN AIRLINES",
          "STAYBRIDGE SUITES",
          "HAMPTON INNS",
          "MEMBERSHIP ORGANIZATIONS--NOT ELSEWHERE CLASSIFIED",
          "BUSINESS SERVICES NOT ELSEWHERE CLASSIFIED",
          "ELEMENTARY AND SECONDARY SCHOOLS",
          "BOOK STORES",
          "BEST WESTERN",
          "CHARITABLE AND SOCIAL SERVICE ORGANIZATIONS",
          "MISCELLANEOUS AND SPECIALTY RETAIL STORES",
          "HYATT HOTELS/INT'L",
          "HAMPTON INNS",
          "HYATT HOTELS/INT'L",
          "CHARITABLE AND SOCIAL SERVICE ORGANIZATIONS",
          "BOOK STORES",
          "AMERICAN AIRLINES",
          "DELTA",
          "AMERICAN AIRLINES",
          "ELEMENTARY AND SECONDARY SCHOOLS",
          "TRAVEL AGENCIES",
          "TRAVEL AGENCIES",
          "FURNITURE,HOME FURNISHINGS AND EQUIPMENT STORES",
          "FAST FOOD RESTAURANTS",
          "BOOK STORES",
          "MEMBERSHIP ORGANIZATIONS--NOT ELSEWHERE CLASSIFIED",
          "BOOK STORES",
          "COMPUTER NETWORK/INFORMATION SERVICES",
          "TRAVEL AGENCIES",
          "TRAVEL AGENCIES",
          "AMERICAN AIRLINES",
          "UNITED AIRLINES",
          "AMERICAN AIRLINES",
          "DENTAL/LABORATORY/MEDICAL/OPHTHALMIC HOSP EQIP AND SUP.",
          "ELECTRONICS STORES",
          "LA QUINTA MOTOR INNS",
          "LA QUINTA MOTOR INNS",
          "LA QUINTA MOTOR INNS",
          "LA QUINTA MOTOR INNS",
          "LA QUINTA MOTOR INNS",
          "LA QUINTA MOTOR INNS",
          "CHARITABLE AND SOCIAL SERVICE ORGANIZATIONS",
          "MEMBERSHIP ORGANIZATIONS--NOT ELSEWHERE CLASSIFIED",
          "TRADE AND VOCATIONAL SCHOOLS",
          "HOLIDAY INNS",
          "HOLIDAY INNS",
          "AMERICAN AIRLINES",
          "AMERICAN AIRLINES",
          "AMERICAN AIRLINES",
          "AMERICAN AIRLINES",
          "SOUTHWEST AIRLINES",
          "AMERICAN AIRLINES",
          "AMERICAN AIRLINES",
          "DIRCT MARKETING/DIRCT MARKETERS--NOT ELSEWHERE CLASSIFIED",
          "DIRCT MARKETING/DIRCT MARKETERS--NOT ELSEWHERE CLASSIFIED",
          "TRAVEL AGENCIES",
          "SOUTHWEST AIRLINES",
          "TRAVEL AGENCIES",
          "TRAVEL AGENCIES",
          "SOUTHWEST AIRLINES",
          "TRAVEL AGENCIES",
          "TRAVEL AGENCIES",
          "TRAVEL AGENCIES",
          "TRAVEL AGENCIES",
          "TRAVEL AGENCIES",
          "TRAVEL AGENCIES",
          "STATIONERY,OFFICE AND SCHOOL SUPPLY STORES",
          "HOLIDAY INNS",
          "SCHOOLS AND EDUCATIONAL SERVICES NOT ELSEWHERE CLASSIFIED",
          "CHARITABLE AND SOCIAL SERVICE ORGANIZATIONS",
          "STAYBRIDGE SUITES",
          "HOBBY,TOY,AND GAME STORES",
          "AMERICAN AIRLINES",
          "DISNEY RESORTS",
          "DISNEY RESORTS",
          "AMERICAN AIRLINES",
          "AMERICAN AIRLINES",
          "TRAVEL AGENCIES",
          "TRAVEL AGENCIES",
          "TRAVEL AGENCIES",
          "SHERATON",
          "SHERATON",
          "HILTON HOTELS",
          "HILTON GARDEN INN",
          "HILTON GARDEN INN",
          "HYATT HOTELS/INT'L",
          "SHERATON",
          "HILTON GARDEN INN",
          "SHERATON",
          "HILTON GARDEN INN",
          "MARRIOTT",
          "HOMEWOOD SUITES",
          "COMPUTERS, COMPUTER PERIPHERAL EQUIPMENT, SOFTWARE",
          "BEST WESTERN",
          "CHARITABLE AND SOCIAL SERVICE ORGANIZATIONS",
          "MEMBERSHIP ORGANIZATIONS--NOT ELSEWHERE CLASSIFIED",
          "MEMBERSHIP ORGANIZATIONS--NOT ELSEWHERE CLASSIFIED",
          "PROFESSIONAL SERVICES NOT ELSEWHERE CLASSIFIED",
          "STAYBRIDGE SUITES",
          "MEMBERSHIP ORGANIZATIONS--NOT ELSEWHERE CLASSIFIED",
          "FAST FOOD RESTAURANTS",
          "CATALOG MERCHANTS",
          "FAST FOOD RESTAURANTS",
          "LA QUINTA MOTOR INNS",
          "BUSINESS SERVICES NOT ELSEWHERE CLASSIFIED",
          "SUPER 8 MOTEL",
          "LA QUINTA MOTOR INNS",
          "LA QUINTA MOTOR INNS",
          "LA QUINTA MOTOR INNS",
          "LA QUINTA MOTOR INNS",
          "COMPUTERS, COMPUTER PERIPHERAL EQUIPMENT, SOFTWARE",
          "STATIONERY, OFFICE SUPPLIES, PRINTING AND WRITING PAPER",
          "PROFESSIONAL SERVICES NOT ELSEWHERE CLASSIFIED",
          "LA QUINTA MOTOR INNS",
          "COMPUTERS, COMPUTER PERIPHERAL EQUIPMENT, SOFTWARE",
          "MEMBERSHIP ORGANIZATIONS--NOT ELSEWHERE CLASSIFIED",
          "HOLIDAY INNS",
          "SUPER 8 MOTEL",
          "STATIONERY, OFFICE SUPPLIES, PRINTING AND WRITING PAPER",
          "OMNI INTERNATIONAL",
          "HOLIDAY INNS",
          "HOLIDAY INNS",
          "HOLIDAY INNS",
          "MARRIOTT",
          "MARRIOTT",
          "HOLIDAY INNS",
          "HOLIDAY INNS",
          "FAIRFIELD INN",
          "HOLIDAY INNS",
          "MARRIOTT",
          "CHARITABLE AND SOCIAL SERVICE ORGANIZATIONS",
          "BEST WESTERN",
          "SHERATON",
          "SHERATON",
          "TRAVEL AGENCIES",
          "AMERICAN AIRLINES",
          "SPRINGHILL SUITES",
          "COURTYARD BY MARRIOTT",
          "HOLIDAY INNS",
          "HOLIDAY INNS",
          "TRAVEL AGENCIES",
          "AMERICAN AIRLINES",
          "HOLIDAY INNS",
          "SPRINGHILL SUITES",
          "SPRINGHILL SUITES",
          "MARRIOTT",
          "FAST FOOD RESTAURANTS",
          "LA QUINTA MOTOR INNS",
          "COMPUTERS, COMPUTER PERIPHERAL EQUIPMENT, SOFTWARE",
          "MARRIOTT",
          "STATIONERY,OFFICE AND SCHOOL SUPPLY STORES",
          "MEMBERSHIP ORGANIZATIONS--NOT ELSEWHERE CLASSIFIED",
          "STATIONERY,OFFICE AND SCHOOL SUPPLY STORES",
          "BUSINESS SERVICES NOT ELSEWHERE CLASSIFIED",
          "STATIONERY, OFFICE SUPPLIES, PRINTING AND WRITING PAPER",
          "CONTINUITY/SUBSCRIPTION MERCHANTS",
          "ADVERTISING SERVICES",
          "AMERICAN AIRLINES",
          "STATIONERY,OFFICE AND SCHOOL SUPPLY STORES",
          "TRAVEL AGENCIES",
          "LODGING--HOTELS,MOTELS,AND RESORTS",
          "LODGING--HOTELS,MOTELS,AND RESORTS",
          "COMPUTERS, COMPUTER PERIPHERAL EQUIPMENT, SOFTWARE",
          "HOLIDAY INNS",
          "LA QUINTA MOTOR INNS",
          "LA QUINTA MOTOR INNS",
          "COMPUTER SOFTWARE STORES",
          "FAST FOOD RESTAURANTS",
          "ELECTRONICS STORES",
          "COMPUTERS, COMPUTER PERIPHERAL EQUIPMENT, SOFTWARE",
          "ELECTRONICS STORES",
          "LODGING--HOTELS,MOTELS,AND RESORTS",
          "MEMBERSHIP ORGANIZATIONS--NOT ELSEWHERE CLASSIFIED",
          "MEMBERSHIP ORGANIZATIONS--NOT ELSEWHERE CLASSIFIED",
          "TRAVEL AGENCIES",
          "AMERICAN AIRLINES",
          "SCHOOLS AND EDUCATIONAL SERVICES NOT ELSEWHERE CLASSIFIED",
          "TRAVEL AGENCIES",
          "TRAVEL AGENCIES",
          "AMERICAN AIRLINES",
          "AMERICAN AIRLINES",
          "LODGING--HOTELS,MOTELS,AND RESORTS",
          "CHARITABLE AND SOCIAL SERVICE ORGANIZATIONS",
          "BUSINESS SERVICES NOT ELSEWHERE CLASSIFIED",
          "BUSINESS SERVICES NOT ELSEWHERE CLASSIFIED",
          "FAST FOOD RESTAURANTS",
          "FAIRFIELD INN",
          "FAIRFIELD INN",
          "TRAVEL AGENCIES",
          "AMERICAN AIRLINES",
          "BOOK STORES",
          "BOOK STORES",
          "TELECOMMUNICATION SERVICES",
          "TRAVEL AGENCIES",
          "AMERICAN AIRLINES",
          "LA QUINTA MOTOR INNS",
          "LA QUINTA MOTOR INNS",
          "LA QUINTA MOTOR INNS",
          "HOLIDAY INNS",
          "HOLIDAY INNS",
          "HOLIDAY INNS",
          "HOLIDAY INNS",
          "HOLIDAY INNS",
          "LA QUINTA MOTOR INNS",
          "LA QUINTA MOTOR INNS",
          "LA QUINTA MOTOR INNS",
          "HILTON GARDEN INN",
          "COMPUTERS, COMPUTER PERIPHERAL EQUIPMENT, SOFTWARE",
          "ELECTRONICS STORES",
          "ELECTRONICS STORES",
          "MEMBERSHIP ORGANIZATIONS--NOT ELSEWHERE CLASSIFIED",
          "HOLIDAY INNS",
          "COMFORT HOTEL INTERNATIONAL",
          "COMFORT HOTEL INTERNATIONAL",
          "COMFORT HOTEL INTERNATIONAL",
          "HAMPTON INNS",
          "HAMPTON INNS",
          "HAMPTON INNS",
          "TYPESETTING, PLATE MAKING & RELATED SERVICES",
          "DRAPERY,WINDOW COVERING,AND UPHOLSTERY STORES",
          "LODGING--HOTELS,MOTELS,AND RESORTS",
          "LODGING--HOTELS,MOTELS,AND RESORTS",
          "MEMBERSHIP ORGANIZATIONS--NOT ELSEWHERE CLASSIFIED",
          "MEMBERSHIP ORGANIZATIONS--NOT ELSEWHERE CLASSIFIED",
          "MEMBERSHIP ORGANIZATIONS--NOT ELSEWHERE CLASSIFIED",
          "FAST FOOD RESTAURANTS",
          "LODGING--HOTELS,MOTELS,AND RESORTS",
          "LODGING--HOTELS,MOTELS,AND RESORTS",
          "LODGING--HOTELS,MOTELS,AND RESORTS",
          "COMFORT HOTEL INTERNATIONAL",
          "DAYS INNS OF AMERICA",
          "COMFORT HOTEL INTERNATIONAL",
          "DAYS INNS OF AMERICA",
          "COMFORT HOTEL INTERNATIONAL",
          "MISCELLANEOUS AND SPECIALTY RETAIL STORES",
          "FAST FOOD RESTAURANTS",
          "HILTON HOTELS",
          "HILTON HOTELS",
          "HILTON HOTELS",
          "GOVERNMENT SERVICES--NOT ELSEWHERE CLASSIFIED",
          "TRAVEL AGENCIES",
          "AMERICAN AIRLINES",
          "DAYS INNS OF AMERICA",
          "INDUSTRIAL SUPPLIES NOT ELSEWHERE CLASSIFIED",
          "SCHOOLS AND EDUCATIONAL SERVICES NOT ELSEWHERE CLASSIFIED",
          "BOOK STORES",
          "SOUTHWEST AIRLINES",
          "TRAVEL AGENCIES",
          "COLLEGES,UNIVERSITIES,PROFESSIONAL SCHLS AND JR COLLEGES",
          "STATIONERY, OFFICE SUPPLIES, PRINTING AND WRITING PAPER",
          "COMPUTER NETWORK/INFORMATION SERVICES",
          "SCHOOLS AND EDUCATIONAL SERVICES NOT ELSEWHERE CLASSIFIED",
          "FAST FOOD RESTAURANTS",
          "BOOK STORES",
          "CHARITABLE AND SOCIAL SERVICE ORGANIZATIONS",
          "DELTA",
          "TRAVEL AGENCIES",
          "COMPUTERS, COMPUTER PERIPHERAL EQUIPMENT, SOFTWARE",
          "LODGING--HOTELS,MOTELS,AND RESORTS",
          "TRAVEL AGENCIES",
          "AMERICAN AIRLINES",
          "DAYS INNS OF AMERICA",
          "STATIONERY,OFFICE AND SCHOOL SUPPLY STORES",
          "AMERICAN AIRLINES",
          "AMERICAN AIRLINES",
          "DISNEY RESORTS",
          "AMERICAN AIRLINES",
          "CONTINUITY/SUBSCRIPTION MERCHANTS",
          "TRAVEL AGENCIES",
          "TRAVEL AGENCIES",
          "TRAVEL AGENCIES",
          "DELTA",
          "TRAVEL AGENCIES",
          "TRAVEL AGENCIES",
          "DELTA",
          "SPRINGHILL SUITES",
          "SPRINGHILL SUITES",
          "COURTYARD BY MARRIOTT",
          "SPRINGHILL SUITES",
          "MARRIOTT",
          "UNITED AIRLINES",
          "AMERICAN AIRLINES",
          "TRAVEL AGENCIES",
          "TRAVEL AGENCIES",
          "COLLEGES,UNIVERSITIES,PROFESSIONAL SCHLS AND JR COLLEGES",
          "BOOK STORES",
          "MEMBERSHIP ORGANIZATIONS--NOT ELSEWHERE CLASSIFIED",
          "STATIONERY, OFFICE SUPPLIES, PRINTING AND WRITING PAPER",
          "COMBINATION CATALOG AND RETAIL MERCHANT",
          "FAST FOOD RESTAURANTS",
          "STATIONERY, OFFICE SUPPLIES, PRINTING AND WRITING PAPER",
          "HOLIDAY INNS",
          "SOUTHWEST AIRLINES",
          "HOLIDAY INNS",
          "TRAVEL AGENCIES",
          "SOUTHWEST AIRLINES",
          "TRAVEL AGENCIES",
          "MICROTEL INN AND SUITES",
          "STATIONERY, OFFICE SUPPLIES, PRINTING AND WRITING PAPER",
          "FAST FOOD RESTAURANTS",
          "STATIONERY, OFFICE SUPPLIES, PRINTING AND WRITING PAPER",
          "MISCELLANEOUS GENERAL MERCHANDISE",
          "MISCELLANEOUS GENERAL MERCHANDISE",
          "MISCELLANEOUS GENERAL MERCHANDISE",
          "MISCELLANEOUS GENERAL MERCHANDISE",
          "MISCELLANEOUS GENERAL MERCHANDISE",
          "MISCELLANEOUS GENERAL MERCHANDISE",
          "MISCELLANEOUS GENERAL MERCHANDISE",
          "MISCELLANEOUS GENERAL MERCHANDISE",
          "MISCELLANEOUS GENERAL MERCHANDISE",
          "MISCELLANEOUS GENERAL MERCHANDISE",
          "RENAISSANCE HOTELS",
          "RENAISSANCE HOTELS",
          "RENAISSANCE HOTELS",
          "RENAISSANCE HOTELS",
          "MEMBERSHIP ORGANIZATIONS--NOT ELSEWHERE CLASSIFIED",
          "AMERICAN AIRLINES",
          "MISCELLANEOUS GENERAL MERCHANDISE",
          "MISCELLANEOUS GENERAL MERCHANDISE",
          "TRAVEL AGENCIES",
          "LODGING--HOTELS,MOTELS,AND RESORTS",
          "FAST FOOD RESTAURANTS",
          "FAST FOOD RESTAURANTS",
          "AMERICAN AIRLINES",
          "AMERICAN AIRLINES",
          "AMERICAN AIRLINES",
          "AMERICAN AIRLINES",
          "AMERICAN AIRLINES",
          "AMERICAN AIRLINES",
          "LODGING--HOTELS,MOTELS,AND RESORTS",
          "AMERICAN AIRLINES",
          "AMERICAN AIRLINES",
          "MEMBERSHIP ORGANIZATIONS--NOT ELSEWHERE CLASSIFIED",
          "TRAVEL AGENCIES",
          "TRAVEL AGENCIES",
          "TRAVEL AGENCIES",
          "TRAVEL AGENCIES",
          "TRAVEL AGENCIES",
          "TRAVEL AGENCIES",
          "TRAVEL AGENCIES",
          "TRAVEL AGENCIES",
          "AMERICAN AIRLINES",
          "AMERICAN AIRLINES",
          "SOUTHWEST AIRLINES",
          "AMERICAN AIRLINES",
          "BUSINESS SERVICES NOT ELSEWHERE CLASSIFIED",
          "TRAVEL AGENCIES",
          "TRAVEL AGENCIES",
          "TRAVEL AGENCIES",
          "TRAVEL AGENCIES",
          "FAST FOOD RESTAURANTS",
          "TRAVEL AGENCIES",
          "DIRCT MARKETING/DIRCT MARKETERS--NOT ELSEWHERE CLASSIFIED",
          "AMERICAN AIRLINES",
          "STATIONERY, OFFICE SUPPLIES, PRINTING AND WRITING PAPER",
          "STATIONERY, OFFICE SUPPLIES, PRINTING AND WRITING PAPER",
          "LODGING--HOTELS,MOTELS,AND RESORTS",
          "TRAVEL AGENCIES",
          "AMERICAN AIRLINES",
          "LODGING--HOTELS,MOTELS,AND RESORTS",
          "HYATT HOTELS/INT'L",
          "HYATT HOTELS/INT'L",
          "HYATT HOTELS/INT'L",
          "HYATT HOTELS/INT'L",
          "HYATT HOTELS/INT'L",
          "ADVERTISING SERVICES",
          "ADVERTISING SERVICES",
          "BOOK STORES",
          "AMERICAN AIRLINES",
          "AMERICAN AIRLINES",
          "GAYLORD OPRYLAND",
          "HOBBY,TOY,AND GAME STORES",
          "GROCERY STORES,AND SUPERMARKETS",
          "GROCERY STORES,AND SUPERMARKETS",
          "BUSINESS SERVICES NOT ELSEWHERE CLASSIFIED",
          "TRAVEL AGENCIES",
          "TRAVEL AGENCIES",
          "TRAVEL AGENCIES",
          "COMBINATION CATALOG AND RETAIL MERCHANT",
          "AMERICAN AIRLINES",
          "AMERICAN AIRLINES",
          "TRAVEL AGENCIES",
          "AMERICAN AIRLINES",
          "AMERICAN AIRLINES",
          "AMERICAN AIRLINES",
          "AMERICAN AIRLINES",
          "TRAVEL AGENCIES",
          "TRAVEL AGENCIES",
          "TRAVEL AGENCIES",
          "TRAVEL AGENCIES",
          "HOBBY,TOY,AND GAME STORES",
          "AMERICAN AIRLINES",
          "STATIONERY, OFFICE SUPPLIES, PRINTING AND WRITING PAPER",
          "TRAVEL AGENCIES",
          "STATIONERY, OFFICE SUPPLIES, PRINTING AND WRITING PAPER",
          "AMERICAN AIRLINES",
          "STATIONERY, OFFICE SUPPLIES, PRINTING AND WRITING PAPER",
          "TRAVEL AGENCIES",
          "TRAVEL AGENCIES",
          "STATIONERY, OFFICE SUPPLIES, PRINTING AND WRITING PAPER",
          "STATIONERY, OFFICE SUPPLIES, PRINTING AND WRITING PAPER",
          "STATIONERY, OFFICE SUPPLIES, PRINTING AND WRITING PAPER",
          "STATIONERY, OFFICE SUPPLIES, PRINTING AND WRITING PAPER",
          "BOOK STORES",
          "STATIONERY, OFFICE SUPPLIES, PRINTING AND WRITING PAPER",
          "STATIONERY, OFFICE SUPPLIES, PRINTING AND WRITING PAPER",
          "STATIONERY, OFFICE SUPPLIES, PRINTING AND WRITING PAPER",
          "STATIONERY, OFFICE SUPPLIES, PRINTING AND WRITING PAPER",
          "GOVERNMENT SERVICES--NOT ELSEWHERE CLASSIFIED",
          "STATIONERY, OFFICE SUPPLIES, PRINTING AND WRITING PAPER",
          "ADVERTISING SERVICES",
          "LODGING--HOTELS,MOTELS,AND RESORTS",
          "LODGING--HOTELS,MOTELS,AND RESORTS",
          "STATIONERY, OFFICE SUPPLIES, PRINTING AND WRITING PAPER",
          "STATIONERY, OFFICE SUPPLIES, PRINTING AND WRITING PAPER",
          "HOBBY,TOY,AND GAME STORES",
          "TRAVEL AGENCIES",
          "AMERICAN AIRLINES",
          "HOLIDAY INNS",
          "LA QUINTA MOTOR INNS",
          "COLLEGES,UNIVERSITIES,PROFESSIONAL SCHLS AND JR COLLEGES",
          "COLLEGES,UNIVERSITIES,PROFESSIONAL SCHLS AND JR COLLEGES",
          "MARRIOTT",
          "LODGING--HOTELS,MOTELS,AND RESORTS",
          "LODGING--HOTELS,MOTELS,AND RESORTS",
          "HAMPTON INNS",
          "MARRIOTT",
          "MARRIOTT",
          "MARRIOTT",
          "TRAVEL AGENCIES",
          "AMERICAN AIRLINES",
          "PROFESSIONAL SERVICES NOT ELSEWHERE CLASSIFIED",
          "DIRCT MARKETING/DIRCT MARKETERS--NOT ELSEWHERE CLASSIFIED",
          "LA QUINTA MOTOR INNS",
          "CHARITABLE AND SOCIAL SERVICE ORGANIZATIONS",
          "TELECOMMUNICATION SERVICES",
          "STATIONERY, OFFICE SUPPLIES, PRINTING AND WRITING PAPER",
          "PROFESSIONAL SERVICES NOT ELSEWHERE CLASSIFIED",
          "PROFESSIONAL SERVICES NOT ELSEWHERE CLASSIFIED",
          "PROFESSIONAL SERVICES NOT ELSEWHERE CLASSIFIED",
          "CATALOG MERCHANTS",
          "BOOK STORES",
          "COMPUTER NETWORK/INFORMATION SERVICES",
          "COMFORT HOTEL INTERNATIONAL",
          "DIRCT MARKETING/DIRCT MARKETERS--NOT ELSEWHERE CLASSIFIED",
          "LODGING--HOTELS,MOTELS,AND RESORTS",
          "BOOK STORES",
          "ELECTRONICS STORES",
          "ELECTRONICS STORES",
          "STATIONERY, OFFICE SUPPLIES, PRINTING AND WRITING PAPER",
          "ELECTRONICS STORES",
          "LODGING--HOTELS,MOTELS,AND RESORTS",
          "ST. REGIS HOTEL",
          "ELECTRONICS STORES",
          "ELECTRONICS STORES",
          "ELECTRONICS STORES",
          "BOOK STORES",
          "DIRCT MARKETING/DIRCT MARKETERS--NOT ELSEWHERE CLASSIFIED",
          "TRAVEL AGENCIES",
          "AMERICAN AIRLINES",
          "STATIONERY, OFFICE SUPPLIES, PRINTING AND WRITING PAPER",
          "STATIONERY, OFFICE SUPPLIES, PRINTING AND WRITING PAPER",
          "STATIONERY, OFFICE SUPPLIES, PRINTING AND WRITING PAPER",
          "STATIONERY, OFFICE SUPPLIES, PRINTING AND WRITING PAPER",
          "STATIONERY, OFFICE SUPPLIES, PRINTING AND WRITING PAPER",
          "STATIONERY, OFFICE SUPPLIES, PRINTING AND WRITING PAPER",
          "COMPUTERS, COMPUTER PERIPHERAL EQUIPMENT, SOFTWARE",
          "STATIONERY, OFFICE SUPPLIES, PRINTING AND WRITING PAPER",
          "STATIONERY, OFFICE SUPPLIES, PRINTING AND WRITING PAPER",
          "GOVERNMENT SERVICES--NOT ELSEWHERE CLASSIFIED",
          "HAMPTON INNS",
          "CONTINUITY/SUBSCRIPTION MERCHANTS",
          "BEST WESTERN",
          "ADVERTISING SERVICES",
          "COMPUTERS, COMPUTER PERIPHERAL EQUIPMENT, SOFTWARE",
          "HYATT HOTELS/INT'L",
          "HYATT HOTELS/INT'L",
          "HYATT HOTELS/INT'L",
          "HYATT HOTELS/INT'L",
          "HYATT HOTELS/INT'L",
          "BUSINESS SERVICES NOT ELSEWHERE CLASSIFIED",
          "PROFESSIONAL SERVICES NOT ELSEWHERE CLASSIFIED",
          "BOOK STORES",
          "STATIONERY, OFFICE SUPPLIES, PRINTING AND WRITING PAPER",
          "HOLIDAY INNS",
          "TRAVEL AGENCIES",
          "AMERICAN AIRLINES",
          "HOLIDAY INNS",
          "TELECOMMUNICATION SERVICES",
          "CHARITABLE AND SOCIAL SERVICE ORGANIZATIONS",
          "MEMBERSHIP ORGANIZATIONS--NOT ELSEWHERE CLASSIFIED",
          "TELECOMMUNICATION SERVICES",
          "MEMBERSHIP ORGANIZATIONS--NOT ELSEWHERE CLASSIFIED",
          "STATIONERY,OFFICE AND SCHOOL SUPPLY STORES",
          "PROFESSIONAL SERVICES NOT ELSEWHERE CLASSIFIED",
          "MEMBERSHIP ORGANIZATIONS--NOT ELSEWHERE CLASSIFIED",
          "STATIONERY, OFFICE SUPPLIES, PRINTING AND WRITING PAPER",
          "STATIONERY, OFFICE SUPPLIES, PRINTING AND WRITING PAPER",
          "STATIONERY, OFFICE SUPPLIES, PRINTING AND WRITING PAPER",
          "STATIONERY, OFFICE SUPPLIES, PRINTING AND WRITING PAPER",
          "BUSINESS SERVICES NOT ELSEWHERE CLASSIFIED",
          "STATIONERY, OFFICE SUPPLIES, PRINTING AND WRITING PAPER",
          "STATIONERY, OFFICE SUPPLIES, PRINTING AND WRITING PAPER",
          "LODGING--HOTELS,MOTELS,AND RESORTS",
          "HOLIDAY INNS",
          "STATIONERY, OFFICE SUPPLIES, PRINTING AND WRITING PAPER",
          "SCHOOLS AND EDUCATIONAL SERVICES NOT ELSEWHERE CLASSIFIED",
          "STATIONERY, OFFICE SUPPLIES, PRINTING AND WRITING PAPER",
          "STATIONERY, OFFICE SUPPLIES, PRINTING AND WRITING PAPER",
          "TRAVEL AGENCIES",
          "AMERICAN AIRLINES",
          "COMFORT HOTEL INTERNATIONAL",
          "COMFORT HOTEL INTERNATIONAL",
          "COMFORT HOTEL INTERNATIONAL",
          "COMFORT HOTEL INTERNATIONAL",
          "COMFORT HOTEL INTERNATIONAL",
          "COMFORT HOTEL INTERNATIONAL",
          "COMFORT HOTEL INTERNATIONAL",
          "COMFORT HOTEL INTERNATIONAL",
          "COMFORT HOTEL INTERNATIONAL",
          "COMFORT HOTEL INTERNATIONAL",
          "MISCELLANEOUS AND SPECIALTY RETAIL STORES",
          "COMFORT HOTEL INTERNATIONAL",
          "COMFORT HOTEL INTERNATIONAL",
          "STATIONERY, OFFICE SUPPLIES, PRINTING AND WRITING PAPER",
          "HILTON GARDEN INN",
          "STATIONERY, OFFICE SUPPLIES, PRINTING AND WRITING PAPER",
          "CHARITABLE AND SOCIAL SERVICE ORGANIZATIONS",
          "COMFORT HOTEL INTERNATIONAL",
          "COMFORT HOTEL INTERNATIONAL",
          "COMFORT HOTEL INTERNATIONAL",
          "MEMBERSHIP ORGANIZATIONS--NOT ELSEWHERE CLASSIFIED",
          "STATIONERY, OFFICE SUPPLIES, PRINTING AND WRITING PAPER",
          "COMFORT HOTEL INTERNATIONAL",
          "COMFORT HOTEL INTERNATIONAL",
          "COMFORT HOTEL INTERNATIONAL",
          "COMFORT HOTEL INTERNATIONAL",
          "COMFORT HOTEL INTERNATIONAL",
          "COMFORT HOTEL INTERNATIONAL",
          "COMFORT HOTEL INTERNATIONAL",
          "CONTINUITY/SUBSCRIPTION MERCHANTS",
          "CHARITABLE AND SOCIAL SERVICE ORGANIZATIONS",
          "FAST FOOD RESTAURANTS",
          "SOUTHWEST AIRLINES",
          "INDUSTRIAL SUPPLIES NOT ELSEWHERE CLASSIFIED",
          "TRAVEL AGENCIES",
          "CHARITABLE AND SOCIAL SERVICE ORGANIZATIONS",
          "CATERERS",
          "AMERICAN AIRLINES",
          "AMERICAN AIRLINES",
          "TRAVEL AGENCIES",
          "TRAVEL AGENCIES",
          "COMPUTERS, COMPUTER PERIPHERAL EQUIPMENT, SOFTWARE",
          "CHARITABLE AND SOCIAL SERVICE ORGANIZATIONS",
          "HOBBY,TOY,AND GAME STORES",
          "ELECTRONICS STORES",
          "BUSINESS SERVICES NOT ELSEWHERE CLASSIFIED",
          "ELECTRONICS STORES",
          "CHARITABLE AND SOCIAL SERVICE ORGANIZATIONS",
          "STATIONERY, OFFICE SUPPLIES, PRINTING AND WRITING PAPER",
          "CHARITABLE AND SOCIAL SERVICE ORGANIZATIONS",
          "FAST FOOD RESTAURANTS",
          "CHARITABLE AND SOCIAL SERVICE ORGANIZATIONS",
          "STATIONERY, OFFICE SUPPLIES, PRINTING AND WRITING PAPER",
          "FAST FOOD RESTAURANTS",
          "STATIONERY, OFFICE SUPPLIES, PRINTING AND WRITING PAPER",
          "STATIONERY, OFFICE SUPPLIES, PRINTING AND WRITING PAPER",
          "STATIONERY, OFFICE SUPPLIES, PRINTING AND WRITING PAPER",
          "SOUTHWEST AIRLINES",
          "TRAVEL AGENCIES",
          "STATIONERY, OFFICE SUPPLIES, PRINTING AND WRITING PAPER",
          "PROFESSIONAL SERVICES NOT ELSEWHERE CLASSIFIED",
          "LODGING--HOTELS,MOTELS,AND RESORTS",
          "SOUTHWEST AIRLINES",
          "TRAVEL AGENCIES",
          "AMERICAN AIRLINES",
          "SOUTHWEST AIRLINES",
          "SOUTHWEST AIRLINES",
          "TRAVEL AGENCIES",
          "TRAVEL AGENCIES",
          "TRAVEL AGENCIES",
          "ELECTRONICS STORES",
          "TELECOMMUNICATION SERVICES",
          "SOUTHWEST AIRLINES",
          "TRAVEL AGENCIES",
          "TRAVEL AGENCIES",
          "SOUTHWEST AIRLINES",
          "TRAVEL AGENCIES",
          "AMERICAN AIRLINES",
          "SOUTHWEST AIRLINES",
          "TRAVEL AGENCIES",
          "SOUTHWEST AIRLINES",
          "TRAVEL AGENCIES",
          "COMPUTERS, COMPUTER PERIPHERAL EQUIPMENT, SOFTWARE",
          "MEMBERSHIP ORGANIZATIONS--NOT ELSEWHERE CLASSIFIED",
          "TRAVEL AGENCIES",
          "TRAVEL AGENCIES",
          "SOUTHWEST AIRLINES",
          "SOUTHWEST AIRLINES",
          "TRAVEL AGENCIES",
          "SOUTHWEST AIRLINES",
          "SOUTHWEST AIRLINES",
          "TRAVEL AGENCIES",
          "TRAVEL AGENCIES",
          "SOUTHWEST AIRLINES",
          "TRAVEL AGENCIES",
          "SOUTHWEST AIRLINES",
          "SOUTHWEST AIRLINES",
          "TRAVEL AGENCIES",
          "TRAVEL AGENCIES",
          "TRAVEL AGENCIES",
          "AMERICAN AIRLINES",
          "SOUTHWEST AIRLINES",
          "SOUTHWEST AIRLINES",
          "FAST FOOD RESTAURANTS",
          "SOUTHWEST AIRLINES",
          "LODGING--HOTELS,MOTELS,AND RESORTS",
          "TRAVEL AGENCIES",
          "TRAVEL AGENCIES",
          "TRAVEL AGENCIES",
          "TRAVEL AGENCIES",
          "COMMERCIAL PHOTOGRAPHY,ART,AND GRAPHICS",
          "FAST FOOD RESTAURANTS",
          "SOUTHWEST AIRLINES",
          "SOUTHWEST AIRLINES",
          "TRAVEL AGENCIES",
          "SOUTHWEST AIRLINES",
          "AMERICAN AIRLINES",
          "LODGING--HOTELS,MOTELS,AND RESORTS",
          "TROPICANA RESORT AND CASINO",
          "CHARITABLE AND SOCIAL SERVICE ORGANIZATIONS",
          "INDUSTRIAL SUPPLIES NOT ELSEWHERE CLASSIFIED",
          "STATIONERY, OFFICE SUPPLIES, PRINTING AND WRITING PAPER",
          "ELECTRONICS STORES",
          "STATIONERY, OFFICE SUPPLIES, PRINTING AND WRITING PAPER",
          "STATIONERY, OFFICE SUPPLIES, PRINTING AND WRITING PAPER",
          "CABLE, SATELLITE, AND OTHER PAY TELEVISION AND RADIO SERVICES",
          "HAMPTON INNS",
          "RENAISSANCE HOTELS",
          "RENAISSANCE HOTELS",
          "HAMPTON INNS",
          "COMFORT HOTEL INTERNATIONAL",
          "AMERICAN AIRLINES",
          "COMFORT HOTEL INTERNATIONAL",
          "COMFORT HOTEL INTERNATIONAL",
          "TRAVEL AGENCIES",
          "HAMPTON INNS",
          "RENAISSANCE HOTELS",
          "GOVERNMENT SERVICES--NOT ELSEWHERE CLASSIFIED",
          "GOVERNMENT SERVICES--NOT ELSEWHERE CLASSIFIED",
          "COMPUTERS, COMPUTER PERIPHERAL EQUIPMENT, SOFTWARE",
          "UNITED AIRLINES",
          "MEMBERSHIP ORGANIZATIONS--NOT ELSEWHERE CLASSIFIED",
          "SOUTHWEST AIRLINES",
          "TRAVEL AGENCIES",
          "TRAVEL AGENCIES",
          "SOUTHWEST AIRLINES",
          "CHARITABLE AND SOCIAL SERVICE ORGANIZATIONS",
          "PROFESSIONAL SERVICES NOT ELSEWHERE CLASSIFIED",
          "TRAVEL AGENCIES",
          "STATIONERY, OFFICE SUPPLIES, PRINTING AND WRITING PAPER",
          "STATIONERY, OFFICE SUPPLIES, PRINTING AND WRITING PAPER",
          "FAST FOOD RESTAURANTS",
          "MARRIOTT",
          "MARRIOTT",
          "EATING PLACES AND RESTAURANTS",
          "AMERICAN AIRLINES",
          "CHARITABLE AND SOCIAL SERVICE ORGANIZATIONS",
          "TRAVEL AGENCIES",
          "TRAVEL AGENCIES",
          "MARRIOTT",
          "TRAVEL AGENCIES",
          "AMERICAN AIRLINES",
          "COMFORT HOTEL INTERNATIONAL",
          "LODGING--HOTELS,MOTELS,AND RESORTS",
          "AMERICAN AIRLINES",
          "AMERICAN AIRLINES",
          "AMERICAN AIRLINES",
          "AMERICAN AIRLINES",
          "COMFORT HOTEL INTERNATIONAL",
          "BUSINESS SERVICES NOT ELSEWHERE CLASSIFIED",
          "MARRIOTT",
          "TRAVEL AGENCIES",
          "TRAVEL AGENCIES",
          "TRAVEL AGENCIES",
          "MEDICAL SERVICES & HEALTH PRACTITIONERS NOT ELSEWHERE CL",
          "LA QUINTA MOTOR INNS",
          "LA QUINTA MOTOR INNS",
          "LA QUINTA MOTOR INNS",
          "TRAVEL AGENCIES",
          "ELECTRONICS STORES",
          "TRAVEL AGENCIES",
          "LA QUINTA MOTOR INNS",
          "UNITED AIRLINES",
          "UNITED AIRLINES",
          "LA QUINTA MOTOR INNS",
          "ELECTRONICS STORES",
          "BUSINESS SERVICES NOT ELSEWHERE CLASSIFIED",
          "LA QUINTA MOTOR INNS",
          "STATIONERY, OFFICE SUPPLIES, PRINTING AND WRITING PAPER",
          "COMPUTERS, COMPUTER PERIPHERAL EQUIPMENT, SOFTWARE",
          "ELECTRONICS STORES",
          "LODGING--HOTELS,MOTELS,AND RESORTS",
          "LODGING--HOTELS,MOTELS,AND RESORTS",
          "AMERICAN AIRLINES",
          "UNITED AIRLINES",
          "AMERICAN AIRLINES",
          "MISCELLANEOUS AND SPECIALTY RETAIL STORES",
          "BOOK STORES",
          "CHARITABLE AND SOCIAL SERVICE ORGANIZATIONS",
          "TRAVEL AGENCIES",
          "TRAVEL AGENCIES",
          "TRAVEL AGENCIES",
          "UNITED AIRLINES",
          "SCHOOLS AND EDUCATIONAL SERVICES NOT ELSEWHERE CLASSIFIED",
          "TRAVEL AGENCIES",
          "TRAVEL AGENCIES",
          "TRAVEL AGENCIES",
          "TRAVEL AGENCIES",
          "TRAVEL AGENCIES",
          "TRAVEL AGENCIES",
          "UNITED AIRLINES",
          "LODGING--HOTELS,MOTELS,AND RESORTS",
          "LODGING--HOTELS,MOTELS,AND RESORTS",
          "TRAVEL AGENCIES",
          "AMERICAN AIRLINES",
          "UNITED AIRLINES",
          "AMERICAN AIRLINES",
          "UNITED AIRLINES",
          "MARRIOTT",
          "TRAVEL AGENCIES",
          "BUSINESS SERVICES NOT ELSEWHERE CLASSIFIED",
          "BEST WESTERN",
          "DELTA",
          "AMERICAN AIRLINES",
          "AMERICAN AIRLINES",
          "DELTA",
          "COMMERCIAL PHOTOGRAPHY,ART,AND GRAPHICS",
          "SCHOOLS AND EDUCATIONAL SERVICES NOT ELSEWHERE CLASSIFIED",
          "MANAGEMENT,CONSULTING AND PUBLIC RELATIONS SERVICES",
          "MARRIOTT",
          "TRAVEL AGENCIES",
          "TRAVEL AGENCIES",
          "MARRIOTT",
          "TRAVEL AGENCIES",
          "AMERICAN AIRLINES",
          "AMERICAN AIRLINES",
          "AMERICAN AIRLINES",
          "LA QUINTA MOTOR INNS",
          "AMERICAN AIRLINES",
          "AMERICAN AIRLINES",
          "STATIONERY, OFFICE SUPPLIES, PRINTING AND WRITING PAPER",
          "STATIONERY, OFFICE SUPPLIES, PRINTING AND WRITING PAPER",
          "STATIONERY, OFFICE SUPPLIES, PRINTING AND WRITING PAPER",
          "FAST FOOD RESTAURANTS",
          "FAST FOOD RESTAURANTS",
          "HAMPTON INNS",
          "TRAVEL AGENCIES",
          "TRAVEL AGENCIES",
          "HAMPTON INNS",
          "TRAVEL AGENCIES",
          "TRAVEL AGENCIES",
          "HAMPTON INNS",
          "TRAVEL AGENCIES",
          "HAMPTON INNS",
          "HAMPTON INNS",
          "COMPUTERS, COMPUTER PERIPHERAL EQUIPMENT, SOFTWARE",
          "LA QUINTA MOTOR INNS",
          "LA QUINTA MOTOR INNS",
          "LA QUINTA MOTOR INNS",
          "LA QUINTA MOTOR INNS",
          "LA QUINTA MOTOR INNS",
          "LA QUINTA MOTOR INNS",
          "LA QUINTA MOTOR INNS",
          "LA QUINTA MOTOR INNS",
          "LODGING--HOTELS,MOTELS,AND RESORTS",
          "EATING PLACES AND RESTAURANTS",
          "LODGING--HOTELS,MOTELS,AND RESORTS",
          "LODGING--HOTELS,MOTELS,AND RESORTS",
          "LA QUINTA MOTOR INNS",
          "MARRIOTT",
          "MARRIOTT",
          "MARRIOTT",
          "COMFORT HOTEL INTERNATIONAL",
          "COMFORT HOTEL INTERNATIONAL",
          "COMFORT HOTEL INTERNATIONAL",
          "COMFORT HOTEL INTERNATIONAL",
          "COMFORT HOTEL INTERNATIONAL",
          "COMFORT HOTEL INTERNATIONAL",
          "COMFORT HOTEL INTERNATIONAL",
          "COMFORT HOTEL INTERNATIONAL",
          "COMFORT HOTEL INTERNATIONAL",
          "COMFORT HOTEL INTERNATIONAL",
          "COMFORT HOTEL INTERNATIONAL",
          "HAMPTON INNS",
          "PROFESSIONAL SERVICES NOT ELSEWHERE CLASSIFIED",
          "MOTION PICTURE AND VIDEO TAPE PRODUCTION AND DISTRIBUTION",
          "HAMPTON INNS",
          "HAMPTON INNS",
          "COMFORT HOTEL INTERNATIONAL",
          "STATIONERY, OFFICE SUPPLIES, PRINTING AND WRITING PAPER",
          "CHARITABLE AND SOCIAL SERVICE ORGANIZATIONS",
          "STATIONERY, OFFICE SUPPLIES, PRINTING AND WRITING PAPER",
          "STATIONERY, OFFICE SUPPLIES, PRINTING AND WRITING PAPER",
          "BUSINESS SERVICES NOT ELSEWHERE CLASSIFIED",
          "BUSINESS SERVICES NOT ELSEWHERE CLASSIFIED",
          "COMFORT HOTEL INTERNATIONAL",
          "COMFORT HOTEL INTERNATIONAL",
          "CHARITABLE AND SOCIAL SERVICE ORGANIZATIONS",
          "PROFESSIONAL SERVICES NOT ELSEWHERE CLASSIFIED",
          "ELECTRONICS STORES",
          "HYATT HOTELS/INT'L",
          "HOTEL INDIGO GALLERIA HOUSTON",
          "SHERATON",
          "HYATT HOTELS/INT'L",
          "SHERATON",
          "HOTEL INDIGO GALLERIA HOUSTON",
          "EATING PLACES AND RESTAURANTS",
          "PROFESSIONAL SERVICES NOT ELSEWHERE CLASSIFIED",
          "TRAVEL AGENCIES",
          "COMFORT HOTEL INTERNATIONAL",
          "AMERICAN AIRLINES",
          "LODGING--HOTELS,MOTELS,AND RESORTS",
          "LODGING--HOTELS,MOTELS,AND RESORTS",
          "CHARITABLE AND SOCIAL SERVICE ORGANIZATIONS",
          "LODGING--HOTELS,MOTELS,AND RESORTS",
          "LODGING--HOTELS,MOTELS,AND RESORTS",
          "COMMERCIAL PHOTOGRAPHY,ART,AND GRAPHICS",
          "TRAVEL AGENCIES",
          "AMERICAN AIRLINES",
          "AMERICAN AIRLINES",
          "UNITED AIRLINES",
          "UNITED AIRLINES",
          "UNITED AIRLINES",
          "UNITED AIRLINES",
          "COMPUTERS, COMPUTER PERIPHERAL EQUIPMENT, SOFTWARE",
          "TRAVEL AGENCIES",
          "TRAVEL AGENCIES",
          "TRAVEL AGENCIES",
          "TRAVEL AGENCIES",
          "TRAVEL AGENCIES",
          "STATIONERY, OFFICE SUPPLIES, PRINTING AND WRITING PAPER",
          "TRAVEL AGENCIES",
          "TRAVEL AGENCIES",
          "CHARITABLE AND SOCIAL SERVICE ORGANIZATIONS",
          "CHARITABLE AND SOCIAL SERVICE ORGANIZATIONS",
          "AMERICAN AIRLINES",
          "DELTA",
          "CATALOG MERCHANTS",
          "GOVERNMENT SERVICES--NOT ELSEWHERE CLASSIFIED",
          "HOLIDAY INNS",
          "HOLIDAY INNS",
          "EMBASSY SUITES",
          "COMPUTERS, COMPUTER PERIPHERAL EQUIPMENT, SOFTWARE",
          "TRAVEL AGENCIES",
          "TRAVEL AGENCIES",
          "TRAVEL AGENCIES",
          "CHARITABLE AND SOCIAL SERVICE ORGANIZATIONS",
          "MEMBERSHIP ORGANIZATIONS--NOT ELSEWHERE CLASSIFIED",
          "AMERICAN AIRLINES",
          "AMERICAN AIRLINES",
          "AMERICAN AIRLINES",
          "SCHOOLS AND EDUCATIONAL SERVICES NOT ELSEWHERE CLASSIFIED",
          "RAMADA INNS",
          "RAMADA INNS",
          "RAMADA INNS",
          "TRAVEL AGENCIES",
          "TRAVEL AGENCIES",
          "AMERICAN AIRLINES",
          "AMERICAN AIRLINES",
          "HYATT HOTELS/INT'L",
          "CIVIC,SOCIAL AND FRATERNAL ASSOCIATIONS",
          "UNITED AIRLINES",
          "AMERICAN AIRLINES",
          "TRAVEL AGENCIES",
          "TRAVEL AGENCIES",
          "SCHOOLS AND EDUCATIONAL SERVICES NOT ELSEWHERE CLASSIFIED",
          "STATIONERY, OFFICE SUPPLIES, PRINTING AND WRITING PAPER",
          "LODGING--HOTELS,MOTELS,AND RESORTS",
          "COMFORT HOTEL INTERNATIONAL",
          "COMFORT HOTEL INTERNATIONAL",
          "COMFORT HOTEL INTERNATIONAL",
          "LODGING--HOTELS,MOTELS,AND RESORTS",
          "LODGING--HOTELS,MOTELS,AND RESORTS",
          "SHERATON",
          "SHERATON",
          "SHERATON",
          "AMERICAN AIRLINES",
          "AMERICAN AIRLINES",
          "AMERICAN AIRLINES",
          "TRAVEL AGENCIES",
          "TRAVEL AGENCIES",
          "TRAVEL AGENCIES",
          "AMERICAN AIRLINES",
          "DIRCT MARKETING/DIRCT MARKETERS--NOT ELSEWHERE CLASSIFIED",
          "AMERICAN AIRLINES",
          "STATIONERY, OFFICE SUPPLIES, PRINTING AND WRITING PAPER",
          "STATIONERY, OFFICE SUPPLIES, PRINTING AND WRITING PAPER",
          "STATIONERY, OFFICE SUPPLIES, PRINTING AND WRITING PAPER",
          "TRAVEL AGENCIES",
          "MARRIOTT",
          "MISCELLANEOUS AND SPECIALTY RETAIL STORES",
          "STATIONERY, OFFICE SUPPLIES, PRINTING AND WRITING PAPER",
          "CONTINUITY/SUBSCRIPTION MERCHANTS",
          "BOOK STORES",
          "STATIONERY, OFFICE SUPPLIES, PRINTING AND WRITING PAPER",
          "STATIONERY, OFFICE SUPPLIES, PRINTING AND WRITING PAPER",
          "BOOK STORES",
          "COMFORT HOTEL INTERNATIONAL",
          "FAST FOOD RESTAURANTS",
          "STATIONERY, OFFICE SUPPLIES, PRINTING AND WRITING PAPER",
          "AMERICAN AIRLINES",
          "FAST FOOD RESTAURANTS",
          "TRAVEL AGENCIES",
          "TRAVEL AGENCIES",
          "TRAVEL AGENCIES",
          "TRAVEL AGENCIES",
          "TRAVEL AGENCIES",
          "BOOKS, PERIODICALS AND NEWSPAPERS",
          "MISCELLANEOUS AND SPECIALTY RETAIL STORES",
          "AMERICAN AIRLINES",
          "AMERICAN AIRLINES",
          "TRAVEL AGENCIES",
          "CATALOG MERCHANTS",
          "AMERICAN AIRLINES",
          "AMERICAN AIRLINES",
          "STATIONERY, OFFICE SUPPLIES, PRINTING AND WRITING PAPER",
          "TRAVEL AGENCIES",
          "STATIONERY, OFFICE SUPPLIES, PRINTING AND WRITING PAPER",
          "STATIONERY, OFFICE SUPPLIES, PRINTING AND WRITING PAPER",
          "TRAVEL AGENCIES",
          "TRAVEL AGENCIES",
          "TRAVEL AGENCIES",
          "AMERICAN AIRLINES",
          "AMERICAN AIRLINES",
          "AMERICAN AIRLINES",
          "LOEWS HOTELS",
          "LOEWS HOTELS",
          "MISCELLANEOUS AND SPECIALTY RETAIL STORES",
          "CHARITABLE AND SOCIAL SERVICE ORGANIZATIONS",
          "SHERATON",
          "SHERATON",
          "COMPUTERS, COMPUTER PERIPHERAL EQUIPMENT, SOFTWARE",
          "COMPUTERS, COMPUTER PERIPHERAL EQUIPMENT, SOFTWARE",
          "BOOK STORES",
          "BOOK STORES",
          "AMERICAN AIRLINES",
          "TRAVEL AGENCIES",
          "HOLIDAY INNS",
          "RENAISSANCE HOTELS",
          "HAMPTON INNS",
          "HAMPTON INNS",
          "HAMPTON INNS",
          "HAMPTON INNS",
          "HAMPTON INNS",
          "HAMPTON INNS",
          "HAMPTON INNS",
          "HAMPTON INNS",
          "HAMPTON INNS",
          "HOLIDAY INNS",
          "HAMPTON INNS",
          "HAMPTON INNS",
          "RENAISSANCE HOTELS",
          "HAMPTON INNS",
          "HOLIDAY INNS",
          "COMPUTERS, COMPUTER PERIPHERAL EQUIPMENT, SOFTWARE",
          "FAST FOOD RESTAURANTS",
          "ELECTRONICS STORES",
          "FAST FOOD RESTAURANTS",
          "BOOK STORES",
          "HOLIDAY INNS",
          "HOLIDAY INNS",
          "COMPUTERS, COMPUTER PERIPHERAL EQUIPMENT, SOFTWARE",
          "MEMBERSHIP ORGANIZATIONS--NOT ELSEWHERE CLASSIFIED",
          "STATIONERY, OFFICE SUPPLIES, PRINTING AND WRITING PAPER",
          "STATIONERY, OFFICE SUPPLIES, PRINTING AND WRITING PAPER",
          "COMPUTERS, COMPUTER PERIPHERAL EQUIPMENT, SOFTWARE",
          "MARRIOTT",
          "CHARITABLE AND SOCIAL SERVICE ORGANIZATIONS",
          "COMPUTERS, COMPUTER PERIPHERAL EQUIPMENT, SOFTWARE",
          "ELECTRONICS STORES",
          "HOLIDAY INNS",
          "HOLIDAY INNS",
          "HOLIDAY INNS",
          "COMPUTERS, COMPUTER PERIPHERAL EQUIPMENT, SOFTWARE",
          "COMPUTERS, COMPUTER PERIPHERAL EQUIPMENT, SOFTWARE",
          "HOLIDAY INNS",
          "HOLIDAY INNS",
          "HOLIDAY INNS",
          "HOLIDAY INNS",
          "HOLIDAY INNS",
          "HOLIDAY INNS",
          "HOLIDAY INNS",
          "HOLIDAY INNS",
          "HOLIDAY INNS",
          "ELECTRONICS STORES",
          "STATIONERY, OFFICE SUPPLIES, PRINTING AND WRITING PAPER",
          "COLLEGES,UNIVERSITIES,PROFESSIONAL SCHLS AND JR COLLEGES",
          "TRAVEL AGENCIES",
          "TRAVEL AGENCIES",
          "AMERICAN AIRLINES",
          "AMERICAN AIRLINES",
          "COMPUTERS, COMPUTER PERIPHERAL EQUIPMENT, SOFTWARE",
          "STATIONERY, OFFICE SUPPLIES, PRINTING AND WRITING PAPER",
          "MANAGEMENT,CONSULTING AND PUBLIC RELATIONS SERVICES",
          "HILTON HOTELS",
          "TRAVEL AGENCIES",
          "TRAVEL AGENCIES",
          "SOUTHWEST AIRLINES",
          "TRAVEL AGENCIES",
          "SOUTHWEST AIRLINES",
          "TRAVEL AGENCIES",
          "SOUTHWEST AIRLINES",
          "TRAVEL AGENCIES",
          "HILTON GARDEN INN",
          "TRAVEL AGENCIES",
          "HYATT HOTELS/INT'L",
          "AMERICAN AIRLINES",
          "HYATT HOTELS/INT'L",
          "AMERICAN AIRLINES",
          "AMERICAN AIRLINES",
          "AMERICAN AIRLINES",
          "AMERICAN AIRLINES",
          "AMERICAN AIRLINES",
          "BOOK STORES",
          "FAST FOOD RESTAURANTS",
          "HAMPTON INNS",
          "GOVERNMENT SERVICES--NOT ELSEWHERE CLASSIFIED",
          "GOVERNMENT SERVICES--NOT ELSEWHERE CLASSIFIED",
          "GOVERNMENT SERVICES--NOT ELSEWHERE CLASSIFIED",
          "GOVERNMENT SERVICES--NOT ELSEWHERE CLASSIFIED",
          "GOVERNMENT SERVICES--NOT ELSEWHERE CLASSIFIED",
          "GOVERNMENT SERVICES--NOT ELSEWHERE CLASSIFIED",
          "GOVERNMENT SERVICES--NOT ELSEWHERE CLASSIFIED",
          "LODGING--HOTELS,MOTELS,AND RESORTS",
          "GOVERNMENT SERVICES--NOT ELSEWHERE CLASSIFIED",
          "GOVERNMENT SERVICES--NOT ELSEWHERE CLASSIFIED",
          "GOVERNMENT SERVICES--NOT ELSEWHERE CLASSIFIED",
          "GOVERNMENT SERVICES--NOT ELSEWHERE CLASSIFIED",
          "GOVERNMENT SERVICES--NOT ELSEWHERE CLASSIFIED",
          "GOVERNMENT SERVICES--NOT ELSEWHERE CLASSIFIED",
          "LODGING--HOTELS,MOTELS,AND RESORTS",
          "GOVERNMENT SERVICES--NOT ELSEWHERE CLASSIFIED",
          "GOVERNMENT SERVICES--NOT ELSEWHERE CLASSIFIED",
          "GOVERNMENT SERVICES--NOT ELSEWHERE CLASSIFIED",
          "GOVERNMENT SERVICES--NOT ELSEWHERE CLASSIFIED",
          "GOVERNMENT SERVICES--NOT ELSEWHERE CLASSIFIED",
          "GOVERNMENT SERVICES--NOT ELSEWHERE CLASSIFIED",
          "GOVERNMENT SERVICES--NOT ELSEWHERE CLASSIFIED",
          "HILTON GARDEN INN",
          "GOVERNMENT SERVICES--NOT ELSEWHERE CLASSIFIED",
          "GOVERNMENT SERVICES--NOT ELSEWHERE CLASSIFIED",
          "GOVERNMENT SERVICES--NOT ELSEWHERE CLASSIFIED",
          "LOEWS HOTELS",
          "LOEWS HOTELS",
          "STATIONERY, OFFICE SUPPLIES, PRINTING AND WRITING PAPER",
          "STATIONERY, OFFICE SUPPLIES, PRINTING AND WRITING PAPER",
          "STATIONERY, OFFICE SUPPLIES, PRINTING AND WRITING PAPER",
          "RESIDENCE INN",
          "BOOK STORES",
          "BOOK STORES",
          "COMPUTER NETWORK/INFORMATION SERVICES",
          "GOVERNMENT SERVICES--NOT ELSEWHERE CLASSIFIED",
          "ELECTRONICS STORES",
          "ELECTRONICS STORES",
          "MISCELLANEOUS GENERAL MERCHANDISE",
          "ELECTRONICS STORES",
          "MEMBERSHIP ORGANIZATIONS--NOT ELSEWHERE CLASSIFIED",
          "ELECTRONICS STORES",
          "BOOK STORES",
          "BOOK STORES",
          "BOOK STORES",
          "BOOK STORES",
          "HILTON GARDEN INN",
          "HILTON GARDEN INN",
          "LA QUINTA MOTOR INNS",
          "BUSINESS SERVICES NOT ELSEWHERE CLASSIFIED",
          "STATIONERY, OFFICE SUPPLIES, PRINTING AND WRITING PAPER",
          "GOVERNMENT SERVICES--NOT ELSEWHERE CLASSIFIED",
          "BOOK STORES",
          "FAST FOOD RESTAURANTS",
          "ELECTRONICS STORES",
          "ELECTRONICS STORES",
          "ELECTRONICS STORES",
          "HAMPTON INNS",
          "STATIONERY, OFFICE SUPPLIES, PRINTING AND WRITING PAPER",
          "ELECTRONICS STORES",
          "STATIONERY, OFFICE SUPPLIES, PRINTING AND WRITING PAPER",
          "ELECTRONICS STORES",
          "STATIONERY, OFFICE SUPPLIES, PRINTING AND WRITING PAPER",
          "ELECTRONICS STORES",
          "HAMPTON INNS",
          "HAMPTON INNS",
          "FAST FOOD RESTAURANTS",
          "BOOK STORES",
          "BOOK STORES",
          "BOOK STORES",
          "BOOK STORES",
          "MISCELLANEOUS AND SPECIALTY RETAIL STORES",
          "FAST FOOD RESTAURANTS",
          "BOOK STORES",
          "TRAVEL AGENCIES",
          "TRAVEL AGENCIES",
          "TRAVEL AGENCIES",
          "TRAVEL AGENCIES",
          "GOVERNMENT SERVICES--NOT ELSEWHERE CLASSIFIED",
          "GOVERNMENT SERVICES--NOT ELSEWHERE CLASSIFIED",
          "AMERICAN AIRLINES",
          "AMERICAN AIRLINES",
          "AMERICAN AIRLINES",
          "AMERICAN AIRLINES",
          "SOUTHWEST AIRLINES",
          "COMFORT HOTEL INTERNATIONAL",
          "SOUTHWEST AIRLINES",
          "COMFORT HOTEL INTERNATIONAL",
          "BOOK STORES",
          "STATIONERY, OFFICE SUPPLIES, PRINTING AND WRITING PAPER",
          "BOOK STORES",
          "TRAVEL AGENCIES",
          "TRAVEL AGENCIES",
          "STATIONERY, OFFICE SUPPLIES, PRINTING AND WRITING PAPER",
          "STATIONERY, OFFICE SUPPLIES, PRINTING AND WRITING PAPER",
          "STATIONERY, OFFICE SUPPLIES, PRINTING AND WRITING PAPER",
          "ELECTRONICS STORES",
          "COMFORT HOTEL INTERNATIONAL",
          "HOLIDAY INNS",
          "HILTON HOTELS",
          "AMERICAN AIRLINES",
          "AMERICAN AIRLINES",
          "FAST FOOD RESTAURANTS",
          "MEMBERSHIP ORGANIZATIONS--NOT ELSEWHERE CLASSIFIED",
          "ELECTRONICS STORES",
          "STATIONERY, OFFICE SUPPLIES, PRINTING AND WRITING PAPER",
          "HAMPTON INNS",
          "HAMPTON INNS",
          "MANAGEMENT,CONSULTING AND PUBLIC RELATIONS SERVICES",
          "ELECTRONICS STORES",
          "STATIONERY, OFFICE SUPPLIES, PRINTING AND WRITING PAPER",
          "STATIONERY, OFFICE SUPPLIES, PRINTING AND WRITING PAPER",
          "STATIONERY, OFFICE SUPPLIES, PRINTING AND WRITING PAPER",
          "STATIONERY, OFFICE SUPPLIES, PRINTING AND WRITING PAPER",
          "STATIONERY, OFFICE SUPPLIES, PRINTING AND WRITING PAPER",
          "STATIONERY, OFFICE SUPPLIES, PRINTING AND WRITING PAPER",
          "GLASS,PAINT,AND WALLPAPER STORES",
          "MISCELLANEOUS PUBLISHING AND PRINTING SERVICES",
          "WYNDHAM HOTELS",
          "WYNDHAM HOTELS",
          "WYNDHAM HOTELS",
          "WYNDHAM HOTELS",
          "STATIONERY, OFFICE SUPPLIES, PRINTING AND WRITING PAPER",
          "STATIONERY, OFFICE SUPPLIES, PRINTING AND WRITING PAPER",
          "STATIONERY, OFFICE SUPPLIES, PRINTING AND WRITING PAPER",
          "CHARITABLE AND SOCIAL SERVICE ORGANIZATIONS",
          "TRAVEL AGENCIES",
          "SOUTHWEST AIRLINES",
          "AMERICAN AIRLINES",
          "ELECTRONICS STORES",
          "AMERICAN AIRLINES",
          "TELECOMMUNICATION SERVICES",
          "STATIONERY, OFFICE SUPPLIES, PRINTING AND WRITING PAPER",
          "STATIONERY, OFFICE SUPPLIES, PRINTING AND WRITING PAPER",
          "STATIONERY, OFFICE SUPPLIES, PRINTING AND WRITING PAPER",
          "TRAVEL AGENCIES",
          "TRAVEL AGENCIES",
          "STATIONERY, OFFICE SUPPLIES, PRINTING AND WRITING PAPER",
          "AMERICAN AIRLINES",
          "AMERICAN AIRLINES",
          "GOVERNMENT SERVICES--NOT ELSEWHERE CLASSIFIED",
          "CHARITABLE AND SOCIAL SERVICE ORGANIZATIONS",
          "FAST FOOD RESTAURANTS",
          "LODGING--HOTELS,MOTELS,AND RESORTS",
          "STATIONERY, OFFICE SUPPLIES, PRINTING AND WRITING PAPER",
          "STATIONERY, OFFICE SUPPLIES, PRINTING AND WRITING PAPER",
          "COMMERCIAL PHOTOGRAPHY,ART,AND GRAPHICS",
          "WYNDHAM HOTELS",
          "TRAVEL AGENCIES",
          "TRAVEL AGENCIES",
          "TRAVEL AGENCIES",
          "TRAVEL AGENCIES",
          "CHARITABLE AND SOCIAL SERVICE ORGANIZATIONS",
          "UNITED AIRLINES",
          "UNITED AIRLINES",
          "UNITED AIRLINES",
          "UNITED AIRLINES",
          "MISCELLANEOUS AND SPECIALTY RETAIL STORES",
          "UNITED AIRLINES",
          "FAST FOOD RESTAURANTS",
          "COMP PROG,DATA PROCESSING,AND INTEGRATED SYS DES IGN SVCS",
          "TRAVEL AGENCIES",
          "COMPUTERS, COMPUTER PERIPHERAL EQUIPMENT, SOFTWARE",
          "SCHOOLS AND EDUCATIONAL SERVICES NOT ELSEWHERE CLASSIFIED",
          "STATIONERY, OFFICE SUPPLIES, PRINTING AND WRITING PAPER",
          "BUSINESS SERVICES NOT ELSEWHERE CLASSIFIED",
          "AMERICAN AIRLINES",
          "DIRCT MARKETING/DIRCT MARKETERS--NOT ELSEWHERE CLASSIFIED",
          "TRAVEL AGENCIES",
          "STATIONERY, OFFICE SUPPLIES, PRINTING AND WRITING PAPER",
          "BUSINESS SERVICES NOT ELSEWHERE CLASSIFIED",
          "UNITED AIRLINES",
          "TRAVEL AGENCIES",
          "COMPUTER SOFTWARE STORES",
          "COMPUTER NETWORK/INFORMATION SERVICES",
          "AMERICAN AIRLINES",
          "COMPUTERS, COMPUTER PERIPHERAL EQUIPMENT, SOFTWARE",
          "STATIONERY, OFFICE SUPPLIES, PRINTING AND WRITING PAPER",
          "PROFESSIONAL SERVICES NOT ELSEWHERE CLASSIFIED",
          "BOOK STORES",
          "BOOK STORES",
          "COMPUTER NETWORK/INFORMATION SERVICES",
          "WYNDHAM HOTELS",
          "MISCELLANEOUS PUBLISHING AND PRINTING SERVICES",
          "INFORMATION RETRIEVAL SERVICES",
          "BUSINESS SERVICES NOT ELSEWHERE CLASSIFIED",
          "WYNDHAM HOTELS",
          "DIRCT MARKETING/DIRCT MARKETERS--NOT ELSEWHERE CLASSIFIED",
          "COMMERCIAL PHOTOGRAPHY,ART,AND GRAPHICS",
          "SCHOOLS AND EDUCATIONAL SERVICES NOT ELSEWHERE CLASSIFIED",
          "COMPUTERS, COMPUTER PERIPHERAL EQUIPMENT, SOFTWARE",
          "COMPUTERS, COMPUTER PERIPHERAL EQUIPMENT, SOFTWARE",
          "FAST FOOD RESTAURANTS",
          "SHERATON",
          "SHERATON",
          "SHERATON",
          "SHERATON",
          "COMPUTERS, COMPUTER PERIPHERAL EQUIPMENT, SOFTWARE",
          "MEMBERSHIP ORGANIZATIONS--NOT ELSEWHERE CLASSIFIED",
          "BUSINESS SERVICES NOT ELSEWHERE CLASSIFIED",
          "COMFORT HOTEL INTERNATIONAL",
          "CHARITABLE AND SOCIAL SERVICE ORGANIZATIONS",
          "STATIONERY, OFFICE SUPPLIES, PRINTING AND WRITING PAPER",
          "STATIONERY, OFFICE SUPPLIES, PRINTING AND WRITING PAPER",
          "MEMBERSHIP ORGANIZATIONS--NOT ELSEWHERE CLASSIFIED",
          "MISCELLANEOUS PUBLISHING AND PRINTING SERVICES",
          "SCHOOLS AND EDUCATIONAL SERVICES NOT ELSEWHERE CLASSIFIED",
          "HOLIDAY INNS",
          "HOLIDAY INNS",
          "HOLIDAY INNS",
          "HOLIDAY INNS",
          "HOLIDAY INNS",
          "HOLIDAY INNS",
          "HOLIDAY INNS",
          "HOLIDAY INNS",
          "HOLIDAY INNS",
          "HOLIDAY INNS",
          "COMPUTERS, COMPUTER PERIPHERAL EQUIPMENT, SOFTWARE",
          "AMERICAN AIRLINES",
          "EATING PLACES AND RESTAURANTS",
          "GROCERY STORES,AND SUPERMARKETS",
          "BEST WESTERN",
          "BEST WESTERN",
          "BEST WESTERN",
          "BEST WESTERN",
          "BEST WESTERN",
          "EATING PLACES AND RESTAURANTS",
          "EATING PLACES AND RESTAURANTS",
          "EATING PLACES AND RESTAURANTS",
          "HOLIDAY INNS",
          "HOLIDAY INNS",
          "HOLIDAY INNS",
          "HOLIDAY INNS",
          "HOLIDAY INNS",
          "HOLIDAY INNS",
          "HOLIDAY INNS",
          "HOLIDAY INNS",
          "HOLIDAY INNS",
          "HOLIDAY INNS",
          "HOLIDAY INNS",
          "HOLIDAY INNS",
          "ADVERTISING SERVICES",
          "COMPUTERS, COMPUTER PERIPHERAL EQUIPMENT, SOFTWARE",
          "TRAVEL AGENCIES",
          "TRAVEL AGENCIES",
          "TRAVEL AGENCIES",
          "AMERICAN AIRLINES",
          "AMERICAN AIRLINES",
          "AMERICAN AIRLINES",
          "GROCERY STORES,AND SUPERMARKETS",
          "FAST FOOD RESTAURANTS",
          "HOLIDAY INNS",
          "COLLEGES,UNIVERSITIES,PROFESSIONAL SCHLS AND JR COLLEGES",
          "BUSINESS SERVICES NOT ELSEWHERE CLASSIFIED",
          "HAMPTON INNS",
          "COMPUTERS, COMPUTER PERIPHERAL EQUIPMENT, SOFTWARE",
          "DAYS INNS OF AMERICA",
          "TRAVEL AGENCIES",
          "TRAVEL AGENCIES",
          "AMERICAN AIRLINES",
          "AMERICAN AIRLINES",
          "COMMERCIAL PHOTOGRAPHY,ART,AND GRAPHICS"
         ],
         "x0": " ",
         "xaxis": "x",
         "y": [
          -0.020844392712254845,
          -0.03407773373070743,
          0.6417735266472184,
          0.6417735266472184,
          0.71525488114313,
          0.6417735266472184,
          -0.03905080013638483,
          -0.09277622245345708,
          0.28105977759955475,
          1,
          0.1019070984769959,
          1.2957392154336937,
          0.556940539967114,
          0.9000102273889476,
          0.9000102273889476,
          0.1019070984769959,
          0.556940539967114,
          0.1019070984769959,
          0.9433890779034788,
          0.1019070984769959,
          1.1906825386052202,
          1.1906825386052202,
          1.1380648806074096,
          1.8359039794283376,
          0.22827190058847083,
          1,
          0.5180549258176564,
          3.414173138855099,
          0.9718044115752703,
          -0.5266308507172031,
          -0.5266308507172031,
          -0.5266308507172031,
          0.1019070984769959,
          0.1019070984769959,
          0.1019070984769959,
          0.7948753681205681,
          0.23234818452755068,
          0.9171638862929632,
          1.420584952769323,
          0.9718044115752703,
          0.9718044115752703,
          0.1019070984769959,
          0.7009115639041911,
          0.5953412693026101,
          0.7406930310446992,
          0.1019070984769959,
          -0.5266308507172031,
          -0.5266308507172031,
          1,
          0.274945351690935,
          1,
          0.7406930310446992,
          0.1019070984769959,
          0.5690324403037048,
          0.5953412693026101,
          2.5391987913316116,
          2.4269886183771567,
          1,
          1.3726886164851348,
          1,
          0.5044401374611297,
          1,
          1,
          1,
          0.1019070984769959,
          7.333316332083407,
          0.36939933773328987,
          0.7691083647164907,
          1.3336263269960824,
          0.1019070984769959,
          0.214290246677427,
          0.7785801426070879,
          0.36939933773328987,
          0.1019070984769959,
          0.1019070984769959,
          0.7009115639041911,
          0.1019070984769959,
          1.096831879731153,
          0.6960858321441965,
          1,
          0.16305135756319344,
          1.0802152438561567,
          0.825983412149164,
          0.3860303607346187,
          0.3233802981527388,
          1,
          1.4266993786779427,
          0.9926423229345841,
          0.1019070984769959,
          0.33896489083479847,
          4.167631775036405,
          -0.7009115639041911,
          1.3396905484315569,
          0.10416666666666667,
          0.1019070984769959,
          0.1019070984769959,
          1.0722052572156004,
          1.5874699744640868,
          -0.04924150998408442,
          0.3677184643331986,
          1.7487258098652498,
          1.4266993786779427,
          0.672586849948173,
          1,
          0.6000068182592985,
          0.3261027151263869,
          1.6998104025962917,
          1.7141493490997461,
          -0.04638811122672854,
          1.7141493490997461,
          2.1197084111609055,
          0.6272993353849959,
          0.9490721446378371,
          0.7918406316539239,
          1.1763948140121694,
          0.9972221028564912,
          0.1019070984769959,
          0.1019070984769959,
          1.0945230004823268,
          0.4691395185486984,
          1,
          0.34240785088270626,
          1,
          1,
          0.1019070984769959,
          0.1019070984769959,
          -0.8596206742390373,
          2.5914784308673875,
          1.3525698827772767,
          1.369631403530825,
          0.07940601113327521,
          0.3233802981527388,
          -1.6169014907636938,
          0.3233802981527388,
          0.3233802981527388,
          1.293521192610955,
          0.3233802981527388,
          0.6114425908619755,
          3.48522276791326,
          1,
          1.293521192610955,
          1.293521192610955,
          1.009691523137659,
          1.009691523137659,
          1.009691523137659,
          1.009691523137659,
          0.8183616097475961,
          1.009691523137659,
          1.009691523137659,
          0.6071624927259416,
          1,
          0.1019070984769959,
          0.8183616097475961,
          0.1019070984769959,
          0.1019070984769959,
          0.8183616097475961,
          0.1019070984769959,
          0.1019070984769959,
          0.1019070984769959,
          0.1019070984769959,
          0.1019070984769959,
          0.1019070984769959,
          0.3911194439547103,
          0.7895154652731443,
          1.8958333333333333,
          0.1420584952769323,
          0.7720607214692374,
          4.550722626749339,
          0.7198551196853854,
          1.3062226356468336,
          0.6531113178234168,
          1.0722052572156004,
          1.6461949973857892,
          0.1019070984769959,
          0.1019070984769959,
          0.1019070984769959,
          1.2155982292006566,
          1.2155982292006566,
          2.7226283415558292,
          0.3233802981527388,
          0.3233802981527388,
          2.958579074762213,
          6.383527085535063,
          0.3233802981527388,
          8.511369447380083,
          0.3233802981527388,
          2.441949827351934,
          1.7724357257306496,
          null,
          0.6000068182592985,
          0.32202643118730706,
          2.017760549844519,
          2.017760549844519,
          0.11821223423331526,
          -0.09848301996816884,
          2.017760549844519,
          0.2656106614704421,
          0.6557925601191641,
          0.15273835919732145,
          0.3233802981527388,
          1.4266993786779427,
          0.6392799918180889,
          0.3233802981527388,
          -0.3233802981527388,
          0.3233802981527388,
          0.3233802981527388,
          null,
          5.380694799585384,
          1.222885181723951,
          0.9701408944582163,
          20.377343411460103,
          2.017760549844519,
          0.3233802981527388,
          -0.07854634711758088,
          1,
          6.679984999829544,
          0.3233802981527388,
          0.3233802981527388,
          0.3233802981527388,
          2.0045682337299287,
          2.0045682337299287,
          0.3233802981527388,
          0.3233802981527388,
          0.6467605963054776,
          0.3233802981527388,
          -2.0972480866565757,
          1.222885181723951,
          0.3233802981527388,
          0.19367752555629691,
          0.19367752555629691,
          0.1019070984769959,
          1.3677247274022322,
          0.6467605963054776,
          1.4983027404532194,
          0.3233802981527388,
          0.3233802981527388,
          0.1019070984769959,
          1.0248463677626145,
          0.3233802981527388,
          0.6467605963054776,
          0.6467605963054776,
          0.031013339437298802,
          0.4691395185486984,
          0.5064992621669402,
          1,
          2.4426511340226273,
          9.347367463543364,
          2.608821721011095,
          8.680405885431119,
          1.0598338241607574,
          0.06611732549187495,
          1,
          1.8343277725859264,
          1.8602571777132855,
          1,
          0.1019070984769959,
          1.2446634945526978,
          4.978653978210791,
          2.441694079508822,
          0.3233802981527388,
          0.5064992621669402,
          0.9701408944582163,
          0.3953995420907441,
          0.3169718391028481,
          1.2025037620285517,
          1,
          6.0940444889243555,
          0.3233802981527388,
          1.2188904234636526,
          0.2443732221478362,
          0.1019070984769959,
          1.613990952557759,
          1,
          0.1019070984769959,
          0.1019070984769959,
          1.7589091542838957,
          1.7589091542838957,
          1.6862529281988594,
          0.5604890416234775,
          1.8343277725859264,
          10.394524044653583,
          0.35638950479375014,
          0.3233802981527388,
          0.3233802981527388,
          0.1019070984769959,
          1.0390540345985102,
          0.8999802367990801,
          1.1000197632009199,
          1,
          0.1019070984769959,
          1.3487811716210378,
          0.3383315669436264,
          0.3383315669436264,
          0.3383315669436264,
          0.3233802981527388,
          -0.46364163229127603,
          0.3233802981527388,
          0.46364163229127603,
          0.6467605963054776,
          0.3383315669436264,
          0.3383315669436264,
          0.3383315669436264,
          0.3233802981527388,
          1,
          0.20377343411460103,
          0.20377343411460103,
          0.4891540726895804,
          0.3233802981527388,
          0.3233802981527388,
          0.3233802981527388,
          0.3233802981527388,
          0.3233802981527388,
          0.3233802981527388,
          0.3233802981527388,
          2.364244684666305,
          1.752109125534686,
          1.3558595633391939,
          1.3558595633391939,
          0.2443732221478362,
          2.5476774619248976,
          0.22011933271031117,
          0.4691395185486984,
          0.6467605963054776,
          0.6467605963054776,
          0.6467605963054776,
          0.3233802981527388,
          0.279587592716151,
          0.3233802981527388,
          0.559175185432302,
          0.3233802981527388,
          4.162375055873203,
          0.3257358495718697,
          2.074582016354082,
          2.074582016354082,
          2.074582016354082,
          1.222885181723951,
          0.1019070984769959,
          0.7937349872320434,
          -0.021506737901242384,
          1,
          0.2038141969539918,
          1,
          1.2862674375430965,
          0.1019070984769959,
          0.24050075240571034,
          3.812140739827463,
          1,
          0.5095354923849795,
          0.32329007920842184,
          -0.04300479555729227,
          0.5910611711665763,
          2.2353395821809334,
          0.1019070984769959,
          1,
          1.9634249090492912,
          0.1019070984769959,
          1.0418955679656894,
          -0.010753368950621192,
          1,
          1.0722052572156004,
          1.0722052572156004,
          0.6355786510560997,
          1.288161793121216,
          -0.15253454500036748,
          0.1019070984769959,
          0.1019070984769959,
          0.1019070984769959,
          1.0759939683718391,
          0.1019070984769959,
          0.1019070984769959,
          1.2351198369338718,
          0.3233802981527388,
          0.3233802981527388,
          1.175000365263891,
          0.3233802981527388,
          2.055529851800264,
          1.0759939683718391,
          1.0722052572156004,
          0.1019070984769959,
          0.1019070984769959,
          3.057212954309877,
          1,
          1.6264372916928547,
          1,
          1.5034965680902068,
          0.3355189310256613,
          1,
          0.3233802981527388,
          1.6016776412999825,
          0.3233802981527388,
          0.1019070984769959,
          1.6016776412999825,
          0.1019070984769959,
          0.3116139306777837,
          1,
          0.45234522871968946,
          -0.003261027151263869,
          1.019070984769959,
          1.019070984769959,
          1.019070984769959,
          1.019070984769959,
          2.9471532879547215,
          2.9471532879547215,
          2.9471532879547215,
          1.019070984769959,
          1.019070984769959,
          2.9471532879547215,
          1.1013303946605901,
          1.0526613127097224,
          1.1013303946605901,
          1.1013303946605901,
          2.5476774619248976,
          1.0722052572156004,
          2.9471532879547215,
          2.9471532879547215,
          0.1019070984769959,
          0.6974494840038766,
          0.3066180778975853,
          0.3382500412648448,
          1.3336263269960824,
          1.3336263269960824,
          1.3336263269960824,
          1.3336263269960824,
          1.3336263269960824,
          1.3336263269960824,
          0.3446922286454554,
          1.3336263269960824,
          1.3336263269960824,
          1.3970240316014417,
          0.1019070984769959,
          0.1019070984769959,
          0.1019070984769959,
          0.1019070984769959,
          0.1019070984769959,
          0.1019070984769959,
          0.1019070984769959,
          0.1019070984769959,
          1.4738086397769206,
          1.3336263269960824,
          1.365830371824113,
          1.3336263269960824,
          1.1407072975121013,
          0.1019070984769959,
          0.1019070984769959,
          0.1019070984769959,
          0.1019070984769959,
          0.3066180778975853,
          0.1019070984769959,
          1,
          1.1934440142152443,
          -0.8963340753642651,
          1,
          0.3741860702962534,
          0.1019070984769959,
          1.1934440142152443,
          0.3741860702962534,
          2.9858131504741126,
          2.9858131504741126,
          2.9858131504741126,
          2.9858131504741126,
          2.9858131504741126,
          1.6245773159483023,
          0.37558461742279614,
          1,
          1.6281812516942624,
          1.921506588058251,
          -0.29815496153222176,
          3.9283244440346645,
          0.32143855129548227,
          -0.010079137850538943,
          0.03711310448841859,
          0.09766606444320682,
          0.09766606444320682,
          0.09766606444320682,
          1,
          1.6281812516942624,
          1.4002900288268558,
          0.09766606444320682,
          1.6281812516942624,
          1.6281812516942624,
          1.6281812516942624,
          1.6281812516942624,
          0.09766606444320682,
          0.09766606444320682,
          0.09766606444320682,
          0.09766606444320682,
          0.44719337587255537,
          1.3168051254001822,
          1,
          0.09766606444320682,
          1,
          1.6281812516942624,
          1,
          0.09766606444320682,
          0.09766606444320682,
          1,
          1,
          1,
          1,
          1,
          1,
          1,
          1,
          1,
          0.6836624511024477,
          -0.05426326540464571,
          2.9443583779822444,
          1.6900416177695798,
          1.6900416177695798,
          1,
          1,
          0.5389213435976151,
          0.09766606444320682,
          1.6281812516942624,
          0.7697810340053859,
          0.6760166471078319,
          4.687971093273927,
          4.687971093273927,
          2.5483632736721407,
          1.6900416177695798,
          1.6900416177695798,
          0.6760166471078319,
          3.3978176982295207,
          2.5483632736721407,
          2.5483632736721407,
          0.09766606444320682,
          0.23466026909119078,
          1.1719927733184818,
          0.7813285155456545,
          0.38664640439777814,
          0.8008617284342959,
          1,
          1,
          1.4649909666481022,
          0.39066425777282726,
          0.39066425777282726,
          1.7961179915363505,
          1,
          1.1602728455852969,
          0.33800832355391597,
          3.0194049819004047,
          1.6900416177695798,
          1,
          5.074728708469026,
          0.7149155917242739,
          1,
          0.05469299608819582,
          1.6900416177695798,
          2.5483632736721407,
          0.386757615195099,
          4.492443632258627,
          0.07031956639910891,
          1,
          1,
          0.09766606444320682,
          1.6281812516942624,
          1,
          1,
          1,
          1,
          1,
          1,
          1,
          1,
          1,
          0.2539317675523377,
          0.3684729698586455,
          0.40625176165796306,
          0.7843548993845936,
          0.14892121506300174,
          1,
          2.267923215648594,
          3.023897620864792,
          3.3978176982295207,
          2.267923215648594,
          2.267923215648594,
          1.1719927733184818,
          15.62657031091309,
          1,
          1,
          0.38194940561592505,
          0.09766606444320682,
          0.8655353771478922,
          0.6760166471078319,
          1,
          2.4611848239688117,
          1.9884810720636907,
          1,
          1.547030460780396,
          0.6692078735648531,
          0.1562657031091309,
          1.8986282927759406,
          1,
          1,
          1,
          1,
          0.007813285155456545,
          1,
          1,
          3.3800832355391597,
          1.014024970661748,
          -0.9218895154923177,
          3.5159783199554453,
          -0.3087419629178654,
          1,
          0.09766606444320682,
          1.6281812516942624,
          0.380281312590594,
          0.380281312590594,
          0.380281312590594,
          0.380281312590594,
          0.380281312590594,
          0.380281312590594,
          0.33800832355391597,
          0.380281312590594,
          0.380281312590594,
          0.380281312590594,
          12.30592411984406,
          0.33800832355391597,
          0.33800832355391597,
          0.7059303137954989,
          1.0981319768863327,
          -0.17111094490449832,
          1.5431238182026676,
          -0.04227298903667807,
          -0.04227298903667807,
          -0.04227298903667807,
          1.406391327982178,
          -0.060513893529010945,
          -0.04227298903667807,
          -0.04227298903667807,
          0.33800832355391597,
          -0.04227298903667807,
          -0.04227298903667807,
          -0.04227298903667807,
          -0.04227298903667807,
          0.9375942186547854,
          2.3596121169478765,
          1.0576844114941526,
          0.9066009242388506,
          1,
          0.09766606444320682,
          0.17579891599777225,
          1.7521291961111303,
          1.6281812516942624,
          1.6281812516942624,
          0.09766606444320682,
          0.09766606444320682,
          1,
          1.6603230955345158,
          1.1714067769318226,
          0.039066425777282726,
          0.220529973512761,
          0.30862476364053354,
          0.09766606444320682,
          1,
          1.6017234568685919,
          0.9034110960996631,
          3.6331775972872937,
          9.065950098005116,
          0.25143151630259164,
          1,
          1,
          1,
          0.9066009242388506,
          0.09766606444320682,
          9.065950098005116,
          1.1524595604298404,
          1.0647262191948355,
          0.8614739494136217,
          0.09766606444320682,
          1.4544423986171306,
          0.9517278990640796,
          0.8614739494136217,
          0.09766606444320682,
          0.09766606444320682,
          0.09766606444320682,
          1.1714067769318226,
          1,
          0.9517278990640796,
          0.09766606444320682,
          0.09766606444320682,
          0.8614739494136217,
          0.09766606444320682,
          1.555978091973896,
          0.8614739494136217,
          0.09766606444320682,
          0.9517278990640796,
          0.09766606444320682,
          1,
          1.8190255220417633,
          0.09766606444320682,
          0.09766606444320682,
          0.9517278990640796,
          0.9517278990640796,
          0.09766606444320682,
          0.9517278990640796,
          0.8614739494136217,
          0.09766606444320682,
          0.09766606444320682,
          0.9729375772319372,
          0.09766606444320682,
          -0.02120967816785763,
          0.9517278990640796,
          0.09766606444320682,
          0.09766606444320682,
          0.09766606444320682,
          1.6281812516942624,
          0.9517278990640796,
          0.9517278990640796,
          -1.0576844114941526,
          0.8614739494136217,
          0.6608282211403442,
          0.09766606444320682,
          0.09766606444320682,
          0.09766606444320682,
          0.09766606444320682,
          1.0508868534089053,
          0.9600183470509458,
          0.8614739494136217,
          0.9517278990640796,
          0.09766606444320682,
          0.9517278990640796,
          1.6281812516942624,
          2.028049941323496,
          2.1140884236826745,
          3.5745779586213695,
          1,
          1,
          5.746983763244507,
          1,
          1,
          1.0168209301311146,
          0.33800832355391597,
          2.272293877979858,
          2.2718549061310864,
          0.33800832355391597,
          0.33800832355391597,
          1.6281812516942624,
          0.33800832355391597,
          0.33800832355391597,
          0.09766606444320682,
          0.33800832355391597,
          2.2718549061310864,
          2.5237301716382414,
          0.035159783199554456,
          0.8095414851427122,
          1.1232104033999497,
          0.23420322253480996,
          0.9517278990640796,
          0.09766606444320682,
          0.09766606444320682,
          0.8614739494136217,
          1.8556552244209294,
          4.1106474531372434,
          0.09766606444320682,
          1,
          1,
          0.25143151630259164,
          2.2718549061310864,
          2.2718549061310864,
          1.0786240157107763,
          1.6281812516942624,
          1.6603230955345158,
          0.09766606444320682,
          0.09766606444320682,
          3.40778235919663,
          0.09766606444320682,
          1.289728940505045,
          0.33800832355391597,
          0.7946111003099307,
          1.4002900288268558,
          1.4002900288268558,
          1.4002900288268558,
          1.4002900288268558,
          0.33800832355391597,
          1.3859595873006592,
          3.40778235919663,
          0.09766606444320682,
          0.09766606444320682,
          0.09766606444320682,
          1.0860466366084598,
          -0.0399903354230672,
          -0.0399903354230672,
          -0.0399903354230672,
          0.09766606444320682,
          0.773515230390198,
          0.09766606444320682,
          0.32532203712442487,
          2.4314414035833383,
          2.4314414035833383,
          0.32532203712442487,
          0.30471812106280527,
          0.5859963866592409,
          0.32532203712442487,
          1,
          0.5859963866592409,
          3.5862978863545543,
          -0.09141543631884157,
          1.3216564422806885,
          1.4002900288268558,
          1.2739344993162147,
          1.6281812516942624,
          3.672244023064576,
          1,
          2.4611848239688117,
          0.09766606444320682,
          0.09766606444320682,
          0.09766606444320682,
          1.1520916672880963,
          4.16057434528061,
          0.09766606444320682,
          -0.09766606444320682,
          0.09766606444320682,
          -0.09766606444320682,
          0.09766606444320682,
          0.09766606444320682,
          -2.4314414035833383,
          0.300811478485077,
          0.300811478485077,
          0.09766606444320682,
          1.6281812516942624,
          1.1520916672880963,
          1.921506588058251,
          -2.4314414035833383,
          0.404907633306665,
          0.09766606444320682,
          1,
          0.30728029413992364,
          1.2134643530504077,
          1.047171450819439,
          1.4002900288268558,
          1.2134643530504077,
          1.0508868534089053,
          0.580046403712297,
          1.9301939648039848,
          0.404907633306665,
          0.09766606444320682,
          0.09766606444320682,
          0.404907633306665,
          0.09766606444320682,
          1.240089268197293,
          1.047171450819439,
          1.4002900288268558,
          0.2939794471221526,
          1.2536273606448616,
          1.4002900288268558,
          1,
          0.918918918918919,
          1,
          0.4322309347998561,
          0.277879486553812,
          0.6760166471078319,
          0.09766606444320682,
          0.09766606444320682,
          0.4483658463350257,
          0.09766606444320682,
          0.09766606444320682,
          0.4483658463350257,
          0.09766606444320682,
          0.4483658463350257,
          0.6760166471078319,
          2.020721407128112,
          0.2939794471221526,
          -0.2939794471221526,
          0.2589933907750785,
          0.2589933907750785,
          0.2589933907750785,
          -0.2939794471221526,
          -0.2589933907750785,
          0.38194940561592505,
          0.300811478485077,
          2.2501089254941533,
          0.33800832355391597,
          0.300811478485077,
          0.38194940561592505,
          -0.043910662573665785,
          -0.043910662573665785,
          -0.043910662573665785,
          0.33800832355391597,
          0.33800832355391597,
          0.33800832355391597,
          0.33800832355391597,
          0.36970209103520524,
          0.33800832355391597,
          0.33800832355391597,
          0.33800832355391597,
          0.33800832355391597,
          0.3793155745232971,
          0.33800832355391597,
          -0.11035752278110972,
          0.35136343344088083,
          0.386757615195099,
          -0.11035752278110972,
          -0.11035752278110972,
          0.36970209103520524,
          1,
          1.9337880759754948,
          1.5,
          1.7142857142857142,
          0.013673249022048955,
          1.361464938338303,
          -0.03169376748128926,
          -0.03169376748128926,
          0.19533212888641363,
          0.19533212888641363,
          2.949515146184846,
          3.363138922176587,
          41.73854081079898,
          2.9038865739920325,
          3.363138922176587,
          2.9022623781515784,
          2.03536078299643,
          2.7326964831209266,
          0.5859963866592409,
          0.09766606444320682,
          -0.3793155745232971,
          1.4002900288268558,
          1.5421958991033995,
          1.5421958991033995,
          2.9299819332962045,
          1.7910051429869833,
          1.7910051429869833,
          -1.0508868534089053,
          0.09766606444320682,
          0.16020076062956295,
          1.4149562956450552,
          1.1818754706727475,
          1.1818754706727475,
          1.1818754706727475,
          1.1818754706727475,
          1.5587503885135807,
          0.09766606444320682,
          0.09766606444320682,
          0.09766606444320682,
          0.09766606444320682,
          0.09766606444320682,
          0.6522329191229483,
          0.09766606444320682,
          0.09766606444320682,
          1.1524595604298404,
          1.1524595604298404,
          1.4002900288268558,
          1.260396406868646,
          1,
          0.07813285155456545,
          0.7132414598836399,
          0.6347512860292897,
          1.4306970495154845,
          0.8178964711092009,
          0.09766606444320682,
          0.09766606444320682,
          0.09766606444320682,
          3.8675761519509897,
          1.1602728455852969,
          1.5604907894564188,
          1.240089268197293,
          1.5334146045612815,
          0.23439855466369636,
          0.42672453419059964,
          0.43651360641820003,
          0.42672453419059964,
          0.09766606444320682,
          0.09766606444320682,
          1.4002900288268558,
          1.0009163016235791,
          3.1367172425803402,
          0.39066425777282726,
          1.1818754706727475,
          1.921506588058251,
          0.09766606444320682,
          0.09766606444320682,
          0.9766606444320681,
          -1.2414919447762678,
          2.0758539756546925,
          0.6760166471078319,
          0.6760166471078319,
          0.6760166471078319,
          2.0758539756546925,
          2.0758539756546925,
          1.6307804181854517,
          1.6307804181854517,
          1.6307804181854517,
          1.6281812516942624,
          1.6281812516942624,
          1.2536273606448616,
          0.09766606444320682,
          0.09766606444320682,
          0.09766606444320682,
          -1.4002900288268558,
          0.8602036291899884,
          1.2536273606448616,
          1,
          1,
          1,
          0.09766606444320682,
          1.365641421527575,
          0.31249233979248453,
          1,
          1,
          1,
          7.275145140374476,
          1.79080495763064,
          1,
          0.2765083675410541,
          0.25143151630259164,
          1.3477670808770517,
          1.0189670915536708,
          0.9677925657806249,
          0.09766606444320682,
          0.09766606444320682,
          0.09766606444320682,
          0.09766606444320682,
          0.09766606444320682,
          1.074326708875275,
          4.336295128426828,
          1.0189670915536708,
          1.0189670915536708,
          0.09766606444320682,
          1,
          1.0189670915536708,
          1.240089268197293,
          1,
          0.09766606444320682,
          1,
          1,
          0.09766606444320682,
          0.09766606444320682,
          0.09766606444320682,
          1.6281812516942624,
          1.3168051254001822,
          1.6281812516942624,
          2.812536532262721,
          2.5030249659762815,
          5.8365240111260395,
          5.566965673262788,
          1.7758167170194958,
          1.7758167170194958,
          0.7802567058042083,
          1,
          0.46666666666666673,
          0.5333333333333333,
          0.9603020242808732,
          0.09766606444320682,
          0.5084610924318194,
          1.815148594669406,
          0.36434663448019516,
          0.36434663448019516,
          0.36434663448019516,
          0.36434663448019516,
          0.36434663448019516,
          0.36434663448019516,
          0.36434663448019516,
          0.36434663448019516,
          0.36434663448019516,
          0.33800832355391597,
          0.36434663448019516,
          0.36434663448019516,
          1.815148594669406,
          0.36434663448019516,
          0.5084610924318194,
          0.27346498044097906,
          0.25143151630259164,
          0.07809378512878816,
          0.34472214105874277,
          2,
          0.03722481277580789,
          0.03312832905913575,
          1,
          0.23420322253480996,
          1,
          9.065950098005116,
          1,
          3.328899117972424,
          0.17579891599777225,
          2.340078904059235,
          0.7149155917242739,
          0.3397642109490013,
          0.3397642109490013,
          0.3397642109490013,
          0.7802567058042083,
          0.16798563084231571,
          0.3397642109490013,
          0.3397642109490013,
          0.3397642109490013,
          0.3397642109490013,
          0.3397642109490013,
          0.3397642109490013,
          0.3397642109490013,
          0.3397642109490013,
          0.3397642109490013,
          4.254333767146089,
          1,
          2.0666139236182564,
          0.09766606444320682,
          0.09766606444320682,
          0.7933322174275258,
          0.8795247393437132,
          0.10547934959866336,
          -1.906441577931397,
          9.18061005766144,
          1.6248981954119162,
          0.09766606444320682,
          0.09766606444320682,
          0.7610664304274871,
          0.09766606444320682,
          0.7610664304274871,
          0.09766606444320682,
          0.7610664304274871,
          0.09766606444320682,
          0.35490873973161174,
          0.09766606444320682,
          2.031737304853175,
          0.5094835457768354,
          2.031737304853175,
          0.5094835457768354,
          0.5094835457768354,
          -1.0189670915536708,
          -1.0189670915536708,
          -1.0189670915536708,
          0.4101974706614686,
          0.2615106541531306,
          0.4135992759123372,
          -0.04687971093273927,
          0.7286932689603903,
          -0.04687971093273927,
          -0.04687971093273927,
          -0.04687971093273927,
          -0.04687971093273927,
          0.7286932689603903,
          1.8998701614822706,
          -0.04687971093273927,
          0.7286932689603903,
          -0.04687971093273927,
          0.004389718487713194,
          0.7286932689603903,
          0.7286932689603903,
          1.8998701614822706,
          0.7286932689603903,
          0.7286932689603903,
          0.644596025325165,
          0.7286932689603903,
          -0.04687971093273927,
          -0.04687971093273927,
          -0.04687971093273927,
          0.36434663448019516,
          0.7286932689603903,
          -0.04687971093273927,
          0.7286932689603903,
          0.013169155463139584,
          0.013169155463139584,
          1,
          1,
          1,
          3.3375029662083415,
          0.9958670366652889,
          1,
          0.5820897440815126,
          0.11719927733184818,
          0.4570771815942079,
          1.95312595673525,
          1.4845241795367436,
          0.39046892564394087,
          0.6009280742459396,
          7.414807612528262,
          1,
          1,
          1,
          1.004132963334711,
          0.33800832355391597,
          -0.31585205240933084,
          0.359956915992482,
          1.6603230955345158,
          1,
          0.7617953026570131,
          1,
          0.2916308684274156,
          0.39046892564394087,
          0.05078635351046754,
          2.1484580856216637,
          -0.04383252972211122,
          1,
          0.386757615195099,
          1,
          2.0666139236182564,
          1,
          2.340078904059235,
          1.5813521880138013,
          1.5813521880138013,
          0.9951390638247228,
          0.6156462585034014,
          1,
          1,
          0.7797619047619048,
          0.3711310448841859,
          0.2916308684274156,
          1.604591836734694,
          0.09766606444320682,
          0.09766606444320682,
          0.09766606444320682,
          0.09766606444320682,
          0.3125314062182618,
          0.21486534177505498,
          1.6281812516942624,
          1.6281812516942624,
          1.6281812516942624,
          1.6281812516942624,
          0.5816867054972018,
          0.7286932689603903,
          0.5816867054972018,
          0.7286932689603903,
          1,
          1,
          1,
          0.09766606444320682,
          0.09766606444320682,
          1,
          1,
          1,
          0.386757615195099,
          0.7286932689603903,
          0.36434663448019516,
          3.272096160741415,
          1.921506588058251,
          0.05640871853153625,
          0.2916308684274156,
          2.3244523337483223,
          0.1714625427364939,
          1,
          -0.11032358639504641,
          -0.11032358639504641,
          3.66443073790912,
          1,
          1,
          1,
          1,
          1,
          1.0810810810810811,
          1,
          1,
          0.7774218729679262,
          0.3819055084310479,
          0.3819055084310479,
          0.3819055084310479,
          0.3819055084310479,
          0.2857142857142857,
          0.5,
          1,
          1.347791689316254,
          0.09766606444320682,
          0.4758639495320398,
          -0.8140906258471312,
          1.1680861307407535,
          -1.6281812516942624,
          1,
          1,
          1,
          1,
          0.09766606444320682,
          0.09766606444320682,
          1,
          1.2220384782672014,
          1.2220384782672014,
          0.9024344354552309,
          0.4687971093273927,
          0.917084345121712,
          1.2438706306784109,
          -0.49364335612174454,
          4.586632784807655,
          1.0508868534089053,
          1.33877634438277,
          0.09766606444320682,
          0.09766606444320682,
          0.09766606444320682,
          0.09766606444320682,
          1.406391327982178,
          0.4102042011613316,
          0.4102042011613316,
          0.4102042011613316,
          0.4102042011613316,
          10.18930517123088,
          0.4463057810215148,
          0.7893761992557747,
          1,
          0.09766606444320682,
          2.2010805611436632,
          1.074326708875275,
          1.868039281392328,
          1.6952875466051838,
          1.2220384782672014,
          1,
          0.09766606444320682,
          1,
          1.5431238182026676,
          0.6155319366161236,
          0.09766606444320682,
          0.773515230390198,
          1,
          -1.921506588058251,
          1,
          0.09301715977571016,
          3.276344864237593,
          1,
          1,
          0.5820897440815126,
          1.33877634438277,
          5.322917711432103,
          0.17579891599777225,
          0.005859963866592409,
          -1.33877634438277,
          1,
          -1.0508868534089053,
          1,
          1,
          0.791327225011559,
          0.22447568251626654,
          2.89106859600791,
          2.89106859600791,
          2.89106859600791,
          2.89106859600791,
          1,
          2.3439855466369637,
          2.0314541404187016,
          0.8234233939252411,
          0.17579891599777225,
          1.7107187847872105,
          0.7460515330687683,
          2.3439855466369637,
          1.675949665845429,
          9.766606444320681,
          0.36434663448019516,
          0.36434663448019516,
          0.36434663448019516,
          0.36434663448019516,
          0.36434663448019516,
          0.36434663448019516,
          0.36434663448019516,
          0.36434663448019516,
          0.36434663448019516,
          0.36434663448019516,
          1,
          -0.5139059893097078,
          0.7299170992227505,
          1.1929323775351053,
          0.36434663448019516,
          0.36434663448019516,
          0.36434663448019516,
          0.36434663448019516,
          0.36434663448019516,
          1.176290080153983,
          0.38910160074173594,
          0.8085578143124206,
          0.4010446810374774,
          0.36434663448019516,
          0.36434663448019516,
          0.36434663448019516,
          0.36434663448019516,
          0.36434663448019516,
          0.36434663448019516,
          0.36434663448019516,
          0.36434663448019516,
          0.36434663448019516,
          0.36434663448019516,
          0.36434663448019516,
          4.838923762477348,
          1,
          0.09766606444320682,
          0.09766606444320682,
          0.09766606444320682,
          1.2545299001413661,
          1.2545299001413661,
          1.2545299001413661,
          -0.10149457416938053,
          0.263503041867772,
          0.4931848720945774,
          1.3829514725158085,
          0.5859963866592409,
          0.8286032617407426,
          0.2304919120859681,
          -0.3397642109490013,
          0.09766606444320682,
          0.09766606444320682,
          1.2545299001413661,
          1.2545299001413661,
          3.785536657818696
         ],
         "y0": " ",
         "yaxis": "y"
        }
       ],
       "layout": {
        "boxmode": "group",
        "height": 400,
        "legend": {
         "tracegroupgap": 0
        },
        "template": {
         "data": {
          "bar": [
           {
            "error_x": {
             "color": "#2a3f5f"
            },
            "error_y": {
             "color": "#2a3f5f"
            },
            "marker": {
             "line": {
              "color": "#E5ECF6",
              "width": 0.5
             }
            },
            "type": "bar"
           }
          ],
          "barpolar": [
           {
            "marker": {
             "line": {
              "color": "#E5ECF6",
              "width": 0.5
             }
            },
            "type": "barpolar"
           }
          ],
          "carpet": [
           {
            "aaxis": {
             "endlinecolor": "#2a3f5f",
             "gridcolor": "white",
             "linecolor": "white",
             "minorgridcolor": "white",
             "startlinecolor": "#2a3f5f"
            },
            "baxis": {
             "endlinecolor": "#2a3f5f",
             "gridcolor": "white",
             "linecolor": "white",
             "minorgridcolor": "white",
             "startlinecolor": "#2a3f5f"
            },
            "type": "carpet"
           }
          ],
          "choropleth": [
           {
            "colorbar": {
             "outlinewidth": 0,
             "ticks": ""
            },
            "type": "choropleth"
           }
          ],
          "contour": [
           {
            "colorbar": {
             "outlinewidth": 0,
             "ticks": ""
            },
            "colorscale": [
             [
              0,
              "#0d0887"
             ],
             [
              0.1111111111111111,
              "#46039f"
             ],
             [
              0.2222222222222222,
              "#7201a8"
             ],
             [
              0.3333333333333333,
              "#9c179e"
             ],
             [
              0.4444444444444444,
              "#bd3786"
             ],
             [
              0.5555555555555556,
              "#d8576b"
             ],
             [
              0.6666666666666666,
              "#ed7953"
             ],
             [
              0.7777777777777778,
              "#fb9f3a"
             ],
             [
              0.8888888888888888,
              "#fdca26"
             ],
             [
              1,
              "#f0f921"
             ]
            ],
            "type": "contour"
           }
          ],
          "contourcarpet": [
           {
            "colorbar": {
             "outlinewidth": 0,
             "ticks": ""
            },
            "type": "contourcarpet"
           }
          ],
          "heatmap": [
           {
            "colorbar": {
             "outlinewidth": 0,
             "ticks": ""
            },
            "colorscale": [
             [
              0,
              "#0d0887"
             ],
             [
              0.1111111111111111,
              "#46039f"
             ],
             [
              0.2222222222222222,
              "#7201a8"
             ],
             [
              0.3333333333333333,
              "#9c179e"
             ],
             [
              0.4444444444444444,
              "#bd3786"
             ],
             [
              0.5555555555555556,
              "#d8576b"
             ],
             [
              0.6666666666666666,
              "#ed7953"
             ],
             [
              0.7777777777777778,
              "#fb9f3a"
             ],
             [
              0.8888888888888888,
              "#fdca26"
             ],
             [
              1,
              "#f0f921"
             ]
            ],
            "type": "heatmap"
           }
          ],
          "heatmapgl": [
           {
            "colorbar": {
             "outlinewidth": 0,
             "ticks": ""
            },
            "colorscale": [
             [
              0,
              "#0d0887"
             ],
             [
              0.1111111111111111,
              "#46039f"
             ],
             [
              0.2222222222222222,
              "#7201a8"
             ],
             [
              0.3333333333333333,
              "#9c179e"
             ],
             [
              0.4444444444444444,
              "#bd3786"
             ],
             [
              0.5555555555555556,
              "#d8576b"
             ],
             [
              0.6666666666666666,
              "#ed7953"
             ],
             [
              0.7777777777777778,
              "#fb9f3a"
             ],
             [
              0.8888888888888888,
              "#fdca26"
             ],
             [
              1,
              "#f0f921"
             ]
            ],
            "type": "heatmapgl"
           }
          ],
          "histogram": [
           {
            "marker": {
             "colorbar": {
              "outlinewidth": 0,
              "ticks": ""
             }
            },
            "type": "histogram"
           }
          ],
          "histogram2d": [
           {
            "colorbar": {
             "outlinewidth": 0,
             "ticks": ""
            },
            "colorscale": [
             [
              0,
              "#0d0887"
             ],
             [
              0.1111111111111111,
              "#46039f"
             ],
             [
              0.2222222222222222,
              "#7201a8"
             ],
             [
              0.3333333333333333,
              "#9c179e"
             ],
             [
              0.4444444444444444,
              "#bd3786"
             ],
             [
              0.5555555555555556,
              "#d8576b"
             ],
             [
              0.6666666666666666,
              "#ed7953"
             ],
             [
              0.7777777777777778,
              "#fb9f3a"
             ],
             [
              0.8888888888888888,
              "#fdca26"
             ],
             [
              1,
              "#f0f921"
             ]
            ],
            "type": "histogram2d"
           }
          ],
          "histogram2dcontour": [
           {
            "colorbar": {
             "outlinewidth": 0,
             "ticks": ""
            },
            "colorscale": [
             [
              0,
              "#0d0887"
             ],
             [
              0.1111111111111111,
              "#46039f"
             ],
             [
              0.2222222222222222,
              "#7201a8"
             ],
             [
              0.3333333333333333,
              "#9c179e"
             ],
             [
              0.4444444444444444,
              "#bd3786"
             ],
             [
              0.5555555555555556,
              "#d8576b"
             ],
             [
              0.6666666666666666,
              "#ed7953"
             ],
             [
              0.7777777777777778,
              "#fb9f3a"
             ],
             [
              0.8888888888888888,
              "#fdca26"
             ],
             [
              1,
              "#f0f921"
             ]
            ],
            "type": "histogram2dcontour"
           }
          ],
          "mesh3d": [
           {
            "colorbar": {
             "outlinewidth": 0,
             "ticks": ""
            },
            "type": "mesh3d"
           }
          ],
          "parcoords": [
           {
            "line": {
             "colorbar": {
              "outlinewidth": 0,
              "ticks": ""
             }
            },
            "type": "parcoords"
           }
          ],
          "pie": [
           {
            "automargin": true,
            "type": "pie"
           }
          ],
          "scatter": [
           {
            "marker": {
             "colorbar": {
              "outlinewidth": 0,
              "ticks": ""
             }
            },
            "type": "scatter"
           }
          ],
          "scatter3d": [
           {
            "line": {
             "colorbar": {
              "outlinewidth": 0,
              "ticks": ""
             }
            },
            "marker": {
             "colorbar": {
              "outlinewidth": 0,
              "ticks": ""
             }
            },
            "type": "scatter3d"
           }
          ],
          "scattercarpet": [
           {
            "marker": {
             "colorbar": {
              "outlinewidth": 0,
              "ticks": ""
             }
            },
            "type": "scattercarpet"
           }
          ],
          "scattergeo": [
           {
            "marker": {
             "colorbar": {
              "outlinewidth": 0,
              "ticks": ""
             }
            },
            "type": "scattergeo"
           }
          ],
          "scattergl": [
           {
            "marker": {
             "colorbar": {
              "outlinewidth": 0,
              "ticks": ""
             }
            },
            "type": "scattergl"
           }
          ],
          "scattermapbox": [
           {
            "marker": {
             "colorbar": {
              "outlinewidth": 0,
              "ticks": ""
             }
            },
            "type": "scattermapbox"
           }
          ],
          "scatterpolar": [
           {
            "marker": {
             "colorbar": {
              "outlinewidth": 0,
              "ticks": ""
             }
            },
            "type": "scatterpolar"
           }
          ],
          "scatterpolargl": [
           {
            "marker": {
             "colorbar": {
              "outlinewidth": 0,
              "ticks": ""
             }
            },
            "type": "scatterpolargl"
           }
          ],
          "scatterternary": [
           {
            "marker": {
             "colorbar": {
              "outlinewidth": 0,
              "ticks": ""
             }
            },
            "type": "scatterternary"
           }
          ],
          "surface": [
           {
            "colorbar": {
             "outlinewidth": 0,
             "ticks": ""
            },
            "colorscale": [
             [
              0,
              "#0d0887"
             ],
             [
              0.1111111111111111,
              "#46039f"
             ],
             [
              0.2222222222222222,
              "#7201a8"
             ],
             [
              0.3333333333333333,
              "#9c179e"
             ],
             [
              0.4444444444444444,
              "#bd3786"
             ],
             [
              0.5555555555555556,
              "#d8576b"
             ],
             [
              0.6666666666666666,
              "#ed7953"
             ],
             [
              0.7777777777777778,
              "#fb9f3a"
             ],
             [
              0.8888888888888888,
              "#fdca26"
             ],
             [
              1,
              "#f0f921"
             ]
            ],
            "type": "surface"
           }
          ],
          "table": [
           {
            "cells": {
             "fill": {
              "color": "#EBF0F8"
             },
             "line": {
              "color": "white"
             }
            },
            "header": {
             "fill": {
              "color": "#C8D4E3"
             },
             "line": {
              "color": "white"
             }
            },
            "type": "table"
           }
          ]
         },
         "layout": {
          "annotationdefaults": {
           "arrowcolor": "#2a3f5f",
           "arrowhead": 0,
           "arrowwidth": 1
          },
          "coloraxis": {
           "colorbar": {
            "outlinewidth": 0,
            "ticks": ""
           }
          },
          "colorscale": {
           "diverging": [
            [
             0,
             "#8e0152"
            ],
            [
             0.1,
             "#c51b7d"
            ],
            [
             0.2,
             "#de77ae"
            ],
            [
             0.3,
             "#f1b6da"
            ],
            [
             0.4,
             "#fde0ef"
            ],
            [
             0.5,
             "#f7f7f7"
            ],
            [
             0.6,
             "#e6f5d0"
            ],
            [
             0.7,
             "#b8e186"
            ],
            [
             0.8,
             "#7fbc41"
            ],
            [
             0.9,
             "#4d9221"
            ],
            [
             1,
             "#276419"
            ]
           ],
           "sequential": [
            [
             0,
             "#0d0887"
            ],
            [
             0.1111111111111111,
             "#46039f"
            ],
            [
             0.2222222222222222,
             "#7201a8"
            ],
            [
             0.3333333333333333,
             "#9c179e"
            ],
            [
             0.4444444444444444,
             "#bd3786"
            ],
            [
             0.5555555555555556,
             "#d8576b"
            ],
            [
             0.6666666666666666,
             "#ed7953"
            ],
            [
             0.7777777777777778,
             "#fb9f3a"
            ],
            [
             0.8888888888888888,
             "#fdca26"
            ],
            [
             1,
             "#f0f921"
            ]
           ],
           "sequentialminus": [
            [
             0,
             "#0d0887"
            ],
            [
             0.1111111111111111,
             "#46039f"
            ],
            [
             0.2222222222222222,
             "#7201a8"
            ],
            [
             0.3333333333333333,
             "#9c179e"
            ],
            [
             0.4444444444444444,
             "#bd3786"
            ],
            [
             0.5555555555555556,
             "#d8576b"
            ],
            [
             0.6666666666666666,
             "#ed7953"
            ],
            [
             0.7777777777777778,
             "#fb9f3a"
            ],
            [
             0.8888888888888888,
             "#fdca26"
            ],
            [
             1,
             "#f0f921"
            ]
           ]
          },
          "colorway": [
           "#636efa",
           "#EF553B",
           "#00cc96",
           "#ab63fa",
           "#FFA15A",
           "#19d3f3",
           "#FF6692",
           "#B6E880",
           "#FF97FF",
           "#FECB52"
          ],
          "font": {
           "color": "#2a3f5f"
          },
          "geo": {
           "bgcolor": "white",
           "lakecolor": "white",
           "landcolor": "#E5ECF6",
           "showlakes": true,
           "showland": true,
           "subunitcolor": "white"
          },
          "hoverlabel": {
           "align": "left"
          },
          "hovermode": "closest",
          "mapbox": {
           "style": "light"
          },
          "paper_bgcolor": "white",
          "plot_bgcolor": "#E5ECF6",
          "polar": {
           "angularaxis": {
            "gridcolor": "white",
            "linecolor": "white",
            "ticks": ""
           },
           "bgcolor": "#E5ECF6",
           "radialaxis": {
            "gridcolor": "white",
            "linecolor": "white",
            "ticks": ""
           }
          },
          "scene": {
           "xaxis": {
            "backgroundcolor": "#E5ECF6",
            "gridcolor": "white",
            "gridwidth": 2,
            "linecolor": "white",
            "showbackground": true,
            "ticks": "",
            "zerolinecolor": "white"
           },
           "yaxis": {
            "backgroundcolor": "#E5ECF6",
            "gridcolor": "white",
            "gridwidth": 2,
            "linecolor": "white",
            "showbackground": true,
            "ticks": "",
            "zerolinecolor": "white"
           },
           "zaxis": {
            "backgroundcolor": "#E5ECF6",
            "gridcolor": "white",
            "gridwidth": 2,
            "linecolor": "white",
            "showbackground": true,
            "ticks": "",
            "zerolinecolor": "white"
           }
          },
          "shapedefaults": {
           "line": {
            "color": "#2a3f5f"
           }
          },
          "ternary": {
           "aaxis": {
            "gridcolor": "white",
            "linecolor": "white",
            "ticks": ""
           },
           "baxis": {
            "gridcolor": "white",
            "linecolor": "white",
            "ticks": ""
           },
           "bgcolor": "#E5ECF6",
           "caxis": {
            "gridcolor": "white",
            "linecolor": "white",
            "ticks": ""
           }
          },
          "title": {
           "x": 0.05
          },
          "xaxis": {
           "automargin": true,
           "gridcolor": "white",
           "linecolor": "white",
           "ticks": "",
           "title": {
            "standoff": 15
           },
           "zerolinecolor": "white",
           "zerolinewidth": 2
          },
          "yaxis": {
           "automargin": true,
           "gridcolor": "white",
           "linecolor": "white",
           "ticks": "",
           "title": {
            "standoff": 15
           },
           "zerolinecolor": "white",
           "zerolinewidth": 2
          }
         }
        },
        "title": {
         "text": "Ratio of amount spend and average spending by description for transaction"
        },
        "width": 900,
        "xaxis": {
         "anchor": "y",
         "domain": [
          0,
          1
         ],
         "title": {
          "text": "Merchant_Category"
         }
        },
        "yaxis": {
         "anchor": "x",
         "domain": [
          0,
          1
         ],
         "title": {
          "text": "ratio_amount_by_agency_by_Description"
         }
        }
       }
      },
      "text/html": [
       "<div>                            <div id=\"80bc4cde-f6dc-4b69-b6d9-9c5d9c6e9a20\" class=\"plotly-graph-div\" style=\"height:400px; width:900px;\"></div>            <script type=\"text/javascript\">                require([\"plotly\"], function(Plotly) {                    window.PLOTLYENV=window.PLOTLYENV || {};                                    if (document.getElementById(\"80bc4cde-f6dc-4b69-b6d9-9c5d9c6e9a20\")) {                    Plotly.newPlot(                        \"80bc4cde-f6dc-4b69-b6d9-9c5d9c6e9a20\",                        [{\"alignmentgroup\": \"True\", \"hovertemplate\": \"Merchant_Category=%{x}<br>ratio_amount_by_agency_by_Description=%{y}<extra></extra>\", \"legendgroup\": \"\", \"marker\": {\"color\": \"#636efa\"}, \"name\": \"\", \"notched\": false, \"offsetgroup\": \"\", \"orientation\": \"v\", \"showlegend\": false, \"type\": \"box\", \"x\": [\"HOLIDAY INNS\", \"HOLIDAY INNS\", \"BEST WESTERN\", \"BEST WESTERN\", \"HYATT HOTELS/INT'L\", \"BEST WESTERN\", \"LODGING--HOTELS,MOTELS,AND RESORTS\", \"HAMPTON INNS\", \"ELECTRONICS STORES\", \"BOOK STORES\", \"TRAVEL AGENCIES\", \"UNITED AIRLINES\", \"AMERICAN AIRLINES\", \"COMFORT HOTEL INTERNATIONAL\", \"COMFORT HOTEL INTERNATIONAL\", \"TRAVEL AGENCIES\", \"AMERICAN AIRLINES\", \"TRAVEL AGENCIES\", \"AMERICAN AIRLINES\", \"TRAVEL AGENCIES\", \"MARRIOTT\", \"MARRIOTT\", \"MARRIOTT\", \"SHERATON\", \"GOVERNMENT SERVICES--NOT ELSEWHERE CLASSIFIED\", \"TRADE AND VOCATIONAL SCHOOLS\", \"FAST FOOD RESTAURANTS\", \"PROFESSIONAL SERVICES NOT ELSEWHERE CLASSIFIED\", \"DELTA\", \"AMERICAN AIRLINES\", \"AMERICAN AIRLINES\", \"AMERICAN AIRLINES\", \"TRAVEL AGENCIES\", \"TRAVEL AGENCIES\", \"TRAVEL AGENCIES\", \"CIVIC,SOCIAL AND FRATERNAL ASSOCIATIONS\", \"ADVERTISING SERVICES\", \"CIVIC,SOCIAL AND FRATERNAL ASSOCIATIONS\", \"BUSINESS SERVICES NOT ELSEWHERE CLASSIFIED\", \"DELTA\", \"DELTA\", \"TRAVEL AGENCIES\", \"AMERICAN AIRLINES\", \"MARRIOTT\", \"AMERICAN AIRLINES\", \"TRAVEL AGENCIES\", \"AMERICAN AIRLINES\", \"AMERICAN AIRLINES\", \"BOOK STORES\", \"FAST FOOD RESTAURANTS\", \"BOOK STORES\", \"AMERICAN AIRLINES\", \"TRAVEL AGENCIES\", \"MARRIOTT\", \"MARRIOTT\", \"HYATT HOTELS/INT'L\", \"HYATT HOTELS/INT'L\", \"BOOK STORES\", \"BUSINESS SERVICES NOT ELSEWHERE CLASSIFIED\", \"BOOK STORES\", \"MEMBERSHIP ORGANIZATIONS--NOT ELSEWHERE CLASSIFIED\", \"COMPUTER NETWORK/INFORMATION SERVICES\", \"BOOK STORES\", \"BOOK STORES\", \"TRAVEL AGENCIES\", \"MISCELLANEOUS GENERAL MERCHANDISE\", \"AMERICAN AIRLINES\", \"UNITED AIRLINES\", \"AMERICAN AIRLINES\", \"TRAVEL AGENCIES\", \"FAST FOOD RESTAURANTS\", \"UNITED AIRLINES\", \"AMERICAN AIRLINES\", \"TRAVEL AGENCIES\", \"TRAVEL AGENCIES\", \"AMERICAN AIRLINES\", \"TRAVEL AGENCIES\", \"AMERICAN AIRLINES\", \"HILTON HOTELS\", \"BOOK STORES\", \"CHARITABLE AND SOCIAL SERVICE ORGANIZATIONS\", \"BUSINESS SERVICES NOT ELSEWHERE CLASSIFIED\", \"RAMADA INNS\", \"STAYBRIDGE SUITES\", \"LA QUINTA MOTOR INNS\", \"BOOK STORES\", \"CHARITABLE AND SOCIAL SERVICE ORGANIZATIONS\", \"UNITED AIRLINES\", \"TRAVEL AGENCIES\", \"HILTON HOTELS\", \"HILTON HOTELS\", \"AMERICAN AIRLINES\", \"HILTON HOTELS\", \"MISCELLANEOUS AND SPECIALTY RETAIL STORES\", \"TRAVEL AGENCIES\", \"TRAVEL AGENCIES\", \"AMERICAN AIRLINES\", \"AMERICAN AIRLINES\", \"STAYBRIDGE SUITES\", \"HAMPTON INNS\", \"MEMBERSHIP ORGANIZATIONS--NOT ELSEWHERE CLASSIFIED\", \"BUSINESS SERVICES NOT ELSEWHERE CLASSIFIED\", \"ELEMENTARY AND SECONDARY SCHOOLS\", \"BOOK STORES\", \"BEST WESTERN\", \"CHARITABLE AND SOCIAL SERVICE ORGANIZATIONS\", \"MISCELLANEOUS AND SPECIALTY RETAIL STORES\", \"HYATT HOTELS/INT'L\", \"HAMPTON INNS\", \"HYATT HOTELS/INT'L\", \"CHARITABLE AND SOCIAL SERVICE ORGANIZATIONS\", \"BOOK STORES\", \"AMERICAN AIRLINES\", \"DELTA\", \"AMERICAN AIRLINES\", \"ELEMENTARY AND SECONDARY SCHOOLS\", \"TRAVEL AGENCIES\", \"TRAVEL AGENCIES\", \"FURNITURE,HOME FURNISHINGS AND EQUIPMENT STORES\", \"FAST FOOD RESTAURANTS\", \"BOOK STORES\", \"MEMBERSHIP ORGANIZATIONS--NOT ELSEWHERE CLASSIFIED\", \"BOOK STORES\", \"COMPUTER NETWORK/INFORMATION SERVICES\", \"TRAVEL AGENCIES\", \"TRAVEL AGENCIES\", \"AMERICAN AIRLINES\", \"UNITED AIRLINES\", \"AMERICAN AIRLINES\", \"DENTAL/LABORATORY/MEDICAL/OPHTHALMIC HOSP EQIP AND SUP.\", \"ELECTRONICS STORES\", \"LA QUINTA MOTOR INNS\", \"LA QUINTA MOTOR INNS\", \"LA QUINTA MOTOR INNS\", \"LA QUINTA MOTOR INNS\", \"LA QUINTA MOTOR INNS\", \"LA QUINTA MOTOR INNS\", \"CHARITABLE AND SOCIAL SERVICE ORGANIZATIONS\", \"MEMBERSHIP ORGANIZATIONS--NOT ELSEWHERE CLASSIFIED\", \"TRADE AND VOCATIONAL SCHOOLS\", \"HOLIDAY INNS\", \"HOLIDAY INNS\", \"AMERICAN AIRLINES\", \"AMERICAN AIRLINES\", \"AMERICAN AIRLINES\", \"AMERICAN AIRLINES\", \"SOUTHWEST AIRLINES\", \"AMERICAN AIRLINES\", \"AMERICAN AIRLINES\", \"DIRCT MARKETING/DIRCT MARKETERS--NOT ELSEWHERE CLASSIFIED\", \"DIRCT MARKETING/DIRCT MARKETERS--NOT ELSEWHERE CLASSIFIED\", \"TRAVEL AGENCIES\", \"SOUTHWEST AIRLINES\", \"TRAVEL AGENCIES\", \"TRAVEL AGENCIES\", \"SOUTHWEST AIRLINES\", \"TRAVEL AGENCIES\", \"TRAVEL AGENCIES\", \"TRAVEL AGENCIES\", \"TRAVEL AGENCIES\", \"TRAVEL AGENCIES\", \"TRAVEL AGENCIES\", \"STATIONERY,OFFICE AND SCHOOL SUPPLY STORES\", \"HOLIDAY INNS\", \"SCHOOLS AND EDUCATIONAL SERVICES NOT ELSEWHERE CLASSIFIED\", \"CHARITABLE AND SOCIAL SERVICE ORGANIZATIONS\", \"STAYBRIDGE SUITES\", \"HOBBY,TOY,AND GAME STORES\", \"AMERICAN AIRLINES\", \"DISNEY RESORTS\", \"DISNEY RESORTS\", \"AMERICAN AIRLINES\", \"AMERICAN AIRLINES\", \"TRAVEL AGENCIES\", \"TRAVEL AGENCIES\", \"TRAVEL AGENCIES\", \"SHERATON\", \"SHERATON\", \"HILTON HOTELS\", \"HILTON GARDEN INN\", \"HILTON GARDEN INN\", \"HYATT HOTELS/INT'L\", \"SHERATON\", \"HILTON GARDEN INN\", \"SHERATON\", \"HILTON GARDEN INN\", \"MARRIOTT\", \"HOMEWOOD SUITES\", \"COMPUTERS, COMPUTER PERIPHERAL EQUIPMENT, SOFTWARE\", \"BEST WESTERN\", \"CHARITABLE AND SOCIAL SERVICE ORGANIZATIONS\", \"MEMBERSHIP ORGANIZATIONS--NOT ELSEWHERE CLASSIFIED\", \"MEMBERSHIP ORGANIZATIONS--NOT ELSEWHERE CLASSIFIED\", \"PROFESSIONAL SERVICES NOT ELSEWHERE CLASSIFIED\", \"STAYBRIDGE SUITES\", \"MEMBERSHIP ORGANIZATIONS--NOT ELSEWHERE CLASSIFIED\", \"FAST FOOD RESTAURANTS\", \"CATALOG MERCHANTS\", \"FAST FOOD RESTAURANTS\", \"LA QUINTA MOTOR INNS\", \"BUSINESS SERVICES NOT ELSEWHERE CLASSIFIED\", \"SUPER 8 MOTEL\", \"LA QUINTA MOTOR INNS\", \"LA QUINTA MOTOR INNS\", \"LA QUINTA MOTOR INNS\", \"LA QUINTA MOTOR INNS\", \"COMPUTERS, COMPUTER PERIPHERAL EQUIPMENT, SOFTWARE\", \"STATIONERY, OFFICE SUPPLIES, PRINTING AND WRITING PAPER\", \"PROFESSIONAL SERVICES NOT ELSEWHERE CLASSIFIED\", \"LA QUINTA MOTOR INNS\", \"COMPUTERS, COMPUTER PERIPHERAL EQUIPMENT, SOFTWARE\", \"MEMBERSHIP ORGANIZATIONS--NOT ELSEWHERE CLASSIFIED\", \"HOLIDAY INNS\", \"SUPER 8 MOTEL\", \"STATIONERY, OFFICE SUPPLIES, PRINTING AND WRITING PAPER\", \"OMNI INTERNATIONAL\", \"HOLIDAY INNS\", \"HOLIDAY INNS\", \"HOLIDAY INNS\", \"MARRIOTT\", \"MARRIOTT\", \"HOLIDAY INNS\", \"HOLIDAY INNS\", \"FAIRFIELD INN\", \"HOLIDAY INNS\", \"MARRIOTT\", \"CHARITABLE AND SOCIAL SERVICE ORGANIZATIONS\", \"BEST WESTERN\", \"SHERATON\", \"SHERATON\", \"TRAVEL AGENCIES\", \"AMERICAN AIRLINES\", \"SPRINGHILL SUITES\", \"COURTYARD BY MARRIOTT\", \"HOLIDAY INNS\", \"HOLIDAY INNS\", \"TRAVEL AGENCIES\", \"AMERICAN AIRLINES\", \"HOLIDAY INNS\", \"SPRINGHILL SUITES\", \"SPRINGHILL SUITES\", \"MARRIOTT\", \"FAST FOOD RESTAURANTS\", \"LA QUINTA MOTOR INNS\", \"COMPUTERS, COMPUTER PERIPHERAL EQUIPMENT, SOFTWARE\", \"MARRIOTT\", \"STATIONERY,OFFICE AND SCHOOL SUPPLY STORES\", \"MEMBERSHIP ORGANIZATIONS--NOT ELSEWHERE CLASSIFIED\", \"STATIONERY,OFFICE AND SCHOOL SUPPLY STORES\", \"BUSINESS SERVICES NOT ELSEWHERE CLASSIFIED\", \"STATIONERY, OFFICE SUPPLIES, PRINTING AND WRITING PAPER\", \"CONTINUITY/SUBSCRIPTION MERCHANTS\", \"ADVERTISING SERVICES\", \"AMERICAN AIRLINES\", \"STATIONERY,OFFICE AND SCHOOL SUPPLY STORES\", \"TRAVEL AGENCIES\", \"LODGING--HOTELS,MOTELS,AND RESORTS\", \"LODGING--HOTELS,MOTELS,AND RESORTS\", \"COMPUTERS, COMPUTER PERIPHERAL EQUIPMENT, SOFTWARE\", \"HOLIDAY INNS\", \"LA QUINTA MOTOR INNS\", \"LA QUINTA MOTOR INNS\", \"COMPUTER SOFTWARE STORES\", \"FAST FOOD RESTAURANTS\", \"ELECTRONICS STORES\", \"COMPUTERS, COMPUTER PERIPHERAL EQUIPMENT, SOFTWARE\", \"ELECTRONICS STORES\", \"LODGING--HOTELS,MOTELS,AND RESORTS\", \"MEMBERSHIP ORGANIZATIONS--NOT ELSEWHERE CLASSIFIED\", \"MEMBERSHIP ORGANIZATIONS--NOT ELSEWHERE CLASSIFIED\", \"TRAVEL AGENCIES\", \"AMERICAN AIRLINES\", \"SCHOOLS AND EDUCATIONAL SERVICES NOT ELSEWHERE CLASSIFIED\", \"TRAVEL AGENCIES\", \"TRAVEL AGENCIES\", \"AMERICAN AIRLINES\", \"AMERICAN AIRLINES\", \"LODGING--HOTELS,MOTELS,AND RESORTS\", \"CHARITABLE AND SOCIAL SERVICE ORGANIZATIONS\", \"BUSINESS SERVICES NOT ELSEWHERE CLASSIFIED\", \"BUSINESS SERVICES NOT ELSEWHERE CLASSIFIED\", \"FAST FOOD RESTAURANTS\", \"FAIRFIELD INN\", \"FAIRFIELD INN\", \"TRAVEL AGENCIES\", \"AMERICAN AIRLINES\", \"BOOK STORES\", \"BOOK STORES\", \"TELECOMMUNICATION SERVICES\", \"TRAVEL AGENCIES\", \"AMERICAN AIRLINES\", \"LA QUINTA MOTOR INNS\", \"LA QUINTA MOTOR INNS\", \"LA QUINTA MOTOR INNS\", \"HOLIDAY INNS\", \"HOLIDAY INNS\", \"HOLIDAY INNS\", \"HOLIDAY INNS\", \"HOLIDAY INNS\", \"LA QUINTA MOTOR INNS\", \"LA QUINTA MOTOR INNS\", \"LA QUINTA MOTOR INNS\", \"HILTON GARDEN INN\", \"COMPUTERS, COMPUTER PERIPHERAL EQUIPMENT, SOFTWARE\", \"ELECTRONICS STORES\", \"ELECTRONICS STORES\", \"MEMBERSHIP ORGANIZATIONS--NOT ELSEWHERE CLASSIFIED\", \"HOLIDAY INNS\", \"COMFORT HOTEL INTERNATIONAL\", \"COMFORT HOTEL INTERNATIONAL\", \"COMFORT HOTEL INTERNATIONAL\", \"HAMPTON INNS\", \"HAMPTON INNS\", \"HAMPTON INNS\", \"TYPESETTING, PLATE MAKING & RELATED SERVICES\", \"DRAPERY,WINDOW COVERING,AND UPHOLSTERY STORES\", \"LODGING--HOTELS,MOTELS,AND RESORTS\", \"LODGING--HOTELS,MOTELS,AND RESORTS\", \"MEMBERSHIP ORGANIZATIONS--NOT ELSEWHERE CLASSIFIED\", \"MEMBERSHIP ORGANIZATIONS--NOT ELSEWHERE CLASSIFIED\", \"MEMBERSHIP ORGANIZATIONS--NOT ELSEWHERE CLASSIFIED\", \"FAST FOOD RESTAURANTS\", \"LODGING--HOTELS,MOTELS,AND RESORTS\", \"LODGING--HOTELS,MOTELS,AND RESORTS\", \"LODGING--HOTELS,MOTELS,AND RESORTS\", \"COMFORT HOTEL INTERNATIONAL\", \"DAYS INNS OF AMERICA\", \"COMFORT HOTEL INTERNATIONAL\", \"DAYS INNS OF AMERICA\", \"COMFORT HOTEL INTERNATIONAL\", \"MISCELLANEOUS AND SPECIALTY RETAIL STORES\", \"FAST FOOD RESTAURANTS\", \"HILTON HOTELS\", \"HILTON HOTELS\", \"HILTON HOTELS\", \"GOVERNMENT SERVICES--NOT ELSEWHERE CLASSIFIED\", \"TRAVEL AGENCIES\", \"AMERICAN AIRLINES\", \"DAYS INNS OF AMERICA\", \"INDUSTRIAL SUPPLIES NOT ELSEWHERE CLASSIFIED\", \"SCHOOLS AND EDUCATIONAL SERVICES NOT ELSEWHERE CLASSIFIED\", \"BOOK STORES\", \"SOUTHWEST AIRLINES\", \"TRAVEL AGENCIES\", \"COLLEGES,UNIVERSITIES,PROFESSIONAL SCHLS AND JR COLLEGES\", \"STATIONERY, OFFICE SUPPLIES, PRINTING AND WRITING PAPER\", \"COMPUTER NETWORK/INFORMATION SERVICES\", \"SCHOOLS AND EDUCATIONAL SERVICES NOT ELSEWHERE CLASSIFIED\", \"FAST FOOD RESTAURANTS\", \"BOOK STORES\", \"CHARITABLE AND SOCIAL SERVICE ORGANIZATIONS\", \"DELTA\", \"TRAVEL AGENCIES\", \"COMPUTERS, COMPUTER PERIPHERAL EQUIPMENT, SOFTWARE\", \"LODGING--HOTELS,MOTELS,AND RESORTS\", \"TRAVEL AGENCIES\", \"AMERICAN AIRLINES\", \"DAYS INNS OF AMERICA\", \"STATIONERY,OFFICE AND SCHOOL SUPPLY STORES\", \"AMERICAN AIRLINES\", \"AMERICAN AIRLINES\", \"DISNEY RESORTS\", \"AMERICAN AIRLINES\", \"CONTINUITY/SUBSCRIPTION MERCHANTS\", \"TRAVEL AGENCIES\", \"TRAVEL AGENCIES\", \"TRAVEL AGENCIES\", \"DELTA\", \"TRAVEL AGENCIES\", \"TRAVEL AGENCIES\", \"DELTA\", \"SPRINGHILL SUITES\", \"SPRINGHILL SUITES\", \"COURTYARD BY MARRIOTT\", \"SPRINGHILL SUITES\", \"MARRIOTT\", \"UNITED AIRLINES\", \"AMERICAN AIRLINES\", \"TRAVEL AGENCIES\", \"TRAVEL AGENCIES\", \"COLLEGES,UNIVERSITIES,PROFESSIONAL SCHLS AND JR COLLEGES\", \"BOOK STORES\", \"MEMBERSHIP ORGANIZATIONS--NOT ELSEWHERE CLASSIFIED\", \"STATIONERY, OFFICE SUPPLIES, PRINTING AND WRITING PAPER\", \"COMBINATION CATALOG AND RETAIL MERCHANT\", \"FAST FOOD RESTAURANTS\", \"STATIONERY, OFFICE SUPPLIES, PRINTING AND WRITING PAPER\", \"HOLIDAY INNS\", \"SOUTHWEST AIRLINES\", \"HOLIDAY INNS\", \"TRAVEL AGENCIES\", \"SOUTHWEST AIRLINES\", \"TRAVEL AGENCIES\", \"MICROTEL INN AND SUITES\", \"STATIONERY, OFFICE SUPPLIES, PRINTING AND WRITING PAPER\", \"FAST FOOD RESTAURANTS\", \"STATIONERY, OFFICE SUPPLIES, PRINTING AND WRITING PAPER\", \"MISCELLANEOUS GENERAL MERCHANDISE\", \"MISCELLANEOUS GENERAL MERCHANDISE\", \"MISCELLANEOUS GENERAL MERCHANDISE\", \"MISCELLANEOUS GENERAL MERCHANDISE\", \"MISCELLANEOUS GENERAL MERCHANDISE\", \"MISCELLANEOUS GENERAL MERCHANDISE\", \"MISCELLANEOUS GENERAL MERCHANDISE\", \"MISCELLANEOUS GENERAL MERCHANDISE\", \"MISCELLANEOUS GENERAL MERCHANDISE\", \"MISCELLANEOUS GENERAL MERCHANDISE\", \"RENAISSANCE HOTELS\", \"RENAISSANCE HOTELS\", \"RENAISSANCE HOTELS\", \"RENAISSANCE HOTELS\", \"MEMBERSHIP ORGANIZATIONS--NOT ELSEWHERE CLASSIFIED\", \"AMERICAN AIRLINES\", \"MISCELLANEOUS GENERAL MERCHANDISE\", \"MISCELLANEOUS GENERAL MERCHANDISE\", \"TRAVEL AGENCIES\", \"LODGING--HOTELS,MOTELS,AND RESORTS\", \"FAST FOOD RESTAURANTS\", \"FAST FOOD RESTAURANTS\", \"AMERICAN AIRLINES\", \"AMERICAN AIRLINES\", \"AMERICAN AIRLINES\", \"AMERICAN AIRLINES\", \"AMERICAN AIRLINES\", \"AMERICAN AIRLINES\", \"LODGING--HOTELS,MOTELS,AND RESORTS\", \"AMERICAN AIRLINES\", \"AMERICAN AIRLINES\", \"MEMBERSHIP ORGANIZATIONS--NOT ELSEWHERE CLASSIFIED\", \"TRAVEL AGENCIES\", \"TRAVEL AGENCIES\", \"TRAVEL AGENCIES\", \"TRAVEL AGENCIES\", \"TRAVEL AGENCIES\", \"TRAVEL AGENCIES\", \"TRAVEL AGENCIES\", \"TRAVEL AGENCIES\", \"AMERICAN AIRLINES\", \"AMERICAN AIRLINES\", \"SOUTHWEST AIRLINES\", \"AMERICAN AIRLINES\", \"BUSINESS SERVICES NOT ELSEWHERE CLASSIFIED\", \"TRAVEL AGENCIES\", \"TRAVEL AGENCIES\", \"TRAVEL AGENCIES\", \"TRAVEL AGENCIES\", \"FAST FOOD RESTAURANTS\", \"TRAVEL AGENCIES\", \"DIRCT MARKETING/DIRCT MARKETERS--NOT ELSEWHERE CLASSIFIED\", \"AMERICAN AIRLINES\", \"STATIONERY, OFFICE SUPPLIES, PRINTING AND WRITING PAPER\", \"STATIONERY, OFFICE SUPPLIES, PRINTING AND WRITING PAPER\", \"LODGING--HOTELS,MOTELS,AND RESORTS\", \"TRAVEL AGENCIES\", \"AMERICAN AIRLINES\", \"LODGING--HOTELS,MOTELS,AND RESORTS\", \"HYATT HOTELS/INT'L\", \"HYATT HOTELS/INT'L\", \"HYATT HOTELS/INT'L\", \"HYATT HOTELS/INT'L\", \"HYATT HOTELS/INT'L\", \"ADVERTISING SERVICES\", \"ADVERTISING SERVICES\", \"BOOK STORES\", \"AMERICAN AIRLINES\", \"AMERICAN AIRLINES\", \"GAYLORD OPRYLAND\", \"HOBBY,TOY,AND GAME STORES\", \"GROCERY STORES,AND SUPERMARKETS\", \"GROCERY STORES,AND SUPERMARKETS\", \"BUSINESS SERVICES NOT ELSEWHERE CLASSIFIED\", \"TRAVEL AGENCIES\", \"TRAVEL AGENCIES\", \"TRAVEL AGENCIES\", \"COMBINATION CATALOG AND RETAIL MERCHANT\", \"AMERICAN AIRLINES\", \"AMERICAN AIRLINES\", \"TRAVEL AGENCIES\", \"AMERICAN AIRLINES\", \"AMERICAN AIRLINES\", \"AMERICAN AIRLINES\", \"AMERICAN AIRLINES\", \"TRAVEL AGENCIES\", \"TRAVEL AGENCIES\", \"TRAVEL AGENCIES\", \"TRAVEL AGENCIES\", \"HOBBY,TOY,AND GAME STORES\", \"AMERICAN AIRLINES\", \"STATIONERY, OFFICE SUPPLIES, PRINTING AND WRITING PAPER\", \"TRAVEL AGENCIES\", \"STATIONERY, OFFICE SUPPLIES, PRINTING AND WRITING PAPER\", \"AMERICAN AIRLINES\", \"STATIONERY, OFFICE SUPPLIES, PRINTING AND WRITING PAPER\", \"TRAVEL AGENCIES\", \"TRAVEL AGENCIES\", \"STATIONERY, OFFICE SUPPLIES, PRINTING AND WRITING PAPER\", \"STATIONERY, OFFICE SUPPLIES, PRINTING AND WRITING PAPER\", \"STATIONERY, OFFICE SUPPLIES, PRINTING AND WRITING PAPER\", \"STATIONERY, OFFICE SUPPLIES, PRINTING AND WRITING PAPER\", \"BOOK STORES\", \"STATIONERY, OFFICE SUPPLIES, PRINTING AND WRITING PAPER\", \"STATIONERY, OFFICE SUPPLIES, PRINTING AND WRITING PAPER\", \"STATIONERY, OFFICE SUPPLIES, PRINTING AND WRITING PAPER\", \"STATIONERY, OFFICE SUPPLIES, PRINTING AND WRITING PAPER\", \"GOVERNMENT SERVICES--NOT ELSEWHERE CLASSIFIED\", \"STATIONERY, OFFICE SUPPLIES, PRINTING AND WRITING PAPER\", \"ADVERTISING SERVICES\", \"LODGING--HOTELS,MOTELS,AND RESORTS\", \"LODGING--HOTELS,MOTELS,AND RESORTS\", \"STATIONERY, OFFICE SUPPLIES, PRINTING AND WRITING PAPER\", \"STATIONERY, OFFICE SUPPLIES, PRINTING AND WRITING PAPER\", \"HOBBY,TOY,AND GAME STORES\", \"TRAVEL AGENCIES\", \"AMERICAN AIRLINES\", \"HOLIDAY INNS\", \"LA QUINTA MOTOR INNS\", \"COLLEGES,UNIVERSITIES,PROFESSIONAL SCHLS AND JR COLLEGES\", \"COLLEGES,UNIVERSITIES,PROFESSIONAL SCHLS AND JR COLLEGES\", \"MARRIOTT\", \"LODGING--HOTELS,MOTELS,AND RESORTS\", \"LODGING--HOTELS,MOTELS,AND RESORTS\", \"HAMPTON INNS\", \"MARRIOTT\", \"MARRIOTT\", \"MARRIOTT\", \"TRAVEL AGENCIES\", \"AMERICAN AIRLINES\", \"PROFESSIONAL SERVICES NOT ELSEWHERE CLASSIFIED\", \"DIRCT MARKETING/DIRCT MARKETERS--NOT ELSEWHERE CLASSIFIED\", \"LA QUINTA MOTOR INNS\", \"CHARITABLE AND SOCIAL SERVICE ORGANIZATIONS\", \"TELECOMMUNICATION SERVICES\", \"STATIONERY, OFFICE SUPPLIES, PRINTING AND WRITING PAPER\", \"PROFESSIONAL SERVICES NOT ELSEWHERE CLASSIFIED\", \"PROFESSIONAL SERVICES NOT ELSEWHERE CLASSIFIED\", \"PROFESSIONAL SERVICES NOT ELSEWHERE CLASSIFIED\", \"CATALOG MERCHANTS\", \"BOOK STORES\", \"COMPUTER NETWORK/INFORMATION SERVICES\", \"COMFORT HOTEL INTERNATIONAL\", \"DIRCT MARKETING/DIRCT MARKETERS--NOT ELSEWHERE CLASSIFIED\", \"LODGING--HOTELS,MOTELS,AND RESORTS\", \"BOOK STORES\", \"ELECTRONICS STORES\", \"ELECTRONICS STORES\", \"STATIONERY, OFFICE SUPPLIES, PRINTING AND WRITING PAPER\", \"ELECTRONICS STORES\", \"LODGING--HOTELS,MOTELS,AND RESORTS\", \"ST. REGIS HOTEL\", \"ELECTRONICS STORES\", \"ELECTRONICS STORES\", \"ELECTRONICS STORES\", \"BOOK STORES\", \"DIRCT MARKETING/DIRCT MARKETERS--NOT ELSEWHERE CLASSIFIED\", \"TRAVEL AGENCIES\", \"AMERICAN AIRLINES\", \"STATIONERY, OFFICE SUPPLIES, PRINTING AND WRITING PAPER\", \"STATIONERY, OFFICE SUPPLIES, PRINTING AND WRITING PAPER\", \"STATIONERY, OFFICE SUPPLIES, PRINTING AND WRITING PAPER\", \"STATIONERY, OFFICE SUPPLIES, PRINTING AND WRITING PAPER\", \"STATIONERY, OFFICE SUPPLIES, PRINTING AND WRITING PAPER\", \"STATIONERY, OFFICE SUPPLIES, PRINTING AND WRITING PAPER\", \"COMPUTERS, COMPUTER PERIPHERAL EQUIPMENT, SOFTWARE\", \"STATIONERY, OFFICE SUPPLIES, PRINTING AND WRITING PAPER\", \"STATIONERY, OFFICE SUPPLIES, PRINTING AND WRITING PAPER\", \"GOVERNMENT SERVICES--NOT ELSEWHERE CLASSIFIED\", \"HAMPTON INNS\", \"CONTINUITY/SUBSCRIPTION MERCHANTS\", \"BEST WESTERN\", \"ADVERTISING SERVICES\", \"COMPUTERS, COMPUTER PERIPHERAL EQUIPMENT, SOFTWARE\", \"HYATT HOTELS/INT'L\", \"HYATT HOTELS/INT'L\", \"HYATT HOTELS/INT'L\", \"HYATT HOTELS/INT'L\", \"HYATT HOTELS/INT'L\", \"BUSINESS SERVICES NOT ELSEWHERE CLASSIFIED\", \"PROFESSIONAL SERVICES NOT ELSEWHERE CLASSIFIED\", \"BOOK STORES\", \"STATIONERY, OFFICE SUPPLIES, PRINTING AND WRITING PAPER\", \"HOLIDAY INNS\", \"TRAVEL AGENCIES\", \"AMERICAN AIRLINES\", \"HOLIDAY INNS\", \"TELECOMMUNICATION SERVICES\", \"CHARITABLE AND SOCIAL SERVICE ORGANIZATIONS\", \"MEMBERSHIP ORGANIZATIONS--NOT ELSEWHERE CLASSIFIED\", \"TELECOMMUNICATION SERVICES\", \"MEMBERSHIP ORGANIZATIONS--NOT ELSEWHERE CLASSIFIED\", \"STATIONERY,OFFICE AND SCHOOL SUPPLY STORES\", \"PROFESSIONAL SERVICES NOT ELSEWHERE CLASSIFIED\", \"MEMBERSHIP ORGANIZATIONS--NOT ELSEWHERE CLASSIFIED\", \"STATIONERY, OFFICE SUPPLIES, PRINTING AND WRITING PAPER\", \"STATIONERY, OFFICE SUPPLIES, PRINTING AND WRITING PAPER\", \"STATIONERY, OFFICE SUPPLIES, PRINTING AND WRITING PAPER\", \"STATIONERY, OFFICE SUPPLIES, PRINTING AND WRITING PAPER\", \"BUSINESS SERVICES NOT ELSEWHERE CLASSIFIED\", \"STATIONERY, OFFICE SUPPLIES, PRINTING AND WRITING PAPER\", \"STATIONERY, OFFICE SUPPLIES, PRINTING AND WRITING PAPER\", \"LODGING--HOTELS,MOTELS,AND RESORTS\", \"HOLIDAY INNS\", \"STATIONERY, OFFICE SUPPLIES, PRINTING AND WRITING PAPER\", \"SCHOOLS AND EDUCATIONAL SERVICES NOT ELSEWHERE CLASSIFIED\", \"STATIONERY, OFFICE SUPPLIES, PRINTING AND WRITING PAPER\", \"STATIONERY, OFFICE SUPPLIES, PRINTING AND WRITING PAPER\", \"TRAVEL AGENCIES\", \"AMERICAN AIRLINES\", \"COMFORT HOTEL INTERNATIONAL\", \"COMFORT HOTEL INTERNATIONAL\", \"COMFORT HOTEL INTERNATIONAL\", \"COMFORT HOTEL INTERNATIONAL\", \"COMFORT HOTEL INTERNATIONAL\", \"COMFORT HOTEL INTERNATIONAL\", \"COMFORT HOTEL INTERNATIONAL\", \"COMFORT HOTEL INTERNATIONAL\", \"COMFORT HOTEL INTERNATIONAL\", \"COMFORT HOTEL INTERNATIONAL\", \"MISCELLANEOUS AND SPECIALTY RETAIL STORES\", \"COMFORT HOTEL INTERNATIONAL\", \"COMFORT HOTEL INTERNATIONAL\", \"STATIONERY, OFFICE SUPPLIES, PRINTING AND WRITING PAPER\", \"HILTON GARDEN INN\", \"STATIONERY, OFFICE SUPPLIES, PRINTING AND WRITING PAPER\", \"CHARITABLE AND SOCIAL SERVICE ORGANIZATIONS\", \"COMFORT HOTEL INTERNATIONAL\", \"COMFORT HOTEL INTERNATIONAL\", \"COMFORT HOTEL INTERNATIONAL\", \"MEMBERSHIP ORGANIZATIONS--NOT ELSEWHERE CLASSIFIED\", \"STATIONERY, OFFICE SUPPLIES, PRINTING AND WRITING PAPER\", \"COMFORT HOTEL INTERNATIONAL\", \"COMFORT HOTEL INTERNATIONAL\", \"COMFORT HOTEL INTERNATIONAL\", \"COMFORT HOTEL INTERNATIONAL\", \"COMFORT HOTEL INTERNATIONAL\", \"COMFORT HOTEL INTERNATIONAL\", \"COMFORT HOTEL INTERNATIONAL\", \"CONTINUITY/SUBSCRIPTION MERCHANTS\", \"CHARITABLE AND SOCIAL SERVICE ORGANIZATIONS\", \"FAST FOOD RESTAURANTS\", \"SOUTHWEST AIRLINES\", \"INDUSTRIAL SUPPLIES NOT ELSEWHERE CLASSIFIED\", \"TRAVEL AGENCIES\", \"CHARITABLE AND SOCIAL SERVICE ORGANIZATIONS\", \"CATERERS\", \"AMERICAN AIRLINES\", \"AMERICAN AIRLINES\", \"TRAVEL AGENCIES\", \"TRAVEL AGENCIES\", \"COMPUTERS, COMPUTER PERIPHERAL EQUIPMENT, SOFTWARE\", \"CHARITABLE AND SOCIAL SERVICE ORGANIZATIONS\", \"HOBBY,TOY,AND GAME STORES\", \"ELECTRONICS STORES\", \"BUSINESS SERVICES NOT ELSEWHERE CLASSIFIED\", \"ELECTRONICS STORES\", \"CHARITABLE AND SOCIAL SERVICE ORGANIZATIONS\", \"STATIONERY, OFFICE SUPPLIES, PRINTING AND WRITING PAPER\", \"CHARITABLE AND SOCIAL SERVICE ORGANIZATIONS\", \"FAST FOOD RESTAURANTS\", \"CHARITABLE AND SOCIAL SERVICE ORGANIZATIONS\", \"STATIONERY, OFFICE SUPPLIES, PRINTING AND WRITING PAPER\", \"FAST FOOD RESTAURANTS\", \"STATIONERY, OFFICE SUPPLIES, PRINTING AND WRITING PAPER\", \"STATIONERY, OFFICE SUPPLIES, PRINTING AND WRITING PAPER\", \"STATIONERY, OFFICE SUPPLIES, PRINTING AND WRITING PAPER\", \"SOUTHWEST AIRLINES\", \"TRAVEL AGENCIES\", \"STATIONERY, OFFICE SUPPLIES, PRINTING AND WRITING PAPER\", \"PROFESSIONAL SERVICES NOT ELSEWHERE CLASSIFIED\", \"LODGING--HOTELS,MOTELS,AND RESORTS\", \"SOUTHWEST AIRLINES\", \"TRAVEL AGENCIES\", \"AMERICAN AIRLINES\", \"SOUTHWEST AIRLINES\", \"SOUTHWEST AIRLINES\", \"TRAVEL AGENCIES\", \"TRAVEL AGENCIES\", \"TRAVEL AGENCIES\", \"ELECTRONICS STORES\", \"TELECOMMUNICATION SERVICES\", \"SOUTHWEST AIRLINES\", \"TRAVEL AGENCIES\", \"TRAVEL AGENCIES\", \"SOUTHWEST AIRLINES\", \"TRAVEL AGENCIES\", \"AMERICAN AIRLINES\", \"SOUTHWEST AIRLINES\", \"TRAVEL AGENCIES\", \"SOUTHWEST AIRLINES\", \"TRAVEL AGENCIES\", \"COMPUTERS, COMPUTER PERIPHERAL EQUIPMENT, SOFTWARE\", \"MEMBERSHIP ORGANIZATIONS--NOT ELSEWHERE CLASSIFIED\", \"TRAVEL AGENCIES\", \"TRAVEL AGENCIES\", \"SOUTHWEST AIRLINES\", \"SOUTHWEST AIRLINES\", \"TRAVEL AGENCIES\", \"SOUTHWEST AIRLINES\", \"SOUTHWEST AIRLINES\", \"TRAVEL AGENCIES\", \"TRAVEL AGENCIES\", \"SOUTHWEST AIRLINES\", \"TRAVEL AGENCIES\", \"SOUTHWEST AIRLINES\", \"SOUTHWEST AIRLINES\", \"TRAVEL AGENCIES\", \"TRAVEL AGENCIES\", \"TRAVEL AGENCIES\", \"AMERICAN AIRLINES\", \"SOUTHWEST AIRLINES\", \"SOUTHWEST AIRLINES\", \"FAST FOOD RESTAURANTS\", \"SOUTHWEST AIRLINES\", \"LODGING--HOTELS,MOTELS,AND RESORTS\", \"TRAVEL AGENCIES\", \"TRAVEL AGENCIES\", \"TRAVEL AGENCIES\", \"TRAVEL AGENCIES\", \"COMMERCIAL PHOTOGRAPHY,ART,AND GRAPHICS\", \"FAST FOOD RESTAURANTS\", \"SOUTHWEST AIRLINES\", \"SOUTHWEST AIRLINES\", \"TRAVEL AGENCIES\", \"SOUTHWEST AIRLINES\", \"AMERICAN AIRLINES\", \"LODGING--HOTELS,MOTELS,AND RESORTS\", \"TROPICANA RESORT AND CASINO\", \"CHARITABLE AND SOCIAL SERVICE ORGANIZATIONS\", \"INDUSTRIAL SUPPLIES NOT ELSEWHERE CLASSIFIED\", \"STATIONERY, OFFICE SUPPLIES, PRINTING AND WRITING PAPER\", \"ELECTRONICS STORES\", \"STATIONERY, OFFICE SUPPLIES, PRINTING AND WRITING PAPER\", \"STATIONERY, OFFICE SUPPLIES, PRINTING AND WRITING PAPER\", \"CABLE, SATELLITE, AND OTHER PAY TELEVISION AND RADIO SERVICES\", \"HAMPTON INNS\", \"RENAISSANCE HOTELS\", \"RENAISSANCE HOTELS\", \"HAMPTON INNS\", \"COMFORT HOTEL INTERNATIONAL\", \"AMERICAN AIRLINES\", \"COMFORT HOTEL INTERNATIONAL\", \"COMFORT HOTEL INTERNATIONAL\", \"TRAVEL AGENCIES\", \"HAMPTON INNS\", \"RENAISSANCE HOTELS\", \"GOVERNMENT SERVICES--NOT ELSEWHERE CLASSIFIED\", \"GOVERNMENT SERVICES--NOT ELSEWHERE CLASSIFIED\", \"COMPUTERS, COMPUTER PERIPHERAL EQUIPMENT, SOFTWARE\", \"UNITED AIRLINES\", \"MEMBERSHIP ORGANIZATIONS--NOT ELSEWHERE CLASSIFIED\", \"SOUTHWEST AIRLINES\", \"TRAVEL AGENCIES\", \"TRAVEL AGENCIES\", \"SOUTHWEST AIRLINES\", \"CHARITABLE AND SOCIAL SERVICE ORGANIZATIONS\", \"PROFESSIONAL SERVICES NOT ELSEWHERE CLASSIFIED\", \"TRAVEL AGENCIES\", \"STATIONERY, OFFICE SUPPLIES, PRINTING AND WRITING PAPER\", \"STATIONERY, OFFICE SUPPLIES, PRINTING AND WRITING PAPER\", \"FAST FOOD RESTAURANTS\", \"MARRIOTT\", \"MARRIOTT\", \"EATING PLACES AND RESTAURANTS\", \"AMERICAN AIRLINES\", \"CHARITABLE AND SOCIAL SERVICE ORGANIZATIONS\", \"TRAVEL AGENCIES\", \"TRAVEL AGENCIES\", \"MARRIOTT\", \"TRAVEL AGENCIES\", \"AMERICAN AIRLINES\", \"COMFORT HOTEL INTERNATIONAL\", \"LODGING--HOTELS,MOTELS,AND RESORTS\", \"AMERICAN AIRLINES\", \"AMERICAN AIRLINES\", \"AMERICAN AIRLINES\", \"AMERICAN AIRLINES\", \"COMFORT HOTEL INTERNATIONAL\", \"BUSINESS SERVICES NOT ELSEWHERE CLASSIFIED\", \"MARRIOTT\", \"TRAVEL AGENCIES\", \"TRAVEL AGENCIES\", \"TRAVEL AGENCIES\", \"MEDICAL SERVICES & HEALTH PRACTITIONERS NOT ELSEWHERE CL\", \"LA QUINTA MOTOR INNS\", \"LA QUINTA MOTOR INNS\", \"LA QUINTA MOTOR INNS\", \"TRAVEL AGENCIES\", \"ELECTRONICS STORES\", \"TRAVEL AGENCIES\", \"LA QUINTA MOTOR INNS\", \"UNITED AIRLINES\", \"UNITED AIRLINES\", \"LA QUINTA MOTOR INNS\", \"ELECTRONICS STORES\", \"BUSINESS SERVICES NOT ELSEWHERE CLASSIFIED\", \"LA QUINTA MOTOR INNS\", \"STATIONERY, OFFICE SUPPLIES, PRINTING AND WRITING PAPER\", \"COMPUTERS, COMPUTER PERIPHERAL EQUIPMENT, SOFTWARE\", \"ELECTRONICS STORES\", \"LODGING--HOTELS,MOTELS,AND RESORTS\", \"LODGING--HOTELS,MOTELS,AND RESORTS\", \"AMERICAN AIRLINES\", \"UNITED AIRLINES\", \"AMERICAN AIRLINES\", \"MISCELLANEOUS AND SPECIALTY RETAIL STORES\", \"BOOK STORES\", \"CHARITABLE AND SOCIAL SERVICE ORGANIZATIONS\", \"TRAVEL AGENCIES\", \"TRAVEL AGENCIES\", \"TRAVEL AGENCIES\", \"UNITED AIRLINES\", \"SCHOOLS AND EDUCATIONAL SERVICES NOT ELSEWHERE CLASSIFIED\", \"TRAVEL AGENCIES\", \"TRAVEL AGENCIES\", \"TRAVEL AGENCIES\", \"TRAVEL AGENCIES\", \"TRAVEL AGENCIES\", \"TRAVEL AGENCIES\", \"UNITED AIRLINES\", \"LODGING--HOTELS,MOTELS,AND RESORTS\", \"LODGING--HOTELS,MOTELS,AND RESORTS\", \"TRAVEL AGENCIES\", \"AMERICAN AIRLINES\", \"UNITED AIRLINES\", \"AMERICAN AIRLINES\", \"UNITED AIRLINES\", \"MARRIOTT\", \"TRAVEL AGENCIES\", \"BUSINESS SERVICES NOT ELSEWHERE CLASSIFIED\", \"BEST WESTERN\", \"DELTA\", \"AMERICAN AIRLINES\", \"AMERICAN AIRLINES\", \"DELTA\", \"COMMERCIAL PHOTOGRAPHY,ART,AND GRAPHICS\", \"SCHOOLS AND EDUCATIONAL SERVICES NOT ELSEWHERE CLASSIFIED\", \"MANAGEMENT,CONSULTING AND PUBLIC RELATIONS SERVICES\", \"MARRIOTT\", \"TRAVEL AGENCIES\", \"TRAVEL AGENCIES\", \"MARRIOTT\", \"TRAVEL AGENCIES\", \"AMERICAN AIRLINES\", \"AMERICAN AIRLINES\", \"AMERICAN AIRLINES\", \"LA QUINTA MOTOR INNS\", \"AMERICAN AIRLINES\", \"AMERICAN AIRLINES\", \"STATIONERY, OFFICE SUPPLIES, PRINTING AND WRITING PAPER\", \"STATIONERY, OFFICE SUPPLIES, PRINTING AND WRITING PAPER\", \"STATIONERY, OFFICE SUPPLIES, PRINTING AND WRITING PAPER\", \"FAST FOOD RESTAURANTS\", \"FAST FOOD RESTAURANTS\", \"HAMPTON INNS\", \"TRAVEL AGENCIES\", \"TRAVEL AGENCIES\", \"HAMPTON INNS\", \"TRAVEL AGENCIES\", \"TRAVEL AGENCIES\", \"HAMPTON INNS\", \"TRAVEL AGENCIES\", \"HAMPTON INNS\", \"HAMPTON INNS\", \"COMPUTERS, COMPUTER PERIPHERAL EQUIPMENT, SOFTWARE\", \"LA QUINTA MOTOR INNS\", \"LA QUINTA MOTOR INNS\", \"LA QUINTA MOTOR INNS\", \"LA QUINTA MOTOR INNS\", \"LA QUINTA MOTOR INNS\", \"LA QUINTA MOTOR INNS\", \"LA QUINTA MOTOR INNS\", \"LA QUINTA MOTOR INNS\", \"LODGING--HOTELS,MOTELS,AND RESORTS\", \"EATING PLACES AND RESTAURANTS\", \"LODGING--HOTELS,MOTELS,AND RESORTS\", \"LODGING--HOTELS,MOTELS,AND RESORTS\", \"LA QUINTA MOTOR INNS\", \"MARRIOTT\", \"MARRIOTT\", \"MARRIOTT\", \"COMFORT HOTEL INTERNATIONAL\", \"COMFORT HOTEL INTERNATIONAL\", \"COMFORT HOTEL INTERNATIONAL\", \"COMFORT HOTEL INTERNATIONAL\", \"COMFORT HOTEL INTERNATIONAL\", \"COMFORT HOTEL INTERNATIONAL\", \"COMFORT HOTEL INTERNATIONAL\", \"COMFORT HOTEL INTERNATIONAL\", \"COMFORT HOTEL INTERNATIONAL\", \"COMFORT HOTEL INTERNATIONAL\", \"COMFORT HOTEL INTERNATIONAL\", \"HAMPTON INNS\", \"PROFESSIONAL SERVICES NOT ELSEWHERE CLASSIFIED\", \"MOTION PICTURE AND VIDEO TAPE PRODUCTION AND DISTRIBUTION\", \"HAMPTON INNS\", \"HAMPTON INNS\", \"COMFORT HOTEL INTERNATIONAL\", \"STATIONERY, OFFICE SUPPLIES, PRINTING AND WRITING PAPER\", \"CHARITABLE AND SOCIAL SERVICE ORGANIZATIONS\", \"STATIONERY, OFFICE SUPPLIES, PRINTING AND WRITING PAPER\", \"STATIONERY, OFFICE SUPPLIES, PRINTING AND WRITING PAPER\", \"BUSINESS SERVICES NOT ELSEWHERE CLASSIFIED\", \"BUSINESS SERVICES NOT ELSEWHERE CLASSIFIED\", \"COMFORT HOTEL INTERNATIONAL\", \"COMFORT HOTEL INTERNATIONAL\", \"CHARITABLE AND SOCIAL SERVICE ORGANIZATIONS\", \"PROFESSIONAL SERVICES NOT ELSEWHERE CLASSIFIED\", \"ELECTRONICS STORES\", \"HYATT HOTELS/INT'L\", \"HOTEL INDIGO GALLERIA HOUSTON\", \"SHERATON\", \"HYATT HOTELS/INT'L\", \"SHERATON\", \"HOTEL INDIGO GALLERIA HOUSTON\", \"EATING PLACES AND RESTAURANTS\", \"PROFESSIONAL SERVICES NOT ELSEWHERE CLASSIFIED\", \"TRAVEL AGENCIES\", \"COMFORT HOTEL INTERNATIONAL\", \"AMERICAN AIRLINES\", \"LODGING--HOTELS,MOTELS,AND RESORTS\", \"LODGING--HOTELS,MOTELS,AND RESORTS\", \"CHARITABLE AND SOCIAL SERVICE ORGANIZATIONS\", \"LODGING--HOTELS,MOTELS,AND RESORTS\", \"LODGING--HOTELS,MOTELS,AND RESORTS\", \"COMMERCIAL PHOTOGRAPHY,ART,AND GRAPHICS\", \"TRAVEL AGENCIES\", \"AMERICAN AIRLINES\", \"AMERICAN AIRLINES\", \"UNITED AIRLINES\", \"UNITED AIRLINES\", \"UNITED AIRLINES\", \"UNITED AIRLINES\", \"COMPUTERS, COMPUTER PERIPHERAL EQUIPMENT, SOFTWARE\", \"TRAVEL AGENCIES\", \"TRAVEL AGENCIES\", \"TRAVEL AGENCIES\", \"TRAVEL AGENCIES\", \"TRAVEL AGENCIES\", \"STATIONERY, OFFICE SUPPLIES, PRINTING AND WRITING PAPER\", \"TRAVEL AGENCIES\", \"TRAVEL AGENCIES\", \"CHARITABLE AND SOCIAL SERVICE ORGANIZATIONS\", \"CHARITABLE AND SOCIAL SERVICE ORGANIZATIONS\", \"AMERICAN AIRLINES\", \"DELTA\", \"CATALOG MERCHANTS\", \"GOVERNMENT SERVICES--NOT ELSEWHERE CLASSIFIED\", \"HOLIDAY INNS\", \"HOLIDAY INNS\", \"EMBASSY SUITES\", \"COMPUTERS, COMPUTER PERIPHERAL EQUIPMENT, SOFTWARE\", \"TRAVEL AGENCIES\", \"TRAVEL AGENCIES\", \"TRAVEL AGENCIES\", \"CHARITABLE AND SOCIAL SERVICE ORGANIZATIONS\", \"MEMBERSHIP ORGANIZATIONS--NOT ELSEWHERE CLASSIFIED\", \"AMERICAN AIRLINES\", \"AMERICAN AIRLINES\", \"AMERICAN AIRLINES\", \"SCHOOLS AND EDUCATIONAL SERVICES NOT ELSEWHERE CLASSIFIED\", \"RAMADA INNS\", \"RAMADA INNS\", \"RAMADA INNS\", \"TRAVEL AGENCIES\", \"TRAVEL AGENCIES\", \"AMERICAN AIRLINES\", \"AMERICAN AIRLINES\", \"HYATT HOTELS/INT'L\", \"CIVIC,SOCIAL AND FRATERNAL ASSOCIATIONS\", \"UNITED AIRLINES\", \"AMERICAN AIRLINES\", \"TRAVEL AGENCIES\", \"TRAVEL AGENCIES\", \"SCHOOLS AND EDUCATIONAL SERVICES NOT ELSEWHERE CLASSIFIED\", \"STATIONERY, OFFICE SUPPLIES, PRINTING AND WRITING PAPER\", \"LODGING--HOTELS,MOTELS,AND RESORTS\", \"COMFORT HOTEL INTERNATIONAL\", \"COMFORT HOTEL INTERNATIONAL\", \"COMFORT HOTEL INTERNATIONAL\", \"LODGING--HOTELS,MOTELS,AND RESORTS\", \"LODGING--HOTELS,MOTELS,AND RESORTS\", \"SHERATON\", \"SHERATON\", \"SHERATON\", \"AMERICAN AIRLINES\", \"AMERICAN AIRLINES\", \"AMERICAN AIRLINES\", \"TRAVEL AGENCIES\", \"TRAVEL AGENCIES\", \"TRAVEL AGENCIES\", \"AMERICAN AIRLINES\", \"DIRCT MARKETING/DIRCT MARKETERS--NOT ELSEWHERE CLASSIFIED\", \"AMERICAN AIRLINES\", \"STATIONERY, OFFICE SUPPLIES, PRINTING AND WRITING PAPER\", \"STATIONERY, OFFICE SUPPLIES, PRINTING AND WRITING PAPER\", \"STATIONERY, OFFICE SUPPLIES, PRINTING AND WRITING PAPER\", \"TRAVEL AGENCIES\", \"MARRIOTT\", \"MISCELLANEOUS AND SPECIALTY RETAIL STORES\", \"STATIONERY, OFFICE SUPPLIES, PRINTING AND WRITING PAPER\", \"CONTINUITY/SUBSCRIPTION MERCHANTS\", \"BOOK STORES\", \"STATIONERY, OFFICE SUPPLIES, PRINTING AND WRITING PAPER\", \"STATIONERY, OFFICE SUPPLIES, PRINTING AND WRITING PAPER\", \"BOOK STORES\", \"COMFORT HOTEL INTERNATIONAL\", \"FAST FOOD RESTAURANTS\", \"STATIONERY, OFFICE SUPPLIES, PRINTING AND WRITING PAPER\", \"AMERICAN AIRLINES\", \"FAST FOOD RESTAURANTS\", \"TRAVEL AGENCIES\", \"TRAVEL AGENCIES\", \"TRAVEL AGENCIES\", \"TRAVEL AGENCIES\", \"TRAVEL AGENCIES\", \"BOOKS, PERIODICALS AND NEWSPAPERS\", \"MISCELLANEOUS AND SPECIALTY RETAIL STORES\", \"AMERICAN AIRLINES\", \"AMERICAN AIRLINES\", \"TRAVEL AGENCIES\", \"CATALOG MERCHANTS\", \"AMERICAN AIRLINES\", \"AMERICAN AIRLINES\", \"STATIONERY, OFFICE SUPPLIES, PRINTING AND WRITING PAPER\", \"TRAVEL AGENCIES\", \"STATIONERY, OFFICE SUPPLIES, PRINTING AND WRITING PAPER\", \"STATIONERY, OFFICE SUPPLIES, PRINTING AND WRITING PAPER\", \"TRAVEL AGENCIES\", \"TRAVEL AGENCIES\", \"TRAVEL AGENCIES\", \"AMERICAN AIRLINES\", \"AMERICAN AIRLINES\", \"AMERICAN AIRLINES\", \"LOEWS HOTELS\", \"LOEWS HOTELS\", \"MISCELLANEOUS AND SPECIALTY RETAIL STORES\", \"CHARITABLE AND SOCIAL SERVICE ORGANIZATIONS\", \"SHERATON\", \"SHERATON\", \"COMPUTERS, COMPUTER PERIPHERAL EQUIPMENT, SOFTWARE\", \"COMPUTERS, COMPUTER PERIPHERAL EQUIPMENT, SOFTWARE\", \"BOOK STORES\", \"BOOK STORES\", \"AMERICAN AIRLINES\", \"TRAVEL AGENCIES\", \"HOLIDAY INNS\", \"RENAISSANCE HOTELS\", \"HAMPTON INNS\", \"HAMPTON INNS\", \"HAMPTON INNS\", \"HAMPTON INNS\", \"HAMPTON INNS\", \"HAMPTON INNS\", \"HAMPTON INNS\", \"HAMPTON INNS\", \"HAMPTON INNS\", \"HOLIDAY INNS\", \"HAMPTON INNS\", \"HAMPTON INNS\", \"RENAISSANCE HOTELS\", \"HAMPTON INNS\", \"HOLIDAY INNS\", \"COMPUTERS, COMPUTER PERIPHERAL EQUIPMENT, SOFTWARE\", \"FAST FOOD RESTAURANTS\", \"ELECTRONICS STORES\", \"FAST FOOD RESTAURANTS\", \"BOOK STORES\", \"HOLIDAY INNS\", \"HOLIDAY INNS\", \"COMPUTERS, COMPUTER PERIPHERAL EQUIPMENT, SOFTWARE\", \"MEMBERSHIP ORGANIZATIONS--NOT ELSEWHERE CLASSIFIED\", \"STATIONERY, OFFICE SUPPLIES, PRINTING AND WRITING PAPER\", \"STATIONERY, OFFICE SUPPLIES, PRINTING AND WRITING PAPER\", \"COMPUTERS, COMPUTER PERIPHERAL EQUIPMENT, SOFTWARE\", \"MARRIOTT\", \"CHARITABLE AND SOCIAL SERVICE ORGANIZATIONS\", \"COMPUTERS, COMPUTER PERIPHERAL EQUIPMENT, SOFTWARE\", \"ELECTRONICS STORES\", \"HOLIDAY INNS\", \"HOLIDAY INNS\", \"HOLIDAY INNS\", \"COMPUTERS, COMPUTER PERIPHERAL EQUIPMENT, SOFTWARE\", \"COMPUTERS, COMPUTER PERIPHERAL EQUIPMENT, SOFTWARE\", \"HOLIDAY INNS\", \"HOLIDAY INNS\", \"HOLIDAY INNS\", \"HOLIDAY INNS\", \"HOLIDAY INNS\", \"HOLIDAY INNS\", \"HOLIDAY INNS\", \"HOLIDAY INNS\", \"HOLIDAY INNS\", \"ELECTRONICS STORES\", \"STATIONERY, OFFICE SUPPLIES, PRINTING AND WRITING PAPER\", \"COLLEGES,UNIVERSITIES,PROFESSIONAL SCHLS AND JR COLLEGES\", \"TRAVEL AGENCIES\", \"TRAVEL AGENCIES\", \"AMERICAN AIRLINES\", \"AMERICAN AIRLINES\", \"COMPUTERS, COMPUTER PERIPHERAL EQUIPMENT, SOFTWARE\", \"STATIONERY, OFFICE SUPPLIES, PRINTING AND WRITING PAPER\", \"MANAGEMENT,CONSULTING AND PUBLIC RELATIONS SERVICES\", \"HILTON HOTELS\", \"TRAVEL AGENCIES\", \"TRAVEL AGENCIES\", \"SOUTHWEST AIRLINES\", \"TRAVEL AGENCIES\", \"SOUTHWEST AIRLINES\", \"TRAVEL AGENCIES\", \"SOUTHWEST AIRLINES\", \"TRAVEL AGENCIES\", \"HILTON GARDEN INN\", \"TRAVEL AGENCIES\", \"HYATT HOTELS/INT'L\", \"AMERICAN AIRLINES\", \"HYATT HOTELS/INT'L\", \"AMERICAN AIRLINES\", \"AMERICAN AIRLINES\", \"AMERICAN AIRLINES\", \"AMERICAN AIRLINES\", \"AMERICAN AIRLINES\", \"BOOK STORES\", \"FAST FOOD RESTAURANTS\", \"HAMPTON INNS\", \"GOVERNMENT SERVICES--NOT ELSEWHERE CLASSIFIED\", \"GOVERNMENT SERVICES--NOT ELSEWHERE CLASSIFIED\", \"GOVERNMENT SERVICES--NOT ELSEWHERE CLASSIFIED\", \"GOVERNMENT SERVICES--NOT ELSEWHERE CLASSIFIED\", \"GOVERNMENT SERVICES--NOT ELSEWHERE CLASSIFIED\", \"GOVERNMENT SERVICES--NOT ELSEWHERE CLASSIFIED\", \"GOVERNMENT SERVICES--NOT ELSEWHERE CLASSIFIED\", \"LODGING--HOTELS,MOTELS,AND RESORTS\", \"GOVERNMENT SERVICES--NOT ELSEWHERE CLASSIFIED\", \"GOVERNMENT SERVICES--NOT ELSEWHERE CLASSIFIED\", \"GOVERNMENT SERVICES--NOT ELSEWHERE CLASSIFIED\", \"GOVERNMENT SERVICES--NOT ELSEWHERE CLASSIFIED\", \"GOVERNMENT SERVICES--NOT ELSEWHERE CLASSIFIED\", \"GOVERNMENT SERVICES--NOT ELSEWHERE CLASSIFIED\", \"LODGING--HOTELS,MOTELS,AND RESORTS\", \"GOVERNMENT SERVICES--NOT ELSEWHERE CLASSIFIED\", \"GOVERNMENT SERVICES--NOT ELSEWHERE CLASSIFIED\", \"GOVERNMENT SERVICES--NOT ELSEWHERE CLASSIFIED\", \"GOVERNMENT SERVICES--NOT ELSEWHERE CLASSIFIED\", \"GOVERNMENT SERVICES--NOT ELSEWHERE CLASSIFIED\", \"GOVERNMENT SERVICES--NOT ELSEWHERE CLASSIFIED\", \"GOVERNMENT SERVICES--NOT ELSEWHERE CLASSIFIED\", \"HILTON GARDEN INN\", \"GOVERNMENT SERVICES--NOT ELSEWHERE CLASSIFIED\", \"GOVERNMENT SERVICES--NOT ELSEWHERE CLASSIFIED\", \"GOVERNMENT SERVICES--NOT ELSEWHERE CLASSIFIED\", \"LOEWS HOTELS\", \"LOEWS HOTELS\", \"STATIONERY, OFFICE SUPPLIES, PRINTING AND WRITING PAPER\", \"STATIONERY, OFFICE SUPPLIES, PRINTING AND WRITING PAPER\", \"STATIONERY, OFFICE SUPPLIES, PRINTING AND WRITING PAPER\", \"RESIDENCE INN\", \"BOOK STORES\", \"BOOK STORES\", \"COMPUTER NETWORK/INFORMATION SERVICES\", \"GOVERNMENT SERVICES--NOT ELSEWHERE CLASSIFIED\", \"ELECTRONICS STORES\", \"ELECTRONICS STORES\", \"MISCELLANEOUS GENERAL MERCHANDISE\", \"ELECTRONICS STORES\", \"MEMBERSHIP ORGANIZATIONS--NOT ELSEWHERE CLASSIFIED\", \"ELECTRONICS STORES\", \"BOOK STORES\", \"BOOK STORES\", \"BOOK STORES\", \"BOOK STORES\", \"HILTON GARDEN INN\", \"HILTON GARDEN INN\", \"LA QUINTA MOTOR INNS\", \"BUSINESS SERVICES NOT ELSEWHERE CLASSIFIED\", \"STATIONERY, OFFICE SUPPLIES, PRINTING AND WRITING PAPER\", \"GOVERNMENT SERVICES--NOT ELSEWHERE CLASSIFIED\", \"BOOK STORES\", \"FAST FOOD RESTAURANTS\", \"ELECTRONICS STORES\", \"ELECTRONICS STORES\", \"ELECTRONICS STORES\", \"HAMPTON INNS\", \"STATIONERY, OFFICE SUPPLIES, PRINTING AND WRITING PAPER\", \"ELECTRONICS STORES\", \"STATIONERY, OFFICE SUPPLIES, PRINTING AND WRITING PAPER\", \"ELECTRONICS STORES\", \"STATIONERY, OFFICE SUPPLIES, PRINTING AND WRITING PAPER\", \"ELECTRONICS STORES\", \"HAMPTON INNS\", \"HAMPTON INNS\", \"FAST FOOD RESTAURANTS\", \"BOOK STORES\", \"BOOK STORES\", \"BOOK STORES\", \"BOOK STORES\", \"MISCELLANEOUS AND SPECIALTY RETAIL STORES\", \"FAST FOOD RESTAURANTS\", \"BOOK STORES\", \"TRAVEL AGENCIES\", \"TRAVEL AGENCIES\", \"TRAVEL AGENCIES\", \"TRAVEL AGENCIES\", \"GOVERNMENT SERVICES--NOT ELSEWHERE CLASSIFIED\", \"GOVERNMENT SERVICES--NOT ELSEWHERE CLASSIFIED\", \"AMERICAN AIRLINES\", \"AMERICAN AIRLINES\", \"AMERICAN AIRLINES\", \"AMERICAN AIRLINES\", \"SOUTHWEST AIRLINES\", \"COMFORT HOTEL INTERNATIONAL\", \"SOUTHWEST AIRLINES\", \"COMFORT HOTEL INTERNATIONAL\", \"BOOK STORES\", \"STATIONERY, OFFICE SUPPLIES, PRINTING AND WRITING PAPER\", \"BOOK STORES\", \"TRAVEL AGENCIES\", \"TRAVEL AGENCIES\", \"STATIONERY, OFFICE SUPPLIES, PRINTING AND WRITING PAPER\", \"STATIONERY, OFFICE SUPPLIES, PRINTING AND WRITING PAPER\", \"STATIONERY, OFFICE SUPPLIES, PRINTING AND WRITING PAPER\", \"ELECTRONICS STORES\", \"COMFORT HOTEL INTERNATIONAL\", \"HOLIDAY INNS\", \"HILTON HOTELS\", \"AMERICAN AIRLINES\", \"AMERICAN AIRLINES\", \"FAST FOOD RESTAURANTS\", \"MEMBERSHIP ORGANIZATIONS--NOT ELSEWHERE CLASSIFIED\", \"ELECTRONICS STORES\", \"STATIONERY, OFFICE SUPPLIES, PRINTING AND WRITING PAPER\", \"HAMPTON INNS\", \"HAMPTON INNS\", \"MANAGEMENT,CONSULTING AND PUBLIC RELATIONS SERVICES\", \"ELECTRONICS STORES\", \"STATIONERY, OFFICE SUPPLIES, PRINTING AND WRITING PAPER\", \"STATIONERY, OFFICE SUPPLIES, PRINTING AND WRITING PAPER\", \"STATIONERY, OFFICE SUPPLIES, PRINTING AND WRITING PAPER\", \"STATIONERY, OFFICE SUPPLIES, PRINTING AND WRITING PAPER\", \"STATIONERY, OFFICE SUPPLIES, PRINTING AND WRITING PAPER\", \"STATIONERY, OFFICE SUPPLIES, PRINTING AND WRITING PAPER\", \"GLASS,PAINT,AND WALLPAPER STORES\", \"MISCELLANEOUS PUBLISHING AND PRINTING SERVICES\", \"WYNDHAM HOTELS\", \"WYNDHAM HOTELS\", \"WYNDHAM HOTELS\", \"WYNDHAM HOTELS\", \"STATIONERY, OFFICE SUPPLIES, PRINTING AND WRITING PAPER\", \"STATIONERY, OFFICE SUPPLIES, PRINTING AND WRITING PAPER\", \"STATIONERY, OFFICE SUPPLIES, PRINTING AND WRITING PAPER\", \"CHARITABLE AND SOCIAL SERVICE ORGANIZATIONS\", \"TRAVEL AGENCIES\", \"SOUTHWEST AIRLINES\", \"AMERICAN AIRLINES\", \"ELECTRONICS STORES\", \"AMERICAN AIRLINES\", \"TELECOMMUNICATION SERVICES\", \"STATIONERY, OFFICE SUPPLIES, PRINTING AND WRITING PAPER\", \"STATIONERY, OFFICE SUPPLIES, PRINTING AND WRITING PAPER\", \"STATIONERY, OFFICE SUPPLIES, PRINTING AND WRITING PAPER\", \"TRAVEL AGENCIES\", \"TRAVEL AGENCIES\", \"STATIONERY, OFFICE SUPPLIES, PRINTING AND WRITING PAPER\", \"AMERICAN AIRLINES\", \"AMERICAN AIRLINES\", \"GOVERNMENT SERVICES--NOT ELSEWHERE CLASSIFIED\", \"CHARITABLE AND SOCIAL SERVICE ORGANIZATIONS\", \"FAST FOOD RESTAURANTS\", \"LODGING--HOTELS,MOTELS,AND RESORTS\", \"STATIONERY, OFFICE SUPPLIES, PRINTING AND WRITING PAPER\", \"STATIONERY, OFFICE SUPPLIES, PRINTING AND WRITING PAPER\", \"COMMERCIAL PHOTOGRAPHY,ART,AND GRAPHICS\", \"WYNDHAM HOTELS\", \"TRAVEL AGENCIES\", \"TRAVEL AGENCIES\", \"TRAVEL AGENCIES\", \"TRAVEL AGENCIES\", \"CHARITABLE AND SOCIAL SERVICE ORGANIZATIONS\", \"UNITED AIRLINES\", \"UNITED AIRLINES\", \"UNITED AIRLINES\", \"UNITED AIRLINES\", \"MISCELLANEOUS AND SPECIALTY RETAIL STORES\", \"UNITED AIRLINES\", \"FAST FOOD RESTAURANTS\", \"COMP PROG,DATA PROCESSING,AND INTEGRATED SYS DES IGN SVCS\", \"TRAVEL AGENCIES\", \"COMPUTERS, COMPUTER PERIPHERAL EQUIPMENT, SOFTWARE\", \"SCHOOLS AND EDUCATIONAL SERVICES NOT ELSEWHERE CLASSIFIED\", \"STATIONERY, OFFICE SUPPLIES, PRINTING AND WRITING PAPER\", \"BUSINESS SERVICES NOT ELSEWHERE CLASSIFIED\", \"AMERICAN AIRLINES\", \"DIRCT MARKETING/DIRCT MARKETERS--NOT ELSEWHERE CLASSIFIED\", \"TRAVEL AGENCIES\", \"STATIONERY, OFFICE SUPPLIES, PRINTING AND WRITING PAPER\", \"BUSINESS SERVICES NOT ELSEWHERE CLASSIFIED\", \"UNITED AIRLINES\", \"TRAVEL AGENCIES\", \"COMPUTER SOFTWARE STORES\", \"COMPUTER NETWORK/INFORMATION SERVICES\", \"AMERICAN AIRLINES\", \"COMPUTERS, COMPUTER PERIPHERAL EQUIPMENT, SOFTWARE\", \"STATIONERY, OFFICE SUPPLIES, PRINTING AND WRITING PAPER\", \"PROFESSIONAL SERVICES NOT ELSEWHERE CLASSIFIED\", \"BOOK STORES\", \"BOOK STORES\", \"COMPUTER NETWORK/INFORMATION SERVICES\", \"WYNDHAM HOTELS\", \"MISCELLANEOUS PUBLISHING AND PRINTING SERVICES\", \"INFORMATION RETRIEVAL SERVICES\", \"BUSINESS SERVICES NOT ELSEWHERE CLASSIFIED\", \"WYNDHAM HOTELS\", \"DIRCT MARKETING/DIRCT MARKETERS--NOT ELSEWHERE CLASSIFIED\", \"COMMERCIAL PHOTOGRAPHY,ART,AND GRAPHICS\", \"SCHOOLS AND EDUCATIONAL SERVICES NOT ELSEWHERE CLASSIFIED\", \"COMPUTERS, COMPUTER PERIPHERAL EQUIPMENT, SOFTWARE\", \"COMPUTERS, COMPUTER PERIPHERAL EQUIPMENT, SOFTWARE\", \"FAST FOOD RESTAURANTS\", \"SHERATON\", \"SHERATON\", \"SHERATON\", \"SHERATON\", \"COMPUTERS, COMPUTER PERIPHERAL EQUIPMENT, SOFTWARE\", \"MEMBERSHIP ORGANIZATIONS--NOT ELSEWHERE CLASSIFIED\", \"BUSINESS SERVICES NOT ELSEWHERE CLASSIFIED\", \"COMFORT HOTEL INTERNATIONAL\", \"CHARITABLE AND SOCIAL SERVICE ORGANIZATIONS\", \"STATIONERY, OFFICE SUPPLIES, PRINTING AND WRITING PAPER\", \"STATIONERY, OFFICE SUPPLIES, PRINTING AND WRITING PAPER\", \"MEMBERSHIP ORGANIZATIONS--NOT ELSEWHERE CLASSIFIED\", \"MISCELLANEOUS PUBLISHING AND PRINTING SERVICES\", \"SCHOOLS AND EDUCATIONAL SERVICES NOT ELSEWHERE CLASSIFIED\", \"HOLIDAY INNS\", \"HOLIDAY INNS\", \"HOLIDAY INNS\", \"HOLIDAY INNS\", \"HOLIDAY INNS\", \"HOLIDAY INNS\", \"HOLIDAY INNS\", \"HOLIDAY INNS\", \"HOLIDAY INNS\", \"HOLIDAY INNS\", \"COMPUTERS, COMPUTER PERIPHERAL EQUIPMENT, SOFTWARE\", \"AMERICAN AIRLINES\", \"EATING PLACES AND RESTAURANTS\", \"GROCERY STORES,AND SUPERMARKETS\", \"BEST WESTERN\", \"BEST WESTERN\", \"BEST WESTERN\", \"BEST WESTERN\", \"BEST WESTERN\", \"EATING PLACES AND RESTAURANTS\", \"EATING PLACES AND RESTAURANTS\", \"EATING PLACES AND RESTAURANTS\", \"HOLIDAY INNS\", \"HOLIDAY INNS\", \"HOLIDAY INNS\", \"HOLIDAY INNS\", \"HOLIDAY INNS\", \"HOLIDAY INNS\", \"HOLIDAY INNS\", \"HOLIDAY INNS\", \"HOLIDAY INNS\", \"HOLIDAY INNS\", \"HOLIDAY INNS\", \"HOLIDAY INNS\", \"ADVERTISING SERVICES\", \"COMPUTERS, COMPUTER PERIPHERAL EQUIPMENT, SOFTWARE\", \"TRAVEL AGENCIES\", \"TRAVEL AGENCIES\", \"TRAVEL AGENCIES\", \"AMERICAN AIRLINES\", \"AMERICAN AIRLINES\", \"AMERICAN AIRLINES\", \"GROCERY STORES,AND SUPERMARKETS\", \"FAST FOOD RESTAURANTS\", \"HOLIDAY INNS\", \"COLLEGES,UNIVERSITIES,PROFESSIONAL SCHLS AND JR COLLEGES\", \"BUSINESS SERVICES NOT ELSEWHERE CLASSIFIED\", \"HAMPTON INNS\", \"COMPUTERS, COMPUTER PERIPHERAL EQUIPMENT, SOFTWARE\", \"DAYS INNS OF AMERICA\", \"TRAVEL AGENCIES\", \"TRAVEL AGENCIES\", \"AMERICAN AIRLINES\", \"AMERICAN AIRLINES\", \"COMMERCIAL PHOTOGRAPHY,ART,AND GRAPHICS\"], \"x0\": \" \", \"xaxis\": \"x\", \"y\": [-0.020844392712254845, -0.03407773373070743, 0.6417735266472184, 0.6417735266472184, 0.71525488114313, 0.6417735266472184, -0.03905080013638483, -0.09277622245345708, 0.28105977759955475, 1.0, 0.1019070984769959, 1.2957392154336937, 0.556940539967114, 0.9000102273889476, 0.9000102273889476, 0.1019070984769959, 0.556940539967114, 0.1019070984769959, 0.9433890779034788, 0.1019070984769959, 1.1906825386052202, 1.1906825386052202, 1.1380648806074096, 1.8359039794283376, 0.22827190058847083, 1.0, 0.5180549258176564, 3.414173138855099, 0.9718044115752703, -0.5266308507172031, -0.5266308507172031, -0.5266308507172031, 0.1019070984769959, 0.1019070984769959, 0.1019070984769959, 0.7948753681205681, 0.23234818452755068, 0.9171638862929632, 1.420584952769323, 0.9718044115752703, 0.9718044115752703, 0.1019070984769959, 0.7009115639041911, 0.5953412693026101, 0.7406930310446992, 0.1019070984769959, -0.5266308507172031, -0.5266308507172031, 1.0, 0.274945351690935, 1.0, 0.7406930310446992, 0.1019070984769959, 0.5690324403037048, 0.5953412693026101, 2.5391987913316116, 2.4269886183771567, 1.0, 1.3726886164851348, 1.0, 0.5044401374611297, 1.0, 1.0, 1.0, 0.1019070984769959, 7.333316332083407, 0.36939933773328987, 0.7691083647164907, 1.3336263269960824, 0.1019070984769959, 0.214290246677427, 0.7785801426070879, 0.36939933773328987, 0.1019070984769959, 0.1019070984769959, 0.7009115639041911, 0.1019070984769959, 1.096831879731153, 0.6960858321441965, 1.0, 0.16305135756319344, 1.0802152438561567, 0.825983412149164, 0.3860303607346187, 0.3233802981527388, 1.0, 1.4266993786779427, 0.9926423229345841, 0.1019070984769959, 0.33896489083479847, 4.167631775036405, -0.7009115639041911, 1.3396905484315569, 0.10416666666666667, 0.1019070984769959, 0.1019070984769959, 1.0722052572156004, 1.5874699744640868, -0.04924150998408442, 0.3677184643331986, 1.7487258098652498, 1.4266993786779427, 0.672586849948173, 1.0, 0.6000068182592985, 0.3261027151263869, 1.6998104025962917, 1.7141493490997461, -0.04638811122672854, 1.7141493490997461, 2.1197084111609055, 0.6272993353849959, 0.9490721446378371, 0.7918406316539239, 1.1763948140121694, 0.9972221028564912, 0.1019070984769959, 0.1019070984769959, 1.0945230004823268, 0.4691395185486984, 1.0, 0.34240785088270626, 1.0, 1.0, 0.1019070984769959, 0.1019070984769959, -0.8596206742390373, 2.5914784308673875, 1.3525698827772767, 1.369631403530825, 0.07940601113327521, 0.3233802981527388, -1.6169014907636938, 0.3233802981527388, 0.3233802981527388, 1.293521192610955, 0.3233802981527388, 0.6114425908619755, 3.48522276791326, 1.0, 1.293521192610955, 1.293521192610955, 1.009691523137659, 1.009691523137659, 1.009691523137659, 1.009691523137659, 0.8183616097475961, 1.009691523137659, 1.009691523137659, 0.6071624927259416, 1.0, 0.1019070984769959, 0.8183616097475961, 0.1019070984769959, 0.1019070984769959, 0.8183616097475961, 0.1019070984769959, 0.1019070984769959, 0.1019070984769959, 0.1019070984769959, 0.1019070984769959, 0.1019070984769959, 0.3911194439547103, 0.7895154652731443, 1.8958333333333333, 0.1420584952769323, 0.7720607214692374, 4.550722626749339, 0.7198551196853854, 1.3062226356468336, 0.6531113178234168, 1.0722052572156004, 1.6461949973857892, 0.1019070984769959, 0.1019070984769959, 0.1019070984769959, 1.2155982292006566, 1.2155982292006566, 2.7226283415558292, 0.3233802981527388, 0.3233802981527388, 2.958579074762213, 6.383527085535063, 0.3233802981527388, 8.511369447380083, 0.3233802981527388, 2.441949827351934, 1.7724357257306496, null, 0.6000068182592985, 0.32202643118730706, 2.017760549844519, 2.017760549844519, 0.11821223423331526, -0.09848301996816884, 2.017760549844519, 0.2656106614704421, 0.6557925601191641, 0.15273835919732145, 0.3233802981527388, 1.4266993786779427, 0.6392799918180889, 0.3233802981527388, -0.3233802981527388, 0.3233802981527388, 0.3233802981527388, null, 5.380694799585384, 1.222885181723951, 0.9701408944582163, 20.377343411460103, 2.017760549844519, 0.3233802981527388, -0.07854634711758088, 1.0, 6.679984999829544, 0.3233802981527388, 0.3233802981527388, 0.3233802981527388, 2.0045682337299287, 2.0045682337299287, 0.3233802981527388, 0.3233802981527388, 0.6467605963054776, 0.3233802981527388, -2.0972480866565757, 1.222885181723951, 0.3233802981527388, 0.19367752555629691, 0.19367752555629691, 0.1019070984769959, 1.3677247274022322, 0.6467605963054776, 1.4983027404532194, 0.3233802981527388, 0.3233802981527388, 0.1019070984769959, 1.0248463677626145, 0.3233802981527388, 0.6467605963054776, 0.6467605963054776, 0.031013339437298802, 0.4691395185486984, 0.5064992621669402, 1.0, 2.4426511340226273, 9.347367463543364, 2.608821721011095, 8.680405885431119, 1.0598338241607574, 0.06611732549187495, 1.0, 1.8343277725859264, 1.8602571777132855, 1.0, 0.1019070984769959, 1.2446634945526978, 4.978653978210791, 2.441694079508822, 0.3233802981527388, 0.5064992621669402, 0.9701408944582163, 0.3953995420907441, 0.3169718391028481, 1.2025037620285517, 1.0, 6.0940444889243555, 0.3233802981527388, 1.2188904234636526, 0.2443732221478362, 0.1019070984769959, 1.613990952557759, 1.0, 0.1019070984769959, 0.1019070984769959, 1.7589091542838957, 1.7589091542838957, 1.6862529281988594, 0.5604890416234775, 1.8343277725859264, 10.394524044653583, 0.35638950479375014, 0.3233802981527388, 0.3233802981527388, 0.1019070984769959, 1.0390540345985102, 0.8999802367990801, 1.1000197632009199, 1.0, 0.1019070984769959, 1.3487811716210378, 0.3383315669436264, 0.3383315669436264, 0.3383315669436264, 0.3233802981527388, -0.46364163229127603, 0.3233802981527388, 0.46364163229127603, 0.6467605963054776, 0.3383315669436264, 0.3383315669436264, 0.3383315669436264, 0.3233802981527388, 1.0, 0.20377343411460103, 0.20377343411460103, 0.4891540726895804, 0.3233802981527388, 0.3233802981527388, 0.3233802981527388, 0.3233802981527388, 0.3233802981527388, 0.3233802981527388, 0.3233802981527388, 2.364244684666305, 1.752109125534686, 1.3558595633391939, 1.3558595633391939, 0.2443732221478362, 2.5476774619248976, 0.22011933271031117, 0.4691395185486984, 0.6467605963054776, 0.6467605963054776, 0.6467605963054776, 0.3233802981527388, 0.279587592716151, 0.3233802981527388, 0.559175185432302, 0.3233802981527388, 4.162375055873203, 0.3257358495718697, 2.074582016354082, 2.074582016354082, 2.074582016354082, 1.222885181723951, 0.1019070984769959, 0.7937349872320434, -0.021506737901242384, 1.0, 0.2038141969539918, 1.0, 1.2862674375430965, 0.1019070984769959, 0.24050075240571034, 3.812140739827463, 1.0, 0.5095354923849795, 0.32329007920842184, -0.04300479555729227, 0.5910611711665763, 2.2353395821809334, 0.1019070984769959, 1.0, 1.9634249090492912, 0.1019070984769959, 1.0418955679656894, -0.010753368950621192, 1.0, 1.0722052572156004, 1.0722052572156004, 0.6355786510560997, 1.288161793121216, -0.15253454500036748, 0.1019070984769959, 0.1019070984769959, 0.1019070984769959, 1.0759939683718391, 0.1019070984769959, 0.1019070984769959, 1.2351198369338718, 0.3233802981527388, 0.3233802981527388, 1.175000365263891, 0.3233802981527388, 2.055529851800264, 1.0759939683718391, 1.0722052572156004, 0.1019070984769959, 0.1019070984769959, 3.057212954309877, 1.0, 1.6264372916928547, 1.0, 1.5034965680902068, 0.3355189310256613, 1.0, 0.3233802981527388, 1.6016776412999825, 0.3233802981527388, 0.1019070984769959, 1.6016776412999825, 0.1019070984769959, 0.3116139306777837, 1.0, 0.45234522871968946, -0.003261027151263869, 1.019070984769959, 1.019070984769959, 1.019070984769959, 1.019070984769959, 2.9471532879547215, 2.9471532879547215, 2.9471532879547215, 1.019070984769959, 1.019070984769959, 2.9471532879547215, 1.1013303946605901, 1.0526613127097224, 1.1013303946605901, 1.1013303946605901, 2.5476774619248976, 1.0722052572156004, 2.9471532879547215, 2.9471532879547215, 0.1019070984769959, 0.6974494840038766, 0.3066180778975853, 0.3382500412648448, 1.3336263269960824, 1.3336263269960824, 1.3336263269960824, 1.3336263269960824, 1.3336263269960824, 1.3336263269960824, 0.3446922286454554, 1.3336263269960824, 1.3336263269960824, 1.3970240316014417, 0.1019070984769959, 0.1019070984769959, 0.1019070984769959, 0.1019070984769959, 0.1019070984769959, 0.1019070984769959, 0.1019070984769959, 0.1019070984769959, 1.4738086397769206, 1.3336263269960824, 1.365830371824113, 1.3336263269960824, 1.1407072975121013, 0.1019070984769959, 0.1019070984769959, 0.1019070984769959, 0.1019070984769959, 0.3066180778975853, 0.1019070984769959, 1.0, 1.1934440142152443, -0.8963340753642651, 1.0, 0.3741860702962534, 0.1019070984769959, 1.1934440142152443, 0.3741860702962534, 2.9858131504741126, 2.9858131504741126, 2.9858131504741126, 2.9858131504741126, 2.9858131504741126, 1.6245773159483023, 0.37558461742279614, 1.0, 1.6281812516942624, 1.921506588058251, -0.29815496153222176, 3.9283244440346645, 0.32143855129548227, -0.010079137850538943, 0.03711310448841859, 0.09766606444320682, 0.09766606444320682, 0.09766606444320682, 1.0, 1.6281812516942624, 1.4002900288268558, 0.09766606444320682, 1.6281812516942624, 1.6281812516942624, 1.6281812516942624, 1.6281812516942624, 0.09766606444320682, 0.09766606444320682, 0.09766606444320682, 0.09766606444320682, 0.44719337587255537, 1.3168051254001822, 1.0, 0.09766606444320682, 1.0, 1.6281812516942624, 1.0, 0.09766606444320682, 0.09766606444320682, 1.0, 1.0, 1.0, 1.0, 1.0, 1.0, 1.0, 1.0, 1.0, 0.6836624511024477, -0.05426326540464571, 2.9443583779822444, 1.6900416177695798, 1.6900416177695798, 1.0, 1.0, 0.5389213435976151, 0.09766606444320682, 1.6281812516942624, 0.7697810340053859, 0.6760166471078319, 4.687971093273927, 4.687971093273927, 2.5483632736721407, 1.6900416177695798, 1.6900416177695798, 0.6760166471078319, 3.3978176982295207, 2.5483632736721407, 2.5483632736721407, 0.09766606444320682, 0.23466026909119078, 1.1719927733184818, 0.7813285155456545, 0.38664640439777814, 0.8008617284342959, 1.0, 1.0, 1.4649909666481022, 0.39066425777282726, 0.39066425777282726, 1.7961179915363505, 1.0, 1.1602728455852969, 0.33800832355391597, 3.0194049819004047, 1.6900416177695798, 1.0, 5.074728708469026, 0.7149155917242739, 1.0, 0.05469299608819582, 1.6900416177695798, 2.5483632736721407, 0.386757615195099, 4.492443632258627, 0.07031956639910891, 1.0, 1.0, 0.09766606444320682, 1.6281812516942624, 1.0, 1.0, 1.0, 1.0, 1.0, 1.0, 1.0, 1.0, 1.0, 0.2539317675523377, 0.3684729698586455, 0.40625176165796306, 0.7843548993845936, 0.14892121506300174, 1.0, 2.267923215648594, 3.023897620864792, 3.3978176982295207, 2.267923215648594, 2.267923215648594, 1.1719927733184818, 15.62657031091309, 1.0, 1.0, 0.38194940561592505, 0.09766606444320682, 0.8655353771478922, 0.6760166471078319, 1.0, 2.4611848239688117, 1.9884810720636907, 1.0, 1.547030460780396, 0.6692078735648531, 0.1562657031091309, 1.8986282927759406, 1.0, 1.0, 1.0, 1.0, 0.007813285155456545, 1.0, 1.0, 3.3800832355391597, 1.014024970661748, -0.9218895154923177, 3.5159783199554453, -0.3087419629178654, 1.0, 0.09766606444320682, 1.6281812516942624, 0.380281312590594, 0.380281312590594, 0.380281312590594, 0.380281312590594, 0.380281312590594, 0.380281312590594, 0.33800832355391597, 0.380281312590594, 0.380281312590594, 0.380281312590594, 12.30592411984406, 0.33800832355391597, 0.33800832355391597, 0.7059303137954989, 1.0981319768863327, -0.17111094490449832, 1.5431238182026676, -0.04227298903667807, -0.04227298903667807, -0.04227298903667807, 1.406391327982178, -0.060513893529010945, -0.04227298903667807, -0.04227298903667807, 0.33800832355391597, -0.04227298903667807, -0.04227298903667807, -0.04227298903667807, -0.04227298903667807, 0.9375942186547854, 2.3596121169478765, 1.0576844114941526, 0.9066009242388506, 1.0, 0.09766606444320682, 0.17579891599777225, 1.7521291961111303, 1.6281812516942624, 1.6281812516942624, 0.09766606444320682, 0.09766606444320682, 1.0, 1.6603230955345158, 1.1714067769318226, 0.039066425777282726, 0.220529973512761, 0.30862476364053354, 0.09766606444320682, 1.0, 1.6017234568685919, 0.9034110960996631, 3.6331775972872937, 9.065950098005116, 0.25143151630259164, 1.0, 1.0, 1.0, 0.9066009242388506, 0.09766606444320682, 9.065950098005116, 1.1524595604298404, 1.0647262191948355, 0.8614739494136217, 0.09766606444320682, 1.4544423986171306, 0.9517278990640796, 0.8614739494136217, 0.09766606444320682, 0.09766606444320682, 0.09766606444320682, 1.1714067769318226, 1.0, 0.9517278990640796, 0.09766606444320682, 0.09766606444320682, 0.8614739494136217, 0.09766606444320682, 1.555978091973896, 0.8614739494136217, 0.09766606444320682, 0.9517278990640796, 0.09766606444320682, 1.0, 1.8190255220417633, 0.09766606444320682, 0.09766606444320682, 0.9517278990640796, 0.9517278990640796, 0.09766606444320682, 0.9517278990640796, 0.8614739494136217, 0.09766606444320682, 0.09766606444320682, 0.9729375772319372, 0.09766606444320682, -0.02120967816785763, 0.9517278990640796, 0.09766606444320682, 0.09766606444320682, 0.09766606444320682, 1.6281812516942624, 0.9517278990640796, 0.9517278990640796, -1.0576844114941526, 0.8614739494136217, 0.6608282211403442, 0.09766606444320682, 0.09766606444320682, 0.09766606444320682, 0.09766606444320682, 1.0508868534089053, 0.9600183470509458, 0.8614739494136217, 0.9517278990640796, 0.09766606444320682, 0.9517278990640796, 1.6281812516942624, 2.028049941323496, 2.1140884236826745, 3.5745779586213695, 1.0, 1.0, 5.746983763244507, 1.0, 1.0, 1.0168209301311146, 0.33800832355391597, 2.272293877979858, 2.2718549061310864, 0.33800832355391597, 0.33800832355391597, 1.6281812516942624, 0.33800832355391597, 0.33800832355391597, 0.09766606444320682, 0.33800832355391597, 2.2718549061310864, 2.5237301716382414, 0.035159783199554456, 0.8095414851427122, 1.1232104033999497, 0.23420322253480996, 0.9517278990640796, 0.09766606444320682, 0.09766606444320682, 0.8614739494136217, 1.8556552244209294, 4.1106474531372434, 0.09766606444320682, 1.0, 1.0, 0.25143151630259164, 2.2718549061310864, 2.2718549061310864, 1.0786240157107763, 1.6281812516942624, 1.6603230955345158, 0.09766606444320682, 0.09766606444320682, 3.40778235919663, 0.09766606444320682, 1.289728940505045, 0.33800832355391597, 0.7946111003099307, 1.4002900288268558, 1.4002900288268558, 1.4002900288268558, 1.4002900288268558, 0.33800832355391597, 1.3859595873006592, 3.40778235919663, 0.09766606444320682, 0.09766606444320682, 0.09766606444320682, 1.0860466366084598, -0.0399903354230672, -0.0399903354230672, -0.0399903354230672, 0.09766606444320682, 0.773515230390198, 0.09766606444320682, 0.32532203712442487, 2.4314414035833383, 2.4314414035833383, 0.32532203712442487, 0.30471812106280527, 0.5859963866592409, 0.32532203712442487, 1.0, 0.5859963866592409, 3.5862978863545543, -0.09141543631884157, 1.3216564422806885, 1.4002900288268558, 1.2739344993162147, 1.6281812516942624, 3.672244023064576, 1.0, 2.4611848239688117, 0.09766606444320682, 0.09766606444320682, 0.09766606444320682, 1.1520916672880963, 4.16057434528061, 0.09766606444320682, -0.09766606444320682, 0.09766606444320682, -0.09766606444320682, 0.09766606444320682, 0.09766606444320682, -2.4314414035833383, 0.300811478485077, 0.300811478485077, 0.09766606444320682, 1.6281812516942624, 1.1520916672880963, 1.921506588058251, -2.4314414035833383, 0.404907633306665, 0.09766606444320682, 1.0, 0.30728029413992364, 1.2134643530504077, 1.047171450819439, 1.4002900288268558, 1.2134643530504077, 1.0508868534089053, 0.580046403712297, 1.9301939648039848, 0.404907633306665, 0.09766606444320682, 0.09766606444320682, 0.404907633306665, 0.09766606444320682, 1.240089268197293, 1.047171450819439, 1.4002900288268558, 0.2939794471221526, 1.2536273606448616, 1.4002900288268558, 1.0, 0.918918918918919, 1.0, 0.4322309347998561, 0.277879486553812, 0.6760166471078319, 0.09766606444320682, 0.09766606444320682, 0.4483658463350257, 0.09766606444320682, 0.09766606444320682, 0.4483658463350257, 0.09766606444320682, 0.4483658463350257, 0.6760166471078319, 2.020721407128112, 0.2939794471221526, -0.2939794471221526, 0.2589933907750785, 0.2589933907750785, 0.2589933907750785, -0.2939794471221526, -0.2589933907750785, 0.38194940561592505, 0.300811478485077, 2.2501089254941533, 0.33800832355391597, 0.300811478485077, 0.38194940561592505, -0.043910662573665785, -0.043910662573665785, -0.043910662573665785, 0.33800832355391597, 0.33800832355391597, 0.33800832355391597, 0.33800832355391597, 0.36970209103520524, 0.33800832355391597, 0.33800832355391597, 0.33800832355391597, 0.33800832355391597, 0.3793155745232971, 0.33800832355391597, -0.11035752278110972, 0.35136343344088083, 0.386757615195099, -0.11035752278110972, -0.11035752278110972, 0.36970209103520524, 1.0, 1.9337880759754948, 1.5, 1.7142857142857142, 0.013673249022048955, 1.361464938338303, -0.03169376748128926, -0.03169376748128926, 0.19533212888641363, 0.19533212888641363, 2.949515146184846, 3.363138922176587, 41.73854081079898, 2.9038865739920325, 3.363138922176587, 2.9022623781515784, 2.03536078299643, 2.7326964831209266, 0.5859963866592409, 0.09766606444320682, -0.3793155745232971, 1.4002900288268558, 1.5421958991033995, 1.5421958991033995, 2.9299819332962045, 1.7910051429869833, 1.7910051429869833, -1.0508868534089053, 0.09766606444320682, 0.16020076062956295, 1.4149562956450552, 1.1818754706727475, 1.1818754706727475, 1.1818754706727475, 1.1818754706727475, 1.5587503885135807, 0.09766606444320682, 0.09766606444320682, 0.09766606444320682, 0.09766606444320682, 0.09766606444320682, 0.6522329191229483, 0.09766606444320682, 0.09766606444320682, 1.1524595604298404, 1.1524595604298404, 1.4002900288268558, 1.260396406868646, 1.0, 0.07813285155456545, 0.7132414598836399, 0.6347512860292897, 1.4306970495154845, 0.8178964711092009, 0.09766606444320682, 0.09766606444320682, 0.09766606444320682, 3.8675761519509897, 1.1602728455852969, 1.5604907894564188, 1.240089268197293, 1.5334146045612815, 0.23439855466369636, 0.42672453419059964, 0.43651360641820003, 0.42672453419059964, 0.09766606444320682, 0.09766606444320682, 1.4002900288268558, 1.0009163016235791, 3.1367172425803402, 0.39066425777282726, 1.1818754706727475, 1.921506588058251, 0.09766606444320682, 0.09766606444320682, 0.9766606444320681, -1.2414919447762678, 2.0758539756546925, 0.6760166471078319, 0.6760166471078319, 0.6760166471078319, 2.0758539756546925, 2.0758539756546925, 1.6307804181854517, 1.6307804181854517, 1.6307804181854517, 1.6281812516942624, 1.6281812516942624, 1.2536273606448616, 0.09766606444320682, 0.09766606444320682, 0.09766606444320682, -1.4002900288268558, 0.8602036291899884, 1.2536273606448616, 1.0, 1.0, 1.0, 0.09766606444320682, 1.365641421527575, 0.31249233979248453, 1.0, 1.0, 1.0, 7.275145140374476, 1.79080495763064, 1.0, 0.2765083675410541, 0.25143151630259164, 1.3477670808770517, 1.0189670915536708, 0.9677925657806249, 0.09766606444320682, 0.09766606444320682, 0.09766606444320682, 0.09766606444320682, 0.09766606444320682, 1.074326708875275, 4.336295128426828, 1.0189670915536708, 1.0189670915536708, 0.09766606444320682, 1.0, 1.0189670915536708, 1.240089268197293, 1.0, 0.09766606444320682, 1.0, 1.0, 0.09766606444320682, 0.09766606444320682, 0.09766606444320682, 1.6281812516942624, 1.3168051254001822, 1.6281812516942624, 2.812536532262721, 2.5030249659762815, 5.8365240111260395, 5.566965673262788, 1.7758167170194958, 1.7758167170194958, 0.7802567058042083, 1.0, 0.46666666666666673, 0.5333333333333333, 0.9603020242808732, 0.09766606444320682, 0.5084610924318194, 1.815148594669406, 0.36434663448019516, 0.36434663448019516, 0.36434663448019516, 0.36434663448019516, 0.36434663448019516, 0.36434663448019516, 0.36434663448019516, 0.36434663448019516, 0.36434663448019516, 0.33800832355391597, 0.36434663448019516, 0.36434663448019516, 1.815148594669406, 0.36434663448019516, 0.5084610924318194, 0.27346498044097906, 0.25143151630259164, 0.07809378512878816, 0.34472214105874277, 2.0, 0.03722481277580789, 0.03312832905913575, 1.0, 0.23420322253480996, 1.0, 9.065950098005116, 1.0, 3.328899117972424, 0.17579891599777225, 2.340078904059235, 0.7149155917242739, 0.3397642109490013, 0.3397642109490013, 0.3397642109490013, 0.7802567058042083, 0.16798563084231571, 0.3397642109490013, 0.3397642109490013, 0.3397642109490013, 0.3397642109490013, 0.3397642109490013, 0.3397642109490013, 0.3397642109490013, 0.3397642109490013, 0.3397642109490013, 4.254333767146089, 1.0, 2.0666139236182564, 0.09766606444320682, 0.09766606444320682, 0.7933322174275258, 0.8795247393437132, 0.10547934959866336, -1.906441577931397, 9.18061005766144, 1.6248981954119162, 0.09766606444320682, 0.09766606444320682, 0.7610664304274871, 0.09766606444320682, 0.7610664304274871, 0.09766606444320682, 0.7610664304274871, 0.09766606444320682, 0.35490873973161174, 0.09766606444320682, 2.031737304853175, 0.5094835457768354, 2.031737304853175, 0.5094835457768354, 0.5094835457768354, -1.0189670915536708, -1.0189670915536708, -1.0189670915536708, 0.4101974706614686, 0.2615106541531306, 0.4135992759123372, -0.04687971093273927, 0.7286932689603903, -0.04687971093273927, -0.04687971093273927, -0.04687971093273927, -0.04687971093273927, 0.7286932689603903, 1.8998701614822706, -0.04687971093273927, 0.7286932689603903, -0.04687971093273927, 0.004389718487713194, 0.7286932689603903, 0.7286932689603903, 1.8998701614822706, 0.7286932689603903, 0.7286932689603903, 0.644596025325165, 0.7286932689603903, -0.04687971093273927, -0.04687971093273927, -0.04687971093273927, 0.36434663448019516, 0.7286932689603903, -0.04687971093273927, 0.7286932689603903, 0.013169155463139584, 0.013169155463139584, 1.0, 1.0, 1.0, 3.3375029662083415, 0.9958670366652889, 1.0, 0.5820897440815126, 0.11719927733184818, 0.4570771815942079, 1.95312595673525, 1.4845241795367436, 0.39046892564394087, 0.6009280742459396, 7.414807612528262, 1.0, 1.0, 1.0, 1.004132963334711, 0.33800832355391597, -0.31585205240933084, 0.359956915992482, 1.6603230955345158, 1.0, 0.7617953026570131, 1.0, 0.2916308684274156, 0.39046892564394087, 0.05078635351046754, 2.1484580856216637, -0.04383252972211122, 1.0, 0.386757615195099, 1.0, 2.0666139236182564, 1.0, 2.340078904059235, 1.5813521880138013, 1.5813521880138013, 0.9951390638247228, 0.6156462585034014, 1.0, 1.0, 0.7797619047619048, 0.3711310448841859, 0.2916308684274156, 1.604591836734694, 0.09766606444320682, 0.09766606444320682, 0.09766606444320682, 0.09766606444320682, 0.3125314062182618, 0.21486534177505498, 1.6281812516942624, 1.6281812516942624, 1.6281812516942624, 1.6281812516942624, 0.5816867054972018, 0.7286932689603903, 0.5816867054972018, 0.7286932689603903, 1.0, 1.0, 1.0, 0.09766606444320682, 0.09766606444320682, 1.0, 1.0, 1.0, 0.386757615195099, 0.7286932689603903, 0.36434663448019516, 3.272096160741415, 1.921506588058251, 0.05640871853153625, 0.2916308684274156, 2.3244523337483223, 0.1714625427364939, 1.0, -0.11032358639504641, -0.11032358639504641, 3.66443073790912, 1.0, 1.0, 1.0, 1.0, 1.0, 1.0810810810810811, 1.0, 1.0, 0.7774218729679262, 0.3819055084310479, 0.3819055084310479, 0.3819055084310479, 0.3819055084310479, 0.2857142857142857, 0.5, 1.0, 1.347791689316254, 0.09766606444320682, 0.4758639495320398, -0.8140906258471312, 1.1680861307407535, -1.6281812516942624, 1.0, 1.0, 1.0, 1.0, 0.09766606444320682, 0.09766606444320682, 1.0, 1.2220384782672014, 1.2220384782672014, 0.9024344354552309, 0.4687971093273927, 0.917084345121712, 1.2438706306784109, -0.49364335612174454, 4.586632784807655, 1.0508868534089053, 1.33877634438277, 0.09766606444320682, 0.09766606444320682, 0.09766606444320682, 0.09766606444320682, 1.406391327982178, 0.4102042011613316, 0.4102042011613316, 0.4102042011613316, 0.4102042011613316, 10.18930517123088, 0.4463057810215148, 0.7893761992557747, 1.0, 0.09766606444320682, 2.2010805611436632, 1.074326708875275, 1.868039281392328, 1.6952875466051838, 1.2220384782672014, 1.0, 0.09766606444320682, 1.0, 1.5431238182026676, 0.6155319366161236, 0.09766606444320682, 0.773515230390198, 1.0, -1.921506588058251, 1.0, 0.09301715977571016, 3.276344864237593, 1.0, 1.0, 0.5820897440815126, 1.33877634438277, 5.322917711432103, 0.17579891599777225, 0.005859963866592409, -1.33877634438277, 1.0, -1.0508868534089053, 1.0, 1.0, 0.791327225011559, 0.22447568251626654, 2.89106859600791, 2.89106859600791, 2.89106859600791, 2.89106859600791, 1.0, 2.3439855466369637, 2.0314541404187016, 0.8234233939252411, 0.17579891599777225, 1.7107187847872105, 0.7460515330687683, 2.3439855466369637, 1.675949665845429, 9.766606444320681, 0.36434663448019516, 0.36434663448019516, 0.36434663448019516, 0.36434663448019516, 0.36434663448019516, 0.36434663448019516, 0.36434663448019516, 0.36434663448019516, 0.36434663448019516, 0.36434663448019516, 1.0, -0.5139059893097078, 0.7299170992227505, 1.1929323775351053, 0.36434663448019516, 0.36434663448019516, 0.36434663448019516, 0.36434663448019516, 0.36434663448019516, 1.176290080153983, 0.38910160074173594, 0.8085578143124206, 0.4010446810374774, 0.36434663448019516, 0.36434663448019516, 0.36434663448019516, 0.36434663448019516, 0.36434663448019516, 0.36434663448019516, 0.36434663448019516, 0.36434663448019516, 0.36434663448019516, 0.36434663448019516, 0.36434663448019516, 4.838923762477348, 1.0, 0.09766606444320682, 0.09766606444320682, 0.09766606444320682, 1.2545299001413661, 1.2545299001413661, 1.2545299001413661, -0.10149457416938053, 0.263503041867772, 0.4931848720945774, 1.3829514725158085, 0.5859963866592409, 0.8286032617407426, 0.2304919120859681, -0.3397642109490013, 0.09766606444320682, 0.09766606444320682, 1.2545299001413661, 1.2545299001413661, 3.785536657818696], \"y0\": \" \", \"yaxis\": \"y\"}],                        {\"boxmode\": \"group\", \"height\": 400, \"legend\": {\"tracegroupgap\": 0}, \"template\": {\"data\": {\"bar\": [{\"error_x\": {\"color\": \"#2a3f5f\"}, \"error_y\": {\"color\": \"#2a3f5f\"}, \"marker\": {\"line\": {\"color\": \"#E5ECF6\", \"width\": 0.5}}, \"type\": \"bar\"}], \"barpolar\": [{\"marker\": {\"line\": {\"color\": \"#E5ECF6\", \"width\": 0.5}}, \"type\": \"barpolar\"}], \"carpet\": [{\"aaxis\": {\"endlinecolor\": \"#2a3f5f\", \"gridcolor\": \"white\", \"linecolor\": \"white\", \"minorgridcolor\": \"white\", \"startlinecolor\": \"#2a3f5f\"}, \"baxis\": {\"endlinecolor\": \"#2a3f5f\", \"gridcolor\": \"white\", \"linecolor\": \"white\", \"minorgridcolor\": \"white\", \"startlinecolor\": \"#2a3f5f\"}, \"type\": \"carpet\"}], \"choropleth\": [{\"colorbar\": {\"outlinewidth\": 0, \"ticks\": \"\"}, \"type\": \"choropleth\"}], \"contour\": [{\"colorbar\": {\"outlinewidth\": 0, \"ticks\": \"\"}, \"colorscale\": [[0.0, \"#0d0887\"], [0.1111111111111111, \"#46039f\"], [0.2222222222222222, \"#7201a8\"], [0.3333333333333333, \"#9c179e\"], [0.4444444444444444, \"#bd3786\"], [0.5555555555555556, \"#d8576b\"], [0.6666666666666666, \"#ed7953\"], [0.7777777777777778, \"#fb9f3a\"], [0.8888888888888888, \"#fdca26\"], [1.0, \"#f0f921\"]], \"type\": \"contour\"}], \"contourcarpet\": [{\"colorbar\": {\"outlinewidth\": 0, \"ticks\": \"\"}, \"type\": \"contourcarpet\"}], \"heatmap\": [{\"colorbar\": {\"outlinewidth\": 0, \"ticks\": \"\"}, \"colorscale\": [[0.0, \"#0d0887\"], [0.1111111111111111, \"#46039f\"], [0.2222222222222222, \"#7201a8\"], [0.3333333333333333, \"#9c179e\"], [0.4444444444444444, \"#bd3786\"], [0.5555555555555556, \"#d8576b\"], [0.6666666666666666, \"#ed7953\"], [0.7777777777777778, \"#fb9f3a\"], [0.8888888888888888, \"#fdca26\"], [1.0, \"#f0f921\"]], \"type\": \"heatmap\"}], \"heatmapgl\": [{\"colorbar\": {\"outlinewidth\": 0, \"ticks\": \"\"}, \"colorscale\": [[0.0, \"#0d0887\"], [0.1111111111111111, \"#46039f\"], [0.2222222222222222, \"#7201a8\"], [0.3333333333333333, \"#9c179e\"], [0.4444444444444444, \"#bd3786\"], [0.5555555555555556, \"#d8576b\"], [0.6666666666666666, \"#ed7953\"], [0.7777777777777778, \"#fb9f3a\"], [0.8888888888888888, \"#fdca26\"], [1.0, \"#f0f921\"]], \"type\": \"heatmapgl\"}], \"histogram\": [{\"marker\": {\"colorbar\": {\"outlinewidth\": 0, \"ticks\": \"\"}}, \"type\": \"histogram\"}], \"histogram2d\": [{\"colorbar\": {\"outlinewidth\": 0, \"ticks\": \"\"}, \"colorscale\": [[0.0, \"#0d0887\"], [0.1111111111111111, \"#46039f\"], [0.2222222222222222, \"#7201a8\"], [0.3333333333333333, \"#9c179e\"], [0.4444444444444444, \"#bd3786\"], [0.5555555555555556, \"#d8576b\"], [0.6666666666666666, \"#ed7953\"], [0.7777777777777778, \"#fb9f3a\"], [0.8888888888888888, \"#fdca26\"], [1.0, \"#f0f921\"]], \"type\": \"histogram2d\"}], \"histogram2dcontour\": [{\"colorbar\": {\"outlinewidth\": 0, \"ticks\": \"\"}, \"colorscale\": [[0.0, \"#0d0887\"], [0.1111111111111111, \"#46039f\"], [0.2222222222222222, \"#7201a8\"], [0.3333333333333333, \"#9c179e\"], [0.4444444444444444, \"#bd3786\"], [0.5555555555555556, \"#d8576b\"], [0.6666666666666666, \"#ed7953\"], [0.7777777777777778, \"#fb9f3a\"], [0.8888888888888888, \"#fdca26\"], [1.0, \"#f0f921\"]], \"type\": \"histogram2dcontour\"}], \"mesh3d\": [{\"colorbar\": {\"outlinewidth\": 0, \"ticks\": \"\"}, \"type\": \"mesh3d\"}], \"parcoords\": [{\"line\": {\"colorbar\": {\"outlinewidth\": 0, \"ticks\": \"\"}}, \"type\": \"parcoords\"}], \"pie\": [{\"automargin\": true, \"type\": \"pie\"}], \"scatter\": [{\"marker\": {\"colorbar\": {\"outlinewidth\": 0, \"ticks\": \"\"}}, \"type\": \"scatter\"}], \"scatter3d\": [{\"line\": {\"colorbar\": {\"outlinewidth\": 0, \"ticks\": \"\"}}, \"marker\": {\"colorbar\": {\"outlinewidth\": 0, \"ticks\": \"\"}}, \"type\": \"scatter3d\"}], \"scattercarpet\": [{\"marker\": {\"colorbar\": {\"outlinewidth\": 0, \"ticks\": \"\"}}, \"type\": \"scattercarpet\"}], \"scattergeo\": [{\"marker\": {\"colorbar\": {\"outlinewidth\": 0, \"ticks\": \"\"}}, \"type\": \"scattergeo\"}], \"scattergl\": [{\"marker\": {\"colorbar\": {\"outlinewidth\": 0, \"ticks\": \"\"}}, \"type\": \"scattergl\"}], \"scattermapbox\": [{\"marker\": {\"colorbar\": {\"outlinewidth\": 0, \"ticks\": \"\"}}, \"type\": \"scattermapbox\"}], \"scatterpolar\": [{\"marker\": {\"colorbar\": {\"outlinewidth\": 0, \"ticks\": \"\"}}, \"type\": \"scatterpolar\"}], \"scatterpolargl\": [{\"marker\": {\"colorbar\": {\"outlinewidth\": 0, \"ticks\": \"\"}}, \"type\": \"scatterpolargl\"}], \"scatterternary\": [{\"marker\": {\"colorbar\": {\"outlinewidth\": 0, \"ticks\": \"\"}}, \"type\": \"scatterternary\"}], \"surface\": [{\"colorbar\": {\"outlinewidth\": 0, \"ticks\": \"\"}, \"colorscale\": [[0.0, \"#0d0887\"], [0.1111111111111111, \"#46039f\"], [0.2222222222222222, \"#7201a8\"], [0.3333333333333333, \"#9c179e\"], [0.4444444444444444, \"#bd3786\"], [0.5555555555555556, \"#d8576b\"], [0.6666666666666666, \"#ed7953\"], [0.7777777777777778, \"#fb9f3a\"], [0.8888888888888888, \"#fdca26\"], [1.0, \"#f0f921\"]], \"type\": \"surface\"}], \"table\": [{\"cells\": {\"fill\": {\"color\": \"#EBF0F8\"}, \"line\": {\"color\": \"white\"}}, \"header\": {\"fill\": {\"color\": \"#C8D4E3\"}, \"line\": {\"color\": \"white\"}}, \"type\": \"table\"}]}, \"layout\": {\"annotationdefaults\": {\"arrowcolor\": \"#2a3f5f\", \"arrowhead\": 0, \"arrowwidth\": 1}, \"coloraxis\": {\"colorbar\": {\"outlinewidth\": 0, \"ticks\": \"\"}}, \"colorscale\": {\"diverging\": [[0, \"#8e0152\"], [0.1, \"#c51b7d\"], [0.2, \"#de77ae\"], [0.3, \"#f1b6da\"], [0.4, \"#fde0ef\"], [0.5, \"#f7f7f7\"], [0.6, \"#e6f5d0\"], [0.7, \"#b8e186\"], [0.8, \"#7fbc41\"], [0.9, \"#4d9221\"], [1, \"#276419\"]], \"sequential\": [[0.0, \"#0d0887\"], [0.1111111111111111, \"#46039f\"], [0.2222222222222222, \"#7201a8\"], [0.3333333333333333, \"#9c179e\"], [0.4444444444444444, \"#bd3786\"], [0.5555555555555556, \"#d8576b\"], [0.6666666666666666, \"#ed7953\"], [0.7777777777777778, \"#fb9f3a\"], [0.8888888888888888, \"#fdca26\"], [1.0, \"#f0f921\"]], \"sequentialminus\": [[0.0, \"#0d0887\"], [0.1111111111111111, \"#46039f\"], [0.2222222222222222, \"#7201a8\"], [0.3333333333333333, \"#9c179e\"], [0.4444444444444444, \"#bd3786\"], [0.5555555555555556, \"#d8576b\"], [0.6666666666666666, \"#ed7953\"], [0.7777777777777778, \"#fb9f3a\"], [0.8888888888888888, \"#fdca26\"], [1.0, \"#f0f921\"]]}, \"colorway\": [\"#636efa\", \"#EF553B\", \"#00cc96\", \"#ab63fa\", \"#FFA15A\", \"#19d3f3\", \"#FF6692\", \"#B6E880\", \"#FF97FF\", \"#FECB52\"], \"font\": {\"color\": \"#2a3f5f\"}, \"geo\": {\"bgcolor\": \"white\", \"lakecolor\": \"white\", \"landcolor\": \"#E5ECF6\", \"showlakes\": true, \"showland\": true, \"subunitcolor\": \"white\"}, \"hoverlabel\": {\"align\": \"left\"}, \"hovermode\": \"closest\", \"mapbox\": {\"style\": \"light\"}, \"paper_bgcolor\": \"white\", \"plot_bgcolor\": \"#E5ECF6\", \"polar\": {\"angularaxis\": {\"gridcolor\": \"white\", \"linecolor\": \"white\", \"ticks\": \"\"}, \"bgcolor\": \"#E5ECF6\", \"radialaxis\": {\"gridcolor\": \"white\", \"linecolor\": \"white\", \"ticks\": \"\"}}, \"scene\": {\"xaxis\": {\"backgroundcolor\": \"#E5ECF6\", \"gridcolor\": \"white\", \"gridwidth\": 2, \"linecolor\": \"white\", \"showbackground\": true, \"ticks\": \"\", \"zerolinecolor\": \"white\"}, \"yaxis\": {\"backgroundcolor\": \"#E5ECF6\", \"gridcolor\": \"white\", \"gridwidth\": 2, \"linecolor\": \"white\", \"showbackground\": true, \"ticks\": \"\", \"zerolinecolor\": \"white\"}, \"zaxis\": {\"backgroundcolor\": \"#E5ECF6\", \"gridcolor\": \"white\", \"gridwidth\": 2, \"linecolor\": \"white\", \"showbackground\": true, \"ticks\": \"\", \"zerolinecolor\": \"white\"}}, \"shapedefaults\": {\"line\": {\"color\": \"#2a3f5f\"}}, \"ternary\": {\"aaxis\": {\"gridcolor\": \"white\", \"linecolor\": \"white\", \"ticks\": \"\"}, \"baxis\": {\"gridcolor\": \"white\", \"linecolor\": \"white\", \"ticks\": \"\"}, \"bgcolor\": \"#E5ECF6\", \"caxis\": {\"gridcolor\": \"white\", \"linecolor\": \"white\", \"ticks\": \"\"}}, \"title\": {\"x\": 0.05}, \"xaxis\": {\"automargin\": true, \"gridcolor\": \"white\", \"linecolor\": \"white\", \"ticks\": \"\", \"title\": {\"standoff\": 15}, \"zerolinecolor\": \"white\", \"zerolinewidth\": 2}, \"yaxis\": {\"automargin\": true, \"gridcolor\": \"white\", \"linecolor\": \"white\", \"ticks\": \"\", \"title\": {\"standoff\": 15}, \"zerolinecolor\": \"white\", \"zerolinewidth\": 2}}}, \"title\": {\"text\": \"Ratio of amount spend and average spending by description for transaction\"}, \"width\": 900, \"xaxis\": {\"anchor\": \"y\", \"domain\": [0.0, 1.0], \"title\": {\"text\": \"Merchant_Category\"}}, \"yaxis\": {\"anchor\": \"x\", \"domain\": [0.0, 1.0], \"title\": {\"text\": \"ratio_amount_by_agency_by_Description\"}}},                        {\"responsive\": true}                    ).then(function(){\n",
       "                            \n",
       "var gd = document.getElementById('80bc4cde-f6dc-4b69-b6d9-9c5d9c6e9a20');\n",
       "var x = new MutationObserver(function (mutations, observer) {{\n",
       "        var display = window.getComputedStyle(gd).display;\n",
       "        if (!display || display === 'none') {{\n",
       "            console.log([gd, 'removed!']);\n",
       "            Plotly.purge(gd);\n",
       "            observer.disconnect();\n",
       "        }}\n",
       "}});\n",
       "\n",
       "// Listen for the removal of the full notebook cells\n",
       "var notebookContainer = gd.closest('#notebook-container');\n",
       "if (notebookContainer) {{\n",
       "    x.observe(notebookContainer, {childList: true});\n",
       "}}\n",
       "\n",
       "// Listen for the clearing of the current output cell\n",
       "var outputEl = gd.closest('.output');\n",
       "if (outputEl) {{\n",
       "    x.observe(outputEl, {childList: true});\n",
       "}}\n",
       "\n",
       "                        })                };                });            </script>        </div>"
      ]
     },
     "metadata": {},
     "output_type": "display_data"
    }
   ],
   "source": [
    "# data visualization \n",
    "df2_selected = df2.loc[df2['Agency_Number'] == 26500]\n",
    "\n",
    "fig = px.box(df2_selected, x=\"Merchant_Category\", y=\"ratio_amount_by_agency_by_Description\",width=900, height=400, title = \"Ratio of amount spend and average spending by description for transaction\")\n",
    "fig.show()"
   ]
  },
  {
   "cell_type": "markdown",
   "metadata": {},
   "source": [
    "### on card holder level "
   ]
  },
  {
   "cell_type": "markdown",
   "metadata": {},
   "source": [
    "###  Feature 3: Ratio of amount spend and average spending by card holder\n",
    "\n",
    "- ratio_amount_by_cardholder\n",
    "- this feature is based on card holder level, to examine suspicious amount money for one transaction, to check if one transaction is significantly higher than what the card holder usually spend"
   ]
  },
  {
   "cell_type": "code",
   "execution_count": 168,
   "metadata": {
    "scrolled": true
   },
   "outputs": [
    {
     "data": {
      "text/html": [
       "<div>\n",
       "<style scoped>\n",
       "    .dataframe tbody tr th:only-of-type {\n",
       "        vertical-align: middle;\n",
       "    }\n",
       "\n",
       "    .dataframe tbody tr th {\n",
       "        vertical-align: top;\n",
       "    }\n",
       "\n",
       "    .dataframe thead th {\n",
       "        text-align: right;\n",
       "    }\n",
       "</style>\n",
       "<table border=\"1\" class=\"dataframe\">\n",
       "  <thead>\n",
       "    <tr style=\"text-align: right;\">\n",
       "      <th></th>\n",
       "      <th>Year_Month</th>\n",
       "      <th>Agency_Number</th>\n",
       "      <th>Agency_Name</th>\n",
       "      <th>Cardholder_Last_Name</th>\n",
       "      <th>Cardholder_First_Initial</th>\n",
       "      <th>Description</th>\n",
       "      <th>Amount</th>\n",
       "      <th>Vendor</th>\n",
       "      <th>Transaction_Date</th>\n",
       "      <th>Posted_Date</th>\n",
       "      <th>Merchant_Category</th>\n",
       "      <th>time</th>\n",
       "      <th>AVG_amount</th>\n",
       "      <th>ratio_amount_by_agency_by_category</th>\n",
       "      <th>AVG_amount_by_Description</th>\n",
       "      <th>ratio_amount_by_agency_by_Description</th>\n",
       "      <th>stat_by_cardholder</th>\n",
       "      <th>ratio_amount_by_cardholder</th>\n",
       "    </tr>\n",
       "  </thead>\n",
       "  <tbody>\n",
       "    <tr>\n",
       "      <td>0</td>\n",
       "      <td>201307</td>\n",
       "      <td>60600</td>\n",
       "      <td>ARDMORE HIGHER EDUCATION CENTER</td>\n",
       "      <td>Ray</td>\n",
       "      <td>M</td>\n",
       "      <td>GENERAL PURCHASE</td>\n",
       "      <td>101.63</td>\n",
       "      <td>HOBBY-LOBBY #0113</td>\n",
       "      <td>2013-06-27</td>\n",
       "      <td>7/1/2013 0:00</td>\n",
       "      <td>HOBBY,TOY,AND GAME STORES</td>\n",
       "      <td>NaT</td>\n",
       "      <td>148.770000</td>\n",
       "      <td>0.683135</td>\n",
       "      <td>144.054516</td>\n",
       "      <td>0.705497</td>\n",
       "      <td>91.013667</td>\n",
       "      <td>1.116645</td>\n",
       "    </tr>\n",
       "    <tr>\n",
       "      <td>1</td>\n",
       "      <td>201307</td>\n",
       "      <td>60600</td>\n",
       "      <td>ARDMORE HIGHER EDUCATION CENTER</td>\n",
       "      <td>Stoker</td>\n",
       "      <td>C</td>\n",
       "      <td>24/4 CAT 5E PLENUM 1000' P EA|ON-Q CAT 6 RJ45 ...</td>\n",
       "      <td>239.70</td>\n",
       "      <td>LOWES #01749</td>\n",
       "      <td>2013-07-10</td>\n",
       "      <td>7/11/2013 0:00</td>\n",
       "      <td>HOME SUPPLY WAREHOUSE STORES</td>\n",
       "      <td>13 days</td>\n",
       "      <td>110.559231</td>\n",
       "      <td>2.168069</td>\n",
       "      <td>239.700000</td>\n",
       "      <td>1.000000</td>\n",
       "      <td>124.961154</td>\n",
       "      <td>1.918196</td>\n",
       "    </tr>\n",
       "  </tbody>\n",
       "</table>\n",
       "</div>"
      ],
      "text/plain": [
       "   Year_Month  Agency_Number                      Agency_Name  \\\n",
       "0      201307          60600  ARDMORE HIGHER EDUCATION CENTER   \n",
       "1      201307          60600  ARDMORE HIGHER EDUCATION CENTER   \n",
       "\n",
       "  Cardholder_Last_Name Cardholder_First_Initial  \\\n",
       "0                  Ray                        M   \n",
       "1               Stoker                        C   \n",
       "\n",
       "                                         Description  Amount  \\\n",
       "0                                   GENERAL PURCHASE  101.63   \n",
       "1  24/4 CAT 5E PLENUM 1000' P EA|ON-Q CAT 6 RJ45 ...  239.70   \n",
       "\n",
       "              Vendor Transaction_Date     Posted_Date  \\\n",
       "0  HOBBY-LOBBY #0113       2013-06-27   7/1/2013 0:00   \n",
       "1       LOWES #01749       2013-07-10  7/11/2013 0:00   \n",
       "\n",
       "              Merchant_Category    time  AVG_amount  \\\n",
       "0     HOBBY,TOY,AND GAME STORES     NaT  148.770000   \n",
       "1  HOME SUPPLY WAREHOUSE STORES 13 days  110.559231   \n",
       "\n",
       "   ratio_amount_by_agency_by_category  AVG_amount_by_Description  \\\n",
       "0                            0.683135                 144.054516   \n",
       "1                            2.168069                 239.700000   \n",
       "\n",
       "   ratio_amount_by_agency_by_Description  stat_by_cardholder  \\\n",
       "0                               0.705497           91.013667   \n",
       "1                               1.000000          124.961154   \n",
       "\n",
       "   ratio_amount_by_cardholder  \n",
       "0                    1.116645  \n",
       "1                    1.918196  "
      ]
     },
     "execution_count": 168,
     "metadata": {},
     "output_type": "execute_result"
    }
   ],
   "source": [
    "# create average spending group by agency and merchant category \n",
    "stat_by_cardholder = df2.groupby(['Agency_Name', 'Cardholder_Last_Name'])['Amount'].mean()\n",
    "stat_by_cardholder = pd.DataFrame(stat_by_cardholder)\n",
    "stat_by_cardholder.columns = ['stat_by_cardholder']\n",
    "\n",
    "# add the new feature average spending to the dataset \n",
    "df2 = pd.merge(df2, stat_by_cardholder, how='left', on=['Agency_Name', 'Cardholder_Last_Name'])\n",
    "\n",
    "# Feature 2: ratio of amount spending and avergae spending by Description of transaction \n",
    "df2['ratio_amount_by_cardholder'] = df2.Amount / df2.stat_by_cardholder\n",
    "df2.head(2)"
   ]
  },
  {
   "cell_type": "code",
   "execution_count": null,
   "metadata": {},
   "outputs": [],
   "source": [
    "df4 = df2.copy()\n",
    "df4.replace(np.inf, 1,inplace=True)\n",
    "df4.replace(-np.inf, 1,inplace=True)"
   ]
  },
  {
   "cell_type": "code",
   "execution_count": 224,
   "metadata": {},
   "outputs": [
    {
     "data": {
      "text/plain": [
       "Text(0.5, 1.0, 'Ratio of spending by agency and cardholder level')"
      ]
     },
     "execution_count": 224,
     "metadata": {},
     "output_type": "execute_result"
    },
    {
     "data": {
      "image/png": "[encoded data removed]",
      "text/plain": [
       "<Figure size 432x288 with 1 Axes>"
      ]
     },
     "metadata": {
      "needs_background": "light"
     },
     "output_type": "display_data"
    }
   ],
   "source": [
    "# visualization: Histogram:  x: row, y: ratio_amount_by_agency_by_category\n",
    "sns.distplot(df4['ratio_amount_by_cardholder'][1:300]).set_title(\"Ratio of spending by agency and cardholder level\")    # This is seaborn"
   ]
  },
  {
   "cell_type": "markdown",
   "metadata": {},
   "source": [
    "### Based on Recency: time"
   ]
  },
  {
   "cell_type": "markdown",
   "metadata": {},
   "source": [
    "###  Feature 4: ratio of time since last purchase / average time spend\n",
    "\n",
    "- Ratio_AVG_time_since_lastP"
   ]
  },
  {
   "cell_type": "code",
   "execution_count": 169,
   "metadata": {},
   "outputs": [
    {
     "name": "stderr",
     "output_type": "stream",
     "text": [
      "C:\\Users\\Huizhe ZHU\\Anaconda3\\lib\\site-packages\\pandas\\core\\arrays\\timedeltas.py:597: RuntimeWarning:\n",
      "\n",
      "divide by zero encountered in true_divide\n",
      "\n",
      "C:\\Users\\Huizhe ZHU\\Anaconda3\\lib\\site-packages\\pandas\\core\\arrays\\timedeltas.py:597: RuntimeWarning:\n",
      "\n",
      "invalid value encountered in true_divide\n",
      "\n"
     ]
    },
    {
     "data": {
      "text/html": [
       "<div>\n",
       "<style scoped>\n",
       "    .dataframe tbody tr th:only-of-type {\n",
       "        vertical-align: middle;\n",
       "    }\n",
       "\n",
       "    .dataframe tbody tr th {\n",
       "        vertical-align: top;\n",
       "    }\n",
       "\n",
       "    .dataframe thead th {\n",
       "        text-align: right;\n",
       "    }\n",
       "</style>\n",
       "<table border=\"1\" class=\"dataframe\">\n",
       "  <thead>\n",
       "    <tr style=\"text-align: right;\">\n",
       "      <th></th>\n",
       "      <th>Year_Month</th>\n",
       "      <th>Agency_Number</th>\n",
       "      <th>Agency_Name</th>\n",
       "      <th>Cardholder_Last_Name</th>\n",
       "      <th>Cardholder_First_Initial</th>\n",
       "      <th>Description</th>\n",
       "      <th>Amount</th>\n",
       "      <th>Vendor</th>\n",
       "      <th>Transaction_Date</th>\n",
       "      <th>Posted_Date</th>\n",
       "      <th>Merchant_Category</th>\n",
       "      <th>time</th>\n",
       "      <th>AVG_amount</th>\n",
       "      <th>ratio_amount_by_agency_by_category</th>\n",
       "      <th>AVG_amount_by_Description</th>\n",
       "      <th>ratio_amount_by_agency_by_Description</th>\n",
       "      <th>stat_by_cardholder</th>\n",
       "      <th>ratio_amount_by_cardholder</th>\n",
       "      <th>AVG_time_since_lastP</th>\n",
       "      <th>Ratio_AVG_time_since_lastP</th>\n",
       "    </tr>\n",
       "  </thead>\n",
       "  <tbody>\n",
       "    <tr>\n",
       "      <td>0</td>\n",
       "      <td>201307</td>\n",
       "      <td>60600</td>\n",
       "      <td>ARDMORE HIGHER EDUCATION CENTER</td>\n",
       "      <td>Ray</td>\n",
       "      <td>M</td>\n",
       "      <td>GENERAL PURCHASE</td>\n",
       "      <td>101.63</td>\n",
       "      <td>HOBBY-LOBBY #0113</td>\n",
       "      <td>2013-06-27</td>\n",
       "      <td>7/1/2013 0:00</td>\n",
       "      <td>HOBBY,TOY,AND GAME STORES</td>\n",
       "      <td>NaT</td>\n",
       "      <td>148.770000</td>\n",
       "      <td>0.683135</td>\n",
       "      <td>144.054516</td>\n",
       "      <td>0.705497</td>\n",
       "      <td>91.013667</td>\n",
       "      <td>1.116645</td>\n",
       "      <td>3 days 14:53:47.586206</td>\n",
       "      <td>NaN</td>\n",
       "    </tr>\n",
       "    <tr>\n",
       "      <td>1</td>\n",
       "      <td>201307</td>\n",
       "      <td>60600</td>\n",
       "      <td>ARDMORE HIGHER EDUCATION CENTER</td>\n",
       "      <td>Stoker</td>\n",
       "      <td>C</td>\n",
       "      <td>24/4 CAT 5E PLENUM 1000' P EA|ON-Q CAT 6 RJ45 ...</td>\n",
       "      <td>239.70</td>\n",
       "      <td>LOWES #01749</td>\n",
       "      <td>2013-07-10</td>\n",
       "      <td>7/11/2013 0:00</td>\n",
       "      <td>HOME SUPPLY WAREHOUSE STORES</td>\n",
       "      <td>13 days</td>\n",
       "      <td>110.559231</td>\n",
       "      <td>2.168069</td>\n",
       "      <td>239.700000</td>\n",
       "      <td>1.000000</td>\n",
       "      <td>124.961154</td>\n",
       "      <td>1.918196</td>\n",
       "      <td>3 days 14:53:47.586206</td>\n",
       "      <td>3.590476</td>\n",
       "    </tr>\n",
       "  </tbody>\n",
       "</table>\n",
       "</div>"
      ],
      "text/plain": [
       "   Year_Month  Agency_Number                      Agency_Name  \\\n",
       "0      201307          60600  ARDMORE HIGHER EDUCATION CENTER   \n",
       "1      201307          60600  ARDMORE HIGHER EDUCATION CENTER   \n",
       "\n",
       "  Cardholder_Last_Name Cardholder_First_Initial  \\\n",
       "0                  Ray                        M   \n",
       "1               Stoker                        C   \n",
       "\n",
       "                                         Description  Amount  \\\n",
       "0                                   GENERAL PURCHASE  101.63   \n",
       "1  24/4 CAT 5E PLENUM 1000' P EA|ON-Q CAT 6 RJ45 ...  239.70   \n",
       "\n",
       "              Vendor Transaction_Date     Posted_Date  \\\n",
       "0  HOBBY-LOBBY #0113       2013-06-27   7/1/2013 0:00   \n",
       "1       LOWES #01749       2013-07-10  7/11/2013 0:00   \n",
       "\n",
       "              Merchant_Category    time  AVG_amount  \\\n",
       "0     HOBBY,TOY,AND GAME STORES     NaT  148.770000   \n",
       "1  HOME SUPPLY WAREHOUSE STORES 13 days  110.559231   \n",
       "\n",
       "   ratio_amount_by_agency_by_category  AVG_amount_by_Description  \\\n",
       "0                            0.683135                 144.054516   \n",
       "1                            2.168069                 239.700000   \n",
       "\n",
       "   ratio_amount_by_agency_by_Description  stat_by_cardholder  \\\n",
       "0                               0.705497           91.013667   \n",
       "1                               1.000000          124.961154   \n",
       "\n",
       "   ratio_amount_by_cardholder   AVG_time_since_lastP  \\\n",
       "0                    1.116645 3 days 14:53:47.586206   \n",
       "1                    1.918196 3 days 14:53:47.586206   \n",
       "\n",
       "   Ratio_AVG_time_since_lastP  \n",
       "0                         NaN  \n",
       "1                    3.590476  "
      ]
     },
     "execution_count": 169,
     "metadata": {},
     "output_type": "execute_result"
    }
   ],
   "source": [
    "# create new feature:average time spend since last purchase per month \n",
    "AVG_time_since_lastP = df2.groupby(['Agency_Name'])['time'].sum()/ df2.groupby(['Agency_Name'])['time'].count()\n",
    "AVG_time_since_lastP = pd.DataFrame(AVG_time_since_lastP)\n",
    "AVG_time_since_lastP.columns = ['AVG_time_since_lastP']\n",
    "\n",
    "# add the new feature average spending to the dataset \n",
    "df2 = pd.merge(df2, AVG_time_since_lastP, how='left', on=['Agency_Name'])\n",
    "df2['Ratio_AVG_time_since_lastP']=df2.time/df2.AVG_time_since_lastP\n",
    "\n",
    "df2.head(2)"
   ]
  },
  {
   "cell_type": "code",
   "execution_count": 170,
   "metadata": {},
   "outputs": [],
   "source": [
    "# df2.groupby(['Agency_Name'])['time'].count()['COMM. OF THE LAND OFFICE']"
   ]
  },
  {
   "cell_type": "code",
   "execution_count": 96,
   "metadata": {
    "scrolled": true
   },
   "outputs": [],
   "source": [
    "# discover why -inf exists \n",
    "# df2.index[np.isinf(df2.Ratio_AVG_time_since_lastP)]"
   ]
  },
  {
   "cell_type": "code",
   "execution_count": 102,
   "metadata": {},
   "outputs": [
    {
     "name": "stderr",
     "output_type": "stream",
     "text": [
      "C:\\Users\\Huizhe ZHU\\Anaconda3\\lib\\site-packages\\numpy\\lib\\function_base.py:3942: RuntimeWarning:\n",
      "\n",
      "invalid value encountered in multiply\n",
      "\n"
     ]
    },
    {
     "data": {
      "text/html": [
       "<div>\n",
       "<style scoped>\n",
       "    .dataframe tbody tr th:only-of-type {\n",
       "        vertical-align: middle;\n",
       "    }\n",
       "\n",
       "    .dataframe tbody tr th {\n",
       "        vertical-align: top;\n",
       "    }\n",
       "\n",
       "    .dataframe thead th {\n",
       "        text-align: right;\n",
       "    }\n",
       "</style>\n",
       "<table border=\"1\" class=\"dataframe\">\n",
       "  <thead>\n",
       "    <tr style=\"text-align: right;\">\n",
       "      <th></th>\n",
       "      <th>Year_Month</th>\n",
       "      <th>Agency_Number</th>\n",
       "      <th>Amount</th>\n",
       "      <th>time</th>\n",
       "      <th>AVG_amount</th>\n",
       "      <th>ratio_amount_by_agency_by_category</th>\n",
       "      <th>AVG_amount_by_Description</th>\n",
       "      <th>ratio_amount_by_agency_by_Description</th>\n",
       "      <th>stat_by_cardholder</th>\n",
       "      <th>ratio_amount_by_cardholder</th>\n",
       "      <th>AVG_time_since_lastP</th>\n",
       "      <th>Ratio_AVG_time_since_lastP</th>\n",
       "    </tr>\n",
       "  </thead>\n",
       "  <tbody>\n",
       "    <tr>\n",
       "      <td>count</td>\n",
       "      <td>324.000000</td>\n",
       "      <td>324.0</td>\n",
       "      <td>324.000000</td>\n",
       "      <td>324</td>\n",
       "      <td>324.000000</td>\n",
       "      <td>324.000000</td>\n",
       "      <td>324.000000</td>\n",
       "      <td>324.000000</td>\n",
       "      <td>324.000000</td>\n",
       "      <td>324.000000</td>\n",
       "      <td>324</td>\n",
       "      <td>99.0</td>\n",
       "    </tr>\n",
       "    <tr>\n",
       "      <td>mean</td>\n",
       "      <td>201335.191358</td>\n",
       "      <td>63500.0</td>\n",
       "      <td>204.805648</td>\n",
       "      <td>-1 days +12:57:46.666666</td>\n",
       "      <td>216.611007</td>\n",
       "      <td>NaN</td>\n",
       "      <td>225.660666</td>\n",
       "      <td>0.924220</td>\n",
       "      <td>219.955362</td>\n",
       "      <td>0.936361</td>\n",
       "      <td>0 days 00:00:00</td>\n",
       "      <td>NaN</td>\n",
       "    </tr>\n",
       "    <tr>\n",
       "      <td>std</td>\n",
       "      <td>41.216341</td>\n",
       "      <td>0.0</td>\n",
       "      <td>399.521689</td>\n",
       "      <td>20 days 03:19:58.693284</td>\n",
       "      <td>212.495559</td>\n",
       "      <td>NaN</td>\n",
       "      <td>190.153924</td>\n",
       "      <td>1.626629</td>\n",
       "      <td>87.759872</td>\n",
       "      <td>1.618763</td>\n",
       "      <td>0 days 00:00:00</td>\n",
       "      <td>NaN</td>\n",
       "    </tr>\n",
       "    <tr>\n",
       "      <td>min</td>\n",
       "      <td>201307.000000</td>\n",
       "      <td>63500.0</td>\n",
       "      <td>-512.940000</td>\n",
       "      <td>-361 days +00:00:00</td>\n",
       "      <td>0.000000</td>\n",
       "      <td>-inf</td>\n",
       "      <td>7.000000</td>\n",
       "      <td>-2.993346</td>\n",
       "      <td>102.280690</td>\n",
       "      <td>-5.015023</td>\n",
       "      <td>0 days 00:00:00</td>\n",
       "      <td>-inf</td>\n",
       "    </tr>\n",
       "    <tr>\n",
       "      <td>25%</td>\n",
       "      <td>201309.000000</td>\n",
       "      <td>63500.0</td>\n",
       "      <td>21.952500</td>\n",
       "      <td>0 days 00:00:00</td>\n",
       "      <td>81.947500</td>\n",
       "      <td>0.302373</td>\n",
       "      <td>169.576139</td>\n",
       "      <td>0.147105</td>\n",
       "      <td>140.116383</td>\n",
       "      <td>0.128232</td>\n",
       "      <td>0 days 00:00:00</td>\n",
       "      <td>inf</td>\n",
       "    </tr>\n",
       "    <tr>\n",
       "      <td>50%</td>\n",
       "      <td>201311.000000</td>\n",
       "      <td>63500.0</td>\n",
       "      <td>83.000000</td>\n",
       "      <td>0 days 00:00:00</td>\n",
       "      <td>202.975417</td>\n",
       "      <td>0.817833</td>\n",
       "      <td>191.594757</td>\n",
       "      <td>0.428267</td>\n",
       "      <td>194.959194</td>\n",
       "      <td>0.409081</td>\n",
       "      <td>0 days 00:00:00</td>\n",
       "      <td>NaN</td>\n",
       "    </tr>\n",
       "    <tr>\n",
       "      <td>75%</td>\n",
       "      <td>201401.000000</td>\n",
       "      <td>63500.0</td>\n",
       "      <td>248.250000</td>\n",
       "      <td>1 days 00:00:00</td>\n",
       "      <td>262.034471</td>\n",
       "      <td>1.064630</td>\n",
       "      <td>278.634609</td>\n",
       "      <td>1.000000</td>\n",
       "      <td>341.035476</td>\n",
       "      <td>1.226796</td>\n",
       "      <td>0 days 00:00:00</td>\n",
       "      <td>inf</td>\n",
       "    </tr>\n",
       "    <tr>\n",
       "      <td>max</td>\n",
       "      <td>201401.000000</td>\n",
       "      <td>63500.0</td>\n",
       "      <td>3898.000000</td>\n",
       "      <td>10 days 00:00:00</td>\n",
       "      <td>1398.380000</td>\n",
       "      <td>inf</td>\n",
       "      <td>2194.730000</td>\n",
       "      <td>14.871493</td>\n",
       "      <td>348.960714</td>\n",
       "      <td>11.170312</td>\n",
       "      <td>0 days 00:00:00</td>\n",
       "      <td>inf</td>\n",
       "    </tr>\n",
       "  </tbody>\n",
       "</table>\n",
       "</div>"
      ],
      "text/plain": [
       "          Year_Month  Agency_Number       Amount                      time  \\\n",
       "count     324.000000          324.0   324.000000                       324   \n",
       "mean   201335.191358        63500.0   204.805648  -1 days +12:57:46.666666   \n",
       "std        41.216341            0.0   399.521689   20 days 03:19:58.693284   \n",
       "min    201307.000000        63500.0  -512.940000       -361 days +00:00:00   \n",
       "25%    201309.000000        63500.0    21.952500           0 days 00:00:00   \n",
       "50%    201311.000000        63500.0    83.000000           0 days 00:00:00   \n",
       "75%    201401.000000        63500.0   248.250000           1 days 00:00:00   \n",
       "max    201401.000000        63500.0  3898.000000          10 days 00:00:00   \n",
       "\n",
       "        AVG_amount  ratio_amount_by_agency_by_category  \\\n",
       "count   324.000000                          324.000000   \n",
       "mean    216.611007                                 NaN   \n",
       "std     212.495559                                 NaN   \n",
       "min       0.000000                                -inf   \n",
       "25%      81.947500                            0.302373   \n",
       "50%     202.975417                            0.817833   \n",
       "75%     262.034471                            1.064630   \n",
       "max    1398.380000                                 inf   \n",
       "\n",
       "       AVG_amount_by_Description  ratio_amount_by_agency_by_Description  \\\n",
       "count                 324.000000                             324.000000   \n",
       "mean                  225.660666                               0.924220   \n",
       "std                   190.153924                               1.626629   \n",
       "min                     7.000000                              -2.993346   \n",
       "25%                   169.576139                               0.147105   \n",
       "50%                   191.594757                               0.428267   \n",
       "75%                   278.634609                               1.000000   \n",
       "max                  2194.730000                              14.871493   \n",
       "\n",
       "       stat_by_cardholder  ratio_amount_by_cardholder AVG_time_since_lastP  \\\n",
       "count          324.000000                  324.000000                  324   \n",
       "mean           219.955362                    0.936361      0 days 00:00:00   \n",
       "std             87.759872                    1.618763      0 days 00:00:00   \n",
       "min            102.280690                   -5.015023      0 days 00:00:00   \n",
       "25%            140.116383                    0.128232      0 days 00:00:00   \n",
       "50%            194.959194                    0.409081      0 days 00:00:00   \n",
       "75%            341.035476                    1.226796      0 days 00:00:00   \n",
       "max            348.960714                   11.170312      0 days 00:00:00   \n",
       "\n",
       "       Ratio_AVG_time_since_lastP  \n",
       "count                        99.0  \n",
       "mean                          NaN  \n",
       "std                           NaN  \n",
       "min                          -inf  \n",
       "25%                           inf  \n",
       "50%                           NaN  \n",
       "75%                           inf  \n",
       "max                           inf  "
      ]
     },
     "execution_count": 102,
     "metadata": {},
     "output_type": "execute_result"
    }
   ],
   "source": [
    "# discover why -inf exists: AVG_time_since_lastP is 0 \n",
    "# df2.loc[3914:4237,].describe()"
   ]
  },
  {
   "cell_type": "code",
   "execution_count": null,
   "metadata": {},
   "outputs": [],
   "source": [
    "df4 = df2.copy()\n",
    "df4.replace(np.inf, 1,inplace=True)\n",
    "df4.replace(-np.inf, 1,inplace=True)"
   ]
  },
  {
   "cell_type": "code",
   "execution_count": 225,
   "metadata": {},
   "outputs": [
    {
     "data": {
      "text/plain": [
       "Text(0.5, 1.0, 'Ratio of time purchase since last purchase and average time spend')"
      ]
     },
     "execution_count": 225,
     "metadata": {},
     "output_type": "execute_result"
    },
    {
     "data": {
      "image/png": "[encoded data removed]",
      "text/plain": [
       "<Figure size 432x288 with 1 Axes>"
      ]
     },
     "metadata": {
      "needs_background": "light"
     },
     "output_type": "display_data"
    }
   ],
   "source": [
    "# visualization: Histogram:  x: row, y: ratio_amount_by_agency_by_category\n",
    "sns.distplot(df4['Ratio_AVG_time_since_lastP'][69:500]).set_title(\"Ratio of time purchase since last purchase and average time spend\")    # This is seaborn"
   ]
  },
  {
   "cell_type": "markdown",
   "metadata": {},
   "source": [
    "###  on card holder level "
   ]
  },
  {
   "cell_type": "markdown",
   "metadata": {},
   "source": [
    "###  Feature 5: ratio of time / average time spend since last transactions by card holder \n",
    "\n",
    "- Ratio_AVG_time_since_lastP_by_cardholder\n",
    "- the situation can be considered abnormal if one card holder took significant less time in transactions than he/she ususally do"
   ]
  },
  {
   "cell_type": "code",
   "execution_count": 173,
   "metadata": {},
   "outputs": [],
   "source": [
    "# 4. for 'time' in the first record in an agency, we need to assign the value to 0 \n",
    "# df['time']"
   ]
  },
  {
   "cell_type": "code",
   "execution_count": 174,
   "metadata": {},
   "outputs": [
    {
     "data": {
      "text/html": [
       "<div>\n",
       "<style scoped>\n",
       "    .dataframe tbody tr th:only-of-type {\n",
       "        vertical-align: middle;\n",
       "    }\n",
       "\n",
       "    .dataframe tbody tr th {\n",
       "        vertical-align: top;\n",
       "    }\n",
       "\n",
       "    .dataframe thead th {\n",
       "        text-align: right;\n",
       "    }\n",
       "</style>\n",
       "<table border=\"1\" class=\"dataframe\">\n",
       "  <thead>\n",
       "    <tr style=\"text-align: right;\">\n",
       "      <th></th>\n",
       "      <th>Year_Month</th>\n",
       "      <th>Agency_Number</th>\n",
       "      <th>Agency_Name</th>\n",
       "      <th>Cardholder_Last_Name</th>\n",
       "      <th>Cardholder_First_Initial</th>\n",
       "      <th>Description</th>\n",
       "      <th>Amount</th>\n",
       "      <th>Vendor</th>\n",
       "      <th>Transaction_Date</th>\n",
       "      <th>Posted_Date</th>\n",
       "      <th>...</th>\n",
       "      <th>AVG_amount</th>\n",
       "      <th>ratio_amount_by_agency_by_category</th>\n",
       "      <th>AVG_amount_by_Description</th>\n",
       "      <th>ratio_amount_by_agency_by_Description</th>\n",
       "      <th>stat_by_cardholder</th>\n",
       "      <th>ratio_amount_by_cardholder</th>\n",
       "      <th>AVG_time_since_lastP</th>\n",
       "      <th>Ratio_AVG_time_since_lastP</th>\n",
       "      <th>AVG_time_since_lastP_by_cardholder</th>\n",
       "      <th>Ratio_AVG_time_since_lastP_by_cardholder</th>\n",
       "    </tr>\n",
       "  </thead>\n",
       "  <tbody>\n",
       "    <tr>\n",
       "      <td>0</td>\n",
       "      <td>201307</td>\n",
       "      <td>60600</td>\n",
       "      <td>ARDMORE HIGHER EDUCATION CENTER</td>\n",
       "      <td>Ray</td>\n",
       "      <td>M</td>\n",
       "      <td>GENERAL PURCHASE</td>\n",
       "      <td>101.63</td>\n",
       "      <td>HOBBY-LOBBY #0113</td>\n",
       "      <td>2013-06-27</td>\n",
       "      <td>7/1/2013 0:00</td>\n",
       "      <td>...</td>\n",
       "      <td>148.770000</td>\n",
       "      <td>0.683135</td>\n",
       "      <td>144.054516</td>\n",
       "      <td>0.705497</td>\n",
       "      <td>91.013667</td>\n",
       "      <td>1.116645</td>\n",
       "      <td>3 days 14:53:47.586206</td>\n",
       "      <td>NaN</td>\n",
       "      <td>3 days 12:24:49.655172</td>\n",
       "      <td>NaN</td>\n",
       "    </tr>\n",
       "    <tr>\n",
       "      <td>1</td>\n",
       "      <td>201307</td>\n",
       "      <td>60600</td>\n",
       "      <td>ARDMORE HIGHER EDUCATION CENTER</td>\n",
       "      <td>Stoker</td>\n",
       "      <td>C</td>\n",
       "      <td>24/4 CAT 5E PLENUM 1000' P EA|ON-Q CAT 6 RJ45 ...</td>\n",
       "      <td>239.70</td>\n",
       "      <td>LOWES #01749</td>\n",
       "      <td>2013-07-10</td>\n",
       "      <td>7/11/2013 0:00</td>\n",
       "      <td>...</td>\n",
       "      <td>110.559231</td>\n",
       "      <td>2.168069</td>\n",
       "      <td>239.700000</td>\n",
       "      <td>1.000000</td>\n",
       "      <td>124.961154</td>\n",
       "      <td>1.918196</td>\n",
       "      <td>3 days 14:53:47.586206</td>\n",
       "      <td>3.590476</td>\n",
       "      <td>4 days 00:55:23.076923</td>\n",
       "      <td>3.219048</td>\n",
       "    </tr>\n",
       "  </tbody>\n",
       "</table>\n",
       "<p>2 rows × 22 columns</p>\n",
       "</div>"
      ],
      "text/plain": [
       "   Year_Month  Agency_Number                      Agency_Name  \\\n",
       "0      201307          60600  ARDMORE HIGHER EDUCATION CENTER   \n",
       "1      201307          60600  ARDMORE HIGHER EDUCATION CENTER   \n",
       "\n",
       "  Cardholder_Last_Name Cardholder_First_Initial  \\\n",
       "0                  Ray                        M   \n",
       "1               Stoker                        C   \n",
       "\n",
       "                                         Description  Amount  \\\n",
       "0                                   GENERAL PURCHASE  101.63   \n",
       "1  24/4 CAT 5E PLENUM 1000' P EA|ON-Q CAT 6 RJ45 ...  239.70   \n",
       "\n",
       "              Vendor Transaction_Date     Posted_Date  ...  AVG_amount  \\\n",
       "0  HOBBY-LOBBY #0113       2013-06-27   7/1/2013 0:00  ...  148.770000   \n",
       "1       LOWES #01749       2013-07-10  7/11/2013 0:00  ...  110.559231   \n",
       "\n",
       "  ratio_amount_by_agency_by_category  AVG_amount_by_Description  \\\n",
       "0                           0.683135                 144.054516   \n",
       "1                           2.168069                 239.700000   \n",
       "\n",
       "   ratio_amount_by_agency_by_Description  stat_by_cardholder  \\\n",
       "0                               0.705497           91.013667   \n",
       "1                               1.000000          124.961154   \n",
       "\n",
       "   ratio_amount_by_cardholder   AVG_time_since_lastP  \\\n",
       "0                    1.116645 3 days 14:53:47.586206   \n",
       "1                    1.918196 3 days 14:53:47.586206   \n",
       "\n",
       "   Ratio_AVG_time_since_lastP AVG_time_since_lastP_by_cardholder  \\\n",
       "0                         NaN             3 days 12:24:49.655172   \n",
       "1                    3.590476             4 days 00:55:23.076923   \n",
       "\n",
       "   Ratio_AVG_time_since_lastP_by_cardholder  \n",
       "0                                       NaN  \n",
       "1                                  3.219048  \n",
       "\n",
       "[2 rows x 22 columns]"
      ]
     },
     "execution_count": 174,
     "metadata": {},
     "output_type": "execute_result"
    }
   ],
   "source": [
    "# create new feature:average time spend since last purchase per month \n",
    "AVG_time_since_lastP_by_cardholder  = df2.groupby(['Agency_Name', 'Cardholder_Last_Name'])['time'].sum()/ df2.groupby(['Agency_Name','Cardholder_Last_Name'])['time'].count()\n",
    "AVG_time_since_lastP_by_cardholder = pd.DataFrame(AVG_time_since_lastP_by_cardholder)\n",
    "AVG_time_since_lastP_by_cardholder.columns = ['AVG_time_since_lastP_by_cardholder']\n",
    "\n",
    "# add the new feature average spending to the dataset \n",
    "df2 = pd.merge(df2, AVG_time_since_lastP_by_cardholder, how='left', on=['Agency_Name','Cardholder_Last_Name'])\n",
    "\n",
    "df2['Ratio_AVG_time_since_lastP_by_cardholder']= df2.time/df2.AVG_time_since_lastP_by_cardholder\n",
    "df2.head(2)"
   ]
  },
  {
   "cell_type": "code",
   "execution_count": 226,
   "metadata": {},
   "outputs": [
    {
     "data": {
      "text/plain": [
       "Text(0.5, 1.0, 'Ratio of AVG time since last purchase by cardholder')"
      ]
     },
     "execution_count": 226,
     "metadata": {},
     "output_type": "execute_result"
    },
    {
     "data": {
      "image/png": "[encoded data removed]",
      "text/plain": [
       "<Figure size 432x288 with 1 Axes>"
      ]
     },
     "metadata": {
      "needs_background": "light"
     },
     "output_type": "display_data"
    }
   ],
   "source": [
    "# visualization: Histogram:  x: row, y: ratio_amount_by_agency_by_category\n",
    "df4 = df2.copy()\n",
    "df4.replace(np.inf, 1,inplace=True)\n",
    "df4.replace(-np.inf, 1,inplace=True)\n",
    "\n",
    "sns.distplot(df4['Ratio_AVG_time_since_lastP_by_cardholder'][1:300]).set_title(\"Ratio of AVG time since last purchase by cardholder\")    # This is seaborn"
   ]
  },
  {
   "cell_type": "markdown",
   "metadata": {},
   "source": [
    "# 3. Dimension reduction"
   ]
  },
  {
   "cell_type": "markdown",
   "metadata": {},
   "source": [
    "### 3.1  Principal Component Analysis (PCA)"
   ]
  },
  {
   "cell_type": "markdown",
   "metadata": {},
   "source": [
    "#### 3.1.1 deal with na values in features\n",
    "why there are na values: \n",
    "- for the first record of purchase, time since last transaction is na "
   ]
  },
  {
   "cell_type": "code",
   "execution_count": 175,
   "metadata": {},
   "outputs": [],
   "source": [
    "# deal with na values in features\n",
    "# store features in df3\n",
    "\n",
    "# we can modify features in df3\n",
    "import numpy as np\n",
    "df3 = df2.loc[:, ['ratio_amount_by_agency_by_category', \n",
    "                  'ratio_amount_by_agency_by_Description',\n",
    "                   'ratio_amount_by_cardholder',  \n",
    "                  'Ratio_AVG_time_since_lastP',  \n",
    "                  #'Ratio_AVG_time_since_lastP_by_category',\n",
    "                  #'Ratio_AVG_time_since_lastP_by_description', \n",
    "                  'Ratio_AVG_time_since_lastP_by_cardholder'\n",
    "                 ]]"
   ]
  },
  {
   "cell_type": "code",
   "execution_count": 176,
   "metadata": {},
   "outputs": [
    {
     "data": {
      "text/plain": [
       "ratio_amount_by_agency_by_category               0\n",
       "ratio_amount_by_agency_by_Description            0\n",
       "ratio_amount_by_cardholder                       0\n",
       "Ratio_AVG_time_since_lastP                   10779\n",
       "Ratio_AVG_time_since_lastP_by_cardholder    115340\n",
       "dtype: int64"
      ]
     },
     "execution_count": 176,
     "metadata": {},
     "output_type": "execute_result"
    }
   ],
   "source": [
    "df3.isnull().sum()"
   ]
  },
  {
   "cell_type": "code",
   "execution_count": 177,
   "metadata": {
    "scrolled": false
   },
   "outputs": [
    {
     "data": {
      "text/html": [
       "<div>\n",
       "<style scoped>\n",
       "    .dataframe tbody tr th:only-of-type {\n",
       "        vertical-align: middle;\n",
       "    }\n",
       "\n",
       "    .dataframe tbody tr th {\n",
       "        vertical-align: top;\n",
       "    }\n",
       "\n",
       "    .dataframe thead th {\n",
       "        text-align: right;\n",
       "    }\n",
       "</style>\n",
       "<table border=\"1\" class=\"dataframe\">\n",
       "  <thead>\n",
       "    <tr style=\"text-align: right;\">\n",
       "      <th></th>\n",
       "      <th>ratio_amount_by_agency_by_category</th>\n",
       "      <th>ratio_amount_by_agency_by_Description</th>\n",
       "      <th>ratio_amount_by_cardholder</th>\n",
       "      <th>Ratio_AVG_time_since_lastP</th>\n",
       "      <th>Ratio_AVG_time_since_lastP_by_cardholder</th>\n",
       "    </tr>\n",
       "  </thead>\n",
       "  <tbody>\n",
       "    <tr>\n",
       "      <td>count</td>\n",
       "      <td>4.424580e+05</td>\n",
       "      <td>4.424580e+05</td>\n",
       "      <td>4.424580e+05</td>\n",
       "      <td>431679.0</td>\n",
       "      <td>327118.000000</td>\n",
       "    </tr>\n",
       "    <tr>\n",
       "      <td>mean</td>\n",
       "      <td>NaN</td>\n",
       "      <td>NaN</td>\n",
       "      <td>NaN</td>\n",
       "      <td>NaN</td>\n",
       "      <td>1.000000</td>\n",
       "    </tr>\n",
       "    <tr>\n",
       "      <td>std</td>\n",
       "      <td>NaN</td>\n",
       "      <td>NaN</td>\n",
       "      <td>NaN</td>\n",
       "      <td>NaN</td>\n",
       "      <td>154.791894</td>\n",
       "    </tr>\n",
       "    <tr>\n",
       "      <td>min</td>\n",
       "      <td>-inf</td>\n",
       "      <td>-inf</td>\n",
       "      <td>-inf</td>\n",
       "      <td>-inf</td>\n",
       "      <td>-56835.000000</td>\n",
       "    </tr>\n",
       "    <tr>\n",
       "      <td>25%</td>\n",
       "      <td>1.772695e-01</td>\n",
       "      <td>1.622273e-01</td>\n",
       "      <td>1.334946e-01</td>\n",
       "      <td>0.0</td>\n",
       "      <td>0.000000</td>\n",
       "    </tr>\n",
       "    <tr>\n",
       "      <td>50%</td>\n",
       "      <td>5.155666e-01</td>\n",
       "      <td>7.464374e-01</td>\n",
       "      <td>4.235956e-01</td>\n",
       "      <td>0.0</td>\n",
       "      <td>0.000000</td>\n",
       "    </tr>\n",
       "    <tr>\n",
       "      <td>75%</td>\n",
       "      <td>1.103523e+00</td>\n",
       "      <td>1.000000e+00</td>\n",
       "      <td>1.166465e+00</td>\n",
       "      <td>0.0</td>\n",
       "      <td>0.000000</td>\n",
       "    </tr>\n",
       "    <tr>\n",
       "      <td>max</td>\n",
       "      <td>inf</td>\n",
       "      <td>inf</td>\n",
       "      <td>inf</td>\n",
       "      <td>inf</td>\n",
       "      <td>49776.000000</td>\n",
       "    </tr>\n",
       "  </tbody>\n",
       "</table>\n",
       "</div>"
      ],
      "text/plain": [
       "       ratio_amount_by_agency_by_category  \\\n",
       "count                        4.424580e+05   \n",
       "mean                                  NaN   \n",
       "std                                   NaN   \n",
       "min                                  -inf   \n",
       "25%                          1.772695e-01   \n",
       "50%                          5.155666e-01   \n",
       "75%                          1.103523e+00   \n",
       "max                                   inf   \n",
       "\n",
       "       ratio_amount_by_agency_by_Description  ratio_amount_by_cardholder  \\\n",
       "count                           4.424580e+05                4.424580e+05   \n",
       "mean                                     NaN                         NaN   \n",
       "std                                      NaN                         NaN   \n",
       "min                                     -inf                        -inf   \n",
       "25%                             1.622273e-01                1.334946e-01   \n",
       "50%                             7.464374e-01                4.235956e-01   \n",
       "75%                             1.000000e+00                1.166465e+00   \n",
       "max                                      inf                         inf   \n",
       "\n",
       "       Ratio_AVG_time_since_lastP  Ratio_AVG_time_since_lastP_by_cardholder  \n",
       "count                    431679.0                             327118.000000  \n",
       "mean                          NaN                                  1.000000  \n",
       "std                           NaN                                154.791894  \n",
       "min                          -inf                             -56835.000000  \n",
       "25%                           0.0                                  0.000000  \n",
       "50%                           0.0                                  0.000000  \n",
       "75%                           0.0                                  0.000000  \n",
       "max                           inf                              49776.000000  "
      ]
     },
     "execution_count": 177,
     "metadata": {},
     "output_type": "execute_result"
    }
   ],
   "source": [
    "df3.describe()"
   ]
  },
  {
   "cell_type": "code",
   "execution_count": 178,
   "metadata": {},
   "outputs": [],
   "source": [
    "# we can treat the na as something, why there are na: cuz time \n",
    "# replace na with 1: ratio = 1, no specific meaning\n",
    "df3.replace(np.nan, 1,inplace=True)"
   ]
  },
  {
   "cell_type": "markdown",
   "metadata": {},
   "source": [
    "#### 3.1.2 deal with inf values in features\n",
    "\n",
    "why there are inf values?\n",
    "- if Denominator is 0, then the ratio is infinite \n",
    "- that means the agency has never purchased  in a description or category, we should replace it to 1 (means normal), or na (means missing data)"
   ]
  },
  {
   "cell_type": "code",
   "execution_count": 179,
   "metadata": {
    "scrolled": true
   },
   "outputs": [
    {
     "data": {
      "text/plain": [
       "count     442458\n",
       "unique         2\n",
       "top        False\n",
       "freq      442355\n",
       "Name: ratio_amount_by_agency_by_category, dtype: object"
      ]
     },
     "execution_count": 179,
     "metadata": {},
     "output_type": "execute_result"
    }
   ],
   "source": [
    "np.isinf(df3.ratio_amount_by_agency_by_category).describe()"
   ]
  },
  {
   "cell_type": "code",
   "execution_count": 180,
   "metadata": {},
   "outputs": [
    {
     "data": {
      "text/plain": [
       "Int64Index([  3288,   3289,   4007,   4032,   4559,   4615,   9070,   9263,\n",
       "             10350,  10552,\n",
       "            ...\n",
       "            299082, 299141, 299803, 299805, 300261, 300263, 440499, 440504,\n",
       "            441474, 441475],\n",
       "           dtype='int64', length=103)"
      ]
     },
     "execution_count": 180,
     "metadata": {},
     "output_type": "execute_result"
    }
   ],
   "source": [
    "# infinite values in ratio_amount_by_agency_by_category: 103\n",
    "df3.index[np.isinf(df3.ratio_amount_by_agency_by_category)]"
   ]
  },
  {
   "cell_type": "code",
   "execution_count": 181,
   "metadata": {},
   "outputs": [
    {
     "data": {
      "text/plain": [
       "Int64Index([   729,    733,   3594,   3618,   3835,   3849,   8651,   8658,\n",
       "              8663,   8673,\n",
       "            ...\n",
       "            427468, 428480, 429198, 430962, 435306, 435955, 435956, 436156,\n",
       "            436379, 437772],\n",
       "           dtype='int64', length=555)"
      ]
     },
     "execution_count": 181,
     "metadata": {},
     "output_type": "execute_result"
    }
   ],
   "source": [
    "# infinite values in ratio_amount_by_agency_by_Description: 555\n",
    "df3.index[np.isinf(df3.ratio_amount_by_agency_by_Description)]"
   ]
  },
  {
   "cell_type": "code",
   "execution_count": 20,
   "metadata": {},
   "outputs": [],
   "source": [
    "# we discovered, if Denominator is 0, then the ratio is infinite \n",
    "# for ratio_amount_by_agency_by_category, the average amount of agency in that category is 0, so the ratio is infinite\n",
    "# df2.iloc[3288,]"
   ]
  },
  {
   "cell_type": "code",
   "execution_count": 182,
   "metadata": {},
   "outputs": [],
   "source": [
    "# replace inf and -inf with 1\n",
    "df3.replace(np.inf, 1,inplace=True)\n",
    "df3.replace(-np.inf, 1,inplace=True)"
   ]
  },
  {
   "cell_type": "code",
   "execution_count": 183,
   "metadata": {},
   "outputs": [
    {
     "data": {
      "text/html": [
       "<div>\n",
       "<style scoped>\n",
       "    .dataframe tbody tr th:only-of-type {\n",
       "        vertical-align: middle;\n",
       "    }\n",
       "\n",
       "    .dataframe tbody tr th {\n",
       "        vertical-align: top;\n",
       "    }\n",
       "\n",
       "    .dataframe thead th {\n",
       "        text-align: right;\n",
       "    }\n",
       "</style>\n",
       "<table border=\"1\" class=\"dataframe\">\n",
       "  <thead>\n",
       "    <tr style=\"text-align: right;\">\n",
       "      <th></th>\n",
       "      <th>ratio_amount_by_agency_by_category</th>\n",
       "      <th>ratio_amount_by_agency_by_Description</th>\n",
       "      <th>ratio_amount_by_cardholder</th>\n",
       "      <th>Ratio_AVG_time_since_lastP</th>\n",
       "      <th>Ratio_AVG_time_since_lastP_by_cardholder</th>\n",
       "    </tr>\n",
       "  </thead>\n",
       "  <tbody>\n",
       "    <tr>\n",
       "      <td>count</td>\n",
       "      <td>4.424580e+05</td>\n",
       "      <td>4.424580e+05</td>\n",
       "      <td>442458.000000</td>\n",
       "      <td>4.424580e+05</td>\n",
       "      <td>442458.000000</td>\n",
       "    </tr>\n",
       "    <tr>\n",
       "      <td>mean</td>\n",
       "      <td>9.998813e-01</td>\n",
       "      <td>9.994244e-01</td>\n",
       "      <td>1.000000</td>\n",
       "      <td>1.000000e+00</td>\n",
       "      <td>1.000000</td>\n",
       "    </tr>\n",
       "    <tr>\n",
       "      <td>std</td>\n",
       "      <td>3.812034e+14</td>\n",
       "      <td>1.830668e+14</td>\n",
       "      <td>1.996128</td>\n",
       "      <td>2.726796e+04</td>\n",
       "      <td>133.095765</td>\n",
       "    </tr>\n",
       "    <tr>\n",
       "      <td>min</td>\n",
       "      <td>-9.309316e+16</td>\n",
       "      <td>-6.275203e+16</td>\n",
       "      <td>-66.279236</td>\n",
       "      <td>-1.089219e+07</td>\n",
       "      <td>-56835.000000</td>\n",
       "    </tr>\n",
       "    <tr>\n",
       "      <td>25%</td>\n",
       "      <td>1.773386e-01</td>\n",
       "      <td>1.632331e-01</td>\n",
       "      <td>0.133528</td>\n",
       "      <td>0.000000e+00</td>\n",
       "      <td>0.000000</td>\n",
       "    </tr>\n",
       "    <tr>\n",
       "      <td>50%</td>\n",
       "      <td>5.157935e-01</td>\n",
       "      <td>7.479934e-01</td>\n",
       "      <td>0.423639</td>\n",
       "      <td>-0.000000e+00</td>\n",
       "      <td>0.000000</td>\n",
       "    </tr>\n",
       "    <tr>\n",
       "      <td>75%</td>\n",
       "      <td>1.102968e+00</td>\n",
       "      <td>1.000000e+00</td>\n",
       "      <td>1.166333</td>\n",
       "      <td>0.000000e+00</td>\n",
       "      <td>1.000000</td>\n",
       "    </tr>\n",
       "    <tr>\n",
       "      <td>max</td>\n",
       "      <td>9.309316e+16</td>\n",
       "      <td>6.275203e+16</td>\n",
       "      <td>126.364202</td>\n",
       "      <td>5.804930e+06</td>\n",
       "      <td>49776.000000</td>\n",
       "    </tr>\n",
       "  </tbody>\n",
       "</table>\n",
       "</div>"
      ],
      "text/plain": [
       "       ratio_amount_by_agency_by_category  \\\n",
       "count                        4.424580e+05   \n",
       "mean                         9.998813e-01   \n",
       "std                          3.812034e+14   \n",
       "min                         -9.309316e+16   \n",
       "25%                          1.773386e-01   \n",
       "50%                          5.157935e-01   \n",
       "75%                          1.102968e+00   \n",
       "max                          9.309316e+16   \n",
       "\n",
       "       ratio_amount_by_agency_by_Description  ratio_amount_by_cardholder  \\\n",
       "count                           4.424580e+05               442458.000000   \n",
       "mean                            9.994244e-01                    1.000000   \n",
       "std                             1.830668e+14                    1.996128   \n",
       "min                            -6.275203e+16                  -66.279236   \n",
       "25%                             1.632331e-01                    0.133528   \n",
       "50%                             7.479934e-01                    0.423639   \n",
       "75%                             1.000000e+00                    1.166333   \n",
       "max                             6.275203e+16                  126.364202   \n",
       "\n",
       "       Ratio_AVG_time_since_lastP  Ratio_AVG_time_since_lastP_by_cardholder  \n",
       "count                4.424580e+05                             442458.000000  \n",
       "mean                 1.000000e+00                                  1.000000  \n",
       "std                  2.726796e+04                                133.095765  \n",
       "min                 -1.089219e+07                             -56835.000000  \n",
       "25%                  0.000000e+00                                  0.000000  \n",
       "50%                 -0.000000e+00                                  0.000000  \n",
       "75%                  0.000000e+00                                  1.000000  \n",
       "max                  5.804930e+06                              49776.000000  "
      ]
     },
     "execution_count": 183,
     "metadata": {},
     "output_type": "execute_result"
    }
   ],
   "source": [
    "# summary statistics of df3 \n",
    "df3.describe()"
   ]
  },
  {
   "cell_type": "code",
   "execution_count": 185,
   "metadata": {},
   "outputs": [],
   "source": [
    "# df3"
   ]
  },
  {
   "cell_type": "markdown",
   "metadata": {},
   "source": [
    "#### 3.1.3 Standardization"
   ]
  },
  {
   "cell_type": "code",
   "execution_count": 186,
   "metadata": {},
   "outputs": [],
   "source": [
    "# Standardization\n",
    "import pandas as pd\n",
    "import matplotlib.pyplot as plt\n",
    "from sklearn.cluster import KMeans\n",
    "from sklearn.decomposition import PCA\n",
    "from sklearn.preprocessing import StandardScaler\n",
    "\n",
    "# Standardize the data to have a mean of 0 and a variance of 1\n",
    "X_std = StandardScaler().fit_transform(df3)"
   ]
  },
  {
   "cell_type": "code",
   "execution_count": 26,
   "metadata": {},
   "outputs": [],
   "source": [
    "# store Standardized features to \"Standardized features.csv\"\n",
    "# X_std = pd.DataFrame(X_std, columns = ['ratio_amount_by_agency_by_category', \n",
    "#                  'ratio_amount_by_agency_by_Description',\n",
    "#                   'ratio_amount_by_cardholder',  \n",
    "#                  'Ratio_AVG_time_since_lastP',  \n",
    "#                  'Ratio_AVG_time_since_lastP_by_category',\n",
    "#                  'Ratio_AVG_time_since_lastP_by_description', \n",
    "#                  'Ratio_AVG_time_since_lastP_by_cardholder'])\n",
    "# X_std.to_csv(r'Standardized features.csv')"
   ]
  },
  {
   "cell_type": "markdown",
   "metadata": {},
   "source": [
    "#### 3.1.4 Create PCA instance"
   ]
  },
  {
   "cell_type": "code",
   "execution_count": 187,
   "metadata": {},
   "outputs": [
    {
     "data": {
      "image/png": "[encoded data removed]",
      "text/plain": [
       "<Figure size 432x288 with 1 Axes>"
      ]
     },
     "metadata": {
      "needs_background": "light"
     },
     "output_type": "display_data"
    }
   ],
   "source": [
    "# Create a PCA instance: pca\n",
    "pca = PCA(n_components=5)\n",
    "principalComponents = pca.fit_transform(X_std)\n",
    "\n",
    "# Plot the explained variances\n",
    "features = range(pca.n_components_)\n",
    "plt.bar(features, pca.explained_variance_ratio_)\n",
    "plt.xlabel('PCA features')\n",
    "plt.ylabel('variance %')\n",
    "plt.xticks(features)\n",
    "# Save components to a DataFrame\n",
    "PCA_components = pd.DataFrame(principalComponents)"
   ]
  },
  {
   "cell_type": "code",
   "execution_count": 188,
   "metadata": {},
   "outputs": [
    {
     "data": {
      "text/plain": [
       "Text(0, 0.5, 'cummulative explained variance')"
      ]
     },
     "execution_count": 188,
     "metadata": {},
     "output_type": "execute_result"
    },
    {
     "data": {
      "image/png": "[encoded data removed]",
      "text/plain": [
       "<Figure size 432x288 with 1 Axes>"
      ]
     },
     "metadata": {
      "needs_background": "light"
     },
     "output_type": "display_data"
    }
   ],
   "source": [
    "#plt.figure(gigsize = (10,8))\n",
    "plt.plot(pca.explained_variance_ratio_.cumsum(), marker = 'o', linestyle = '--')\n",
    "plt.xlabel('number of components')\n",
    "plt.ylabel('cummulative explained variance')"
   ]
  },
  {
   "cell_type": "markdown",
   "metadata": {},
   "source": [
    "Summary: we should use all components \n",
    "\n",
    "- 4 component accounts for 80% total variance\n",
    "- 5 components accounts for 100% total variance"
   ]
  },
  {
   "cell_type": "markdown",
   "metadata": {},
   "source": [
    "# 4. KNN\n",
    "\n",
    "- PyOD:  Python Outlier Detection (PyOD) module collects a wide range of techniques ranging from supervised learning to unsupervised learning techniques. "
   ]
  },
  {
   "cell_type": "markdown",
   "metadata": {},
   "source": [
    "## 4.1 default K\n"
   ]
  },
  {
   "cell_type": "markdown",
   "metadata": {},
   "source": [
    "### 4.1.1 Build model\n",
    "\n",
    "- we use the standardized data: X_std\n",
    "- outlier score is defined by distance, choose the shortest distance to the nearest neighbor\n",
    "\n",
    "- **The unsupervised KNN does not have any learning involved, i.e., there are no parameters we can tune to make the performance better. **"
   ]
  },
  {
   "cell_type": "code",
   "execution_count": 189,
   "metadata": {},
   "outputs": [
    {
     "data": {
      "text/plain": [
       "(221229, 5)"
      ]
     },
     "execution_count": 189,
     "metadata": {},
     "output_type": "execute_result"
    }
   ],
   "source": [
    "# split into train and test dataset\n",
    "from sklearn.model_selection import train_test_split\n",
    "\n",
    "X_train, X_test = train_test_split(X_std, test_size=0.5)\n",
    "X_train.shape\n",
    "X_test.shape"
   ]
  },
  {
   "cell_type": "code",
   "execution_count": 190,
   "metadata": {},
   "outputs": [],
   "source": [
    "# train kNN detector\n",
    "from pyod.models.knn import KNN\n",
    "clf_name = 'KNN'\n",
    "\n",
    "#  training for the k-NN model and stores the model as clf.\n",
    "clf = KNN()\n",
    "clf.fit(X_train)\n",
    "\n",
    "# predictions of the training data:\n",
    "y_train_scores = clf.decision_scores_"
   ]
  },
  {
   "cell_type": "code",
   "execution_count": 191,
   "metadata": {},
   "outputs": [],
   "source": [
    "# apply model to test data to get the predictions\n",
    "y_test_pred = clf.predict(X_test) # outlier labels (0 or 1)\n",
    "\n",
    "# count how many '0' and '1', There are 199242 '0's and 21987 '1's.\n",
    "unique, counts = np.unique(y_test_pred, return_counts=True)\n",
    "dict(zip(unique, counts))\n",
    "\n",
    "# generate anomaly score using clf.decision_function:\n",
    "y_test_scores = clf.decision_function(X_test)"
   ]
  },
  {
   "cell_type": "code",
   "execution_count": 42,
   "metadata": {},
   "outputs": [
    {
     "data": {
      "text/plain": [
       "array([2.46760908e-02, 5.64535845e-05, 7.10606460e-05, 7.84470198e-05,\n",
       "       6.31629373e-05, 1.58232616e-05, 1.23062885e-03, 0.00000000e+00,\n",
       "       1.90936810e-03])"
      ]
     },
     "execution_count": 42,
     "metadata": {},
     "output_type": "execute_result"
    }
   ],
   "source": [
    "# anomaly score\n",
    "y_test_scores[1:10]"
   ]
  },
  {
   "cell_type": "markdown",
   "metadata": {},
   "source": [
    "### 4.1.2 Determine boundary\n",
    "\n",
    "- from the graph, we set boundary to be 0.05"
   ]
  },
  {
   "cell_type": "code",
   "execution_count": 192,
   "metadata": {
    "scrolled": true
   },
   "outputs": [
    {
     "data": {
      "text/plain": [
       "array([[1.15366343e-05],\n",
       "       [3.84253773e-05],\n",
       "       [4.20312768e-06],\n",
       "       ...,\n",
       "       [2.16070864e-06],\n",
       "       [3.95438210e-05],\n",
       "       [2.69062736e-04]])"
      ]
     },
     "execution_count": 192,
     "metadata": {},
     "output_type": "execute_result"
    }
   ],
   "source": [
    "# reshape, -1 simply means that it is an unknown dimension and we want numpy to figure it out\n",
    "y_test_scores.reshape(-1, 1)"
   ]
  },
  {
   "cell_type": "code",
   "execution_count": 193,
   "metadata": {},
   "outputs": [],
   "source": [
    "from pyod.utils.utility import standardizer\n",
    "y_test_scores_norm = standardizer(y_test_scores.reshape(-1, 1))"
   ]
  },
  {
   "cell_type": "code",
   "execution_count": 194,
   "metadata": {},
   "outputs": [
    {
     "data": {
      "image/png": "[encoded data removed]",
      "text/plain": [
       "<Figure size 640x480 with 1 Axes>"
      ]
     },
     "metadata": {},
     "output_type": "display_data"
    }
   ],
   "source": [
    "# plot anomaly score, observe which data points have the largest distance\n",
    "# BECAUSE THERE ARE MORE 0 THAN OUTLIERS, SO AS THE NUMBER OF OBSERVATIONS INCREASE, WE ARE LESS LIKELY TO SEE OUTLIERS FROM THE GRAPH\n",
    "import matplotlib.pyplot as plt\n",
    "from matplotlib.pyplot import figure\n",
    "figure(num=None, figsize=(8, 6), dpi=80, facecolor='w', edgecolor='k')\n",
    "plt.hist(y_test_scores_norm[1:300], bins=35)  # arguments are passed to np.histogram\n",
    "plt.title(\"Histogram pf anomaly score with 30 bins\")\n",
    "plt.show()"
   ]
  },
  {
   "cell_type": "markdown",
   "metadata": {},
   "source": [
    "### 4.1.3 Present summary statistics "
   ]
  },
  {
   "cell_type": "code",
   "execution_count": 206,
   "metadata": {},
   "outputs": [],
   "source": [
    "# Let's see how many '0's and '1's. We get 452 '0's and 48 '1's.\n",
    "df_test = pd.DataFrame(X_test)\n",
    "df_test.columns = ['ratio_amount_by_agency_by_category', \n",
    "                  'ratio_amount_by_agency_by_Description',\n",
    "                   'ratio_amount_by_cardholder',  \n",
    "                  'Ratio_AVG_time_since_lastP',  \n",
    "                  'Ratio_AVG_time_since_lastP_by_cardholder']\n",
    "df_test['score'] = y_test_scores\n",
    "df_test['cluster'] = np.where(df_test['score']<0.05, 0, 1)"
   ]
  },
  {
   "cell_type": "code",
   "execution_count": 207,
   "metadata": {},
   "outputs": [
    {
     "data": {
      "text/plain": [
       "0    218715\n",
       "1      2514\n",
       "Name: cluster, dtype: int64"
      ]
     },
     "execution_count": 207,
     "metadata": {},
     "output_type": "execute_result"
    }
   ],
   "source": [
    "# there are 217356 '0', and 3873 '1'\n",
    "df_test['cluster'].value_counts()"
   ]
  },
  {
   "cell_type": "code",
   "execution_count": 208,
   "metadata": {},
   "outputs": [
    {
     "data": {
      "text/plain": [
       "0.01136379046146753"
      ]
     },
     "execution_count": 208,
     "metadata": {},
     "output_type": "execute_result"
    }
   ],
   "source": [
    "# 1.7% outliers \n",
    "2514/X_test.shape[0]"
   ]
  },
  {
   "cell_type": "code",
   "execution_count": 209,
   "metadata": {},
   "outputs": [
    {
     "data": {
      "text/html": [
       "<div>\n",
       "<style scoped>\n",
       "    .dataframe tbody tr th:only-of-type {\n",
       "        vertical-align: middle;\n",
       "    }\n",
       "\n",
       "    .dataframe tbody tr th {\n",
       "        vertical-align: top;\n",
       "    }\n",
       "\n",
       "    .dataframe thead th {\n",
       "        text-align: right;\n",
       "    }\n",
       "</style>\n",
       "<table border=\"1\" class=\"dataframe\">\n",
       "  <thead>\n",
       "    <tr style=\"text-align: right;\">\n",
       "      <th></th>\n",
       "      <th>ratio_amount_by_agency_by_category</th>\n",
       "      <th>ratio_amount_by_agency_by_Description</th>\n",
       "      <th>ratio_amount_by_cardholder</th>\n",
       "      <th>Ratio_AVG_time_since_lastP</th>\n",
       "      <th>Ratio_AVG_time_since_lastP_by_cardholder</th>\n",
       "      <th>score</th>\n",
       "    </tr>\n",
       "    <tr>\n",
       "      <th>cluster</th>\n",
       "      <th></th>\n",
       "      <th></th>\n",
       "      <th></th>\n",
       "      <th></th>\n",
       "      <th></th>\n",
       "      <th></th>\n",
       "    </tr>\n",
       "  </thead>\n",
       "  <tbody>\n",
       "    <tr>\n",
       "      <td>0</td>\n",
       "      <td>-4.969423e-18</td>\n",
       "      <td>-1.892175e-17</td>\n",
       "      <td>-0.012551</td>\n",
       "      <td>0.000824</td>\n",
       "      <td>-0.004122</td>\n",
       "      <td>0.000867</td>\n",
       "    </tr>\n",
       "    <tr>\n",
       "      <td>1</td>\n",
       "      <td>-1.566863e-01</td>\n",
       "      <td>-3.153452e-01</td>\n",
       "      <td>1.042338</td>\n",
       "      <td>0.081100</td>\n",
       "      <td>0.286503</td>\n",
       "      <td>1.717595</td>\n",
       "    </tr>\n",
       "  </tbody>\n",
       "</table>\n",
       "</div>"
      ],
      "text/plain": [
       "         ratio_amount_by_agency_by_category  \\\n",
       "cluster                                       \n",
       "0                             -4.969423e-18   \n",
       "1                             -1.566863e-01   \n",
       "\n",
       "         ratio_amount_by_agency_by_Description  ratio_amount_by_cardholder  \\\n",
       "cluster                                                                      \n",
       "0                                -1.892175e-17                   -0.012551   \n",
       "1                                -3.153452e-01                    1.042338   \n",
       "\n",
       "         Ratio_AVG_time_since_lastP  Ratio_AVG_time_since_lastP_by_cardholder  \\\n",
       "cluster                                                                         \n",
       "0                          0.000824                                 -0.004122   \n",
       "1                          0.081100                                  0.286503   \n",
       "\n",
       "            score  \n",
       "cluster            \n",
       "0        0.000867  \n",
       "1        1.717595  "
      ]
     },
     "execution_count": 209,
     "metadata": {},
     "output_type": "execute_result"
    }
   ],
   "source": [
    "# Now let's show the summary statistics:\n",
    "df_test.groupby('cluster').mean()"
   ]
  },
  {
   "cell_type": "markdown",
   "metadata": {},
   "source": [
    "## 4.2 try different parameters: k_list = [20, 30, 40, 50]\n"
   ]
  },
  {
   "cell_type": "markdown",
   "metadata": {},
   "source": [
    "### 4.2.1 Build model"
   ]
  },
  {
   "cell_type": "code",
   "execution_count": 200,
   "metadata": {},
   "outputs": [],
   "source": [
    "#from pyod.models.combination import aom, moa, average, maximization\n",
    "from pyod.utils.utility import standardizer\n",
    "\n",
    "# Test a range of k-neighbors from 10 to 200. There will be 20 k-NN models.\n",
    "k_list = [20, 30, 40, 50]\n",
    "n_clf = 4\n",
    "\n",
    "# Just prepare data frames so we can store the model results\n",
    "# train_scores = np.zeros([X_train.shape[0], n_clf])\n",
    "test_scores = np.zeros([X_test.shape[0], n_clf])\n",
    "# train_scores.shape\n",
    "\n",
    "# Modeling\n",
    "for i in range(n_clf):\n",
    "    k = k_list[i]\n",
    "    clf = KNN(n_neighbors=k, method='largest')\n",
    "    clf.fit(X_train)\n",
    "\n",
    "    # Store the results in each column:\n",
    "    #train_scores[:, i] = clf.decision_scores_\n",
    "    test_scores[:, i] = clf.decision_function(X_test) \n",
    "# Decision scores have to be normalized before combination\n",
    "test_scores_norm = standardizer(test_scores)"
   ]
  },
  {
   "cell_type": "markdown",
   "metadata": {},
   "source": [
    "### 4.2.2 Determine boundary"
   ]
  },
  {
   "cell_type": "code",
   "execution_count": 217,
   "metadata": {},
   "outputs": [
    {
     "data": {
      "image/png": "[encoded data removed]",
      "text/plain": [
       "<Figure size 432x288 with 1 Axes>"
      ]
     },
     "metadata": {
      "needs_background": "light"
     },
     "output_type": "display_data"
    }
   ],
   "source": [
    "# Method 1: Average\n",
    "# Combination by average\n",
    "# The test_scores_norm is 500 x 20. The \"average\" function will take the average of the 20 columns. The result \"y_by_average\" is a single column: \n",
    "y_by_average = (test_scores_norm.mean(axis=1))\n",
    "import matplotlib.pyplot as plt\n",
    "plt.hist(y_by_average[500:1000], bins=30) # arguments are passed to np.histogram\n",
    "plt.title(\"Combination by average\")\n",
    "plt.show()"
   ]
  },
  {
   "cell_type": "code",
   "execution_count": 218,
   "metadata": {},
   "outputs": [
    {
     "data": {
      "text/plain": [
       "0    218799\n",
       "1      2430\n",
       "Name: y_by_average_cluster, dtype: int64"
      ]
     },
     "execution_count": 218,
     "metadata": {},
     "output_type": "execute_result"
    }
   ],
   "source": [
    "# When we use the average method, we get 1007 data points that have the outlier scores higher than 0. \n",
    "df_test = pd.DataFrame(X_test)\n",
    "df_test['y_by_average_score'] = y_by_average\n",
    "df_test['y_by_average_cluster'] = np.where(df_test['y_by_average_score']<0.05, 0, 1)\n",
    "df_test['y_by_average_cluster'].value_counts()"
   ]
  },
  {
   "cell_type": "code",
   "execution_count": 219,
   "metadata": {},
   "outputs": [
    {
     "data": {
      "text/plain": [
       "0.010984093405475775"
      ]
     },
     "execution_count": 219,
     "metadata": {},
     "output_type": "execute_result"
    }
   ],
   "source": [
    "# 1% outliers \n",
    "2430/df_test.shape[0]"
   ]
  },
  {
   "cell_type": "markdown",
   "metadata": {},
   "source": [
    "### 4.2.3 Present summary statistics "
   ]
  },
  {
   "cell_type": "code",
   "execution_count": 214,
   "metadata": {},
   "outputs": [
    {
     "data": {
      "text/html": [
       "<div>\n",
       "<style scoped>\n",
       "    .dataframe tbody tr th:only-of-type {\n",
       "        vertical-align: middle;\n",
       "    }\n",
       "\n",
       "    .dataframe tbody tr th {\n",
       "        vertical-align: top;\n",
       "    }\n",
       "\n",
       "    .dataframe thead th {\n",
       "        text-align: right;\n",
       "    }\n",
       "</style>\n",
       "<table border=\"1\" class=\"dataframe\">\n",
       "  <thead>\n",
       "    <tr style=\"text-align: right;\">\n",
       "      <th></th>\n",
       "      <th>ratio_amount_by_agency_by_category</th>\n",
       "      <th>ratio_amount_by_agency_by_Description</th>\n",
       "      <th>ratio_amount_by_cardholder</th>\n",
       "      <th>Ratio_AVG_time_since_lastP</th>\n",
       "      <th>Ratio_AVG_time_since_lastP_by_cardholder</th>\n",
       "      <th>mean_by_average</th>\n",
       "    </tr>\n",
       "    <tr>\n",
       "      <th>cluster</th>\n",
       "      <th></th>\n",
       "      <th></th>\n",
       "      <th></th>\n",
       "      <th></th>\n",
       "      <th></th>\n",
       "      <th></th>\n",
       "    </tr>\n",
       "  </thead>\n",
       "  <tbody>\n",
       "    <tr>\n",
       "      <td>0</td>\n",
       "      <td>-7.402298e-18</td>\n",
       "      <td>-3.448868e-17</td>\n",
       "      <td>-0.013641</td>\n",
       "      <td>0.001230</td>\n",
       "      <td>-0.003670</td>\n",
       "      <td>-0.012196</td>\n",
       "    </tr>\n",
       "    <tr>\n",
       "      <td>1</td>\n",
       "      <td>-2.677833e-01</td>\n",
       "      <td>-5.389380e-01</td>\n",
       "      <td>1.953092</td>\n",
       "      <td>0.077288</td>\n",
       "      <td>0.425154</td>\n",
       "      <td>1.821962</td>\n",
       "    </tr>\n",
       "  </tbody>\n",
       "</table>\n",
       "</div>"
      ],
      "text/plain": [
       "         ratio_amount_by_agency_by_category  \\\n",
       "cluster                                       \n",
       "0                             -7.402298e-18   \n",
       "1                             -2.677833e-01   \n",
       "\n",
       "         ratio_amount_by_agency_by_Description  ratio_amount_by_cardholder  \\\n",
       "cluster                                                                      \n",
       "0                                -3.448868e-17                   -0.013641   \n",
       "1                                -5.389380e-01                    1.953092   \n",
       "\n",
       "         Ratio_AVG_time_since_lastP  Ratio_AVG_time_since_lastP_by_cardholder  \\\n",
       "cluster                                                                         \n",
       "0                          0.001230                                 -0.003670   \n",
       "1                          0.077288                                  0.425154   \n",
       "\n",
       "         mean_by_average  \n",
       "cluster                   \n",
       "0              -0.012196  \n",
       "1               1.821962  "
      ]
     },
     "execution_count": 214,
     "metadata": {},
     "output_type": "execute_result"
    }
   ],
   "source": [
    "df_test.columns = ['ratio_amount_by_agency_by_category', \n",
    "                  'ratio_amount_by_agency_by_Description',\n",
    "                   'ratio_amount_by_cardholder',  \n",
    "                  'Ratio_AVG_time_since_lastP',  \n",
    "                  'Ratio_AVG_time_since_lastP_by_cardholder', \n",
    "                   'mean_by_average', \n",
    "                   'cluster']\n",
    "\n",
    "df_test.groupby('cluster').mean()"
   ]
  },
  {
   "cell_type": "markdown",
   "metadata": {},
   "source": [
    "# 5. Summary"
   ]
  },
  {
   "cell_type": "markdown",
   "metadata": {},
   "source": [
    "1% outliers are distinguished when we set the boundary to be 0.05.\n",
    "\n",
    "The outliers have higher spending compared with average level, and more time since last purchase compared with the average level.  It distinguishes the transactions that happen less frequent than usual and have higher spending. They are suspicious and thus require further investigation. "
   ]
  }
 ],
 "metadata": {
  "kernelspec": {
   "display_name": "Python 3",
   "language": "python",
   "name": "python3"
  }
 },
 "nbformat": 4,
 "nbformat_minor": 2
}
