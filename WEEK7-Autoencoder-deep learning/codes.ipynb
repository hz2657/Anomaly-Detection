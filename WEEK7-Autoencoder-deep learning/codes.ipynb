{
 "cells": [
  {
   "cell_type": "markdown",
   "metadata": {},
   "source": [
    "### Anomaly detection in Oklahoma purchase credit card transactions by neural network\n",
    "\n",
    "### Author: Huizhe (Sunny) Zhu- hz2657\n",
    "\n",
    "The Office of Management and Enterprise Services in the State of Oklahoma has made its [purchase credit card transactions](https://catalog.data.gov/dataset/purchase-card-pcard-fiscal-year-2014) available. This dataset contains information on purchases made through the purchase card programs administered by the state and higher education institutions. \n",
    "\n",
    "Goal:\n",
    "\n",
    "Use Autoencoder and iForest algorithms in PyOD to apply to the dataset in order to find abnormal transactions.\n"
   ]
  },
  {
   "cell_type": "markdown",
   "metadata": {},
   "source": [
    "## 1. load data, construct features"
   ]
  },
  {
   "cell_type": "code",
   "execution_count": 11,
   "metadata": {},
   "outputs": [
    {
     "name": "stderr",
     "output_type": "stream",
     "text": [
      "Using TensorFlow backend.\n"
     ]
    }
   ],
   "source": [
    "# load packages\n",
    "import numpy as np\n",
    "import pandas as pd\n",
    "from pyod.models.auto_encoder import AutoEncoder\n",
    "from pyod.models.knn import KNN"
   ]
  },
  {
   "cell_type": "code",
   "execution_count": 3,
   "metadata": {
    "scrolled": true
   },
   "outputs": [
    {
     "data": {
      "text/html": [
       "<div>\n",
       "<style scoped>\n",
       "    .dataframe tbody tr th:only-of-type {\n",
       "        vertical-align: middle;\n",
       "    }\n",
       "\n",
       "    .dataframe tbody tr th {\n",
       "        vertical-align: top;\n",
       "    }\n",
       "\n",
       "    .dataframe thead th {\n",
       "        text-align: right;\n",
       "    }\n",
       "</style>\n",
       "<table border=\"1\" class=\"dataframe\">\n",
       "  <thead>\n",
       "    <tr style=\"text-align: right;\">\n",
       "      <th></th>\n",
       "      <th>Year_Month</th>\n",
       "      <th>Agency_Number</th>\n",
       "      <th>Agency_Name</th>\n",
       "      <th>Cardholder_Last_Name</th>\n",
       "      <th>Cardholder_First_Initial</th>\n",
       "      <th>Description</th>\n",
       "      <th>Amount</th>\n",
       "      <th>Vendor</th>\n",
       "      <th>Transaction_Date</th>\n",
       "      <th>Posted_Date</th>\n",
       "      <th>Merchant_Category</th>\n",
       "    </tr>\n",
       "  </thead>\n",
       "  <tbody>\n",
       "    <tr>\n",
       "      <td>0</td>\n",
       "      <td>201307</td>\n",
       "      <td>1000</td>\n",
       "      <td>OKLAHOMA STATE UNIVERSITY</td>\n",
       "      <td>Mason</td>\n",
       "      <td>C</td>\n",
       "      <td>GENERAL PURCHASE</td>\n",
       "      <td>890.00</td>\n",
       "      <td>NACAS</td>\n",
       "      <td>7/30/2013 0:00</td>\n",
       "      <td>7/31/2013 0:00</td>\n",
       "      <td>CHARITABLE AND SOCIAL SERVICE ORGANIZATIONS</td>\n",
       "    </tr>\n",
       "    <tr>\n",
       "      <td>1</td>\n",
       "      <td>201307</td>\n",
       "      <td>1000</td>\n",
       "      <td>OKLAHOMA STATE UNIVERSITY</td>\n",
       "      <td>Mason</td>\n",
       "      <td>C</td>\n",
       "      <td>ROOM CHARGES</td>\n",
       "      <td>368.96</td>\n",
       "      <td>SHERATON HOTEL</td>\n",
       "      <td>7/30/2013 0:00</td>\n",
       "      <td>7/31/2013 0:00</td>\n",
       "      <td>SHERATON</td>\n",
       "    </tr>\n",
       "  </tbody>\n",
       "</table>\n",
       "</div>"
      ],
      "text/plain": [
       "   Year_Month  Agency_Number                Agency_Name Cardholder_Last_Name  \\\n",
       "0      201307           1000  OKLAHOMA STATE UNIVERSITY                Mason   \n",
       "1      201307           1000  OKLAHOMA STATE UNIVERSITY                Mason   \n",
       "\n",
       "  Cardholder_First_Initial       Description  Amount          Vendor  \\\n",
       "0                        C  GENERAL PURCHASE  890.00           NACAS   \n",
       "1                        C      ROOM CHARGES  368.96  SHERATON HOTEL   \n",
       "\n",
       "  Transaction_Date     Posted_Date  \\\n",
       "0   7/30/2013 0:00  7/31/2013 0:00   \n",
       "1   7/30/2013 0:00  7/31/2013 0:00   \n",
       "\n",
       "                             Merchant_Category  \n",
       "0  CHARITABLE AND SOCIAL SERVICE ORGANIZATIONS  \n",
       "1                                     SHERATON  "
      ]
     },
     "execution_count": 3,
     "metadata": {},
     "output_type": "execute_result"
    }
   ],
   "source": [
    "# 1. load data\n",
    "import pandas as pd\n",
    "df = pd.read_csv(r'purchase_credit_card.csv', encoding = \"ISO-8859-1\")   \n",
    "\n",
    "# change column names \n",
    "df.columns = ['Year_Month', 'Agency_Number', 'Agency_Name', 'Cardholder_Last_Name',\n",
    "      'Cardholder_First_Initial', 'Description', 'Amount', 'Vendor', 'Transaction_Date',\n",
    "      'Posted_Date', 'Merchant_Category']\n",
    "df.head(2)"
   ]
  },
  {
   "cell_type": "code",
   "execution_count": 4,
   "metadata": {},
   "outputs": [],
   "source": [
    "# 2. Create timestamp, \"time\" variable\n",
    "df['Transaction_Date'] = pd.to_datetime(df.Transaction_Date, format=\"%m/%d/%Y %H:%M\") \n",
    "\n",
    "# create \"time\" variable: days since last purchase \n",
    "df = df.sort_values(['Agency_Name', 'Transaction_Date'], ascending=[True, True])\n",
    "df['time'] = df.Transaction_Date-df.Transaction_Date.shift(1)\n",
    "\n",
    "# convert days to numeric \n",
    "df['time'] = df['time'] / pd.Timedelta(1, unit='d')\n",
    "\n",
    "# convert negative values to 0\n",
    "df.loc[(df.time < 0 ),'time'] = 0 "
   ]
  },
  {
   "cell_type": "code",
   "execution_count": 5,
   "metadata": {},
   "outputs": [],
   "source": [
    "# 3. construct features\n",
    "# Feature 1: Ratio of amount spend and average spending by agency and merchant category\n",
    "stat_by_agency = df.groupby(['Agency_Name', 'Merchant_Category'])['Amount'].mean()\n",
    "stat_by_agency = pd.DataFrame(stat_by_agency)\n",
    "stat_by_agency.columns = ['AVG_amount']\n",
    "df2 = pd.merge(df, stat_by_agency, how='left', on=['Agency_Name', 'Merchant_Category'])\n",
    "df2['ratio_amount_by_agency_by_category'] = df2.Amount / df2.AVG_amount\n",
    "\n",
    "# Feature 2: Ratio of amount spend and average spending by agency and transaction description\n",
    "stat_by_Description = df.groupby(['Agency_Name', 'Description'])['Amount'].mean()\n",
    "stat_by_Description = pd.DataFrame(stat_by_Description)\n",
    "stat_by_Description.columns = ['AVG_amount_by_Description']\n",
    "df2 = pd.merge(df2, stat_by_Description, how='left', on=['Agency_Name', 'Description'])\n",
    "df2['ratio_amount_by_agency_by_Description'] = df2.Amount / df2.AVG_amount_by_Description\n",
    "\n",
    "# Feature 3: Ratio of amount spend and average spending by card holder\n",
    "stat_by_cardholder = df2.groupby(['Agency_Name', 'Cardholder_Last_Name'])['Amount'].mean()\n",
    "stat_by_cardholder = pd.DataFrame(stat_by_cardholder)\n",
    "stat_by_cardholder.columns = ['stat_by_cardholder']\n",
    "df2 = pd.merge(df2, stat_by_cardholder, how='left', on=['Agency_Name', 'Cardholder_Last_Name'])\n",
    "df2['ratio_amount_by_cardholder'] = df2.Amount / df2.stat_by_cardholder\n",
    "\n",
    "# Feature 4: ratio of time since last purchase / average time spend\n",
    "AVG_time_since_lastP = df2.groupby(['Agency_Name'])['time'].sum()/ df2.groupby(['Agency_Name'])['time'].count()\n",
    "AVG_time_since_lastP = pd.DataFrame(AVG_time_since_lastP)\n",
    "AVG_time_since_lastP.columns = ['AVG_time_since_lastP']\n",
    "df2 = pd.merge(df2, AVG_time_since_lastP, how='left', on=['Agency_Name'])\n",
    "df2['Ratio_AVG_time_since_lastP']=df2.time/df2.AVG_time_since_lastP\n",
    "\n",
    "# Feature 5: ratio of time / average time spend since last transactions by card holder\n",
    "AVG_time_since_lastP_by_cardholder  = df2.groupby(['Agency_Name', 'Cardholder_Last_Name'])['time'].sum()/ df2.groupby(['Agency_Name','Cardholder_Last_Name'])['time'].count()\n",
    "AVG_time_since_lastP_by_cardholder = pd.DataFrame(AVG_time_since_lastP_by_cardholder)\n",
    "AVG_time_since_lastP_by_cardholder.columns = ['AVG_time_since_lastP_by_cardholder']\n",
    "df2 = pd.merge(df2, AVG_time_since_lastP_by_cardholder, how='left', on=['Agency_Name','Cardholder_Last_Name'])\n",
    "df2['Ratio_AVG_time_since_lastP_by_cardholder']= df2.time/df2.AVG_time_since_lastP_by_cardholder"
   ]
  },
  {
   "cell_type": "code",
   "execution_count": 13,
   "metadata": {},
   "outputs": [],
   "source": [
    "# Standardization\n",
    "# for unsupervised learning, it is always a safe step to standardize the predictors\n",
    "df3 = df2.loc[:, ['ratio_amount_by_agency_by_category', \n",
    "                  'ratio_amount_by_agency_by_Description',\n",
    "                   'ratio_amount_by_cardholder',  \n",
    "                  'Ratio_AVG_time_since_lastP',  \n",
    "                  'Ratio_AVG_time_since_lastP_by_cardholder'\n",
    "                 ]]\n",
    "\n",
    "# replace na with 1: ratio = 1 means no specific meaning\n",
    "df3.replace(np.nan, 1,inplace=True)\n",
    "\n",
    "# replace inf and -inf with 1\n",
    "df3.replace(np.inf, 1,inplace=True)\n",
    "df3.replace(-np.inf, 1,inplace=True)\n",
    "\n",
    "# standardize\n",
    "from sklearn.preprocessing import StandardScaler\n",
    "X_std = StandardScaler().fit_transform(df3)"
   ]
  },
  {
   "cell_type": "code",
   "execution_count": 39,
   "metadata": {},
   "outputs": [],
   "source": [
    "# split into train and test dataset\n",
    "from sklearn.model_selection import train_test_split\n",
    "X_train, X_test = train_test_split(X_std, test_size=0.5, random_state=42)"
   ]
  },
  {
   "cell_type": "markdown",
   "metadata": {},
   "source": [
    "## 2. Build Models"
   ]
  },
  {
   "cell_type": "markdown",
   "metadata": {},
   "source": [
    "## Section 1: Autoencoder\n",
    "\n",
    "- Autoencoder is a special type of neural network that uses the same data as both the input values and output values. The goal is to get the middle layer which reduces noises, it can also be considered as a method of dimension reduction. \n",
    "\n",
    "- Autoencoder uses non-linear transformation, if there are too many hidden layers or too many neutrons, the model tends to overfit; otherwise the model tends to underfit.\n",
    "\n",
    "- Applications of autoencoder include image noise reduction and image coloring. \n"
   ]
  },
  {
   "cell_type": "markdown",
   "metadata": {},
   "source": [
    "### 2.1.1 Build model"
   ]
  },
  {
   "cell_type": "code",
   "execution_count": 124,
   "metadata": {},
   "outputs": [
    {
     "name": "stdout",
     "output_type": "stream",
     "text": [
      "Model: \"sequential_3\"\n",
      "_________________________________________________________________\n",
      "Layer (type)                 Output Shape              Param #   \n",
      "=================================================================\n",
      "dense_15 (Dense)             (None, 5)                 30        \n",
      "_________________________________________________________________\n",
      "dropout_13 (Dropout)         (None, 5)                 0         \n",
      "_________________________________________________________________\n",
      "dense_16 (Dense)             (None, 5)                 30        \n",
      "_________________________________________________________________\n",
      "dropout_14 (Dropout)         (None, 5)                 0         \n",
      "_________________________________________________________________\n",
      "dense_17 (Dense)             (None, 5)                 30        \n",
      "_________________________________________________________________\n",
      "dropout_15 (Dropout)         (None, 5)                 0         \n",
      "_________________________________________________________________\n",
      "dense_18 (Dense)             (None, 2)                 12        \n",
      "_________________________________________________________________\n",
      "dropout_16 (Dropout)         (None, 2)                 0         \n",
      "_________________________________________________________________\n",
      "dense_19 (Dense)             (None, 2)                 6         \n",
      "_________________________________________________________________\n",
      "dropout_17 (Dropout)         (None, 2)                 0         \n",
      "_________________________________________________________________\n",
      "dense_20 (Dense)             (None, 5)                 15        \n",
      "_________________________________________________________________\n",
      "dropout_18 (Dropout)         (None, 5)                 0         \n",
      "_________________________________________________________________\n",
      "dense_21 (Dense)             (None, 5)                 30        \n",
      "=================================================================\n",
      "Total params: 153\n",
      "Trainable params: 153\n",
      "Non-trainable params: 0\n",
      "_________________________________________________________________\n",
      "None\n",
      "Train on 199106 samples, validate on 22123 samples\n",
      "Epoch 1/100\n",
      "199106/199106 [==============================] - 48s 241us/step - loss: 26.5110 - val_loss: 0.6041\n",
      "Epoch 2/100\n",
      "199106/199106 [==============================] - 38s 193us/step - loss: 19.5733 - val_loss: 0.5260\n",
      "Epoch 3/100\n",
      "199106/199106 [==============================] - 40s 200us/step - loss: 15.8402 - val_loss: 0.5079\n",
      "Epoch 4/100\n",
      "199106/199106 [==============================] - 36s 180us/step - loss: 12.2623 - val_loss: 0.5042\n",
      "Epoch 5/100\n",
      "199106/199106 [==============================] - 42s 211us/step - loss: 11.1872 - val_loss: 0.5019\n",
      "Epoch 6/100\n",
      "199106/199106 [==============================] - 47s 236us/step - loss: 10.3795 - val_loss: 0.5010\n",
      "Epoch 7/100\n",
      "199106/199106 [==============================] - 44s 220us/step - loss: 9.6581 - val_loss: 0.5005\n",
      "Epoch 8/100\n",
      "199106/199106 [==============================] - 48s 243us/step - loss: 8.9457 - val_loss: 0.5005\n",
      "Epoch 9/100\n",
      "199106/199106 [==============================] - 64s 321us/step - loss: 8.3137 - val_loss: 0.5002\n",
      "Epoch 10/100\n",
      "199106/199106 [==============================] - 56s 284us/step - loss: 7.7515 - val_loss: 0.5000\n",
      "Epoch 11/100\n",
      "199106/199106 [==============================] - 56s 283us/step - loss: 7.2395 - val_loss: 0.4999\n",
      "Epoch 12/100\n",
      "199106/199106 [==============================] - 45s 228us/step - loss: 6.7748 - val_loss: 0.5000\n",
      "Epoch 13/100\n",
      "199106/199106 [==============================] - 54s 272us/step - loss: 6.3480 - val_loss: 0.5000\n",
      "Epoch 14/100\n",
      "199106/199106 [==============================] - 56s 280us/step - loss: 5.9628 - val_loss: 0.5000\n",
      "Epoch 15/100\n",
      "199106/199106 [==============================] - 56s 280us/step - loss: 5.5982 - val_loss: 0.4999\n",
      "Epoch 16/100\n",
      "199106/199106 [==============================] - 54s 272us/step - loss: 5.2651 - val_loss: 0.4999\n",
      "Epoch 17/100\n",
      "199106/199106 [==============================] - 54s 272us/step - loss: 5.0158 - val_loss: 0.4999\n",
      "Epoch 18/100\n",
      "199106/199106 [==============================] - 53s 264us/step - loss: 4.6093 - val_loss: 0.5001\n",
      "Epoch 19/100\n",
      "199106/199106 [==============================] - 45s 224us/step - loss: 4.3048 - val_loss: 0.5000\n",
      "Epoch 20/100\n",
      "199106/199106 [==============================] - 45s 226us/step - loss: 4.0195 - val_loss: 0.5000\n",
      "Epoch 21/100\n",
      "199106/199106 [==============================] - 53s 268us/step - loss: 3.7409 - val_loss: 0.5000\n",
      "Epoch 22/100\n",
      "199106/199106 [==============================] - 57s 284us/step - loss: 3.5398 - val_loss: 0.5000\n",
      "Epoch 23/100\n",
      "199106/199106 [==============================] - 55s 274us/step - loss: 3.2628 - val_loss: 0.4999\n",
      "Epoch 24/100\n",
      "199106/199106 [==============================] - 57s 289us/step - loss: 3.0498 - val_loss: 0.5000\n",
      "Epoch 25/100\n",
      "199106/199106 [==============================] - 56s 284us/step - loss: 2.8250 - val_loss: 0.5000\n",
      "Epoch 26/100\n",
      "199106/199106 [==============================] - 50s 250us/step - loss: 2.6154 - val_loss: 0.5003\n",
      "Epoch 27/100\n",
      "199106/199106 [==============================] - 50s 251us/step - loss: 2.4242 - val_loss: 0.4999\n",
      "Epoch 28/100\n",
      "199106/199106 [==============================] - 48s 240us/step - loss: 2.2395 - val_loss: 0.4999\n",
      "Epoch 29/100\n",
      "199106/199106 [==============================] - 48s 241us/step - loss: 2.0722 - val_loss: 0.5002\n",
      "Epoch 30/100\n",
      "199106/199106 [==============================] - 52s 263us/step - loss: 1.9208 - val_loss: 0.5000\n",
      "Epoch 31/100\n",
      "199106/199106 [==============================] - 51s 255us/step - loss: 1.7897 - val_loss: 0.5000\n",
      "Epoch 32/100\n",
      "199106/199106 [==============================] - 59s 298us/step - loss: 1.6657 - val_loss: 0.4999\n",
      "Epoch 33/100\n",
      "199106/199106 [==============================] - 60s 300us/step - loss: 1.5563 - val_loss: 0.5001\n",
      "Epoch 34/100\n",
      "199106/199106 [==============================] - 46s 230us/step - loss: 1.4608 - val_loss: 0.5000\n",
      "Epoch 35/100\n",
      "199106/199106 [==============================] - 50s 253us/step - loss: 1.3855 - val_loss: 0.5000\n",
      "Epoch 36/100\n",
      "199106/199106 [==============================] - 58s 290us/step - loss: 1.3144 - val_loss: 0.4999\n",
      "Epoch 37/100\n",
      "199106/199106 [==============================] - 57s 284us/step - loss: 1.2572 - val_loss: 0.4999\n",
      "Epoch 38/100\n",
      "199106/199106 [==============================] - 48s 240us/step - loss: 1.2069 - val_loss: 0.4999\n",
      "Epoch 39/100\n",
      "199106/199106 [==============================] - 50s 250us/step - loss: 1.1659 - val_loss: 0.4999\n",
      "Epoch 40/100\n",
      "199106/199106 [==============================] - 44s 221us/step - loss: 1.1297 - val_loss: 0.4999\n",
      "Epoch 41/100\n",
      "199106/199106 [==============================] - 40s 199us/step - loss: 1.1005 - val_loss: 0.4999\n",
      "Epoch 42/100\n",
      "199106/199106 [==============================] - 39s 195us/step - loss: 1.0838 - val_loss: 0.4999\n",
      "Epoch 43/100\n",
      "199106/199106 [==============================] - 36s 182us/step - loss: 1.0672 - val_loss: 0.4999\n",
      "Epoch 44/100\n",
      "199106/199106 [==============================] - 29s 147us/step - loss: 1.0627 - val_loss: 0.4999\n",
      "Epoch 45/100\n",
      "199106/199106 [==============================] - 29s 145us/step - loss: 1.0566 - val_loss: 0.4999\n",
      "Epoch 46/100\n",
      "199106/199106 [==============================] - 36s 182us/step - loss: 1.0556 - val_loss: 0.4999\n",
      "Epoch 47/100\n",
      "199106/199106 [==============================] - 30s 153us/step - loss: 1.0556 - val_loss: 0.4999\n",
      "Epoch 48/100\n",
      "199106/199106 [==============================] - 29s 144us/step - loss: 1.0556 - val_loss: 0.4999\n",
      "Epoch 49/100\n",
      "199106/199106 [==============================] - 33s 167us/step - loss: 1.0556 - val_loss: 0.4999\n",
      "Epoch 50/100\n",
      "199106/199106 [==============================] - 29s 148us/step - loss: 1.0556 - val_loss: 0.4999\n",
      "Epoch 51/100\n",
      "199106/199106 [==============================] - 29s 144us/step - loss: 1.0556 - val_loss: 0.4999\n",
      "Epoch 52/100\n",
      "199106/199106 [==============================] - 39s 198us/step - loss: 1.0556 - val_loss: 0.4999\n",
      "Epoch 53/100\n",
      "199106/199106 [==============================] - 45s 226us/step - loss: 1.0556 - val_loss: 0.4999\n",
      "Epoch 54/100\n",
      "199106/199106 [==============================] - 41s 208us/step - loss: 1.0556 - val_loss: 0.4999\n",
      "Epoch 55/100\n",
      "199106/199106 [==============================] - 39s 197us/step - loss: 1.0556 - val_loss: 0.4999\n",
      "Epoch 56/100\n",
      "199106/199106 [==============================] - 45s 226us/step - loss: 1.0556 - val_loss: 0.4999\n",
      "Epoch 57/100\n",
      "199106/199106 [==============================] - 46s 231us/step - loss: 1.0556 - val_loss: 0.4999\n",
      "Epoch 58/100\n",
      "199106/199106 [==============================] - 40s 202us/step - loss: 1.0556 - val_loss: 0.4999\n",
      "Epoch 59/100\n",
      "199106/199106 [==============================] - 40s 203us/step - loss: 1.0556 - val_loss: 0.4999\n",
      "Epoch 60/100\n",
      "199106/199106 [==============================] - 34s 173us/step - loss: 1.0556 - val_loss: 0.4999\n",
      "Epoch 61/100\n",
      "199106/199106 [==============================] - 42s 210us/step - loss: 1.0556 - val_loss: 0.4999\n",
      "Epoch 62/100\n",
      "199106/199106 [==============================] - 42s 213us/step - loss: 1.0556 - val_loss: 0.4999\n",
      "Epoch 63/100\n",
      "199106/199106 [==============================] - 41s 207us/step - loss: 1.0556 - val_loss: 0.4999\n",
      "Epoch 64/100\n",
      "199106/199106 [==============================] - 43s 217us/step - loss: 1.0556 - val_loss: 0.4999\n",
      "Epoch 65/100\n",
      "199106/199106 [==============================] - 47s 235us/step - loss: 1.0556 - val_loss: 0.4999\n",
      "Epoch 66/100\n",
      "199106/199106 [==============================] - 43s 218us/step - loss: 1.0556 - val_loss: 0.4999\n",
      "Epoch 67/100\n",
      "199106/199106 [==============================] - 51s 258us/step - loss: 1.0556 - val_loss: 0.4999\n",
      "Epoch 68/100\n",
      "199106/199106 [==============================] - 52s 259us/step - loss: 1.0556 - val_loss: 0.4999\n",
      "Epoch 69/100\n",
      "199106/199106 [==============================] - 55s 277us/step - loss: 1.0556 - val_loss: 0.4999\n",
      "Epoch 70/100\n",
      "199106/199106 [==============================] - 53s 265us/step - loss: 1.0556 - val_loss: 0.4999\n",
      "Epoch 71/100\n",
      "199106/199106 [==============================] - 53s 265us/step - loss: 1.0556 - val_loss: 0.4999\n",
      "Epoch 72/100\n",
      "199106/199106 [==============================] - 53s 264us/step - loss: 1.0556 - val_loss: 0.4999\n",
      "Epoch 73/100\n",
      "199106/199106 [==============================] - 52s 263us/step - loss: 1.0556 - val_loss: 0.4999\n",
      "Epoch 74/100\n",
      "199106/199106 [==============================] - 53s 264us/step - loss: 1.0556 - val_loss: 0.4999\n",
      "Epoch 75/100\n",
      "199106/199106 [==============================] - 57s 284us/step - loss: 1.0556 - val_loss: 0.4999\n",
      "Epoch 76/100\n",
      "199106/199106 [==============================] - 54s 269us/step - loss: 1.0556 - val_loss: 0.4999\n",
      "Epoch 77/100\n",
      "199106/199106 [==============================] - 42s 208us/step - loss: 1.0556 - val_loss: 0.4999\n",
      "Epoch 78/100\n",
      "199106/199106 [==============================] - 41s 204us/step - loss: 1.0556 - val_loss: 0.4999\n",
      "Epoch 79/100\n",
      "199106/199106 [==============================] - 56s 283us/step - loss: 1.0556 - val_loss: 0.4999\n",
      "Epoch 80/100\n",
      "199106/199106 [==============================] - 56s 283us/step - loss: 1.0556 - val_loss: 0.4999\n",
      "Epoch 81/100\n",
      "199106/199106 [==============================] - 56s 284us/step - loss: 1.0556 - val_loss: 0.4999\n",
      "Epoch 82/100\n",
      "199106/199106 [==============================] - 56s 279us/step - loss: 1.0556 - val_loss: 0.4999\n",
      "Epoch 83/100\n",
      "199106/199106 [==============================] - 55s 277us/step - loss: 1.0556 - val_loss: 0.4999\n",
      "Epoch 84/100\n",
      "199106/199106 [==============================] - 55s 274us/step - loss: 1.0556 - val_loss: 0.4999\n",
      "Epoch 85/100\n",
      "199106/199106 [==============================] - 55s 274us/step - loss: 1.0556 - val_loss: 0.4999\n",
      "Epoch 86/100\n",
      "199106/199106 [==============================] - 53s 268us/step - loss: 1.0556 - val_loss: 0.4999\n",
      "Epoch 87/100\n",
      "199106/199106 [==============================] - 49s 245us/step - loss: 1.0556 - val_loss: 0.4999\n",
      "Epoch 88/100\n",
      "199106/199106 [==============================] - 51s 258us/step - loss: 1.0556 - val_loss: 0.4999\n",
      "Epoch 89/100\n",
      "199106/199106 [==============================] - 2647s 13ms/step - loss: 1.0556 - val_loss: 0.4999\n",
      "Epoch 90/100\n",
      "199106/199106 [==============================] - 19s 97us/step - loss: 1.0556 - val_loss: 0.4999\n",
      "Epoch 91/100\n",
      "199106/199106 [==============================] - 18s 89us/step - loss: 1.0556 - val_loss: 0.4999\n",
      "Epoch 92/100\n",
      "199106/199106 [==============================] - 18s 89us/step - loss: 1.0556 - val_loss: 0.4999\n",
      "Epoch 93/100\n",
      "199106/199106 [==============================] - 18s 89us/step - loss: 1.0556 - val_loss: 0.4999\n",
      "Epoch 94/100\n",
      "199106/199106 [==============================] - 18s 89us/step - loss: 1.0556 - val_loss: 0.4999\n",
      "Epoch 95/100\n",
      "199106/199106 [==============================] - 18s 89us/step - loss: 1.0556 - val_loss: 0.4999\n",
      "Epoch 96/100\n",
      "199106/199106 [==============================] - 18s 92us/step - loss: 1.0556 - val_loss: 0.4999\n",
      "Epoch 97/100\n",
      "199106/199106 [==============================] - 18s 90us/step - loss: 1.0556 - val_loss: 0.4999\n",
      "Epoch 98/100\n",
      "199106/199106 [==============================] - 18s 91us/step - loss: 1.0556 - val_loss: 0.4999\n",
      "Epoch 99/100\n",
      "199106/199106 [==============================] - 18s 90us/step - loss: 1.0556 - val_loss: 0.4999\n",
      "Epoch 100/100\n",
      "199106/199106 [==============================] - 18s 90us/step - loss: 1.0556 - val_loss: 0.4999\n"
     ]
    },
    {
     "data": {
      "text/plain": [
       "AutoEncoder(batch_size=32, contamination=0.1, dropout_rate=0.2, epochs=100,\n",
       "      hidden_activation='relu', hidden_neurons=[5, 2, 2, 5],\n",
       "      l2_regularizer=0.1,\n",
       "      loss=<function mean_squared_error at 0x000001AFB27E84C8>,\n",
       "      optimizer='adam', output_activation='sigmoid', preprocessing=True,\n",
       "      random_state=None, validation_size=0.1, verbose=1)"
      ]
     },
     "execution_count": 124,
     "metadata": {},
     "output_type": "execute_result"
    }
   ],
   "source": [
    "#### Model 1: clf1 has hidden_neurons = [5, 2, 2, 5]\n",
    "AutoEncoder_model = AutoEncoder(hidden_neurons =[5, 2, 2, 5])\n",
    "AutoEncoder_model.fit(X_train)"
   ]
  },
  {
   "cell_type": "code",
   "execution_count": 125,
   "metadata": {},
   "outputs": [],
   "source": [
    "# raw outlier scores from model 1 \n",
    "AutoEncoder_y_train_scores = AutoEncoder_model.decision_scores_ \n",
    "\n",
    "# get the prediction on the test data\n",
    "AutoEncoder_y_test_pred = AutoEncoder_model.predict(X_test)  # outlier labels (0 or 1)\n",
    "\n",
    "# clf.decision_function: Predict raw anomaly score of X using the fitted detector.\n",
    "AutoEncoder_y_test_scores = AutoEncoder_model.decision_function(X_test)  # outlier scores\n",
    "\n",
    "AutoEncoder_y_test_pred = pd.Series(AutoEncoder_y_test_pred)\n",
    "AutoEncoder_y_test_scores = pd.Series(AutoEncoder_y_test_scores)"
   ]
  },
  {
   "cell_type": "code",
   "execution_count": 126,
   "metadata": {},
   "outputs": [
    {
     "data": {
      "text/plain": [
       "0    199163\n",
       "1     22066\n",
       "dtype: int64"
      ]
     },
     "execution_count": 126,
     "metadata": {},
     "output_type": "execute_result"
    }
   ],
   "source": [
    "AutoEncoder_y_test_pred.value_counts()"
   ]
  },
  {
   "cell_type": "markdown",
   "metadata": {},
   "source": [
    "### 2.1.2 Set boundary and identify outliers"
   ]
  },
  {
   "cell_type": "code",
   "execution_count": 129,
   "metadata": {
    "scrolled": true
   },
   "outputs": [
    {
     "data": {
      "image/png": "[encoded data removed]",
      "text/plain": [
       "<Figure size 432x288 with 1 Axes>"
      ]
     },
     "metadata": {
      "needs_background": "light"
     },
     "output_type": "display_data"
    }
   ],
   "source": [
    "# Histogram for Model Clf1 Anomaly Scores\n",
    "import matplotlib.pyplot as plt\n",
    "plt.hist(AutoEncoder_y_test_scores[1:2000], bins=100)  # arguments are passed to np.histogram\n",
    "plt.title(\"Histogram for AutoEncoder_model Anomaly Scores\")\n",
    "plt.show()"
   ]
  },
  {
   "cell_type": "markdown",
   "metadata": {},
   "source": [
    "From the graph, we can see the observations above 5 are extreme cases, we will set the boundary to be 5. We identified anomalous cases: \n",
    "- 2205 observations\n",
    "- 9.6%  of total observations"
   ]
  },
  {
   "cell_type": "code",
   "execution_count": 130,
   "metadata": {},
   "outputs": [
    {
     "data": {
      "text/plain": [
       "0    219132\n",
       "1      2097\n",
       "Name: cluster, dtype: int64"
      ]
     },
     "execution_count": 130,
     "metadata": {},
     "output_type": "execute_result"
    }
   ],
   "source": [
    "# set boundary: 5 \n",
    "# identify outliers in cluster 1\n",
    "X_test = pd.DataFrame(X_test)\n",
    "df_test = X_test.copy()\n",
    "df_test['score'] = AutoEncoder_y_test_scores\n",
    "df_test['cluster'] = np.where(df_test['score']<5, 0, 1)\n",
    "df_test['cluster'].value_counts()"
   ]
  },
  {
   "cell_type": "code",
   "execution_count": 131,
   "metadata": {},
   "outputs": [
    {
     "data": {
      "text/plain": [
       "0.009615693251590006"
      ]
     },
     "execution_count": 131,
     "metadata": {},
     "output_type": "execute_result"
    }
   ],
   "source": [
    "# percentage of outliers: 9.6% \n",
    "2097/218081"
   ]
  },
  {
   "cell_type": "markdown",
   "metadata": {},
   "source": [
    "### 2.1.3 Describe the outliers, get summary statistics by cluster\n",
    "* We recommend observations in Cluster 1 to be outliers. \n",
    "* The attributes of Cluster 1 are shown below."
   ]
  },
  {
   "cell_type": "code",
   "execution_count": 132,
   "metadata": {},
   "outputs": [
    {
     "data": {
      "text/html": [
       "<div>\n",
       "<style scoped>\n",
       "    .dataframe tbody tr th:only-of-type {\n",
       "        vertical-align: middle;\n",
       "    }\n",
       "\n",
       "    .dataframe tbody tr th {\n",
       "        vertical-align: top;\n",
       "    }\n",
       "\n",
       "    .dataframe thead th {\n",
       "        text-align: right;\n",
       "    }\n",
       "</style>\n",
       "<table border=\"1\" class=\"dataframe\">\n",
       "  <thead>\n",
       "    <tr style=\"text-align: right;\">\n",
       "      <th></th>\n",
       "      <th>ratio_amount_by_agency_by_category</th>\n",
       "      <th>ratio_amount_by_agency_by_Description</th>\n",
       "      <th>ratio_amount_by_cardholder</th>\n",
       "      <th>Ratio_AVG_time_since_lastP</th>\n",
       "      <th>Ratio_AVG_time_since_lastP_by_cardholder</th>\n",
       "      <th>anomaly scores</th>\n",
       "    </tr>\n",
       "    <tr>\n",
       "      <th>cluster</th>\n",
       "      <th></th>\n",
       "      <th></th>\n",
       "      <th></th>\n",
       "      <th></th>\n",
       "      <th></th>\n",
       "      <th></th>\n",
       "    </tr>\n",
       "  </thead>\n",
       "  <tbody>\n",
       "    <tr>\n",
       "      <td>0</td>\n",
       "      <td>-1.145794e-16</td>\n",
       "      <td>-2.446088e-16</td>\n",
       "      <td>-0.041776</td>\n",
       "      <td>-0.034260</td>\n",
       "      <td>-0.043593</td>\n",
       "      <td>0.518990</td>\n",
       "    </tr>\n",
       "    <tr>\n",
       "      <td>1</td>\n",
       "      <td>7.244189e-03</td>\n",
       "      <td>1.234511e-01</td>\n",
       "      <td>4.232221</td>\n",
       "      <td>3.614706</td>\n",
       "      <td>4.558975</td>\n",
       "      <td>12.733886</td>\n",
       "    </tr>\n",
       "  </tbody>\n",
       "</table>\n",
       "</div>"
      ],
      "text/plain": [
       "         ratio_amount_by_agency_by_category  \\\n",
       "cluster                                       \n",
       "0                             -1.145794e-16   \n",
       "1                              7.244189e-03   \n",
       "\n",
       "         ratio_amount_by_agency_by_Description  ratio_amount_by_cardholder  \\\n",
       "cluster                                                                      \n",
       "0                                -2.446088e-16                   -0.041776   \n",
       "1                                 1.234511e-01                    4.232221   \n",
       "\n",
       "         Ratio_AVG_time_since_lastP  Ratio_AVG_time_since_lastP_by_cardholder  \\\n",
       "cluster                                                                         \n",
       "0                         -0.034260                                 -0.043593   \n",
       "1                          3.614706                                  4.558975   \n",
       "\n",
       "         anomaly scores  \n",
       "cluster                  \n",
       "0              0.518990  \n",
       "1             12.733886  "
      ]
     },
     "execution_count": 132,
     "metadata": {},
     "output_type": "execute_result"
    }
   ],
   "source": [
    "# summary statistics\n",
    "df_test.columns = ['ratio_amount_by_agency_by_category', \n",
    "                  'ratio_amount_by_agency_by_Description',\n",
    "                   'ratio_amount_by_cardholder',  \n",
    "                  'Ratio_AVG_time_since_lastP',  \n",
    "                  'Ratio_AVG_time_since_lastP_by_cardholder', \n",
    "                   'anomaly scores', 'cluster']\n",
    "df_test.groupby('cluster').mean()"
   ]
  },
  {
   "cell_type": "markdown",
   "metadata": {},
   "source": [
    "### 2.1.4 business insights \n",
    "\n",
    "- 9.6% outliers are identified. \n",
    "- Autoencoder has similar result with KNN. The outliers have higher spending and more time since last purchase compared compared with average level. It distinguishes the transactions that happen less frequent than usual and have higher spending. \n",
    "- It is possible that the card is stolen or lost, then being used again with more money each transaction. "
   ]
  },
  {
   "cell_type": "markdown",
   "metadata": {},
   "source": [
    "## Section 2: iForest\n",
    "\n",
    "- Isolated Forest is a method to separate trees utill all are isolated and find which tree is the easiest to be seperated. An outlier is the easiest to be isolated. \n",
    "\n",
    "- iTree algorithm is different from the decision tree algorithm because iTree does not use a target variable to train the tree. It is an unsupervised learning method. \n",
    "\n",
    "- If there are 1,000 subsets, there will be 1,000 iTrees. Each data point in an iTree will have an anomaly score. Because there are 1,000 iTrees, each data point will have multiple anomaly scores. The average (arithmetic mean) score for a data point across all the iTrees becomes the anomaly score for that data point."
   ]
  },
  {
   "cell_type": "markdown",
   "metadata": {},
   "source": [
    "### 2.2.1 Build model"
   ]
  },
  {
   "cell_type": "code",
   "execution_count": 108,
   "metadata": {},
   "outputs": [
    {
     "data": {
      "text/plain": [
       "IForest(behaviour='new', bootstrap=False, contamination=0.1, max_features=1.0,\n",
       "    max_samples=60, n_estimators=100, n_jobs=1, random_state=None,\n",
       "    verbose=0)"
      ]
     },
     "execution_count": 108,
     "metadata": {},
     "output_type": "execute_result"
    }
   ],
   "source": [
    "from pyod.models.iforest import IForest\n",
    "\n",
    "#  Model 1: max_samples = 60\n",
    "clf1 = IForest(behaviour=\"new\", max_samples=60) \n",
    "clf1.fit(X_train)"
   ]
  },
  {
   "cell_type": "code",
   "execution_count": 109,
   "metadata": {},
   "outputs": [
    {
     "data": {
      "text/plain": [
       "0   -0.118434\n",
       "1   -0.091982\n",
       "2   -0.193658\n",
       "3   -0.185776\n",
       "4   -0.179198\n",
       "dtype: float64"
      ]
     },
     "execution_count": 109,
     "metadata": {},
     "output_type": "execute_result"
    }
   ],
   "source": [
    "# Predict raw anomaly score of X using the fitted detector.\n",
    "# get anomaly scores: \n",
    "clf1_y_test_scores = clf1.decision_function(X_test)  # outlier scores\n",
    "clf1_y_test_scores = pd.Series(y_test_scores)\n",
    "clf1_y_test_scores.head()"
   ]
  },
  {
   "cell_type": "markdown",
   "metadata": {},
   "source": [
    "### 2.2.2 Set boundary and identify outliers"
   ]
  },
  {
   "cell_type": "code",
   "execution_count": 110,
   "metadata": {
    "scrolled": true
   },
   "outputs": [
    {
     "data": {
      "image/png": "[encoded data removed]",
      "text/plain": [
       "<Figure size 432x288 with 1 Axes>"
      ]
     },
     "metadata": {
      "needs_background": "light"
     },
     "output_type": "display_data"
    }
   ],
   "source": [
    "# Histogram of anomaly scores\n",
    "import matplotlib.pyplot as plt\n",
    "plt.hist(clf1_y_test_scores, bins=105) \n",
    "plt.title(\"Histogram for IForest Anomaly Scores\")\n",
    "plt.show()\n",
    "\n",
    "# from the graph, we identify the boundary to be: 0.05  [need to be changed, so is the code in next cell]"
   ]
  },
  {
   "cell_type": "markdown",
   "metadata": {},
   "source": [
    "From the graph, we can see most observations are on the left of 0. The observations above 0.2 are extreme cases, we will set the boundary to be 0.2. We got 2205 observations as outliers, they account for 1.01% of total observations"
   ]
  },
  {
   "cell_type": "code",
   "execution_count": 112,
   "metadata": {},
   "outputs": [
    {
     "data": {
      "text/plain": [
       "0    219024\n",
       "1      2205\n",
       "Name: cluster, dtype: int64"
      ]
     },
     "execution_count": 112,
     "metadata": {},
     "output_type": "execute_result"
    }
   ],
   "source": [
    "X_test_cluster = X_test.copy()\n",
    "X_test_cluster['distance'] = clf1_y_test_scores\n",
    "X_test_cluster['cluster'] = np.where(X_test_cluster['distance']<0.2, 0, 1)\n",
    "X_test_cluster['cluster'].value_counts()"
   ]
  },
  {
   "cell_type": "code",
   "execution_count": 74,
   "metadata": {},
   "outputs": [
    {
     "data": {
      "text/plain": [
       "0.010067389875082183"
      ]
     },
     "execution_count": 74,
     "metadata": {},
     "output_type": "execute_result"
    }
   ],
   "source": [
    "# show percentage of outliers\n",
    "2205/219024"
   ]
  },
  {
   "cell_type": "markdown",
   "metadata": {},
   "source": [
    "### 2.2.3 Describe the outliers, get summary statistics by cluster"
   ]
  },
  {
   "cell_type": "code",
   "execution_count": 88,
   "metadata": {},
   "outputs": [
    {
     "data": {
      "text/html": [
       "<div>\n",
       "<style scoped>\n",
       "    .dataframe tbody tr th:only-of-type {\n",
       "        vertical-align: middle;\n",
       "    }\n",
       "\n",
       "    .dataframe tbody tr th {\n",
       "        vertical-align: top;\n",
       "    }\n",
       "\n",
       "    .dataframe thead th {\n",
       "        text-align: right;\n",
       "    }\n",
       "</style>\n",
       "<table border=\"1\" class=\"dataframe\">\n",
       "  <thead>\n",
       "    <tr style=\"text-align: right;\">\n",
       "      <th></th>\n",
       "      <th>ratio_amount_by_agency_by_category</th>\n",
       "      <th>ratio_amount_by_agency_by_Description</th>\n",
       "      <th>ratio_amount_by_cardholder</th>\n",
       "      <th>Ratio_AVG_time_since_lastP</th>\n",
       "      <th>Ratio_AVG_time_since_lastP_by_cardholder</th>\n",
       "      <th>distance</th>\n",
       "    </tr>\n",
       "    <tr>\n",
       "      <th>cluster</th>\n",
       "      <th></th>\n",
       "      <th></th>\n",
       "      <th></th>\n",
       "      <th></th>\n",
       "      <th></th>\n",
       "      <th></th>\n",
       "    </tr>\n",
       "  </thead>\n",
       "  <tbody>\n",
       "    <tr>\n",
       "      <td>0</td>\n",
       "      <td>6.935799e-05</td>\n",
       "      <td>1.181957e-03</td>\n",
       "      <td>-0.006190</td>\n",
       "      <td>-0.042388</td>\n",
       "      <td>-0.056681</td>\n",
       "      <td>-0.129635</td>\n",
       "    </tr>\n",
       "    <tr>\n",
       "      <td>1</td>\n",
       "      <td>1.228787e-15</td>\n",
       "      <td>3.068525e-15</td>\n",
       "      <td>0.488076</td>\n",
       "      <td>4.243346</td>\n",
       "      <td>5.633590</td>\n",
       "      <td>0.222902</td>\n",
       "    </tr>\n",
       "  </tbody>\n",
       "</table>\n",
       "</div>"
      ],
      "text/plain": [
       "         ratio_amount_by_agency_by_category  \\\n",
       "cluster                                       \n",
       "0                              6.935799e-05   \n",
       "1                              1.228787e-15   \n",
       "\n",
       "         ratio_amount_by_agency_by_Description  ratio_amount_by_cardholder  \\\n",
       "cluster                                                                      \n",
       "0                                 1.181957e-03                   -0.006190   \n",
       "1                                 3.068525e-15                    0.488076   \n",
       "\n",
       "         Ratio_AVG_time_since_lastP  Ratio_AVG_time_since_lastP_by_cardholder  \\\n",
       "cluster                                                                         \n",
       "0                         -0.042388                                 -0.056681   \n",
       "1                          4.243346                                  5.633590   \n",
       "\n",
       "         distance  \n",
       "cluster            \n",
       "0       -0.129635  \n",
       "1        0.222902  "
      ]
     },
     "execution_count": 88,
     "metadata": {},
     "output_type": "execute_result"
    }
   ],
   "source": [
    "# summary statistics \n",
    "X_test_cluster.columns = ['ratio_amount_by_agency_by_category', \n",
    "                  'ratio_amount_by_agency_by_Description',\n",
    "                   'ratio_amount_by_cardholder',  \n",
    "                  'Ratio_AVG_time_since_lastP',  \n",
    "                  'Ratio_AVG_time_since_lastP_by_cardholder', \n",
    "                   'distance', 'cluster']\n",
    "\n",
    "X_test_cluster.groupby('cluster').mean()"
   ]
  },
  {
   "cell_type": "markdown",
   "metadata": {},
   "source": [
    "### 2.2.4 Business insights \n",
    "\n",
    "- 1.1% of total transactions are identified to be outliers. \n",
    "- Compared with Autoencoder, Iforest have slightly different patterns. From the table, we can see compared to cluster 0, cluster 1 has more spending and it takes more time for this transaction to happen on cardholder level. However, the ratios on agency level for amount spend by category and description have different patterns.\n",
    "- Insights: Outliers have more spending on cardholder level and takes more time for this transaction to happen. It is possible that the card for that cardholder is stolen or lost, then being used again. \n"
   ]
  },
  {
   "cell_type": "markdown",
   "metadata": {},
   "source": [
    "## 3. Summary\n",
    "\n",
    "- Autoencoder has very similar results to KNN, the average ratios in outlier's group is higher than the rest of the observations. \n",
    "\n",
    "- iforest is slightly different compared with Autoencoder and KNN, it identifies outliers that have more spending and take more time for this transaction to happen on cardholder level but not agent level. \n",
    "\n",
    "- But in general, Autoencoder and Iforest identify similar pattern of outliers, with higher spending compared with average level, and more time since last purchase.  "
   ]
  }
 ],
 "metadata": {
  "kernelspec": {
   "display_name": "Python 3",
   "language": "python",
   "name": "python3"
  },
  "language_info": {
   "codemirror_mode": {
    "name": "ipython",
    "version": 3
   },
   "file_extension": ".py",
   "mimetype": "text/x-python",
   "name": "python",
   "nbconvert_exporter": "python",
   "pygments_lexer": "ipython3",
   "version": "3.7.4"
  }
 },
 "nbformat": 4,
 "nbformat_minor": 2
}
